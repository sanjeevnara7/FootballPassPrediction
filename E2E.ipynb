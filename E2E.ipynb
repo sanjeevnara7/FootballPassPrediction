{
 "cells": [
  {
   "cell_type": "markdown",
   "metadata": {},
   "source": [
    "# Soccer Pass\n",
    "\n",
    "This notebook contains end to end performance evaluation of our validation dataset of 207 labelled images.\n",
    "\n",
    "The Notebook is divided into 6 Parts:\n",
    "\n",
    "0. Data Preparation\n",
    "1. Player and Ball Detection\n",
    "2. Player Team Identification\n",
    "3. Perspective transform\n",
    "4. Ball Possesion Identification\n",
    "5. Reciever Identification"
   ]
  },
  {
   "cell_type": "markdown",
   "metadata": {},
   "source": [
    "# 0. Data Preparation\n",
    "\n",
    "We construct a dataframe from the COCO format JSON file, to track our objects and their respective attributes across different models and transformations."
   ]
  },
  {
   "cell_type": "code",
   "execution_count": null,
   "metadata": {},
   "outputs": [],
   "source": [
    "import os\n",
    "import sys\n",
    "import math\n",
    "import json\n",
    "import pandas as pd\n",
    "from pandas import json_normalize\n",
    "from tqdm import tqdm"
   ]
  },
  {
   "cell_type": "code",
   "execution_count": 2,
   "metadata": {},
   "outputs": [],
   "source": [
    "MODE = 'eval' #eval or predict (inference)"
   ]
  },
  {
   "cell_type": "code",
   "execution_count": 3,
   "metadata": {
    "colab": {
     "base_uri": "https://localhost:8080/",
     "height": 244
    },
    "executionInfo": {
     "elapsed": 865,
     "status": "error",
     "timestamp": 1683579190512,
     "user": {
      "displayName": "Pranav Iyengar Deevi",
      "userId": "00817794634915375367"
     },
     "user_tz": 240
    },
    "id": "_nVSn9taknS5",
    "outputId": "15af2007-2c67-400c-957a-b3094b19679b"
   },
   "outputs": [
    {
     "data": {
      "text/html": [
       "<div>\n",
       "<style scoped>\n",
       "    .dataframe tbody tr th:only-of-type {\n",
       "        vertical-align: middle;\n",
       "    }\n",
       "\n",
       "    .dataframe tbody tr th {\n",
       "        vertical-align: top;\n",
       "    }\n",
       "\n",
       "    .dataframe thead th {\n",
       "        text-align: right;\n",
       "    }\n",
       "</style>\n",
       "<table border=\"1\" class=\"dataframe\">\n",
       "  <thead>\n",
       "    <tr style=\"text-align: right;\">\n",
       "      <th></th>\n",
       "      <th>class</th>\n",
       "      <th>Ball_Possesion</th>\n",
       "      <th>Ball_Reciever</th>\n",
       "      <th>team</th>\n",
       "      <th>x</th>\n",
       "      <th>y</th>\n",
       "      <th>w</th>\n",
       "      <th>h</th>\n",
       "      <th>image_name</th>\n",
       "      <th>OID</th>\n",
       "    </tr>\n",
       "  </thead>\n",
       "  <tbody>\n",
       "    <tr>\n",
       "      <th>0</th>\n",
       "      <td>0</td>\n",
       "      <td>0</td>\n",
       "      <td>0</td>\n",
       "      <td>0</td>\n",
       "      <td>0.015625</td>\n",
       "      <td>0.318056</td>\n",
       "      <td>0.031250</td>\n",
       "      <td>0.105556</td>\n",
       "      <td>image_vics_1344.png</td>\n",
       "      <td>1</td>\n",
       "    </tr>\n",
       "    <tr>\n",
       "      <th>1</th>\n",
       "      <td>0</td>\n",
       "      <td>1</td>\n",
       "      <td>0</td>\n",
       "      <td>1</td>\n",
       "      <td>0.361719</td>\n",
       "      <td>0.486111</td>\n",
       "      <td>0.034375</td>\n",
       "      <td>0.116667</td>\n",
       "      <td>image_vics_1344.png</td>\n",
       "      <td>2</td>\n",
       "    </tr>\n",
       "    <tr>\n",
       "      <th>2</th>\n",
       "      <td>0</td>\n",
       "      <td>0</td>\n",
       "      <td>0</td>\n",
       "      <td>0</td>\n",
       "      <td>0.331250</td>\n",
       "      <td>0.461111</td>\n",
       "      <td>0.034375</td>\n",
       "      <td>0.123611</td>\n",
       "      <td>image_vics_1344.png</td>\n",
       "      <td>3</td>\n",
       "    </tr>\n",
       "    <tr>\n",
       "      <th>3</th>\n",
       "      <td>1</td>\n",
       "      <td>NaN</td>\n",
       "      <td>NaN</td>\n",
       "      <td>NaN</td>\n",
       "      <td>0.407031</td>\n",
       "      <td>0.490278</td>\n",
       "      <td>0.010156</td>\n",
       "      <td>0.019444</td>\n",
       "      <td>image_vics_1344.png</td>\n",
       "      <td>4</td>\n",
       "    </tr>\n",
       "    <tr>\n",
       "      <th>4</th>\n",
       "      <td>0</td>\n",
       "      <td>0</td>\n",
       "      <td>0</td>\n",
       "      <td>0</td>\n",
       "      <td>0.514062</td>\n",
       "      <td>0.237500</td>\n",
       "      <td>0.014844</td>\n",
       "      <td>0.075000</td>\n",
       "      <td>image_vics_1344.png</td>\n",
       "      <td>5</td>\n",
       "    </tr>\n",
       "    <tr>\n",
       "      <th>...</th>\n",
       "      <td>...</td>\n",
       "      <td>...</td>\n",
       "      <td>...</td>\n",
       "      <td>...</td>\n",
       "      <td>...</td>\n",
       "      <td>...</td>\n",
       "      <td>...</td>\n",
       "      <td>...</td>\n",
       "      <td>...</td>\n",
       "      <td>...</td>\n",
       "    </tr>\n",
       "    <tr>\n",
       "      <th>3306</th>\n",
       "      <td>0</td>\n",
       "      <td>0</td>\n",
       "      <td>0</td>\n",
       "      <td>0</td>\n",
       "      <td>0.327344</td>\n",
       "      <td>0.430556</td>\n",
       "      <td>0.022656</td>\n",
       "      <td>0.090278</td>\n",
       "      <td>image_vimp_678.png</td>\n",
       "      <td>11</td>\n",
       "    </tr>\n",
       "    <tr>\n",
       "      <th>3307</th>\n",
       "      <td>0</td>\n",
       "      <td>0</td>\n",
       "      <td>0</td>\n",
       "      <td>2</td>\n",
       "      <td>0.800000</td>\n",
       "      <td>0.409722</td>\n",
       "      <td>0.021875</td>\n",
       "      <td>0.109722</td>\n",
       "      <td>image_vimp_678.png</td>\n",
       "      <td>12</td>\n",
       "    </tr>\n",
       "    <tr>\n",
       "      <th>3308</th>\n",
       "      <td>0</td>\n",
       "      <td>0</td>\n",
       "      <td>0</td>\n",
       "      <td>0</td>\n",
       "      <td>0.885156</td>\n",
       "      <td>0.309722</td>\n",
       "      <td>0.017188</td>\n",
       "      <td>0.084722</td>\n",
       "      <td>image_vimp_678.png</td>\n",
       "      <td>13</td>\n",
       "    </tr>\n",
       "    <tr>\n",
       "      <th>3309</th>\n",
       "      <td>0</td>\n",
       "      <td>0</td>\n",
       "      <td>0</td>\n",
       "      <td>1</td>\n",
       "      <td>0.792969</td>\n",
       "      <td>0.331944</td>\n",
       "      <td>0.017969</td>\n",
       "      <td>0.088889</td>\n",
       "      <td>image_vimp_678.png</td>\n",
       "      <td>14</td>\n",
       "    </tr>\n",
       "    <tr>\n",
       "      <th>3310</th>\n",
       "      <td>1</td>\n",
       "      <td>NaN</td>\n",
       "      <td>NaN</td>\n",
       "      <td>NaN</td>\n",
       "      <td>0.283047</td>\n",
       "      <td>0.615972</td>\n",
       "      <td>0.012344</td>\n",
       "      <td>0.020833</td>\n",
       "      <td>image_vimp_678.png</td>\n",
       "      <td>15</td>\n",
       "    </tr>\n",
       "  </tbody>\n",
       "</table>\n",
       "<p>3311 rows × 10 columns</p>\n",
       "</div>"
      ],
      "text/plain": [
       "      class Ball_Possesion Ball_Reciever team         x         y         w  \\\n",
       "0         0              0             0    0  0.015625  0.318056  0.031250   \n",
       "1         0              1             0    1  0.361719  0.486111  0.034375   \n",
       "2         0              0             0    0  0.331250  0.461111  0.034375   \n",
       "3         1            NaN           NaN  NaN  0.407031  0.490278  0.010156   \n",
       "4         0              0             0    0  0.514062  0.237500  0.014844   \n",
       "...     ...            ...           ...  ...       ...       ...       ...   \n",
       "3306      0              0             0    0  0.327344  0.430556  0.022656   \n",
       "3307      0              0             0    2  0.800000  0.409722  0.021875   \n",
       "3308      0              0             0    0  0.885156  0.309722  0.017188   \n",
       "3309      0              0             0    1  0.792969  0.331944  0.017969   \n",
       "3310      1            NaN           NaN  NaN  0.283047  0.615972  0.012344   \n",
       "\n",
       "             h           image_name  OID  \n",
       "0     0.105556  image_vics_1344.png    1  \n",
       "1     0.116667  image_vics_1344.png    2  \n",
       "2     0.123611  image_vics_1344.png    3  \n",
       "3     0.019444  image_vics_1344.png    4  \n",
       "4     0.075000  image_vics_1344.png    5  \n",
       "...        ...                  ...  ...  \n",
       "3306  0.090278   image_vimp_678.png   11  \n",
       "3307  0.109722   image_vimp_678.png   12  \n",
       "3308  0.084722   image_vimp_678.png   13  \n",
       "3309  0.088889   image_vimp_678.png   14  \n",
       "3310  0.020833   image_vimp_678.png   15  \n",
       "\n",
       "[3311 rows x 10 columns]"
      ]
     },
     "metadata": {},
     "output_type": "display_data"
    }
   ],
   "source": [
    "#Prepare the labels in coco format\n",
    "paths=['downloads/SoccerPass/SoccerPass-COCO/val.json']\n",
    "\n",
    "dfs= []\n",
    "for path in paths:\n",
    "    # Load the COCO data from the JSON file\n",
    "    with open(path) as f:\n",
    "        coco_data = json.load(f)\n",
    "\n",
    "    # Normalize the data into a DataFrame\n",
    "    images_df = json_normalize(coco_data['images'])\n",
    "    annotations_df = json_normalize(coco_data['annotations'])\n",
    "\n",
    "    images_df=images_df.drop(columns=['license', 'flickr_url','coco_url', 'date_captured'])\n",
    "    annotations_df=annotations_df.drop(columns=['segmentation', 'area','attributes.occluded','attributes.rotation','iscrowd'])\n",
    "    annotations_df[['x', 'y', 'width', 'height']]=pd.DataFrame(annotations_df['bbox'].to_list())\n",
    "    \n",
    "    annotations_df['x'] = annotations_df['x'] + annotations_df['width']//2\n",
    "    annotations_df['y'] = annotations_df['y'] + annotations_df['height']//2\n",
    "\n",
    "    merged_df = pd.merge(annotations_df, images_df, right_on='id',left_on=\"image_id\", how='left')\n",
    "\n",
    "    merged_df['x'] = merged_df['x'] /merged_df['width_y']\n",
    "    merged_df['width_x'] = merged_df['width_x'] /merged_df['width_y']\n",
    "    merged_df['y'] = merged_df['y'] /merged_df['height_y']\n",
    "    merged_df['height_x'] = merged_df['height_x'] /merged_df['height_y']\n",
    "\n",
    "\n",
    "    merged_df['new_id'] = merged_df.groupby('image_id').cumcount() + 1\n",
    "    merged_df=merged_df.drop(columns=['id_x', 'image_id', 'bbox', 'id_y', 'width_y', 'height_y'])\n",
    "\n",
    "    new_columns = {'category_id': 'class',\n",
    "                'attributes.Team': 'team',\n",
    "                'attributes.Ball_Possesion': 'Ball_Possesion',\n",
    "                'attributes.Ball_Reciever': 'Ball_Reciever',\n",
    "                'width_x': 'w',\n",
    "                'height_x': 'h',\n",
    "                'file_name': 'image_name',\n",
    "                'new_id': 'OID'}\n",
    "\n",
    "    merged_df = merged_df.rename(columns=new_columns)\n",
    "    merged_df.loc[merged_df['class']==1,'class']=0\n",
    "    merged_df.loc[merged_df['class']==2,'class']=1\n",
    "    # merged_df.to_csv(\"mer.csv\",index=False)\n",
    "    dfs.append(merged_df)\n",
    "\n",
    "label_df=pd.concat(dfs)\n",
    "display(label_df)\n"
   ]
  },
  {
   "cell_type": "markdown",
   "metadata": {},
   "source": [
    "# 1. Player and Ball Detection\n"
   ]
  },
  {
   "cell_type": "code",
   "execution_count": 111,
   "metadata": {},
   "outputs": [
    {
     "name": "stdout",
     "output_type": "stream",
     "text": [
      "Number of images 207\n"
     ]
    }
   ],
   "source": [
    "# Get all val image filenames\n",
    "IMAGE_PATH = 'downloads/SoccerPass/SoccerPass-COCO/images/val'\n",
    "IMAGE_FILENAMES = [os.path.join(IMAGE_PATH, f) for f in os.listdir(IMAGE_PATH)] #[:10] #ONLY 10 IMAGES FOR TESTING, REMOVE LATER\n",
    "print(\"Number of images\",len(IMAGE_FILENAMES))"
   ]
  },
  {
   "cell_type": "markdown",
   "metadata": {},
   "source": [
    "## 1.1 YOLOV8\n",
    "\n",
    "We use YOLOV8 model finetuned on out training dataset to identify the bounding boxes of Players and the football."
   ]
  },
  {
   "cell_type": "code",
   "execution_count": 5,
   "metadata": {
    "id": "gfRWilXgjrdF"
   },
   "outputs": [
    {
     "name": "stderr",
     "output_type": "stream",
     "text": [
      "\n",
      "image 1/1 /home/sn3007/FootballPassPrediction/downloads/SoccerPass/SoccerPass-COCO/images/val/image_snjv_31.png: 640x1088 18 Players, 1 Football, 67.2ms\n",
      "Speed: 7.0ms preprocess, 67.2ms inference, 4.0ms postprocess per image at shape (1, 3, 1088, 1088)\n",
      "\n",
      "image 1/1 /home/sn3007/FootballPassPrediction/downloads/SoccerPass/SoccerPass-COCO/images/val/image_vics_1386.png: 640x1088 13 Players, 1 Football, 62.4ms\n",
      "Speed: 6.2ms preprocess, 62.4ms inference, 1.8ms postprocess per image at shape (1, 3, 1088, 1088)\n",
      "\n",
      "image 1/1 /home/sn3007/FootballPassPrediction/downloads/SoccerPass/SoccerPass-COCO/images/val/image_prmw_1298.png: 640x1088 17 Players, 1 Football, 54.9ms\n",
      "Speed: 5.8ms preprocess, 54.9ms inference, 2.0ms postprocess per image at shape (1, 3, 1088, 1088)\n",
      "\n",
      "image 1/1 /home/sn3007/FootballPassPrediction/downloads/SoccerPass/SoccerPass-COCO/images/val/image_snjv_312.png: 640x1088 14 Players, 1 Football, 55.5ms\n",
      "Speed: 6.1ms preprocess, 55.5ms inference, 1.8ms postprocess per image at shape (1, 3, 1088, 1088)\n",
      "\n",
      "image 1/1 /home/sn3007/FootballPassPrediction/downloads/SoccerPass/SoccerPass-COCO/images/val/image_prmw_1340.png: 640x1088 10 Players, 1 Football, 54.4ms\n",
      "Speed: 6.1ms preprocess, 54.4ms inference, 1.8ms postprocess per image at shape (1, 3, 1088, 1088)\n",
      "\n",
      "image 1/1 /home/sn3007/FootballPassPrediction/downloads/SoccerPass/SoccerPass-COCO/images/val/image_vimp_602.png: 640x1088 18 Players, 1 Football, 55.9ms\n",
      "Speed: 6.1ms preprocess, 55.9ms inference, 1.9ms postprocess per image at shape (1, 3, 1088, 1088)\n",
      "\n",
      "image 1/1 /home/sn3007/FootballPassPrediction/downloads/SoccerPass/SoccerPass-COCO/images/val/image_prtl_1186.png: 640x1088 13 Players, 1 Football, 54.2ms\n",
      "Speed: 7.6ms preprocess, 54.2ms inference, 1.8ms postprocess per image at shape (1, 3, 1088, 1088)\n",
      "\n",
      "image 1/1 /home/sn3007/FootballPassPrediction/downloads/SoccerPass/SoccerPass-COCO/images/val/image_snjv_382.png: 640x1088 12 Players, 2 Footballs, 56.0ms\n",
      "Speed: 6.1ms preprocess, 56.0ms inference, 1.9ms postprocess per image at shape (1, 3, 1088, 1088)\n",
      "\n",
      "image 1/1 /home/sn3007/FootballPassPrediction/downloads/SoccerPass/SoccerPass-COCO/images/val/image_prtl_1047.png: 640x1088 17 Players, 1 Football, 55.1ms\n",
      "Speed: 6.1ms preprocess, 55.1ms inference, 1.8ms postprocess per image at shape (1, 3, 1088, 1088)\n",
      "\n",
      "image 1/1 /home/sn3007/FootballPassPrediction/downloads/SoccerPass/SoccerPass-COCO/images/val/image_prtl_1182.png: 640x1088 18 Players, 1 Football, 55.5ms\n",
      "Speed: 5.9ms preprocess, 55.5ms inference, 2.2ms postprocess per image at shape (1, 3, 1088, 1088)\n",
      "\n",
      "image 1/1 /home/sn3007/FootballPassPrediction/downloads/SoccerPass/SoccerPass-COCO/images/val/image_snjv_322.png: 640x1088 17 Players, 1 Football, 55.0ms\n",
      "Speed: 6.1ms preprocess, 55.0ms inference, 2.0ms postprocess per image at shape (1, 3, 1088, 1088)\n",
      "\n",
      "image 1/1 /home/sn3007/FootballPassPrediction/downloads/SoccerPass/SoccerPass-COCO/images/val/image_vics_1344.png: 640x1088 17 Players, 1 Football, 55.4ms\n",
      "Speed: 5.9ms preprocess, 55.4ms inference, 2.0ms postprocess per image at shape (1, 3, 1088, 1088)\n",
      "\n",
      "image 1/1 /home/sn3007/FootballPassPrediction/downloads/SoccerPass/SoccerPass-COCO/images/val/image_vimp_582.png: 640x1088 16 Players, 1 Football, 56.7ms\n",
      "Speed: 6.0ms preprocess, 56.7ms inference, 1.8ms postprocess per image at shape (1, 3, 1088, 1088)\n",
      "\n",
      "image 1/1 /home/sn3007/FootballPassPrediction/downloads/SoccerPass/SoccerPass-COCO/images/val/image_snjv_210.png: 640x1088 13 Players, 1 Football, 55.5ms\n",
      "Speed: 5.2ms preprocess, 55.5ms inference, 1.9ms postprocess per image at shape (1, 3, 1088, 1088)\n",
      "\n",
      "image 1/1 /home/sn3007/FootballPassPrediction/downloads/SoccerPass/SoccerPass-COCO/images/val/image_snjv_229.png: 640x1088 15 Players, 1 Football, 55.4ms\n",
      "Speed: 6.1ms preprocess, 55.4ms inference, 1.8ms postprocess per image at shape (1, 3, 1088, 1088)\n",
      "\n",
      "image 1/1 /home/sn3007/FootballPassPrediction/downloads/SoccerPass/SoccerPass-COCO/images/val/image_vics_1435.png: 640x1088 15 Players, 1 Football, 55.3ms\n",
      "Speed: 6.1ms preprocess, 55.3ms inference, 2.1ms postprocess per image at shape (1, 3, 1088, 1088)\n",
      "\n",
      "image 1/1 /home/sn3007/FootballPassPrediction/downloads/SoccerPass/SoccerPass-COCO/images/val/image_snjv_287.png: 640x1088 13 Players, 1 Football, 55.4ms\n",
      "Speed: 6.2ms preprocess, 55.4ms inference, 1.9ms postprocess per image at shape (1, 3, 1088, 1088)\n",
      "\n",
      "image 1/1 /home/sn3007/FootballPassPrediction/downloads/SoccerPass/SoccerPass-COCO/images/val/image_vics_1428.png: 640x1088 17 Players, 1 Football, 55.4ms\n",
      "Speed: 6.3ms preprocess, 55.4ms inference, 2.1ms postprocess per image at shape (1, 3, 1088, 1088)\n",
      "\n",
      "image 1/1 /home/sn3007/FootballPassPrediction/downloads/SoccerPass/SoccerPass-COCO/images/val/image_snjv_224.png: 640x1088 14 Players, 1 Football, 54.4ms\n",
      "Speed: 6.4ms preprocess, 54.4ms inference, 2.2ms postprocess per image at shape (1, 3, 1088, 1088)\n",
      "\n",
      "image 1/1 /home/sn3007/FootballPassPrediction/downloads/SoccerPass/SoccerPass-COCO/images/val/image_prtl_1077.png: 640x1088 20 Players, 2 Footballs, 54.2ms\n",
      "Speed: 6.3ms preprocess, 54.2ms inference, 2.0ms postprocess per image at shape (1, 3, 1088, 1088)\n",
      "\n",
      "image 1/1 /home/sn3007/FootballPassPrediction/downloads/SoccerPass/SoccerPass-COCO/images/val/image_snjv_170.png: 640x1088 12 Players, 1 Football, 55.0ms\n",
      "Speed: 5.9ms preprocess, 55.0ms inference, 1.9ms postprocess per image at shape (1, 3, 1088, 1088)\n",
      "\n",
      "image 1/1 /home/sn3007/FootballPassPrediction/downloads/SoccerPass/SoccerPass-COCO/images/val/image_snjv_153.png: 640x1088 16 Players, 1 Football, 55.0ms\n",
      "Speed: 6.3ms preprocess, 55.0ms inference, 1.9ms postprocess per image at shape (1, 3, 1088, 1088)\n",
      "\n",
      "image 1/1 /home/sn3007/FootballPassPrediction/downloads/SoccerPass/SoccerPass-COCO/images/val/image_prmw_1278.png: 640x1088 19 Players, 2 Footballs, 54.0ms\n",
      "Speed: 6.1ms preprocess, 54.0ms inference, 2.1ms postprocess per image at shape (1, 3, 1088, 1088)\n",
      "\n",
      "image 1/1 /home/sn3007/FootballPassPrediction/downloads/SoccerPass/SoccerPass-COCO/images/val/image_vimp_573.png: 640x1088 12 Players, 1 Football, 53.9ms\n",
      "Speed: 6.7ms preprocess, 53.9ms inference, 2.1ms postprocess per image at shape (1, 3, 1088, 1088)\n",
      "\n",
      "image 1/1 /home/sn3007/FootballPassPrediction/downloads/SoccerPass/SoccerPass-COCO/images/val/image_vimp_638.png: 640x1088 18 Players, 1 Football, 55.5ms\n",
      "Speed: 6.2ms preprocess, 55.5ms inference, 1.9ms postprocess per image at shape (1, 3, 1088, 1088)\n",
      "\n",
      "image 1/1 /home/sn3007/FootballPassPrediction/downloads/SoccerPass/SoccerPass-COCO/images/val/image_prmw_1307.png: 640x1088 16 Players, 1 Football, 54.2ms\n",
      "Speed: 6.3ms preprocess, 54.2ms inference, 2.0ms postprocess per image at shape (1, 3, 1088, 1088)\n",
      "\n",
      "image 1/1 /home/sn3007/FootballPassPrediction/downloads/SoccerPass/SoccerPass-COCO/images/val/image_vimp_538.png: 640x1088 14 Players, 1 Football, 53.9ms\n",
      "Speed: 6.4ms preprocess, 53.9ms inference, 2.0ms postprocess per image at shape (1, 3, 1088, 1088)\n",
      "\n",
      "image 1/1 /home/sn3007/FootballPassPrediction/downloads/SoccerPass/SoccerPass-COCO/images/val/image_snjv_220.png: 640x1088 17 Players, 1 Football, 54.7ms\n",
      "Speed: 6.3ms preprocess, 54.7ms inference, 1.8ms postprocess per image at shape (1, 3, 1088, 1088)\n",
      "\n",
      "image 1/1 /home/sn3007/FootballPassPrediction/downloads/SoccerPass/SoccerPass-COCO/images/val/image_prmw_1303.png: 640x1088 16 Players, 1 Football, 54.2ms\n",
      "Speed: 7.1ms preprocess, 54.2ms inference, 2.2ms postprocess per image at shape (1, 3, 1088, 1088)\n",
      "\n",
      "image 1/1 /home/sn3007/FootballPassPrediction/downloads/SoccerPass/SoccerPass-COCO/images/val/image_viml_734.png: 640x1088 11 Players, 1 Football, 53.8ms\n",
      "Speed: 6.3ms preprocess, 53.8ms inference, 1.9ms postprocess per image at shape (1, 3, 1088, 1088)\n",
      "\n",
      "image 1/1 /home/sn3007/FootballPassPrediction/downloads/SoccerPass/SoccerPass-COCO/images/val/image_prtl_1159.png: 640x1088 17 Players, 1 Football, 55.0ms\n",
      "Speed: 6.0ms preprocess, 55.0ms inference, 2.0ms postprocess per image at shape (1, 3, 1088, 1088)\n",
      "\n",
      "image 1/1 /home/sn3007/FootballPassPrediction/downloads/SoccerPass/SoccerPass-COCO/images/val/image_prtl_1229.png: 640x1088 15 Players, 1 Football, 56.3ms\n",
      "Speed: 6.5ms preprocess, 56.3ms inference, 1.9ms postprocess per image at shape (1, 3, 1088, 1088)\n",
      "\n",
      "image 1/1 /home/sn3007/FootballPassPrediction/downloads/SoccerPass/SoccerPass-COCO/images/val/image_snjv_258.png: 640x1088 13 Players, 1 Football, 56.4ms\n"
     ]
    },
    {
     "name": "stderr",
     "output_type": "stream",
     "text": [
      "Speed: 6.1ms preprocess, 56.4ms inference, 1.8ms postprocess per image at shape (1, 3, 1088, 1088)\n",
      "\n",
      "image 1/1 /home/sn3007/FootballPassPrediction/downloads/SoccerPass/SoccerPass-COCO/images/val/image_prtl_1223.png: 640x1088 14 Players, 1 Football, 54.7ms\n",
      "Speed: 6.1ms preprocess, 54.7ms inference, 1.8ms postprocess per image at shape (1, 3, 1088, 1088)\n",
      "\n",
      "image 1/1 /home/sn3007/FootballPassPrediction/downloads/SoccerPass/SoccerPass-COCO/images/val/image_snjv_389.png: 640x1088 17 Players, 1 Football, 55.4ms\n",
      "Speed: 5.9ms preprocess, 55.4ms inference, 1.7ms postprocess per image at shape (1, 3, 1088, 1088)\n",
      "\n",
      "image 1/1 /home/sn3007/FootballPassPrediction/downloads/SoccerPass/SoccerPass-COCO/images/val/image_prmw_1244.png: 640x1088 12 Players, 1 Football, 56.2ms\n",
      "Speed: 4.7ms preprocess, 56.2ms inference, 1.5ms postprocess per image at shape (1, 3, 1088, 1088)\n",
      "\n",
      "image 1/1 /home/sn3007/FootballPassPrediction/downloads/SoccerPass/SoccerPass-COCO/images/val/image_viml_749.png: 640x1088 21 Players, 1 Football, 55.7ms\n",
      "Speed: 5.8ms preprocess, 55.7ms inference, 1.6ms postprocess per image at shape (1, 3, 1088, 1088)\n",
      "\n",
      "image 1/1 /home/sn3007/FootballPassPrediction/downloads/SoccerPass/SoccerPass-COCO/images/val/image_vimp_499.png: 640x1088 18 Players, 1 Football, 55.0ms\n",
      "Speed: 5.8ms preprocess, 55.0ms inference, 1.5ms postprocess per image at shape (1, 3, 1088, 1088)\n",
      "\n",
      "image 1/1 /home/sn3007/FootballPassPrediction/downloads/SoccerPass/SoccerPass-COCO/images/val/image_prmw_1300.png: 640x1088 12 Players, 1 Football, 55.9ms\n",
      "Speed: 4.9ms preprocess, 55.9ms inference, 1.7ms postprocess per image at shape (1, 3, 1088, 1088)\n",
      "\n",
      "image 1/1 /home/sn3007/FootballPassPrediction/downloads/SoccerPass/SoccerPass-COCO/images/val/image_snjv_109.png: 640x1088 16 Players, 2 Footballs, 55.7ms\n",
      "Speed: 5.7ms preprocess, 55.7ms inference, 1.5ms postprocess per image at shape (1, 3, 1088, 1088)\n",
      "\n",
      "image 1/1 /home/sn3007/FootballPassPrediction/downloads/SoccerPass/SoccerPass-COCO/images/val/image_viml_761.png: 640x1088 17 Players, 1 Football, 55.7ms\n",
      "Speed: 5.9ms preprocess, 55.7ms inference, 1.7ms postprocess per image at shape (1, 3, 1088, 1088)\n",
      "\n",
      "image 1/1 /home/sn3007/FootballPassPrediction/downloads/SoccerPass/SoccerPass-COCO/images/val/image_prmw_1257.png: 640x1088 19 Players, 1 Football, 55.6ms\n",
      "Speed: 5.8ms preprocess, 55.6ms inference, 1.9ms postprocess per image at shape (1, 3, 1088, 1088)\n",
      "\n",
      "image 1/1 /home/sn3007/FootballPassPrediction/downloads/SoccerPass/SoccerPass-COCO/images/val/image_prtl_1059.png: 640x1088 14 Players, 1 Football, 55.9ms\n",
      "Speed: 5.9ms preprocess, 55.9ms inference, 2.0ms postprocess per image at shape (1, 3, 1088, 1088)\n",
      "\n",
      "image 1/1 /home/sn3007/FootballPassPrediction/downloads/SoccerPass/SoccerPass-COCO/images/val/image_vimp_546.png: 640x1088 15 Players, 2 Footballs, 55.6ms\n",
      "Speed: 6.0ms preprocess, 55.6ms inference, 1.9ms postprocess per image at shape (1, 3, 1088, 1088)\n",
      "\n",
      "image 1/1 /home/sn3007/FootballPassPrediction/downloads/SoccerPass/SoccerPass-COCO/images/val/image_prtl_1144.png: 640x1088 17 Players, 1 Football, 56.2ms\n",
      "Speed: 6.2ms preprocess, 56.2ms inference, 2.0ms postprocess per image at shape (1, 3, 1088, 1088)\n",
      "\n",
      "image 1/1 /home/sn3007/FootballPassPrediction/downloads/SoccerPass/SoccerPass-COCO/images/val/image_snjv_166.png: 640x1088 13 Players, 1 Football, 56.1ms\n",
      "Speed: 6.2ms preprocess, 56.1ms inference, 2.0ms postprocess per image at shape (1, 3, 1088, 1088)\n",
      "\n",
      "image 1/1 /home/sn3007/FootballPassPrediction/downloads/SoccerPass/SoccerPass-COCO/images/val/image_vics_1419.png: 640x1088 14 Players, 1 Football, 55.0ms\n",
      "Speed: 5.7ms preprocess, 55.0ms inference, 1.7ms postprocess per image at shape (1, 3, 1088, 1088)\n",
      "\n",
      "image 1/1 /home/sn3007/FootballPassPrediction/downloads/SoccerPass/SoccerPass-COCO/images/val/image_vics_1381.png: 640x1088 13 Players, 1 Football, 55.4ms\n",
      "Speed: 5.5ms preprocess, 55.4ms inference, 1.4ms postprocess per image at shape (1, 3, 1088, 1088)\n",
      "\n",
      "image 1/1 /home/sn3007/FootballPassPrediction/downloads/SoccerPass/SoccerPass-COCO/images/val/image_prtl_1030.png: 640x1088 14 Players, 1 Football, 55.2ms\n",
      "Speed: 5.7ms preprocess, 55.2ms inference, 1.5ms postprocess per image at shape (1, 3, 1088, 1088)\n",
      "\n",
      "image 1/1 /home/sn3007/FootballPassPrediction/downloads/SoccerPass/SoccerPass-COCO/images/val/image_prtl_1164.png: 640x1088 16 Players, 1 Football, 54.6ms\n",
      "Speed: 5.7ms preprocess, 54.6ms inference, 1.7ms postprocess per image at shape (1, 3, 1088, 1088)\n",
      "\n",
      "image 1/1 /home/sn3007/FootballPassPrediction/downloads/SoccerPass/SoccerPass-COCO/images/val/image_prmw_1297.png: 640x1088 17 Players, 1 Football, 54.8ms\n",
      "Speed: 5.7ms preprocess, 54.8ms inference, 1.7ms postprocess per image at shape (1, 3, 1088, 1088)\n",
      "\n",
      "image 1/1 /home/sn3007/FootballPassPrediction/downloads/SoccerPass/SoccerPass-COCO/images/val/image_snjv_355.png: 640x1088 19 Players, 1 Football, 54.0ms\n",
      "Speed: 5.8ms preprocess, 54.0ms inference, 2.6ms postprocess per image at shape (1, 3, 1088, 1088)\n",
      "\n",
      "image 1/1 /home/sn3007/FootballPassPrediction/downloads/SoccerPass/SoccerPass-COCO/images/val/image_vics_1425.png: 640x1088 13 Players, 1 Football, 55.2ms\n",
      "Speed: 6.5ms preprocess, 55.2ms inference, 1.7ms postprocess per image at shape (1, 3, 1088, 1088)\n",
      "\n",
      "image 1/1 /home/sn3007/FootballPassPrediction/downloads/SoccerPass/SoccerPass-COCO/images/val/image_prmw_1245.png: 640x1088 12 Players, 1 Football, 55.1ms\n",
      "Speed: 6.0ms preprocess, 55.1ms inference, 1.7ms postprocess per image at shape (1, 3, 1088, 1088)\n",
      "\n",
      "image 1/1 /home/sn3007/FootballPassPrediction/downloads/SoccerPass/SoccerPass-COCO/images/val/image_viml_814.png: 640x1088 16 Players, 1 Football, 55.4ms\n",
      "Speed: 6.0ms preprocess, 55.4ms inference, 1.7ms postprocess per image at shape (1, 3, 1088, 1088)\n",
      "\n",
      "image 1/1 /home/sn3007/FootballPassPrediction/downloads/SoccerPass/SoccerPass-COCO/images/val/image_snjv_78.png: 640x1088 14 Players, 1 Football, 54.7ms\n",
      "Speed: 5.6ms preprocess, 54.7ms inference, 1.7ms postprocess per image at shape (1, 3, 1088, 1088)\n",
      "\n",
      "image 1/1 /home/sn3007/FootballPassPrediction/downloads/SoccerPass/SoccerPass-COCO/images/val/image_prmw_1290.png: 640x1088 14 Players, 1 Football, 55.2ms\n",
      "Speed: 5.8ms preprocess, 55.2ms inference, 1.5ms postprocess per image at shape (1, 3, 1088, 1088)\n",
      "\n",
      "image 1/1 /home/sn3007/FootballPassPrediction/downloads/SoccerPass/SoccerPass-COCO/images/val/image_snjv_110.png: 640x1088 19 Players, 2 Footballs, 55.7ms\n",
      "Speed: 4.8ms preprocess, 55.7ms inference, 1.6ms postprocess per image at shape (1, 3, 1088, 1088)\n",
      "\n",
      "image 1/1 /home/sn3007/FootballPassPrediction/downloads/SoccerPass/SoccerPass-COCO/images/val/image_prtl_1162.png: 640x1088 11 Players, 2 Footballs, 55.2ms\n",
      "Speed: 5.9ms preprocess, 55.2ms inference, 1.5ms postprocess per image at shape (1, 3, 1088, 1088)\n",
      "\n",
      "image 1/1 /home/sn3007/FootballPassPrediction/downloads/SoccerPass/SoccerPass-COCO/images/val/image_vics_1384.png: 640x1088 7 Players, 1 Football, 54.8ms\n",
      "Speed: 5.7ms preprocess, 54.8ms inference, 1.8ms postprocess per image at shape (1, 3, 1088, 1088)\n",
      "\n",
      "image 1/1 /home/sn3007/FootballPassPrediction/downloads/SoccerPass/SoccerPass-COCO/images/val/image_snjv_441.png: 640x1088 17 Players, 1 Football, 55.7ms\n",
      "Speed: 4.9ms preprocess, 55.7ms inference, 1.7ms postprocess per image at shape (1, 3, 1088, 1088)\n",
      "\n",
      "image 1/1 /home/sn3007/FootballPassPrediction/downloads/SoccerPass/SoccerPass-COCO/images/val/image_prmw_1338.png: 640x1088 15 Players, 1 Football, 55.8ms\n",
      "Speed: 5.6ms preprocess, 55.8ms inference, 1.4ms postprocess per image at shape (1, 3, 1088, 1088)\n",
      "\n",
      "image 1/1 /home/sn3007/FootballPassPrediction/downloads/SoccerPass/SoccerPass-COCO/images/val/image_snjv_206.png: 640x1088 17 Players, 1 Football, 56.1ms\n",
      "Speed: 5.5ms preprocess, 56.1ms inference, 1.4ms postprocess per image at shape (1, 3, 1088, 1088)\n",
      "\n",
      "image 1/1 /home/sn3007/FootballPassPrediction/downloads/SoccerPass/SoccerPass-COCO/images/val/image_viml_708.png: 640x1088 19 Players, 1 Football, 55.8ms\n",
      "Speed: 5.4ms preprocess, 55.8ms inference, 1.4ms postprocess per image at shape (1, 3, 1088, 1088)\n",
      "\n",
      "image 1/1 /home/sn3007/FootballPassPrediction/downloads/SoccerPass/SoccerPass-COCO/images/val/image_snjv_471.png: 640x1088 21 Players, 1 Football, 56.0ms\n",
      "Speed: 5.5ms preprocess, 56.0ms inference, 1.4ms postprocess per image at shape (1, 3, 1088, 1088)\n"
     ]
    },
    {
     "name": "stderr",
     "output_type": "stream",
     "text": [
      "\n",
      "image 1/1 /home/sn3007/FootballPassPrediction/downloads/SoccerPass/SoccerPass-COCO/images/val/image_prtl_1074.png: 640x1088 17 Players, 1 Football, 56.0ms\n",
      "Speed: 5.6ms preprocess, 56.0ms inference, 1.5ms postprocess per image at shape (1, 3, 1088, 1088)\n",
      "\n",
      "image 1/1 /home/sn3007/FootballPassPrediction/downloads/SoccerPass/SoccerPass-COCO/images/val/image_viml_747.png: 640x1088 16 Players, 1 Football, 56.0ms\n",
      "Speed: 5.6ms preprocess, 56.0ms inference, 1.5ms postprocess per image at shape (1, 3, 1088, 1088)\n",
      "\n",
      "image 1/1 /home/sn3007/FootballPassPrediction/downloads/SoccerPass/SoccerPass-COCO/images/val/image_prmw_1285.png: 640x1088 15 Players, 1 Football, 55.8ms\n",
      "Speed: 5.7ms preprocess, 55.8ms inference, 1.3ms postprocess per image at shape (1, 3, 1088, 1088)\n",
      "\n",
      "image 1/1 /home/sn3007/FootballPassPrediction/downloads/SoccerPass/SoccerPass-COCO/images/val/image_vics_1395.png: 640x1088 7 Players, 1 Football, 55.4ms\n",
      "Speed: 5.5ms preprocess, 55.4ms inference, 1.7ms postprocess per image at shape (1, 3, 1088, 1088)\n",
      "\n",
      "image 1/1 /home/sn3007/FootballPassPrediction/downloads/SoccerPass/SoccerPass-COCO/images/val/image_snjv_426.png: 640x1088 18 Players, 1 Football, 55.9ms\n",
      "Speed: 5.8ms preprocess, 55.9ms inference, 1.7ms postprocess per image at shape (1, 3, 1088, 1088)\n",
      "\n",
      "image 1/1 /home/sn3007/FootballPassPrediction/downloads/SoccerPass/SoccerPass-COCO/images/val/image_snjv_305.png: 640x1088 8 Players, 1 Football, 55.6ms\n",
      "Speed: 6.1ms preprocess, 55.6ms inference, 1.6ms postprocess per image at shape (1, 3, 1088, 1088)\n",
      "\n",
      "image 1/1 /home/sn3007/FootballPassPrediction/downloads/SoccerPass/SoccerPass-COCO/images/val/image_vics_1380.png: 640x1088 14 Players, 1 Football, 55.6ms\n",
      "Speed: 5.7ms preprocess, 55.6ms inference, 1.8ms postprocess per image at shape (1, 3, 1088, 1088)\n",
      "\n",
      "image 1/1 /home/sn3007/FootballPassPrediction/downloads/SoccerPass/SoccerPass-COCO/images/val/image_viml_793.png: 640x1088 14 Players, 1 Football, 56.5ms\n",
      "Speed: 5.7ms preprocess, 56.5ms inference, 1.9ms postprocess per image at shape (1, 3, 1088, 1088)\n",
      "\n",
      "image 1/1 /home/sn3007/FootballPassPrediction/downloads/SoccerPass/SoccerPass-COCO/images/val/image_vimp_630.png: 640x1088 19 Players, 1 Football, 56.2ms\n",
      "Speed: 6.1ms preprocess, 56.2ms inference, 1.6ms postprocess per image at shape (1, 3, 1088, 1088)\n",
      "\n",
      "image 1/1 /home/sn3007/FootballPassPrediction/downloads/SoccerPass/SoccerPass-COCO/images/val/image_viml_703.png: 640x1088 15 Players, 1 Football, 55.8ms\n",
      "Speed: 5.8ms preprocess, 55.8ms inference, 1.6ms postprocess per image at shape (1, 3, 1088, 1088)\n",
      "\n",
      "image 1/1 /home/sn3007/FootballPassPrediction/downloads/SoccerPass/SoccerPass-COCO/images/val/image_prtl_1200.png: 640x1088 15 Players, 1 Football, 55.3ms\n",
      "Speed: 5.7ms preprocess, 55.3ms inference, 1.7ms postprocess per image at shape (1, 3, 1088, 1088)\n",
      "\n",
      "image 1/1 /home/sn3007/FootballPassPrediction/downloads/SoccerPass/SoccerPass-COCO/images/val/image_prmw_1323.png: 640x1088 14 Players, 1 Football, 56.1ms\n",
      "Speed: 5.6ms preprocess, 56.1ms inference, 1.5ms postprocess per image at shape (1, 3, 1088, 1088)\n",
      "\n",
      "image 1/1 /home/sn3007/FootballPassPrediction/downloads/SoccerPass/SoccerPass-COCO/images/val/image_viml_766.png: 640x1088 11 Players, 2 Footballs, 56.3ms\n",
      "Speed: 5.6ms preprocess, 56.3ms inference, 1.5ms postprocess per image at shape (1, 3, 1088, 1088)\n",
      "\n",
      "image 1/1 /home/sn3007/FootballPassPrediction/downloads/SoccerPass/SoccerPass-COCO/images/val/image_vimp_639.png: 640x1088 14 Players, 1 Football, 56.3ms\n",
      "Speed: 6.0ms preprocess, 56.3ms inference, 1.4ms postprocess per image at shape (1, 3, 1088, 1088)\n",
      "\n",
      "image 1/1 /home/sn3007/FootballPassPrediction/downloads/SoccerPass/SoccerPass-COCO/images/val/image_viml_746.png: 640x1088 14 Players, 1 Football, 59.7ms\n",
      "Speed: 4.8ms preprocess, 59.7ms inference, 13.3ms postprocess per image at shape (1, 3, 1088, 1088)\n",
      "\n",
      "image 1/1 /home/sn3007/FootballPassPrediction/downloads/SoccerPass/SoccerPass-COCO/images/val/image_snjv_197.png: 640x1088 16 Players, 1 Football, 55.7ms\n",
      "Speed: 5.6ms preprocess, 55.7ms inference, 1.4ms postprocess per image at shape (1, 3, 1088, 1088)\n",
      "\n",
      "image 1/1 /home/sn3007/FootballPassPrediction/downloads/SoccerPass/SoccerPass-COCO/images/val/image_snjv_41.png: 640x1088 21 Players, 1 Football, 55.5ms\n",
      "Speed: 5.6ms preprocess, 55.5ms inference, 1.4ms postprocess per image at shape (1, 3, 1088, 1088)\n",
      "\n",
      "image 1/1 /home/sn3007/FootballPassPrediction/downloads/SoccerPass/SoccerPass-COCO/images/val/image_snjv_91.png: 640x1088 17 Players, 1 Football, 55.1ms\n",
      "Speed: 4.8ms preprocess, 55.1ms inference, 1.4ms postprocess per image at shape (1, 3, 1088, 1088)\n",
      "\n",
      "image 1/1 /home/sn3007/FootballPassPrediction/downloads/SoccerPass/SoccerPass-COCO/images/val/image_snjv_462.png: 640x1088 23 Players, 1 Football, 55.9ms\n",
      "Speed: 5.7ms preprocess, 55.9ms inference, 1.4ms postprocess per image at shape (1, 3, 1088, 1088)\n",
      "\n",
      "image 1/1 /home/sn3007/FootballPassPrediction/downloads/SoccerPass/SoccerPass-COCO/images/val/image_viml_779.png: 640x1088 17 Players, 1 Football, 55.7ms\n",
      "Speed: 5.9ms preprocess, 55.7ms inference, 1.5ms postprocess per image at shape (1, 3, 1088, 1088)\n",
      "\n",
      "image 1/1 /home/sn3007/FootballPassPrediction/downloads/SoccerPass/SoccerPass-COCO/images/val/image_prtl_1121.png: 640x1088 15 Players, 1 Football, 54.5ms\n",
      "Speed: 5.7ms preprocess, 54.5ms inference, 1.7ms postprocess per image at shape (1, 3, 1088, 1088)\n",
      "\n",
      "image 1/1 /home/sn3007/FootballPassPrediction/downloads/SoccerPass/SoccerPass-COCO/images/val/image_vimp_528.png: 640x1088 13 Players, 1 Football, 55.5ms\n",
      "Speed: 5.8ms preprocess, 55.5ms inference, 1.6ms postprocess per image at shape (1, 3, 1088, 1088)\n",
      "\n",
      "image 1/1 /home/sn3007/FootballPassPrediction/downloads/SoccerPass/SoccerPass-COCO/images/val/image_viml_785.png: 640x1088 13 Players, 1 Football, 55.5ms\n",
      "Speed: 5.8ms preprocess, 55.5ms inference, 1.5ms postprocess per image at shape (1, 3, 1088, 1088)\n",
      "\n",
      "image 1/1 /home/sn3007/FootballPassPrediction/downloads/SoccerPass/SoccerPass-COCO/images/val/image_vimp_566.png: 640x1088 14 Players, 1 Football, 55.9ms\n",
      "Speed: 6.1ms preprocess, 55.9ms inference, 1.4ms postprocess per image at shape (1, 3, 1088, 1088)\n",
      "\n",
      "image 1/1 /home/sn3007/FootballPassPrediction/downloads/SoccerPass/SoccerPass-COCO/images/val/image_prtl_1221.png: 640x1088 16 Players, 1 Football, 55.6ms\n",
      "Speed: 5.7ms preprocess, 55.6ms inference, 1.5ms postprocess per image at shape (1, 3, 1088, 1088)\n",
      "\n",
      "image 1/1 /home/sn3007/FootballPassPrediction/downloads/SoccerPass/SoccerPass-COCO/images/val/image_prtl_1108.png: 640x1088 14 Players, 1 Football, 55.6ms\n",
      "Speed: 5.5ms preprocess, 55.6ms inference, 1.5ms postprocess per image at shape (1, 3, 1088, 1088)\n",
      "\n",
      "image 1/1 /home/sn3007/FootballPassPrediction/downloads/SoccerPass/SoccerPass-COCO/images/val/image_vics_1367.png: 640x1088 17 Players, 55.1ms\n",
      "Speed: 5.8ms preprocess, 55.1ms inference, 1.5ms postprocess per image at shape (1, 3, 1088, 1088)\n",
      "\n",
      "image 1/1 /home/sn3007/FootballPassPrediction/downloads/SoccerPass/SoccerPass-COCO/images/val/image_prtl_1208.png: 640x1088 13 Players, 1 Football, 54.5ms\n",
      "Speed: 5.7ms preprocess, 54.5ms inference, 1.6ms postprocess per image at shape (1, 3, 1088, 1088)\n",
      "\n",
      "image 1/1 /home/sn3007/FootballPassPrediction/downloads/SoccerPass/SoccerPass-COCO/images/val/image_vics_1409.png: 640x1088 11 Players, 1 Football, 54.8ms\n",
      "Speed: 5.7ms preprocess, 54.8ms inference, 1.5ms postprocess per image at shape (1, 3, 1088, 1088)\n",
      "\n",
      "image 1/1 /home/sn3007/FootballPassPrediction/downloads/SoccerPass/SoccerPass-COCO/images/val/image_vics_1424.png: 640x1088 14 Players, 1 Football, 55.6ms\n",
      "Speed: 5.6ms preprocess, 55.6ms inference, 1.6ms postprocess per image at shape (1, 3, 1088, 1088)\n",
      "\n",
      "image 1/1 /home/sn3007/FootballPassPrediction/downloads/SoccerPass/SoccerPass-COCO/images/val/image_vics_1403.png: 640x1088 8 Players, 1 Football, 55.9ms\n",
      "Speed: 5.6ms preprocess, 55.9ms inference, 13.8ms postprocess per image at shape (1, 3, 1088, 1088)\n",
      "\n",
      "image 1/1 /home/sn3007/FootballPassPrediction/downloads/SoccerPass/SoccerPass-COCO/images/val/image_snjv_299.png: 640x1088 16 Players, 1 Football, 54.4ms\n",
      "Speed: 6.8ms preprocess, 54.4ms inference, 2.7ms postprocess per image at shape (1, 3, 1088, 1088)\n",
      "\n",
      "image 1/1 /home/sn3007/FootballPassPrediction/downloads/SoccerPass/SoccerPass-COCO/images/val/image_vimp_572.png: 640x1088 11 Players, 1 Football, 63.7ms\n"
     ]
    },
    {
     "name": "stderr",
     "output_type": "stream",
     "text": [
      "Speed: 5.7ms preprocess, 63.7ms inference, 1.5ms postprocess per image at shape (1, 3, 1088, 1088)\n",
      "\n",
      "image 1/1 /home/sn3007/FootballPassPrediction/downloads/SoccerPass/SoccerPass-COCO/images/val/image_snjv_190.png: 640x1088 16 Players, 1 Football, 56.1ms\n",
      "Speed: 5.6ms preprocess, 56.1ms inference, 1.5ms postprocess per image at shape (1, 3, 1088, 1088)\n",
      "\n",
      "image 1/1 /home/sn3007/FootballPassPrediction/downloads/SoccerPass/SoccerPass-COCO/images/val/image_vimp_603.png: 640x1088 17 Players, 1 Football, 51.7ms\n",
      "Speed: 5.9ms preprocess, 51.7ms inference, 1.4ms postprocess per image at shape (1, 3, 1088, 1088)\n",
      "\n",
      "image 1/1 /home/sn3007/FootballPassPrediction/downloads/SoccerPass/SoccerPass-COCO/images/val/image_snjv_435.png: 640x1088 23 Players, 1 Football, 57.6ms\n",
      "Speed: 5.6ms preprocess, 57.6ms inference, 1.4ms postprocess per image at shape (1, 3, 1088, 1088)\n",
      "\n",
      "image 1/1 /home/sn3007/FootballPassPrediction/downloads/SoccerPass/SoccerPass-COCO/images/val/image_vimp_571.png: 640x1088 14 Players, 1 Football, 56.8ms\n",
      "Speed: 4.6ms preprocess, 56.8ms inference, 1.4ms postprocess per image at shape (1, 3, 1088, 1088)\n",
      "\n",
      "image 1/1 /home/sn3007/FootballPassPrediction/downloads/SoccerPass/SoccerPass-COCO/images/val/image_prmw_1292.png: 640x1088 15 Players, 1 Football, 55.6ms\n",
      "Speed: 5.9ms preprocess, 55.6ms inference, 1.4ms postprocess per image at shape (1, 3, 1088, 1088)\n",
      "\n",
      "image 1/1 /home/sn3007/FootballPassPrediction/downloads/SoccerPass/SoccerPass-COCO/images/val/image_snjv_301.png: 640x1088 15 Players, 1 Football, 55.1ms\n",
      "Speed: 6.1ms preprocess, 55.1ms inference, 1.4ms postprocess per image at shape (1, 3, 1088, 1088)\n",
      "\n",
      "image 1/1 /home/sn3007/FootballPassPrediction/downloads/SoccerPass/SoccerPass-COCO/images/val/image_prtl_1128.png: 640x1088 17 Players, 1 Football, 55.8ms\n",
      "Speed: 5.1ms preprocess, 55.8ms inference, 1.6ms postprocess per image at shape (1, 3, 1088, 1088)\n",
      "\n",
      "image 1/1 /home/sn3007/FootballPassPrediction/downloads/SoccerPass/SoccerPass-COCO/images/val/image_vics_1373.png: 640x1088 11 Players, 1 Football, 56.1ms\n",
      "Speed: 6.1ms preprocess, 56.1ms inference, 1.5ms postprocess per image at shape (1, 3, 1088, 1088)\n",
      "\n",
      "image 1/1 /home/sn3007/FootballPassPrediction/downloads/SoccerPass/SoccerPass-COCO/images/val/image_snjv_335.png: 640x1088 11 Players, 1 Football, 55.9ms\n",
      "Speed: 5.9ms preprocess, 55.9ms inference, 1.4ms postprocess per image at shape (1, 3, 1088, 1088)\n",
      "\n",
      "image 1/1 /home/sn3007/FootballPassPrediction/downloads/SoccerPass/SoccerPass-COCO/images/val/image_prtl_1201.png: 640x1088 18 Players, 1 Football, 55.9ms\n",
      "Speed: 5.9ms preprocess, 55.9ms inference, 1.4ms postprocess per image at shape (1, 3, 1088, 1088)\n",
      "\n",
      "image 1/1 /home/sn3007/FootballPassPrediction/downloads/SoccerPass/SoccerPass-COCO/images/val/image_prtl_1197.png: 640x1088 15 Players, 1 Football, 54.2ms\n",
      "Speed: 5.7ms preprocess, 54.2ms inference, 1.5ms postprocess per image at shape (1, 3, 1088, 1088)\n",
      "\n",
      "image 1/1 /home/sn3007/FootballPassPrediction/downloads/SoccerPass/SoccerPass-COCO/images/val/image_snjv_495.png: 640x1088 12 Players, 1 Football, 56.3ms\n",
      "Speed: 5.6ms preprocess, 56.3ms inference, 1.5ms postprocess per image at shape (1, 3, 1088, 1088)\n",
      "\n",
      "image 1/1 /home/sn3007/FootballPassPrediction/downloads/SoccerPass/SoccerPass-COCO/images/val/image_snjv_399.png: 640x1088 13 Players, 1 Football, 56.4ms\n",
      "Speed: 5.5ms preprocess, 56.4ms inference, 1.4ms postprocess per image at shape (1, 3, 1088, 1088)\n",
      "\n",
      "image 1/1 /home/sn3007/FootballPassPrediction/downloads/SoccerPass/SoccerPass-COCO/images/val/image_vimp_547.png: 640x1088 13 Players, 1 Football, 55.5ms\n",
      "Speed: 5.9ms preprocess, 55.5ms inference, 1.4ms postprocess per image at shape (1, 3, 1088, 1088)\n",
      "\n",
      "image 1/1 /home/sn3007/FootballPassPrediction/downloads/SoccerPass/SoccerPass-COCO/images/val/image_snjv_25.png: 640x1088 18 Players, 1 Football, 55.5ms\n",
      "Speed: 6.1ms preprocess, 55.5ms inference, 1.4ms postprocess per image at shape (1, 3, 1088, 1088)\n",
      "\n",
      "image 1/1 /home/sn3007/FootballPassPrediction/downloads/SoccerPass/SoccerPass-COCO/images/val/image_snjv_267.png: 640x1088 18 Players, 1 Football, 55.1ms\n",
      "Speed: 5.7ms preprocess, 55.1ms inference, 1.4ms postprocess per image at shape (1, 3, 1088, 1088)\n",
      "\n",
      "image 1/1 /home/sn3007/FootballPassPrediction/downloads/SoccerPass/SoccerPass-COCO/images/val/image_snjv_76.png: 640x1088 18 Players, 2 Footballs, 55.3ms\n",
      "Speed: 5.7ms preprocess, 55.3ms inference, 1.4ms postprocess per image at shape (1, 3, 1088, 1088)\n",
      "\n",
      "image 1/1 /home/sn3007/FootballPassPrediction/downloads/SoccerPass/SoccerPass-COCO/images/val/image_snjv_265.png: 640x1088 18 Players, 1 Football, 57.0ms\n",
      "Speed: 5.8ms preprocess, 57.0ms inference, 1.5ms postprocess per image at shape (1, 3, 1088, 1088)\n",
      "\n",
      "image 1/1 /home/sn3007/FootballPassPrediction/downloads/SoccerPass/SoccerPass-COCO/images/val/image_prtl_1141.png: 640x1088 19 Players, 1 Football, 55.9ms\n",
      "Speed: 5.7ms preprocess, 55.9ms inference, 1.8ms postprocess per image at shape (1, 3, 1088, 1088)\n",
      "\n",
      "image 1/1 /home/sn3007/FootballPassPrediction/downloads/SoccerPass/SoccerPass-COCO/images/val/image_prtl_1027.png: 640x1088 12 Players, 1 Football, 56.0ms\n",
      "Speed: 6.3ms preprocess, 56.0ms inference, 1.7ms postprocess per image at shape (1, 3, 1088, 1088)\n",
      "\n",
      "image 1/1 /home/sn3007/FootballPassPrediction/downloads/SoccerPass/SoccerPass-COCO/images/val/image_vimp_643.png: 640x1088 16 Players, 1 Football, 56.0ms\n",
      "Speed: 6.3ms preprocess, 56.0ms inference, 1.7ms postprocess per image at shape (1, 3, 1088, 1088)\n",
      "\n",
      "image 1/1 /home/sn3007/FootballPassPrediction/downloads/SoccerPass/SoccerPass-COCO/images/val/image_viml_759.png: 640x1088 14 Players, 1 Football, 56.2ms\n",
      "Speed: 5.9ms preprocess, 56.2ms inference, 1.5ms postprocess per image at shape (1, 3, 1088, 1088)\n",
      "\n",
      "image 1/1 /home/sn3007/FootballPassPrediction/downloads/SoccerPass/SoccerPass-COCO/images/val/image_snjv_443.png: 640x1088 18 Players, 1 Football, 56.0ms\n",
      "Speed: 5.7ms preprocess, 56.0ms inference, 1.4ms postprocess per image at shape (1, 3, 1088, 1088)\n",
      "\n",
      "image 1/1 /home/sn3007/FootballPassPrediction/downloads/SoccerPass/SoccerPass-COCO/images/val/image_prtl_1218.png: 640x1088 18 Players, 1 Football, 55.6ms\n",
      "Speed: 5.7ms preprocess, 55.6ms inference, 1.5ms postprocess per image at shape (1, 3, 1088, 1088)\n",
      "\n",
      "image 1/1 /home/sn3007/FootballPassPrediction/downloads/SoccerPass/SoccerPass-COCO/images/val/image_vimp_678.png: 640x1088 14 Players, 1 Football, 54.7ms\n",
      "Speed: 6.0ms preprocess, 54.7ms inference, 1.4ms postprocess per image at shape (1, 3, 1088, 1088)\n",
      "\n",
      "image 1/1 /home/sn3007/FootballPassPrediction/downloads/SoccerPass/SoccerPass-COCO/images/val/image_snjv_168.png: 640x1088 14 Players, 1 Football, 56.2ms\n",
      "Speed: 6.0ms preprocess, 56.2ms inference, 1.3ms postprocess per image at shape (1, 3, 1088, 1088)\n",
      "\n",
      "image 1/1 /home/sn3007/FootballPassPrediction/downloads/SoccerPass/SoccerPass-COCO/images/val/image_prmw_1273.png: 640x1088 14 Players, 1 Football, 56.1ms\n",
      "Speed: 5.9ms preprocess, 56.1ms inference, 1.5ms postprocess per image at shape (1, 3, 1088, 1088)\n",
      "\n",
      "image 1/1 /home/sn3007/FootballPassPrediction/downloads/SoccerPass/SoccerPass-COCO/images/val/image_viml_813.png: 640x1088 15 Players, 1 Football, 55.0ms\n",
      "Speed: 5.8ms preprocess, 55.0ms inference, 1.4ms postprocess per image at shape (1, 3, 1088, 1088)\n",
      "\n",
      "image 1/1 /home/sn3007/FootballPassPrediction/downloads/SoccerPass/SoccerPass-COCO/images/val/image_viml_731.png: 640x1088 12 Players, 1 Football, 58.2ms\n",
      "Speed: 4.7ms preprocess, 58.2ms inference, 1.4ms postprocess per image at shape (1, 3, 1088, 1088)\n",
      "\n",
      "image 1/1 /home/sn3007/FootballPassPrediction/downloads/SoccerPass/SoccerPass-COCO/images/val/image_snjv_297.png: 640x1088 20 Players, 1 Football, 56.9ms\n",
      "Speed: 5.8ms preprocess, 56.9ms inference, 1.5ms postprocess per image at shape (1, 3, 1088, 1088)\n",
      "\n",
      "image 1/1 /home/sn3007/FootballPassPrediction/downloads/SoccerPass/SoccerPass-COCO/images/val/image_vics_1411.png: 640x1088 13 Players, 1 Football, 56.8ms\n",
      "Speed: 5.8ms preprocess, 56.8ms inference, 1.4ms postprocess per image at shape (1, 3, 1088, 1088)\n",
      "\n",
      "image 1/1 /home/sn3007/FootballPassPrediction/downloads/SoccerPass/SoccerPass-COCO/images/val/image_vimp_515.png: 640x1088 12 Players, 1 Football, 56.0ms\n",
      "Speed: 5.7ms preprocess, 56.0ms inference, 1.4ms postprocess per image at shape (1, 3, 1088, 1088)\n"
     ]
    },
    {
     "name": "stderr",
     "output_type": "stream",
     "text": [
      "\n",
      "image 1/1 /home/sn3007/FootballPassPrediction/downloads/SoccerPass/SoccerPass-COCO/images/val/image_snjv_319.png: 640x1088 20 Players, 55.0ms\n",
      "Speed: 5.6ms preprocess, 55.0ms inference, 1.5ms postprocess per image at shape (1, 3, 1088, 1088)\n",
      "\n",
      "image 1/1 /home/sn3007/FootballPassPrediction/downloads/SoccerPass/SoccerPass-COCO/images/val/image_snjv_87.png: 640x1088 14 Players, 1 Football, 54.5ms\n",
      "Speed: 5.5ms preprocess, 54.5ms inference, 1.5ms postprocess per image at shape (1, 3, 1088, 1088)\n",
      "\n",
      "image 1/1 /home/sn3007/FootballPassPrediction/downloads/SoccerPass/SoccerPass-COCO/images/val/image_viml_724.png: 640x1088 17 Players, 1 Football, 56.5ms\n",
      "Speed: 5.7ms preprocess, 56.5ms inference, 1.4ms postprocess per image at shape (1, 3, 1088, 1088)\n",
      "\n",
      "image 1/1 /home/sn3007/FootballPassPrediction/downloads/SoccerPass/SoccerPass-COCO/images/val/image_snjv_40.png: 640x1088 18 Players, 1 Football, 56.5ms\n",
      "Speed: 5.7ms preprocess, 56.5ms inference, 1.7ms postprocess per image at shape (1, 3, 1088, 1088)\n",
      "\n",
      "image 1/1 /home/sn3007/FootballPassPrediction/downloads/SoccerPass/SoccerPass-COCO/images/val/image_prmw_1331.png: 640x1088 17 Players, 1 Football, 55.8ms\n",
      "Speed: 5.8ms preprocess, 55.8ms inference, 1.8ms postprocess per image at shape (1, 3, 1088, 1088)\n",
      "\n",
      "image 1/1 /home/sn3007/FootballPassPrediction/downloads/SoccerPass/SoccerPass-COCO/images/val/image_vimp_507.png: 640x1088 15 Players, 1 Football, 57.2ms\n",
      "Speed: 5.7ms preprocess, 57.2ms inference, 1.7ms postprocess per image at shape (1, 3, 1088, 1088)\n",
      "\n",
      "image 1/1 /home/sn3007/FootballPassPrediction/downloads/SoccerPass/SoccerPass-COCO/images/val/image_snjv_477.png: 640x1088 26 Players, 1 Football, 57.9ms\n",
      "Speed: 5.8ms preprocess, 57.9ms inference, 2.8ms postprocess per image at shape (1, 3, 1088, 1088)\n",
      "\n",
      "image 1/1 /home/sn3007/FootballPassPrediction/downloads/SoccerPass/SoccerPass-COCO/images/val/image_viml_711.png: 640x1088 18 Players, 1 Football, 56.3ms\n",
      "Speed: 5.3ms preprocess, 56.3ms inference, 2.9ms postprocess per image at shape (1, 3, 1088, 1088)\n",
      "\n",
      "image 1/1 /home/sn3007/FootballPassPrediction/downloads/SoccerPass/SoccerPass-COCO/images/val/image_snjv_483.png: 640x1088 18 Players, 1 Football, 58.6ms\n",
      "Speed: 5.8ms preprocess, 58.6ms inference, 1.5ms postprocess per image at shape (1, 3, 1088, 1088)\n",
      "\n",
      "image 1/1 /home/sn3007/FootballPassPrediction/downloads/SoccerPass/SoccerPass-COCO/images/val/image_viml_702.png: 640x1088 14 Players, 1 Football, 58.9ms\n",
      "Speed: 5.8ms preprocess, 58.9ms inference, 1.8ms postprocess per image at shape (1, 3, 1088, 1088)\n",
      "\n",
      "image 1/1 /home/sn3007/FootballPassPrediction/downloads/SoccerPass/SoccerPass-COCO/images/val/image_prtl_1187.png: 640x1088 16 Players, 1 Football, 57.1ms\n",
      "Speed: 6.0ms preprocess, 57.1ms inference, 1.8ms postprocess per image at shape (1, 3, 1088, 1088)\n",
      "\n",
      "image 1/1 /home/sn3007/FootballPassPrediction/downloads/SoccerPass/SoccerPass-COCO/images/val/image_prtl_1099.png: 640x1088 18 Players, 1 Football, 56.7ms\n",
      "Speed: 6.0ms preprocess, 56.7ms inference, 1.8ms postprocess per image at shape (1, 3, 1088, 1088)\n",
      "\n",
      "image 1/1 /home/sn3007/FootballPassPrediction/downloads/SoccerPass/SoccerPass-COCO/images/val/image_snjv_447.png: 640x1088 10 Players, 1 Football, 55.6ms\n",
      "Speed: 5.6ms preprocess, 55.6ms inference, 1.7ms postprocess per image at shape (1, 3, 1088, 1088)\n",
      "\n",
      "image 1/1 /home/sn3007/FootballPassPrediction/downloads/SoccerPass/SoccerPass-COCO/images/val/image_snjv_485.png: 640x1088 22 Players, 1 Football, 56.0ms\n",
      "Speed: 5.7ms preprocess, 56.0ms inference, 1.7ms postprocess per image at shape (1, 3, 1088, 1088)\n",
      "\n",
      "image 1/1 /home/sn3007/FootballPassPrediction/downloads/SoccerPass/SoccerPass-COCO/images/val/image_snjv_374.png: 640x1088 23 Players, 1 Football, 57.0ms\n",
      "Speed: 5.7ms preprocess, 57.0ms inference, 1.6ms postprocess per image at shape (1, 3, 1088, 1088)\n",
      "\n",
      "image 1/1 /home/sn3007/FootballPassPrediction/downloads/SoccerPass/SoccerPass-COCO/images/val/image_viml_730.png: 640x1088 12 Players, 1 Football, 56.5ms\n",
      "Speed: 5.9ms preprocess, 56.5ms inference, 1.6ms postprocess per image at shape (1, 3, 1088, 1088)\n",
      "\n",
      "image 1/1 /home/sn3007/FootballPassPrediction/downloads/SoccerPass/SoccerPass-COCO/images/val/image_snjv_354.png: 640x1088 17 Players, 1 Football, 55.8ms\n",
      "Speed: 5.8ms preprocess, 55.8ms inference, 1.5ms postprocess per image at shape (1, 3, 1088, 1088)\n",
      "\n",
      "image 1/1 /home/sn3007/FootballPassPrediction/downloads/SoccerPass/SoccerPass-COCO/images/val/image_vimp_641.png: 640x1088 17 Players, 1 Football, 55.1ms\n",
      "Speed: 5.7ms preprocess, 55.1ms inference, 1.6ms postprocess per image at shape (1, 3, 1088, 1088)\n",
      "\n",
      "image 1/1 /home/sn3007/FootballPassPrediction/downloads/SoccerPass/SoccerPass-COCO/images/val/image_vics_1437.png: 640x1088 12 Players, 1 Football, 55.4ms\n",
      "Speed: 5.0ms preprocess, 55.4ms inference, 1.7ms postprocess per image at shape (1, 3, 1088, 1088)\n",
      "\n",
      "image 1/1 /home/sn3007/FootballPassPrediction/downloads/SoccerPass/SoccerPass-COCO/images/val/image_prtl_1147.png: 640x1088 16 Players, 1 Football, 54.7ms\n",
      "Speed: 5.9ms preprocess, 54.7ms inference, 1.8ms postprocess per image at shape (1, 3, 1088, 1088)\n",
      "\n",
      "image 1/1 /home/sn3007/FootballPassPrediction/downloads/SoccerPass/SoccerPass-COCO/images/val/image_snjv_303.png: 640x1088 17 Players, 1 Football, 56.5ms\n",
      "Speed: 5.8ms preprocess, 56.5ms inference, 1.5ms postprocess per image at shape (1, 3, 1088, 1088)\n",
      "\n",
      "image 1/1 /home/sn3007/FootballPassPrediction/downloads/SoccerPass/SoccerPass-COCO/images/val/image_prtl_1104.png: 640x1088 9 Players, 1 Football, 56.1ms\n",
      "Speed: 5.7ms preprocess, 56.1ms inference, 1.5ms postprocess per image at shape (1, 3, 1088, 1088)\n",
      "\n",
      "image 1/1 /home/sn3007/FootballPassPrediction/downloads/SoccerPass/SoccerPass-COCO/images/val/image_snjv_23.png: 640x1088 12 Players, 1 Football, 56.5ms\n",
      "Speed: 5.8ms preprocess, 56.5ms inference, 1.4ms postprocess per image at shape (1, 3, 1088, 1088)\n",
      "\n",
      "image 1/1 /home/sn3007/FootballPassPrediction/downloads/SoccerPass/SoccerPass-COCO/images/val/image_snjv_71.png: 640x1088 16 Players, 1 Football, 55.7ms\n",
      "Speed: 5.7ms preprocess, 55.7ms inference, 1.4ms postprocess per image at shape (1, 3, 1088, 1088)\n",
      "\n",
      "image 1/1 /home/sn3007/FootballPassPrediction/downloads/SoccerPass/SoccerPass-COCO/images/val/image_prmw_1269.png: 640x1088 11 Players, 1 Football, 56.4ms\n",
      "Speed: 5.5ms preprocess, 56.4ms inference, 1.4ms postprocess per image at shape (1, 3, 1088, 1088)\n",
      "\n",
      "image 1/1 /home/sn3007/FootballPassPrediction/downloads/SoccerPass/SoccerPass-COCO/images/val/image_prtl_1225.png: 640x1088 16 Players, 1 Football, 56.7ms\n",
      "Speed: 5.7ms preprocess, 56.7ms inference, 1.4ms postprocess per image at shape (1, 3, 1088, 1088)\n",
      "\n",
      "image 1/1 /home/sn3007/FootballPassPrediction/downloads/SoccerPass/SoccerPass-COCO/images/val/image_snjv_158.png: 640x1088 10 Players, 1 Football, 56.4ms\n",
      "Speed: 5.4ms preprocess, 56.4ms inference, 1.3ms postprocess per image at shape (1, 3, 1088, 1088)\n",
      "\n",
      "image 1/1 /home/sn3007/FootballPassPrediction/downloads/SoccerPass/SoccerPass-COCO/images/val/image_prtl_1166.png: 640x1088 16 Players, 1 Football, 54.6ms\n",
      "Speed: 5.5ms preprocess, 54.6ms inference, 1.4ms postprocess per image at shape (1, 3, 1088, 1088)\n",
      "\n",
      "image 1/1 /home/sn3007/FootballPassPrediction/downloads/SoccerPass/SoccerPass-COCO/images/val/image_prtl_1217.png: 640x1088 11 Players, 1 Football, 55.5ms\n",
      "Speed: 5.6ms preprocess, 55.5ms inference, 1.4ms postprocess per image at shape (1, 3, 1088, 1088)\n",
      "\n",
      "image 1/1 /home/sn3007/FootballPassPrediction/downloads/SoccerPass/SoccerPass-COCO/images/val/image_snjv_356.png: 640x1088 15 Players, 1 Football, 56.9ms\n",
      "Speed: 5.5ms preprocess, 56.9ms inference, 1.5ms postprocess per image at shape (1, 3, 1088, 1088)\n",
      "\n",
      "image 1/1 /home/sn3007/FootballPassPrediction/downloads/SoccerPass/SoccerPass-COCO/images/val/image_snjv_406.png: 640x1088 9 Players, 1 Football, 56.0ms\n",
      "Speed: 5.6ms preprocess, 56.0ms inference, 1.6ms postprocess per image at shape (1, 3, 1088, 1088)\n",
      "\n",
      "image 1/1 /home/sn3007/FootballPassPrediction/downloads/SoccerPass/SoccerPass-COCO/images/val/image_vimp_580.png: 640x1088 15 Players, 1 Football, 55.2ms\n",
      "Speed: 5.8ms preprocess, 55.2ms inference, 1.6ms postprocess per image at shape (1, 3, 1088, 1088)\n",
      "\n",
      "image 1/1 /home/sn3007/FootballPassPrediction/downloads/SoccerPass/SoccerPass-COCO/images/val/image_prtl_1118.png: 640x1088 16 Players, 1 Football, 56.4ms\n"
     ]
    },
    {
     "name": "stderr",
     "output_type": "stream",
     "text": [
      "Speed: 6.0ms preprocess, 56.4ms inference, 1.7ms postprocess per image at shape (1, 3, 1088, 1088)\n",
      "\n",
      "image 1/1 /home/sn3007/FootballPassPrediction/downloads/SoccerPass/SoccerPass-COCO/images/val/image_prmw_1238.png: 640x1088 18 Players, 1 Football, 54.9ms\n",
      "Speed: 5.7ms preprocess, 54.9ms inference, 1.5ms postprocess per image at shape (1, 3, 1088, 1088)\n",
      "\n",
      "image 1/1 /home/sn3007/FootballPassPrediction/downloads/SoccerPass/SoccerPass-COCO/images/val/image_snjv_14.png: 640x1088 16 Players, 1 Football, 54.7ms\n",
      "Speed: 5.6ms preprocess, 54.7ms inference, 1.5ms postprocess per image at shape (1, 3, 1088, 1088)\n",
      "\n",
      "image 1/1 /home/sn3007/FootballPassPrediction/downloads/SoccerPass/SoccerPass-COCO/images/val/image_snjv_368.png: 640x1088 10 Players, 1 Football, 55.0ms\n",
      "Speed: 5.9ms preprocess, 55.0ms inference, 1.5ms postprocess per image at shape (1, 3, 1088, 1088)\n",
      "\n",
      "image 1/1 /home/sn3007/FootballPassPrediction/downloads/SoccerPass/SoccerPass-COCO/images/val/image_prtl_1091.png: 640x1088 18 Players, 1 Football, 56.3ms\n",
      "Speed: 5.5ms preprocess, 56.3ms inference, 1.6ms postprocess per image at shape (1, 3, 1088, 1088)\n",
      "\n",
      "image 1/1 /home/sn3007/FootballPassPrediction/downloads/SoccerPass/SoccerPass-COCO/images/val/image_snjv_202.png: 640x1088 15 Players, 1 Football, 56.1ms\n",
      "Speed: 5.8ms preprocess, 56.1ms inference, 1.6ms postprocess per image at shape (1, 3, 1088, 1088)\n",
      "\n",
      "image 1/1 /home/sn3007/FootballPassPrediction/downloads/SoccerPass/SoccerPass-COCO/images/val/image_snjv_59.png: 640x1088 17 Players, 1 Football, 55.0ms\n",
      "Speed: 5.9ms preprocess, 55.0ms inference, 2.0ms postprocess per image at shape (1, 3, 1088, 1088)\n",
      "\n",
      "image 1/1 /home/sn3007/FootballPassPrediction/downloads/SoccerPass/SoccerPass-COCO/images/val/image_snjv_383.png: 640x1088 18 Players, 1 Football, 55.0ms\n",
      "Speed: 5.9ms preprocess, 55.0ms inference, 1.8ms postprocess per image at shape (1, 3, 1088, 1088)\n",
      "\n",
      "image 1/1 /home/sn3007/FootballPassPrediction/downloads/SoccerPass/SoccerPass-COCO/images/val/image_snjv_119.png: 640x1088 18 Players, 2 Footballs, 55.1ms\n",
      "Speed: 5.1ms preprocess, 55.1ms inference, 1.9ms postprocess per image at shape (1, 3, 1088, 1088)\n",
      "\n",
      "image 1/1 /home/sn3007/FootballPassPrediction/downloads/SoccerPass/SoccerPass-COCO/images/val/image_snjv_296.png: 640x1088 18 Players, 1 Football, 55.2ms\n",
      "Speed: 6.6ms preprocess, 55.2ms inference, 1.7ms postprocess per image at shape (1, 3, 1088, 1088)\n",
      "\n",
      "image 1/1 /home/sn3007/FootballPassPrediction/downloads/SoccerPass/SoccerPass-COCO/images/val/image_prtl_1052.png: 640x1088 9 Players, 1 Football, 55.5ms\n",
      "Speed: 5.9ms preprocess, 55.5ms inference, 1.8ms postprocess per image at shape (1, 3, 1088, 1088)\n",
      "\n",
      "image 1/1 /home/sn3007/FootballPassPrediction/downloads/SoccerPass/SoccerPass-COCO/images/val/image_snjv_431.png: 640x1088 14 Players, 1 Football, 56.0ms\n",
      "Speed: 6.0ms preprocess, 56.0ms inference, 1.7ms postprocess per image at shape (1, 3, 1088, 1088)\n",
      "\n",
      "image 1/1 /home/sn3007/FootballPassPrediction/downloads/SoccerPass/SoccerPass-COCO/images/val/image_viml_774.png: 640x1088 7 Players, 1 Football, 56.8ms\n",
      "Speed: 5.9ms preprocess, 56.8ms inference, 1.8ms postprocess per image at shape (1, 3, 1088, 1088)\n",
      "\n",
      "image 1/1 /home/sn3007/FootballPassPrediction/downloads/SoccerPass/SoccerPass-COCO/images/val/image_snjv_482.png: 640x1088 11 Players, 1 Football, 56.7ms\n",
      "Speed: 5.8ms preprocess, 56.7ms inference, 1.9ms postprocess per image at shape (1, 3, 1088, 1088)\n",
      "\n",
      "image 1/1 /home/sn3007/FootballPassPrediction/downloads/SoccerPass/SoccerPass-COCO/images/val/image_snjv_304.png: 640x1088 15 Players, 1 Football, 55.9ms\n",
      "Speed: 5.7ms preprocess, 55.9ms inference, 1.8ms postprocess per image at shape (1, 3, 1088, 1088)\n",
      "\n",
      "image 1/1 /home/sn3007/FootballPassPrediction/downloads/SoccerPass/SoccerPass-COCO/images/val/image_snjv_334.png: 640x1088 17 Players, 56.5ms\n",
      "Speed: 5.9ms preprocess, 56.5ms inference, 1.7ms postprocess per image at shape (1, 3, 1088, 1088)\n",
      "\n",
      "image 1/1 /home/sn3007/FootballPassPrediction/downloads/SoccerPass/SoccerPass-COCO/images/val/image_viml_710.png: 640x1088 19 Players, 1 Football, 56.5ms\n",
      "Speed: 6.0ms preprocess, 56.5ms inference, 1.7ms postprocess per image at shape (1, 3, 1088, 1088)\n",
      "\n",
      "image 1/1 /home/sn3007/FootballPassPrediction/downloads/SoccerPass/SoccerPass-COCO/images/val/image_snjv_314.png: 640x1088 16 Players, 1 Football, 55.6ms\n",
      "Speed: 5.8ms preprocess, 55.6ms inference, 1.7ms postprocess per image at shape (1, 3, 1088, 1088)\n",
      "\n",
      "image 1/1 /home/sn3007/FootballPassPrediction/downloads/SoccerPass/SoccerPass-COCO/images/val/image_vics_1402.png: 640x1088 16 Players, 1 Football, 55.8ms\n",
      "Speed: 5.6ms preprocess, 55.8ms inference, 1.6ms postprocess per image at shape (1, 3, 1088, 1088)\n",
      "\n",
      "image 1/1 /home/sn3007/FootballPassPrediction/downloads/SoccerPass/SoccerPass-COCO/images/val/image_snjv_37.png: 640x1088 21 Players, 1 Football, 54.5ms\n",
      "Speed: 5.8ms preprocess, 54.5ms inference, 1.8ms postprocess per image at shape (1, 3, 1088, 1088)\n",
      "\n",
      "image 1/1 /home/sn3007/FootballPassPrediction/downloads/SoccerPass/SoccerPass-COCO/images/val/image_vimp_556.png: 640x1088 18 Players, 1 Football, 56.1ms\n",
      "Speed: 5.8ms preprocess, 56.1ms inference, 1.8ms postprocess per image at shape (1, 3, 1088, 1088)\n",
      "\n",
      "image 1/1 /home/sn3007/FootballPassPrediction/downloads/SoccerPass/SoccerPass-COCO/images/val/image_snjv_127.png: 640x1088 20 Players, 1 Football, 63.8ms\n",
      "Speed: 6.5ms preprocess, 63.8ms inference, 1.9ms postprocess per image at shape (1, 3, 1088, 1088)\n",
      "\n",
      "image 1/1 /home/sn3007/FootballPassPrediction/downloads/SoccerPass/SoccerPass-COCO/images/val/image_prtl_1110.png: 640x1088 11 Players, 1 Football, 69.0ms\n",
      "Speed: 6.4ms preprocess, 69.0ms inference, 1.7ms postprocess per image at shape (1, 3, 1088, 1088)\n",
      "\n",
      "image 1/1 /home/sn3007/FootballPassPrediction/downloads/SoccerPass/SoccerPass-COCO/images/val/image_vics_1388.png: 640x1088 15 Players, 1 Football, 57.9ms\n",
      "Speed: 6.0ms preprocess, 57.9ms inference, 1.8ms postprocess per image at shape (1, 3, 1088, 1088)\n",
      "\n",
      "image 1/1 /home/sn3007/FootballPassPrediction/downloads/SoccerPass/SoccerPass-COCO/images/val/image_snjv_184.png: 640x1088 19 Players, 1 Football, 56.7ms\n",
      "Speed: 5.6ms preprocess, 56.7ms inference, 1.8ms postprocess per image at shape (1, 3, 1088, 1088)\n",
      "\n",
      "image 1/1 /home/sn3007/FootballPassPrediction/downloads/SoccerPass/SoccerPass-COCO/images/val/image_prmw_1240.png: 640x1088 10 Players, 1 Football, 55.7ms\n",
      "Speed: 5.6ms preprocess, 55.7ms inference, 1.7ms postprocess per image at shape (1, 3, 1088, 1088)\n",
      "\n",
      "image 1/1 /home/sn3007/FootballPassPrediction/downloads/SoccerPass/SoccerPass-COCO/images/val/image_prtl_1227.png: 640x1088 15 Players, 1 Football, 57.1ms\n",
      "Speed: 5.6ms preprocess, 57.1ms inference, 1.8ms postprocess per image at shape (1, 3, 1088, 1088)\n",
      "\n",
      "image 1/1 /home/sn3007/FootballPassPrediction/downloads/SoccerPass/SoccerPass-COCO/images/val/image_vimp_636.png: 640x1088 10 Players, 1 Football, 56.1ms\n",
      "Speed: 5.9ms preprocess, 56.1ms inference, 1.9ms postprocess per image at shape (1, 3, 1088, 1088)\n",
      "\n",
      "image 1/1 /home/sn3007/FootballPassPrediction/downloads/SoccerPass/SoccerPass-COCO/images/val/image_vics_1399.png: 640x1088 11 Players, 1 Football, 55.5ms\n",
      "Speed: 5.9ms preprocess, 55.5ms inference, 2.0ms postprocess per image at shape (1, 3, 1088, 1088)\n",
      "\n",
      "image 1/1 /home/sn3007/FootballPassPrediction/downloads/SoccerPass/SoccerPass-COCO/images/val/image_vics_1422.png: 640x1088 12 Players, 1 Football, 55.8ms\n",
      "Speed: 5.7ms preprocess, 55.8ms inference, 1.9ms postprocess per image at shape (1, 3, 1088, 1088)\n",
      "\n",
      "image 1/1 /home/sn3007/FootballPassPrediction/downloads/SoccerPass/SoccerPass-COCO/images/val/image_snjv_211.png: 640x1088 15 Players, 1 Football, 56.9ms\n",
      "Speed: 4.8ms preprocess, 56.9ms inference, 1.7ms postprocess per image at shape (1, 3, 1088, 1088)\n",
      "\n",
      "image 1/1 /home/sn3007/FootballPassPrediction/downloads/SoccerPass/SoccerPass-COCO/images/val/image_vics_1434.png: 640x1088 15 Players, 1 Football, 58.3ms\n",
      "Speed: 5.9ms preprocess, 58.3ms inference, 1.8ms postprocess per image at shape (1, 3, 1088, 1088)\n",
      "\n",
      "image 1/1 /home/sn3007/FootballPassPrediction/downloads/SoccerPass/SoccerPass-COCO/images/val/image_vics_1383.png: 640x1088 14 Players, 1 Football, 56.0ms\n",
      "Speed: 5.9ms preprocess, 56.0ms inference, 2.1ms postprocess per image at shape (1, 3, 1088, 1088)\n"
     ]
    },
    {
     "name": "stderr",
     "output_type": "stream",
     "text": [
      "\n",
      "image 1/1 /home/sn3007/FootballPassPrediction/downloads/SoccerPass/SoccerPass-COCO/images/val/image_snjv_302.png: 640x1088 16 Players, 1 Football, 56.2ms\n",
      "Speed: 6.2ms preprocess, 56.2ms inference, 1.9ms postprocess per image at shape (1, 3, 1088, 1088)\n",
      "\n",
      "image 1/1 /home/sn3007/FootballPassPrediction/downloads/SoccerPass/SoccerPass-COCO/images/val/image_snjv_271.png: 640x1088 22 Players, 1 Football, 56.7ms\n",
      "Speed: 6.3ms preprocess, 56.7ms inference, 1.7ms postprocess per image at shape (1, 3, 1088, 1088)\n",
      "\n",
      "image 1/1 /home/sn3007/FootballPassPrediction/downloads/SoccerPass/SoccerPass-COCO/images/val/image_prtl_1096.png: 640x1088 15 Players, 1 Football, 56.4ms\n",
      "Speed: 6.4ms preprocess, 56.4ms inference, 1.9ms postprocess per image at shape (1, 3, 1088, 1088)\n",
      "\n",
      "image 1/1 /home/sn3007/FootballPassPrediction/downloads/SoccerPass/SoccerPass-COCO/images/val/image_snjv_456.png: 640x1088 20 Players, 1 Football, 56.5ms\n",
      "Speed: 6.5ms preprocess, 56.5ms inference, 2.0ms postprocess per image at shape (1, 3, 1088, 1088)\n",
      "\n",
      "image 1/1 /home/sn3007/FootballPassPrediction/downloads/SoccerPass/SoccerPass-COCO/images/val/image_vimp_657.png: 640x1088 9 Players, 1 Football, 55.8ms\n",
      "Speed: 6.2ms preprocess, 55.8ms inference, 1.6ms postprocess per image at shape (1, 3, 1088, 1088)\n",
      "\n",
      "image 1/1 /home/sn3007/FootballPassPrediction/downloads/SoccerPass/SoccerPass-COCO/images/val/image_viml_732.png: 640x1088 14 Players, 1 Football, 56.2ms\n",
      "Speed: 6.7ms preprocess, 56.2ms inference, 1.8ms postprocess per image at shape (1, 3, 1088, 1088)\n",
      "\n",
      "image 1/1 /home/sn3007/FootballPassPrediction/downloads/SoccerPass/SoccerPass-COCO/images/val/image_snjv_122.png: 640x1088 19 Players, 1 Football, 56.0ms\n",
      "Speed: 6.1ms preprocess, 56.0ms inference, 1.6ms postprocess per image at shape (1, 3, 1088, 1088)\n",
      "\n",
      "image 1/1 /home/sn3007/FootballPassPrediction/downloads/SoccerPass/SoccerPass-COCO/images/val/image_snjv_346.png: 640x1088 20 Players, 54.6ms\n",
      "Speed: 6.1ms preprocess, 54.6ms inference, 1.5ms postprocess per image at shape (1, 3, 1088, 1088)\n",
      "\n",
      "image 1/1 /home/sn3007/FootballPassPrediction/downloads/SoccerPass/SoccerPass-COCO/images/val/image_vimp_575.png: 640x1088 16 Players, 1 Football, 56.1ms\n",
      "Speed: 5.8ms preprocess, 56.1ms inference, 1.6ms postprocess per image at shape (1, 3, 1088, 1088)\n",
      "\n",
      "image 1/1 /home/sn3007/FootballPassPrediction/downloads/SoccerPass/SoccerPass-COCO/images/val/image_snjv_315.png: 640x1088 18 Players, 1 Football, 56.4ms\n",
      "Speed: 5.7ms preprocess, 56.4ms inference, 1.4ms postprocess per image at shape (1, 3, 1088, 1088)\n",
      "\n",
      "image 1/1 /home/sn3007/FootballPassPrediction/downloads/SoccerPass/SoccerPass-COCO/images/val/image_snjv_270.png: 640x1088 21 Players, 1 Football, 56.1ms\n",
      "Speed: 5.5ms preprocess, 56.1ms inference, 1.4ms postprocess per image at shape (1, 3, 1088, 1088)\n",
      "\n",
      "image 1/1 /home/sn3007/FootballPassPrediction/downloads/SoccerPass/SoccerPass-COCO/images/val/image_snjv_26.png: 640x1088 16 Players, 54.6ms\n",
      "Speed: 5.5ms preprocess, 54.6ms inference, 1.9ms postprocess per image at shape (1, 3, 1088, 1088)\n"
     ]
    },
    {
     "data": {
      "text/plain": [
       "207"
      ]
     },
     "execution_count": 5,
     "metadata": {},
     "output_type": "execute_result"
    }
   ],
   "source": [
    "# Object Detection \n",
    "import torch\n",
    "from ultralytics import YOLO\n",
    "\n",
    "\n",
    "# Build and load model (Yolov8l without pretraining, 1080 resolution)\n",
    "Yolov8Detector = YOLO('runs/YOLOv8/yolov8l_soccerpass_fixed_res_1080_nopretrain/weights/best.pt')\n",
    "\n",
    "device = 0 #0,1,2=cuda device 0,1,2 else 'cpu'\n",
    "\n",
    "#Pass Data obtain Predictions\n",
    "results = []\n",
    "for i in range(len(IMAGE_FILENAMES)):\n",
    "    r = Yolov8Detector.predict(source=IMAGE_FILENAMES[i], device=device)\n",
    "    results += r\n",
    "len(results)"
   ]
  },
  {
   "cell_type": "code",
   "execution_count": 6,
   "metadata": {},
   "outputs": [
    {
     "data": {
      "text/html": [
       "<div>\n",
       "<style scoped>\n",
       "    .dataframe tbody tr th:only-of-type {\n",
       "        vertical-align: middle;\n",
       "    }\n",
       "\n",
       "    .dataframe tbody tr th {\n",
       "        vertical-align: top;\n",
       "    }\n",
       "\n",
       "    .dataframe thead th {\n",
       "        text-align: right;\n",
       "    }\n",
       "</style>\n",
       "<table border=\"1\" class=\"dataframe\">\n",
       "  <thead>\n",
       "    <tr style=\"text-align: right;\">\n",
       "      <th></th>\n",
       "      <th>class</th>\n",
       "      <th>x</th>\n",
       "      <th>y</th>\n",
       "      <th>w</th>\n",
       "      <th>h</th>\n",
       "      <th>image_name</th>\n",
       "      <th>OID</th>\n",
       "    </tr>\n",
       "  </thead>\n",
       "  <tbody>\n",
       "    <tr>\n",
       "      <th>0</th>\n",
       "      <td>0</td>\n",
       "      <td>0.205118</td>\n",
       "      <td>0.705206</td>\n",
       "      <td>0.049804</td>\n",
       "      <td>0.151780</td>\n",
       "      <td>image_snjv_31.png</td>\n",
       "      <td>1</td>\n",
       "    </tr>\n",
       "    <tr>\n",
       "      <th>1</th>\n",
       "      <td>0</td>\n",
       "      <td>0.812973</td>\n",
       "      <td>0.379201</td>\n",
       "      <td>0.027491</td>\n",
       "      <td>0.109707</td>\n",
       "      <td>image_snjv_31.png</td>\n",
       "      <td>2</td>\n",
       "    </tr>\n",
       "    <tr>\n",
       "      <th>2</th>\n",
       "      <td>0</td>\n",
       "      <td>0.561093</td>\n",
       "      <td>0.598562</td>\n",
       "      <td>0.047636</td>\n",
       "      <td>0.124644</td>\n",
       "      <td>image_snjv_31.png</td>\n",
       "      <td>3</td>\n",
       "    </tr>\n",
       "    <tr>\n",
       "      <th>3</th>\n",
       "      <td>0</td>\n",
       "      <td>0.744281</td>\n",
       "      <td>0.913392</td>\n",
       "      <td>0.049667</td>\n",
       "      <td>0.170521</td>\n",
       "      <td>image_snjv_31.png</td>\n",
       "      <td>4</td>\n",
       "    </tr>\n",
       "    <tr>\n",
       "      <th>4</th>\n",
       "      <td>0</td>\n",
       "      <td>0.563893</td>\n",
       "      <td>0.410553</td>\n",
       "      <td>0.023120</td>\n",
       "      <td>0.113618</td>\n",
       "      <td>image_snjv_31.png</td>\n",
       "      <td>5</td>\n",
       "    </tr>\n",
       "    <tr>\n",
       "      <th>...</th>\n",
       "      <td>...</td>\n",
       "      <td>...</td>\n",
       "      <td>...</td>\n",
       "      <td>...</td>\n",
       "      <td>...</td>\n",
       "      <td>...</td>\n",
       "      <td>...</td>\n",
       "    </tr>\n",
       "    <tr>\n",
       "      <th>3363</th>\n",
       "      <td>0</td>\n",
       "      <td>0.168206</td>\n",
       "      <td>0.409499</td>\n",
       "      <td>0.024705</td>\n",
       "      <td>0.087617</td>\n",
       "      <td>image_snjv_26.png</td>\n",
       "      <td>12</td>\n",
       "    </tr>\n",
       "    <tr>\n",
       "      <th>3364</th>\n",
       "      <td>0</td>\n",
       "      <td>0.567300</td>\n",
       "      <td>0.332049</td>\n",
       "      <td>0.014766</td>\n",
       "      <td>0.074426</td>\n",
       "      <td>image_snjv_26.png</td>\n",
       "      <td>13</td>\n",
       "    </tr>\n",
       "    <tr>\n",
       "      <th>3365</th>\n",
       "      <td>0</td>\n",
       "      <td>0.550931</td>\n",
       "      <td>0.416630</td>\n",
       "      <td>0.016643</td>\n",
       "      <td>0.090706</td>\n",
       "      <td>image_snjv_26.png</td>\n",
       "      <td>14</td>\n",
       "    </tr>\n",
       "    <tr>\n",
       "      <th>3366</th>\n",
       "      <td>0</td>\n",
       "      <td>0.166430</td>\n",
       "      <td>0.322427</td>\n",
       "      <td>0.020103</td>\n",
       "      <td>0.068800</td>\n",
       "      <td>image_snjv_26.png</td>\n",
       "      <td>15</td>\n",
       "    </tr>\n",
       "    <tr>\n",
       "      <th>3367</th>\n",
       "      <td>0</td>\n",
       "      <td>0.421792</td>\n",
       "      <td>0.292552</td>\n",
       "      <td>0.016629</td>\n",
       "      <td>0.059610</td>\n",
       "      <td>image_snjv_26.png</td>\n",
       "      <td>16</td>\n",
       "    </tr>\n",
       "  </tbody>\n",
       "</table>\n",
       "<p>3368 rows × 7 columns</p>\n",
       "</div>"
      ],
      "text/plain": [
       "      class         x         y         w         h         image_name  OID\n",
       "0         0  0.205118  0.705206  0.049804  0.151780  image_snjv_31.png    1\n",
       "1         0  0.812973  0.379201  0.027491  0.109707  image_snjv_31.png    2\n",
       "2         0  0.561093  0.598562  0.047636  0.124644  image_snjv_31.png    3\n",
       "3         0  0.744281  0.913392  0.049667  0.170521  image_snjv_31.png    4\n",
       "4         0  0.563893  0.410553  0.023120  0.113618  image_snjv_31.png    5\n",
       "...     ...       ...       ...       ...       ...                ...  ...\n",
       "3363      0  0.168206  0.409499  0.024705  0.087617  image_snjv_26.png   12\n",
       "3364      0  0.567300  0.332049  0.014766  0.074426  image_snjv_26.png   13\n",
       "3365      0  0.550931  0.416630  0.016643  0.090706  image_snjv_26.png   14\n",
       "3366      0  0.166430  0.322427  0.020103  0.068800  image_snjv_26.png   15\n",
       "3367      0  0.421792  0.292552  0.016629  0.059610  image_snjv_26.png   16\n",
       "\n",
       "[3368 rows x 7 columns]"
      ]
     },
     "execution_count": 6,
     "metadata": {},
     "output_type": "execute_result"
    }
   ],
   "source": [
    "# Create dataframe from object detection predictions\n",
    "detect_df = [['class', 'x', 'y', 'w', 'h', 'image_name', 'OID']] #Headers\n",
    "\n",
    "for res in results: #Iterate results of prediction\n",
    "    max_ball_conf = 0.\n",
    "    max_ball_conf_row = None\n",
    "    for i, box in enumerate(res.boxes):\n",
    "        oid = i+1\n",
    "        coords = box.xywhn.detach().cpu()\n",
    "        cls = box.cls.detach().cpu()\n",
    "        cls = int(cls.data[0])\n",
    "        conf = box.conf.detach().cpu()\n",
    "        conf = float(conf.data[0])\n",
    "        if cls == 1 and conf > max_ball_conf: #Get max conf ball out of all ball predictions for image\n",
    "            max_ball_conf = conf\n",
    "            max_ball_conf_row = [cls ,coords[0][0].item(), coords[0][1].item(), coords[0][2].item(), coords[0][3].item(), os.path.split(res.path)[1], oid]\n",
    "        elif cls == 0: #For player, just directly add the prediction\n",
    "            row = [cls ,coords[0][0].item(), coords[0][1].item(), coords[0][2].item(), coords[0][3].item(), os.path.split(res.path)[1], oid]\n",
    "            detect_df.append(row)\n",
    "    if max_ball_conf_row is not None:\n",
    "        detect_df.append(max_ball_conf_row)\n",
    "        \n",
    "headers = detect_df.pop(0)\n",
    "detect_df = pd.DataFrame(detect_df, columns=headers) #Convert to df\n",
    "detect_df"
   ]
  },
  {
   "cell_type": "markdown",
   "metadata": {},
   "source": [
    "## 1.2 Hungarian Matching\n",
    "\n",
    "We use the hungarian algorithm with distance cost to match the predicted yolo outputs and the associated labels in the dataframe. The predictions are column wise appended as the pred_x, pred_y,pred_h,pred_w columns."
   ]
  },
  {
   "cell_type": "code",
   "execution_count": 7,
   "metadata": {},
   "outputs": [
    {
     "data": {
      "text/html": [
       "<div>\n",
       "<style scoped>\n",
       "    .dataframe tbody tr th:only-of-type {\n",
       "        vertical-align: middle;\n",
       "    }\n",
       "\n",
       "    .dataframe tbody tr th {\n",
       "        vertical-align: top;\n",
       "    }\n",
       "\n",
       "    .dataframe thead th {\n",
       "        text-align: right;\n",
       "    }\n",
       "</style>\n",
       "<table border=\"1\" class=\"dataframe\">\n",
       "  <thead>\n",
       "    <tr style=\"text-align: right;\">\n",
       "      <th></th>\n",
       "      <th>class</th>\n",
       "      <th>Ball_Possesion</th>\n",
       "      <th>Ball_Reciever</th>\n",
       "      <th>team</th>\n",
       "      <th>x</th>\n",
       "      <th>y</th>\n",
       "      <th>w</th>\n",
       "      <th>h</th>\n",
       "      <th>image_name</th>\n",
       "      <th>OID</th>\n",
       "      <th>pred_class</th>\n",
       "      <th>pred_x</th>\n",
       "      <th>pred_y</th>\n",
       "      <th>pred_w</th>\n",
       "      <th>pred_h</th>\n",
       "    </tr>\n",
       "  </thead>\n",
       "  <tbody>\n",
       "    <tr>\n",
       "      <th>0</th>\n",
       "      <td>0</td>\n",
       "      <td>0</td>\n",
       "      <td>0</td>\n",
       "      <td>0</td>\n",
       "      <td>0.015625</td>\n",
       "      <td>0.318056</td>\n",
       "      <td>0.031250</td>\n",
       "      <td>0.105556</td>\n",
       "      <td>image_vics_1344.png</td>\n",
       "      <td>1</td>\n",
       "      <td>0.0</td>\n",
       "      <td>0.015327</td>\n",
       "      <td>0.318150</td>\n",
       "      <td>0.030654</td>\n",
       "      <td>0.105568</td>\n",
       "    </tr>\n",
       "    <tr>\n",
       "      <th>1</th>\n",
       "      <td>0</td>\n",
       "      <td>1</td>\n",
       "      <td>0</td>\n",
       "      <td>1</td>\n",
       "      <td>0.361719</td>\n",
       "      <td>0.486111</td>\n",
       "      <td>0.034375</td>\n",
       "      <td>0.116667</td>\n",
       "      <td>image_vics_1344.png</td>\n",
       "      <td>2</td>\n",
       "      <td>0.0</td>\n",
       "      <td>0.366168</td>\n",
       "      <td>0.484811</td>\n",
       "      <td>0.047190</td>\n",
       "      <td>0.118679</td>\n",
       "    </tr>\n",
       "    <tr>\n",
       "      <th>2</th>\n",
       "      <td>0</td>\n",
       "      <td>0</td>\n",
       "      <td>0</td>\n",
       "      <td>0</td>\n",
       "      <td>0.331250</td>\n",
       "      <td>0.461111</td>\n",
       "      <td>0.034375</td>\n",
       "      <td>0.123611</td>\n",
       "      <td>image_vics_1344.png</td>\n",
       "      <td>3</td>\n",
       "      <td>0.0</td>\n",
       "      <td>0.331753</td>\n",
       "      <td>0.462112</td>\n",
       "      <td>0.035968</td>\n",
       "      <td>0.124128</td>\n",
       "    </tr>\n",
       "    <tr>\n",
       "      <th>3</th>\n",
       "      <td>1</td>\n",
       "      <td>NaN</td>\n",
       "      <td>NaN</td>\n",
       "      <td>NaN</td>\n",
       "      <td>0.407031</td>\n",
       "      <td>0.490278</td>\n",
       "      <td>0.010156</td>\n",
       "      <td>0.019444</td>\n",
       "      <td>image_vics_1344.png</td>\n",
       "      <td>4</td>\n",
       "      <td>1.0</td>\n",
       "      <td>0.407853</td>\n",
       "      <td>0.490848</td>\n",
       "      <td>0.010881</td>\n",
       "      <td>0.020293</td>\n",
       "    </tr>\n",
       "    <tr>\n",
       "      <th>4</th>\n",
       "      <td>0</td>\n",
       "      <td>0</td>\n",
       "      <td>0</td>\n",
       "      <td>0</td>\n",
       "      <td>0.514062</td>\n",
       "      <td>0.237500</td>\n",
       "      <td>0.014844</td>\n",
       "      <td>0.075000</td>\n",
       "      <td>image_vics_1344.png</td>\n",
       "      <td>5</td>\n",
       "      <td>0.0</td>\n",
       "      <td>0.514831</td>\n",
       "      <td>0.238202</td>\n",
       "      <td>0.015551</td>\n",
       "      <td>0.073689</td>\n",
       "    </tr>\n",
       "    <tr>\n",
       "      <th>...</th>\n",
       "      <td>...</td>\n",
       "      <td>...</td>\n",
       "      <td>...</td>\n",
       "      <td>...</td>\n",
       "      <td>...</td>\n",
       "      <td>...</td>\n",
       "      <td>...</td>\n",
       "      <td>...</td>\n",
       "      <td>...</td>\n",
       "      <td>...</td>\n",
       "      <td>...</td>\n",
       "      <td>...</td>\n",
       "      <td>...</td>\n",
       "      <td>...</td>\n",
       "      <td>...</td>\n",
       "    </tr>\n",
       "    <tr>\n",
       "      <th>3306</th>\n",
       "      <td>0</td>\n",
       "      <td>0</td>\n",
       "      <td>0</td>\n",
       "      <td>0</td>\n",
       "      <td>0.327344</td>\n",
       "      <td>0.430556</td>\n",
       "      <td>0.022656</td>\n",
       "      <td>0.090278</td>\n",
       "      <td>image_vimp_678.png</td>\n",
       "      <td>11</td>\n",
       "      <td>0.0</td>\n",
       "      <td>0.327721</td>\n",
       "      <td>0.433267</td>\n",
       "      <td>0.021583</td>\n",
       "      <td>0.097270</td>\n",
       "    </tr>\n",
       "    <tr>\n",
       "      <th>3307</th>\n",
       "      <td>0</td>\n",
       "      <td>0</td>\n",
       "      <td>0</td>\n",
       "      <td>2</td>\n",
       "      <td>0.800000</td>\n",
       "      <td>0.409722</td>\n",
       "      <td>0.021875</td>\n",
       "      <td>0.109722</td>\n",
       "      <td>image_vimp_678.png</td>\n",
       "      <td>12</td>\n",
       "      <td>0.0</td>\n",
       "      <td>0.799344</td>\n",
       "      <td>0.411012</td>\n",
       "      <td>0.022984</td>\n",
       "      <td>0.109050</td>\n",
       "    </tr>\n",
       "    <tr>\n",
       "      <th>3308</th>\n",
       "      <td>0</td>\n",
       "      <td>0</td>\n",
       "      <td>0</td>\n",
       "      <td>0</td>\n",
       "      <td>0.885156</td>\n",
       "      <td>0.309722</td>\n",
       "      <td>0.017188</td>\n",
       "      <td>0.084722</td>\n",
       "      <td>image_vimp_678.png</td>\n",
       "      <td>13</td>\n",
       "      <td>0.0</td>\n",
       "      <td>0.885345</td>\n",
       "      <td>0.309862</td>\n",
       "      <td>0.017325</td>\n",
       "      <td>0.086714</td>\n",
       "    </tr>\n",
       "    <tr>\n",
       "      <th>3309</th>\n",
       "      <td>0</td>\n",
       "      <td>0</td>\n",
       "      <td>0</td>\n",
       "      <td>1</td>\n",
       "      <td>0.792969</td>\n",
       "      <td>0.331944</td>\n",
       "      <td>0.017969</td>\n",
       "      <td>0.088889</td>\n",
       "      <td>image_vimp_678.png</td>\n",
       "      <td>14</td>\n",
       "      <td>0.0</td>\n",
       "      <td>0.792633</td>\n",
       "      <td>0.332272</td>\n",
       "      <td>0.017939</td>\n",
       "      <td>0.091417</td>\n",
       "    </tr>\n",
       "    <tr>\n",
       "      <th>3310</th>\n",
       "      <td>1</td>\n",
       "      <td>NaN</td>\n",
       "      <td>NaN</td>\n",
       "      <td>NaN</td>\n",
       "      <td>0.283047</td>\n",
       "      <td>0.615972</td>\n",
       "      <td>0.012344</td>\n",
       "      <td>0.020833</td>\n",
       "      <td>image_vimp_678.png</td>\n",
       "      <td>15</td>\n",
       "      <td>1.0</td>\n",
       "      <td>0.283931</td>\n",
       "      <td>0.616607</td>\n",
       "      <td>0.011117</td>\n",
       "      <td>0.019987</td>\n",
       "    </tr>\n",
       "  </tbody>\n",
       "</table>\n",
       "<p>3311 rows × 15 columns</p>\n",
       "</div>"
      ],
      "text/plain": [
       "      class Ball_Possesion Ball_Reciever team         x         y         w  \\\n",
       "0         0              0             0    0  0.015625  0.318056  0.031250   \n",
       "1         0              1             0    1  0.361719  0.486111  0.034375   \n",
       "2         0              0             0    0  0.331250  0.461111  0.034375   \n",
       "3         1            NaN           NaN  NaN  0.407031  0.490278  0.010156   \n",
       "4         0              0             0    0  0.514062  0.237500  0.014844   \n",
       "...     ...            ...           ...  ...       ...       ...       ...   \n",
       "3306      0              0             0    0  0.327344  0.430556  0.022656   \n",
       "3307      0              0             0    2  0.800000  0.409722  0.021875   \n",
       "3308      0              0             0    0  0.885156  0.309722  0.017188   \n",
       "3309      0              0             0    1  0.792969  0.331944  0.017969   \n",
       "3310      1            NaN           NaN  NaN  0.283047  0.615972  0.012344   \n",
       "\n",
       "             h           image_name  OID  pred_class    pred_x    pred_y  \\\n",
       "0     0.105556  image_vics_1344.png    1         0.0  0.015327  0.318150   \n",
       "1     0.116667  image_vics_1344.png    2         0.0  0.366168  0.484811   \n",
       "2     0.123611  image_vics_1344.png    3         0.0  0.331753  0.462112   \n",
       "3     0.019444  image_vics_1344.png    4         1.0  0.407853  0.490848   \n",
       "4     0.075000  image_vics_1344.png    5         0.0  0.514831  0.238202   \n",
       "...        ...                  ...  ...         ...       ...       ...   \n",
       "3306  0.090278   image_vimp_678.png   11         0.0  0.327721  0.433267   \n",
       "3307  0.109722   image_vimp_678.png   12         0.0  0.799344  0.411012   \n",
       "3308  0.084722   image_vimp_678.png   13         0.0  0.885345  0.309862   \n",
       "3309  0.088889   image_vimp_678.png   14         0.0  0.792633  0.332272   \n",
       "3310  0.020833   image_vimp_678.png   15         1.0  0.283931  0.616607   \n",
       "\n",
       "        pred_w    pred_h  \n",
       "0     0.030654  0.105568  \n",
       "1     0.047190  0.118679  \n",
       "2     0.035968  0.124128  \n",
       "3     0.010881  0.020293  \n",
       "4     0.015551  0.073689  \n",
       "...        ...       ...  \n",
       "3306  0.021583  0.097270  \n",
       "3307  0.022984  0.109050  \n",
       "3308  0.017325  0.086714  \n",
       "3309  0.017939  0.091417  \n",
       "3310  0.011117  0.019987  \n",
       "\n",
       "[3311 rows x 15 columns]"
      ]
     },
     "metadata": {},
     "output_type": "display_data"
    }
   ],
   "source": [
    "# Hungarian Matching between predicted boxes df and labels df. Will only be used for eval (inference doesnt need label)\n",
    "import numpy as np\n",
    "from scipy.optimize import linear_sum_assignment\n",
    "from sklearn.metrics.pairwise import euclidean_distances\n",
    "\n",
    "pd.set_option('mode.chained_assignment', None)\n",
    "\n",
    "# select the common image names between the two DataFrames\n",
    "common_image_names = set(label_df['image_name']).intersection(set(detect_df['image_name']))\n",
    "\n",
    "# loop through each common image name and perform the matching\n",
    "for image_name in common_image_names:\n",
    "    # select the relevant rows from each DataFrame based on the image name\n",
    "    labels_image = label_df[label_df['image_name'] == image_name]\n",
    "    pred_image = detect_df[detect_df['image_name'] == image_name]\n",
    "    \n",
    "    # calculate the centroids of the labels objects\n",
    "    labels_image['x_center'] = labels_image['x']\n",
    "    labels_image['y_center'] = labels_image['y']\n",
    "    labels_centroids = labels_image.loc[:, ['x_center', 'y_center']].values\n",
    "    \n",
    "    # get the centroids of the predicted objects\n",
    "    pred_centroids = pred_image.loc[:, ['x', 'y']].values\n",
    "    \n",
    "    # calculate the pairwise Euclidean distances between the centroids\n",
    "    distances = euclidean_distances(labels_centroids, pred_centroids)\n",
    "    \n",
    "    # use the Hungarian algorithm to find the optimal assignment of labels to preds\n",
    "    row_ind, col_ind = linear_sum_assignment(distances)\n",
    "    \n",
    "    # loop through each assignment and append the predicted class, x, y, w, and h to the labels_df\n",
    "    for i, j in zip(row_ind, col_ind):\n",
    "        label_index = labels_image.index[i]\n",
    "        pred_index = pred_image.index[j]\n",
    "        label_df.loc[label_index, 'pred_class'] = detect_df.loc[pred_index, 'class']\n",
    "        label_df.loc[label_index, 'pred_x'] = detect_df.loc[pred_index, 'x']\n",
    "        label_df.loc[label_index, 'pred_y'] = detect_df.loc[pred_index, 'y']\n",
    "        label_df.loc[label_index, 'pred_w'] = detect_df.loc[pred_index, 'w']\n",
    "        label_df.loc[label_index, 'pred_h'] = detect_df.loc[pred_index, 'h']\n",
    "        \n",
    "display(label_df)"
   ]
  },
  {
   "cell_type": "markdown",
   "metadata": {
    "id": "8UGeYHwLjvMG"
   },
   "source": [
    "# 2. Team Identification\n",
    "\n",
    "We cluster the crops of player images to obtain the team/group values"
   ]
  },
  {
   "cell_type": "code",
   "execution_count": 8,
   "metadata": {},
   "outputs": [],
   "source": [
    "import numpy as np\n",
    "from clustimage import Clustimage\n",
    "from matplotlib import image\n",
    "import matplotlib.pyplot as plt\n",
    "from collections import Counter\n",
    "import cv2"
   ]
  },
  {
   "cell_type": "code",
   "execution_count": 9,
   "metadata": {},
   "outputs": [],
   "source": [
    "def calc_acc(pred_labels, true_labels):\n",
    "#     print(pred_labels, true_labels)\n",
    "    n = len(true_labels)\n",
    "    count=0\n",
    "    for ix in range(n):\n",
    "        if((true_labels is None) or (pred_labels is None)) :\n",
    "            continue\n",
    "        elif (true_labels[ix]==pred_labels[ix]):\n",
    "            count+=1\n",
    "  \n",
    "    return count/n"
   ]
  },
  {
   "cell_type": "markdown",
   "metadata": {},
   "source": [
    "## 2.1 Pre-Processing crop\n",
    "\n",
    "We crop the bounding box from the image and \n",
    "the cropped_image containing the player is then passed through Filter to smoothen the colours."
   ]
  },
  {
   "cell_type": "code",
   "execution_count": null,
   "metadata": {},
   "outputs": [],
   "source": [
    "def pre_process_crop(image, bbox):\n",
    "    H = image.shape[0]\n",
    "    W = image.shape[1]\n",
    "\n",
    "    x = int(bbox[0]*W)\n",
    "    y = int(bbox[1]*H)\n",
    "    w = int(bbox[2]*W)\n",
    "    h = int(bbox[3]*H)\n",
    "    \n",
    "    #Extracting Crop from given image with bbox specs\n",
    "    crop = image[y:y+h, x:x+w]\n",
    "    crop = cv2.resize(crop, (20,40))\n",
    "\n",
    "    #Applying filters to the crop\n",
    "    crop = cv2.medianBlur(crop,3)\n",
    "    crop = cv2.bilateralFilter(crop,5,30,30)\n",
    "    \n",
    "    return crop"
   ]
  },
  {
   "cell_type": "markdown",
   "metadata": {},
   "source": [
    "## 2.2 Matching Cluster to Labels\n",
    "\n",
    "The cluster ids are then matched with the team labels using highest frequency\n",
    "to assign the best matching team values to each cluster."
   ]
  },
  {
   "cell_type": "code",
   "execution_count": 11,
   "metadata": {},
   "outputs": [],
   "source": [
    "def formatPred(pred):\n",
    "    y = np.unique(pred, return_counts=True)\n",
    "    z = sorted(zip(y[1], y[0]), reverse=True)\n",
    "    res = pred.copy()\n",
    "    i=0\n",
    "    \n",
    "    for tup in z:\n",
    "        idx_list = np.where(pred == tup[1])[0]\n",
    "\n",
    "    # print(tup, idx_list)\n",
    "        for idx in idx_list:\n",
    "            res[idx] = i\n",
    "        i+=1\n",
    "    \n",
    "    b = []\n",
    "    for ele in res:\n",
    "        if ele == 0:\n",
    "            b.append(1)\n",
    "        elif ele == 1:\n",
    "            b.append(0)\n",
    "        else:\n",
    "            b.append(ele)\n",
    "#     b =  np.array(b)   \n",
    "#     print('res: {}, b:{}'.format(res,b))\n",
    "    fin = [res, b]\n",
    "\n",
    "    return fin"
   ]
  },
  {
   "cell_type": "code",
   "execution_count": 12,
   "metadata": {},
   "outputs": [],
   "source": [
    "paths = [IMAGE_PATH]"
   ]
  },
  {
   "cell_type": "markdown",
   "metadata": {},
   "source": [
    "## 2.3 Clustering\n",
    "\n",
    "We flatten the cropped and filtered \"player\" image and pass all such \"player\" arrays to a Agglomerative clustering algorithm that utilises PCA."
   ]
  },
  {
   "cell_type": "code",
   "execution_count": 13,
   "metadata": {},
   "outputs": [],
   "source": [
    "def cluster(yolo_df):\n",
    "    total_boxes = 0\n",
    "    total_misclassified = 0\n",
    "\n",
    "    groups = yolo_df.groupby(\"image_name\")\n",
    "\n",
    "\n",
    "  # loop through each group and apply the code snippet to each image\n",
    "    for image_name, group in groups:\n",
    "        image_path = None\n",
    "        for path in paths:\n",
    "            temp_path = os.path.join(path, image_name)\n",
    "            if os.path.exists(temp_path):\n",
    "                image_path = temp_path\n",
    "                break\n",
    "\n",
    "        if image_path is None:\n",
    "            raise ValueError(f\"Image file not found: {image_name}\")\n",
    "\n",
    "        img = image.imread(image_path)\n",
    "\n",
    "        players_info = group[group['class'] == 0.0]\n",
    "      \n",
    "        true_labels = np.array(players_info['team'].tolist(), dtype=np.int32)\n",
    "        num_cats = len(pd.unique(players_info['team'])) \n",
    "\n",
    "        player_boxes = []\n",
    "\n",
    "        for index, row in players_info.iterrows():\n",
    "            if(row['pred_class'] == 0.0):\n",
    "                bbox = [row['pred_x']-(row['pred_w']/2), row['pred_y']-(row['pred_h']/2), row['pred_w'], row['pred_h']]\n",
    "                crop = pre_process_crop(img, bbox)\n",
    "                player_boxes.append(crop)  \n",
    "            else:\n",
    "                continue\n",
    "                \n",
    "        player_boxes_reshaped = np.array(player_boxes).reshape(len(player_boxes),-1)\n",
    "        player_boxes_reshaped = player_boxes_reshaped/255.0\n",
    "\n",
    "        cl = Clustimage(method='pca',\n",
    "                    embedding='tsne',\n",
    "                    grayscale=False,\n",
    "                    dim=(20,40),\n",
    "                    params_pca={'n_components':0.95},\n",
    "                    verbose=60)\n",
    "\n",
    "        results = cl.fit_transform(player_boxes_reshaped,\n",
    "                                cluster='agglomerative',\n",
    "                                evaluate='silhouette',\n",
    "                                metric='euclidean',\n",
    "                                linkage='ward',\n",
    "                                min_clust=num_cats,\n",
    "                                max_clust=num_cats,\n",
    "                                cluster_space='high')\n",
    "\n",
    "        pred_labels = list(results['labels'])\n",
    "        pred_class_list = players_info['pred_class'].tolist()\n",
    "        nan_idx = [i for i, elem in enumerate(pred_class_list) if math.isnan(elem)]\n",
    "        \n",
    "        res = formatPred(pred_labels)\n",
    "        if (len(nan_idx) > 0):\n",
    "            for idx in nan_idx:\n",
    "                res[0].insert(idx, None)\n",
    "                res[1].insert(idx, None)\n",
    "                \n",
    "        if (calc_acc(res[0], true_labels) > calc_acc(res[1], true_labels)):\n",
    "            acc = calc_acc(res[0], true_labels)\n",
    "            preds = res[0]\n",
    "        else:\n",
    "            acc = calc_acc(res[1], true_labels)\n",
    "            preds = res[1]\n",
    "\n",
    "        i = 0\n",
    "        preds = [x for x in preds if x is not None]\n",
    "        for index, row in players_info.iterrows():\n",
    "            if((row['pred_class']) != 0.0):\n",
    "                continue\n",
    "            \n",
    "            yolo_df.loc[index, 'pred_team'] = int(preds[i])\n",
    "            i+=1\n",
    "            \n",
    "        print(\"name: {}, preds: {}, total boxes in : {}\".format(image_name, preds, players_info.shape[0]))\n",
    "        total_boxes += players_info.shape[0]\n",
    "\n",
    "    print(\"total_boxes: {} ,  total_images: {}\".format(total_boxes, len(groups)))\n",
    "\n",
    "    return yolo_df"
   ]
  },
  {
   "cell_type": "code",
   "execution_count": 14,
   "metadata": {},
   "outputs": [
    {
     "name": "stdout",
     "output_type": "stream",
     "text": [
      "[pca] >Column labels are auto-completed.\n",
      "[pca] >The PCA reduction is performed to capture [95.0%] explained variance using the [2400] columns of the input data.\n",
      "[pca] >Fit using PCA.\n",
      "[pca] >Compute loadings and PCs.\n",
      "[pca] >Compute explained variance.\n",
      "[pca] >Number of components is [12] that covers the [95.00%] explained variance.\n",
      "[pca] >The PCA reduction is performed on the [2400] columns of the input dataframe.\n",
      "[pca] >Fit using PCA.\n",
      "[pca] >Compute loadings and PCs.\n"
     ]
    },
    {
     "name": "stderr",
     "output_type": "stream",
     "text": [
      "[clustimage] >INFO> Saving data in memory.\n",
      "[clustimage] >INFO> Fit with method=[agglomerative], metric=[euclidean], linkage=[ward]\n",
      "[clustimage] >INFO> Evaluate using silhouette.\n",
      "[clusteval] >INFO: 100%|█████████████████████████████████████████████████████████████████| 1/1 [00:00<00:00, 781.64it/s]\n",
      "[clustimage] >DEBUG> [[1 2 1 3 2 1 2 2 2 2 1 1 2 2 3 1 2 1]]\n",
      "[clustimage] >DEBUG> Iloc: [ True]\n",
      "[clustimage] >DEBUG> silscores: [     0.2905]\n",
      "[clustimage] >DEBUG> sillclust: [          3]\n",
      "[clustimage] >DEBUG> clustlabx: [[1 2 1 3 2 1 2 2 2 2 1 1 2 2 3 1 2 1]]\n",
      "[clustimage] >INFO> Compute dendrogram threshold.\n",
      "[clustimage] >INFO> Optimal number clusters detected: [3].\n",
      "[clustimage] >INFO> Fin.\n"
     ]
    },
    {
     "name": "stdout",
     "output_type": "stream",
     "text": [
      "name: image_prmw_1238.png, preds: [0, 1, 0, 2, 1, 0, 1, 1, 1, 1, 0, 0, 1, 1, 2, 0, 1, 0], total boxes in : 18\n",
      "[pca] >Column labels are auto-completed.\n",
      "[pca] >The PCA reduction is performed to capture [95.0%] explained variance using the [2400] columns of the input data.\n",
      "[pca] >Fit using PCA.\n",
      "[pca] >Compute loadings and PCs.\n",
      "[pca] >Compute explained variance.\n",
      "[pca] >Number of components is [7] that covers the [95.00%] explained variance.\n",
      "[pca] >The PCA reduction is performed on the [2400] columns of the input dataframe.\n",
      "[pca] >Fit using PCA.\n",
      "[pca] >Compute loadings and PCs.\n"
     ]
    },
    {
     "name": "stderr",
     "output_type": "stream",
     "text": [
      "[clustimage] >INFO> Saving data in memory.\n",
      "[clustimage] >INFO> Fit with method=[agglomerative], metric=[euclidean], linkage=[ward]\n",
      "[clustimage] >INFO> Evaluate using silhouette.\n",
      "[clusteval] >INFO: 100%|█████████████████████████████████████████████████████████████████| 1/1 [00:00<00:00, 776.58it/s]\n",
      "[clustimage] >DEBUG> [[1 1 2 1 2 2 1 1 2 1]]\n",
      "[clustimage] >DEBUG> Iloc: [ True]\n",
      "[clustimage] >DEBUG> silscores: [    0.36197]\n",
      "[clustimage] >DEBUG> sillclust: [          2]\n",
      "[clustimage] >DEBUG> clustlabx: [[1 1 2 1 2 2 1 1 2 1]]\n",
      "[clustimage] >INFO> Compute dendrogram threshold.\n",
      "[clustimage] >INFO> Optimal number clusters detected: [2].\n",
      "[clustimage] >INFO> Fin.\n"
     ]
    },
    {
     "name": "stdout",
     "output_type": "stream",
     "text": [
      "name: image_prmw_1240.png, preds: [1, 1, 0, 1, 0, 0, 1, 1, 0, 1], total boxes in : 10\n",
      "[pca] >Column labels are auto-completed.\n",
      "[pca] >The PCA reduction is performed to capture [95.0%] explained variance using the [2400] columns of the input data.\n",
      "[pca] >Fit using PCA.\n",
      "[pca] >Compute loadings and PCs.\n",
      "[pca] >Compute explained variance.\n",
      "[pca] >Number of components is [8] that covers the [95.00%] explained variance.\n",
      "[pca] >The PCA reduction is performed on the [2400] columns of the input dataframe.\n",
      "[pca] >Fit using PCA.\n",
      "[pca] >Compute loadings and PCs.\n"
     ]
    },
    {
     "name": "stderr",
     "output_type": "stream",
     "text": [
      "[clustimage] >INFO> Saving data in memory.\n",
      "[clustimage] >INFO> Fit with method=[agglomerative], metric=[euclidean], linkage=[ward]\n",
      "[clustimage] >INFO> Evaluate using silhouette.\n",
      "[clusteval] >INFO: 100%|█████████████████████████████████████████████████████████████████| 1/1 [00:00<00:00, 816.81it/s]\n",
      "[clustimage] >DEBUG> [[1 3 3 3 2 3 1 1 2 1 1]]\n",
      "[clustimage] >DEBUG> Iloc: [ True]\n",
      "[clustimage] >DEBUG> silscores: [    0.24878]\n",
      "[clustimage] >DEBUG> sillclust: [          3]\n",
      "[clustimage] >DEBUG> clustlabx: [[1 3 3 3 2 3 1 1 2 1 1]]\n",
      "[clustimage] >INFO> Compute dendrogram threshold.\n",
      "[clustimage] >INFO> Optimal number clusters detected: [3].\n",
      "[clustimage] >INFO> Fin.\n"
     ]
    },
    {
     "name": "stdout",
     "output_type": "stream",
     "text": [
      "name: image_prmw_1244.png, preds: [1, 0, 0, 0, 2, 0, 1, 1, 2, 1, 1], total boxes in : 11\n",
      "[pca] >Column labels are auto-completed.\n",
      "[pca] >The PCA reduction is performed to capture [95.0%] explained variance using the [2400] columns of the input data.\n",
      "[pca] >Fit using PCA.\n",
      "[pca] >Compute loadings and PCs.\n",
      "[pca] >Compute explained variance.\n",
      "[pca] >Number of components is [9] that covers the [95.00%] explained variance.\n",
      "[pca] >The PCA reduction is performed on the [2400] columns of the input dataframe.\n",
      "[pca] >Fit using PCA.\n",
      "[pca] >Compute loadings and PCs.\n"
     ]
    },
    {
     "name": "stderr",
     "output_type": "stream",
     "text": [
      "[clustimage] >INFO> Saving data in memory.\n",
      "[clustimage] >INFO> Fit with method=[agglomerative], metric=[euclidean], linkage=[ward]\n",
      "[clustimage] >INFO> Evaluate using silhouette.\n",
      "[clusteval] >INFO: 100%|█████████████████████████████████████████████████████████████████| 1/1 [00:00<00:00, 802.43it/s]\n",
      "[clustimage] >DEBUG> [[3 1 1 3 3 2 1 3 1 2 1 3]]\n",
      "[clustimage] >DEBUG> Iloc: [ True]\n",
      "[clustimage] >DEBUG> silscores: [    0.18712]\n",
      "[clustimage] >DEBUG> sillclust: [          3]\n",
      "[clustimage] >DEBUG> clustlabx: [[3 1 1 3 3 2 1 3 1 2 1 3]]\n",
      "[clustimage] >INFO> Compute dendrogram threshold.\n",
      "[clustimage] >INFO> Optimal number clusters detected: [3].\n",
      "[clustimage] >INFO> Fin.\n"
     ]
    },
    {
     "name": "stdout",
     "output_type": "stream",
     "text": [
      "name: image_prmw_1245.png, preds: [1, 0, 0, 1, 1, 2, 0, 1, 0, 2, 0, 1], total boxes in : 12\n",
      "[pca] >Column labels are auto-completed.\n",
      "[pca] >The PCA reduction is performed to capture [95.0%] explained variance using the [2400] columns of the input data.\n",
      "[pca] >Fit using PCA.\n",
      "[pca] >Compute loadings and PCs.\n",
      "[pca] >Compute explained variance.\n",
      "[pca] >Number of components is [12] that covers the [95.00%] explained variance.\n",
      "[pca] >The PCA reduction is performed on the [2400] columns of the input dataframe.\n",
      "[pca] >Fit using PCA.\n",
      "[pca] >Compute loadings and PCs.\n"
     ]
    },
    {
     "name": "stderr",
     "output_type": "stream",
     "text": [
      "[clustimage] >INFO> Saving data in memory.\n",
      "[clustimage] >INFO> Fit with method=[agglomerative], metric=[euclidean], linkage=[ward]\n",
      "[clustimage] >INFO> Evaluate using silhouette.\n",
      "[clusteval] >INFO: 100%|█████████████████████████████████████████████████████████████████| 1/1 [00:00<00:00, 763.85it/s]\n",
      "[clustimage] >DEBUG> [[1 2 2 2 2 1 1 2 1 1 2 1 1 1 1 1 3]]\n",
      "[clustimage] >DEBUG> Iloc: [ True]\n",
      "[clustimage] >DEBUG> silscores: [    0.28303]\n",
      "[clustimage] >DEBUG> sillclust: [          3]\n",
      "[clustimage] >DEBUG> clustlabx: [[1 2 2 2 2 1 1 2 1 1 2 1 1 1 1 1 3]]\n",
      "[clustimage] >INFO> Compute dendrogram threshold.\n",
      "[clustimage] >INFO> Optimal number clusters detected: [3].\n",
      "[clustimage] >INFO> Fin.\n"
     ]
    },
    {
     "name": "stdout",
     "output_type": "stream",
     "text": [
      "name: image_prmw_1257.png, preds: [1, 0, 0, 0, 0, 1, 1, 0, 1, 1, 0, 1, 1, 1, 1, 1, 2], total boxes in : 17\n",
      "[pca] >Column labels are auto-completed.\n",
      "[pca] >The PCA reduction is performed to capture [95.0%] explained variance using the [2400] columns of the input data.\n",
      "[pca] >Fit using PCA.\n",
      "[pca] >Compute loadings and PCs.\n",
      "[pca] >Compute explained variance.\n",
      "[pca] >Number of components is [8] that covers the [95.00%] explained variance.\n",
      "[pca] >The PCA reduction is performed on the [2400] columns of the input dataframe.\n",
      "[pca] >Fit using PCA.\n",
      "[pca] >Compute loadings and PCs.\n"
     ]
    },
    {
     "name": "stderr",
     "output_type": "stream",
     "text": [
      "[clustimage] >INFO> Saving data in memory.\n",
      "[clustimage] >INFO> Fit with method=[agglomerative], metric=[euclidean], linkage=[ward]\n",
      "[clustimage] >INFO> Evaluate using silhouette.\n",
      "[clusteval] >INFO: 100%|█████████████████████████████████████████████████████████████████| 1/1 [00:00<00:00, 852.67it/s]\n",
      "[clustimage] >DEBUG> [[2 1 3 1 1 1 2 2 1 3 1]]\n",
      "[clustimage] >DEBUG> Iloc: [ True]\n",
      "[clustimage] >DEBUG> silscores: [    0.32939]\n",
      "[clustimage] >DEBUG> sillclust: [          3]\n",
      "[clustimage] >DEBUG> clustlabx: [[2 1 3 1 1 1 2 2 1 3 1]]\n",
      "[clustimage] >INFO> Compute dendrogram threshold.\n",
      "[clustimage] >INFO> Optimal number clusters detected: [3].\n",
      "[clustimage] >INFO> Fin.\n"
     ]
    },
    {
     "name": "stdout",
     "output_type": "stream",
     "text": [
      "name: image_prmw_1269.png, preds: [1, 0, 2, 0, 0, 0, 1, 1, 0, 2, 0], total boxes in : 11\n",
      "[pca] >Column labels are auto-completed.\n",
      "[pca] >The PCA reduction is performed to capture [95.0%] explained variance using the [2400] columns of the input data.\n",
      "[pca] >Fit using PCA.\n",
      "[pca] >Compute loadings and PCs.\n",
      "[pca] >Compute explained variance.\n",
      "[pca] >Number of components is [10] that covers the [95.00%] explained variance.\n",
      "[pca] >The PCA reduction is performed on the [2400] columns of the input dataframe.\n",
      "[pca] >Fit using PCA.\n",
      "[pca] >Compute loadings and PCs.\n"
     ]
    },
    {
     "name": "stderr",
     "output_type": "stream",
     "text": [
      "[clustimage] >INFO> Saving data in memory.\n",
      "[clustimage] >INFO> Fit with method=[agglomerative], metric=[euclidean], linkage=[ward]\n",
      "[clustimage] >INFO> Evaluate using silhouette.\n",
      "[clusteval] >INFO: 100%|█████████████████████████████████████████████████████████████████| 1/1 [00:00<00:00, 829.90it/s]\n",
      "[clustimage] >DEBUG> [[1 3 2 3 3 1 2 1 1 1 3 3 1 2]]\n",
      "[clustimage] >DEBUG> Iloc: [ True]\n",
      "[clustimage] >DEBUG> silscores: [    0.28593]\n",
      "[clustimage] >DEBUG> sillclust: [          3]\n",
      "[clustimage] >DEBUG> clustlabx: [[1 3 2 3 3 1 2 1 1 1 3 3 1 2]]\n",
      "[clustimage] >INFO> Compute dendrogram threshold.\n",
      "[clustimage] >INFO> Optimal number clusters detected: [3].\n",
      "[clustimage] >INFO> Fin.\n"
     ]
    },
    {
     "name": "stdout",
     "output_type": "stream",
     "text": [
      "name: image_prmw_1273.png, preds: [0, 1, 2, 1, 1, 0, 2, 0, 0, 0, 1, 1, 0, 2], total boxes in : 14\n",
      "[pca] >Column labels are auto-completed.\n",
      "[pca] >The PCA reduction is performed to capture [95.0%] explained variance using the [2400] columns of the input data.\n",
      "[pca] >Fit using PCA.\n",
      "[pca] >Compute loadings and PCs.\n",
      "[pca] >Compute explained variance.\n",
      "[pca] >Number of components is [12] that covers the [95.00%] explained variance.\n",
      "[pca] >The PCA reduction is performed on the [2400] columns of the input dataframe.\n",
      "[pca] >Fit using PCA.\n",
      "[pca] >Compute loadings and PCs.\n"
     ]
    },
    {
     "name": "stderr",
     "output_type": "stream",
     "text": [
      "[clustimage] >INFO> Saving data in memory.\n",
      "[clustimage] >INFO> Fit with method=[agglomerative], metric=[euclidean], linkage=[ward]\n",
      "[clustimage] >INFO> Evaluate using silhouette.\n",
      "[clusteval] >INFO: 100%|█████████████████████████████████████████████████████████████████| 1/1 [00:00<00:00, 802.58it/s]\n",
      "[clustimage] >DEBUG> [[2 4 1 3 1 2 2 4 1 3 1 4 3 1 1 3 1]]\n",
      "[clustimage] >DEBUG> Iloc: [ True]\n",
      "[clustimage] >DEBUG> silscores: [    0.22857]\n",
      "[clustimage] >DEBUG> sillclust: [          4]\n",
      "[clustimage] >DEBUG> clustlabx: [[2 4 1 3 1 2 2 4 1 3 1 4 3 1 1 3 1]]\n",
      "[clustimage] >INFO> Compute dendrogram threshold.\n",
      "[clustimage] >INFO> Optimal number clusters detected: [4].\n",
      "[clustimage] >INFO> Fin.\n"
     ]
    },
    {
     "name": "stdout",
     "output_type": "stream",
     "text": [
      "name: image_prmw_1278.png, preds: [3, 2, 0, 1, 0, 3, 3, 2, 0, 1, 0, 2, 1, 0, 0, 1, 0], total boxes in : 17\n",
      "[pca] >Column labels are auto-completed.\n",
      "[pca] >The PCA reduction is performed to capture [95.0%] explained variance using the [2400] columns of the input data.\n",
      "[pca] >Fit using PCA.\n",
      "[pca] >Compute loadings and PCs.\n",
      "[pca] >Compute explained variance.\n",
      "[pca] >Number of components is [10] that covers the [95.00%] explained variance.\n",
      "[pca] >The PCA reduction is performed on the [2400] columns of the input dataframe.\n",
      "[pca] >Fit using PCA.\n",
      "[pca] >Compute loadings and PCs.\n"
     ]
    },
    {
     "name": "stderr",
     "output_type": "stream",
     "text": [
      "[clustimage] >INFO> Saving data in memory.\n",
      "[clustimage] >INFO> Fit with method=[agglomerative], metric=[euclidean], linkage=[ward]\n",
      "[clustimage] >INFO> Evaluate using silhouette.\n",
      "[clusteval] >INFO: 100%|█████████████████████████████████████████████████████████████████| 1/1 [00:00<00:00, 524.94it/s]\n",
      "[clustimage] >DEBUG> [[1 3 2 2 1 1 1 2 1 1 2 2 1 1 1]]\n",
      "[clustimage] >DEBUG> Iloc: [ True]\n",
      "[clustimage] >DEBUG> silscores: [    0.29249]\n",
      "[clustimage] >DEBUG> sillclust: [          3]\n",
      "[clustimage] >DEBUG> clustlabx: [[1 3 2 2 1 1 1 2 1 1 2 2 1 1 1]]\n",
      "[clustimage] >INFO> Compute dendrogram threshold.\n",
      "[clustimage] >INFO> Optimal number clusters detected: [3].\n",
      "[clustimage] >INFO> Fin.\n"
     ]
    },
    {
     "name": "stdout",
     "output_type": "stream",
     "text": [
      "name: image_prmw_1285.png, preds: [1, 2, 0, 0, 1, 1, 1, 0, 1, 1, 0, 0, 1, 1, 1], total boxes in : 15\n",
      "[pca] >Column labels are auto-completed.\n",
      "[pca] >The PCA reduction is performed to capture [95.0%] explained variance using the [2400] columns of the input data.\n",
      "[pca] >Fit using PCA.\n",
      "[pca] >Compute loadings and PCs.\n",
      "[pca] >Compute explained variance.\n",
      "[pca] >Number of components is [10] that covers the [95.00%] explained variance.\n",
      "[pca] >The PCA reduction is performed on the [2400] columns of the input dataframe.\n",
      "[pca] >Fit using PCA.\n",
      "[pca] >Compute loadings and PCs.\n"
     ]
    },
    {
     "name": "stderr",
     "output_type": "stream",
     "text": [
      "[clustimage] >INFO> Saving data in memory.\n",
      "[clustimage] >INFO> Fit with method=[agglomerative], metric=[euclidean], linkage=[ward]\n",
      "[clustimage] >INFO> Evaluate using silhouette.\n",
      "[clusteval] >INFO: 100%|█████████████████████████████████████████████████████████████████| 1/1 [00:00<00:00, 600.22it/s]\n",
      "[clustimage] >DEBUG> [[3 2 1 1 2 1 2 1 2 2 1 2 2 1]]\n",
      "[clustimage] >DEBUG> Iloc: [ True]\n",
      "[clustimage] >DEBUG> silscores: [    0.34417]\n",
      "[clustimage] >DEBUG> sillclust: [          3]\n",
      "[clustimage] >DEBUG> clustlabx: [[3 2 1 1 2 1 2 1 2 2 1 2 2 1]]\n",
      "[clustimage] >INFO> Compute dendrogram threshold.\n",
      "[clustimage] >INFO> Optimal number clusters detected: [3].\n",
      "[clustimage] >INFO> Fin.\n"
     ]
    },
    {
     "name": "stdout",
     "output_type": "stream",
     "text": [
      "name: image_prmw_1290.png, preds: [2, 1, 0, 0, 1, 0, 1, 0, 1, 1, 0, 1, 1, 0], total boxes in : 14\n",
      "[pca] >Column labels are auto-completed.\n",
      "[pca] >The PCA reduction is performed to capture [95.0%] explained variance using the [2400] columns of the input data.\n",
      "[pca] >Fit using PCA.\n",
      "[pca] >Compute loadings and PCs.\n",
      "[pca] >Compute explained variance.\n",
      "[pca] >Number of components is [11] that covers the [95.00%] explained variance.\n",
      "[pca] >The PCA reduction is performed on the [2400] columns of the input dataframe.\n",
      "[pca] >Fit using PCA.\n",
      "[pca] >Compute loadings and PCs.\n"
     ]
    },
    {
     "name": "stderr",
     "output_type": "stream",
     "text": [
      "[clustimage] >INFO> Saving data in memory.\n",
      "[clustimage] >INFO> Fit with method=[agglomerative], metric=[euclidean], linkage=[ward]\n",
      "[clustimage] >INFO> Evaluate using silhouette.\n",
      "[clusteval] >INFO: 100%|█████████████████████████████████████████████████████████████████| 1/1 [00:00<00:00, 761.35it/s]\n",
      "[clustimage] >DEBUG> [[3 1 3 1 1 3 2 1 2 3 2 2 3 1 1]]\n",
      "[clustimage] >DEBUG> Iloc: [ True]\n",
      "[clustimage] >DEBUG> silscores: [    0.25188]\n",
      "[clustimage] >DEBUG> sillclust: [          3]\n",
      "[clustimage] >DEBUG> clustlabx: [[3 1 3 1 1 3 2 1 2 3 2 2 3 1 1]]\n",
      "[clustimage] >INFO> Compute dendrogram threshold.\n",
      "[clustimage] >INFO> Optimal number clusters detected: [3].\n",
      "[clustimage] >INFO> Fin.\n"
     ]
    },
    {
     "name": "stdout",
     "output_type": "stream",
     "text": [
      "name: image_prmw_1292.png, preds: [1, 0, 1, 0, 0, 1, 2, 0, 2, 1, 2, 2, 1, 0, 0], total boxes in : 15\n",
      "[pca] >Column labels are auto-completed.\n",
      "[pca] >The PCA reduction is performed to capture [95.0%] explained variance using the [2400] columns of the input data.\n",
      "[pca] >Fit using PCA.\n",
      "[pca] >Compute loadings and PCs.\n",
      "[pca] >Compute explained variance.\n",
      "[pca] >Number of components is [11] that covers the [95.00%] explained variance.\n",
      "[pca] >The PCA reduction is performed on the [2400] columns of the input dataframe.\n",
      "[pca] >Fit using PCA.\n",
      "[pca] >Compute loadings and PCs.\n"
     ]
    },
    {
     "name": "stderr",
     "output_type": "stream",
     "text": [
      "[clustimage] >INFO> Saving data in memory.\n",
      "[clustimage] >INFO> Fit with method=[agglomerative], metric=[euclidean], linkage=[ward]\n",
      "[clustimage] >INFO> Evaluate using silhouette.\n",
      "[clusteval] >INFO: 100%|█████████████████████████████████████████████████████████████████| 1/1 [00:00<00:00, 749.92it/s]\n",
      "[clustimage] >DEBUG> [[1 1 2 2 2 2 2 1 1 2 1 1 2 1 1 3]]\n",
      "[clustimage] >DEBUG> Iloc: [ True]\n",
      "[clustimage] >DEBUG> silscores: [     0.3577]\n",
      "[clustimage] >DEBUG> sillclust: [          3]\n",
      "[clustimage] >DEBUG> clustlabx: [[1 1 2 2 2 2 2 1 1 2 1 1 2 1 1 3]]\n",
      "[clustimage] >INFO> Compute dendrogram threshold.\n",
      "[clustimage] >INFO> Optimal number clusters detected: [3].\n",
      "[clustimage] >INFO> Fin.\n"
     ]
    },
    {
     "name": "stdout",
     "output_type": "stream",
     "text": [
      "name: image_prmw_1297.png, preds: [1, 1, 0, 0, 0, 0, 0, 1, 1, 0, 1, 1, 0, 1, 1, 2], total boxes in : 16\n",
      "[pca] >Column labels are auto-completed.\n",
      "[pca] >The PCA reduction is performed to capture [95.0%] explained variance using the [2400] columns of the input data.\n",
      "[pca] >Fit using PCA.\n",
      "[pca] >Compute loadings and PCs.\n",
      "[pca] >Compute explained variance.\n",
      "[pca] >Number of components is [12] that covers the [95.00%] explained variance.\n",
      "[pca] >The PCA reduction is performed on the [2400] columns of the input dataframe.\n",
      "[pca] >Fit using PCA.\n",
      "[pca] >Compute loadings and PCs.\n"
     ]
    },
    {
     "name": "stderr",
     "output_type": "stream",
     "text": [
      "[clustimage] >INFO> Saving data in memory.\n",
      "[clustimage] >INFO> Fit with method=[agglomerative], metric=[euclidean], linkage=[ward]\n",
      "[clustimage] >INFO> Evaluate using silhouette.\n",
      "[clusteval] >INFO: 100%|█████████████████████████████████████████████████████████████████| 1/1 [00:00<00:00, 816.49it/s]\n",
      "[clustimage] >DEBUG> [[3 1 1 1 4 3 3 4 1 2 1 4 3 1 3 1 3]]\n",
      "[clustimage] >DEBUG> Iloc: [ True]\n",
      "[clustimage] >DEBUG> silscores: [    0.26238]\n",
      "[clustimage] >DEBUG> sillclust: [          4]\n",
      "[clustimage] >DEBUG> clustlabx: [[3 1 1 1 4 3 3 4 1 2 1 4 3 1 3 1 3]]\n",
      "[clustimage] >INFO> Compute dendrogram threshold.\n",
      "[clustimage] >INFO> Optimal number clusters detected: [4].\n",
      "[clustimage] >INFO> Fin.\n"
     ]
    },
    {
     "name": "stdout",
     "output_type": "stream",
     "text": [
      "name: image_prmw_1298.png, preds: [1, 0, 0, 0, 2, 1, 1, 2, 0, 3, 0, 2, 1, 0, 1, 0, 1], total boxes in : 18\n",
      "[pca] >Column labels are auto-completed.\n",
      "[pca] >The PCA reduction is performed to capture [95.0%] explained variance using the [2400] columns of the input data.\n",
      "[pca] >Fit using PCA.\n",
      "[pca] >Compute loadings and PCs.\n",
      "[pca] >Compute explained variance.\n",
      "[pca] >Number of components is [8] that covers the [95.00%] explained variance.\n",
      "[pca] >The PCA reduction is performed on the [2400] columns of the input dataframe.\n",
      "[pca] >Fit using PCA.\n",
      "[pca] >Compute loadings and PCs.\n"
     ]
    },
    {
     "name": "stderr",
     "output_type": "stream",
     "text": [
      "[clustimage] >INFO> Saving data in memory.\n",
      "[clustimage] >INFO> Fit with method=[agglomerative], metric=[euclidean], linkage=[ward]\n",
      "[clustimage] >INFO> Evaluate using silhouette.\n",
      "[clusteval] >INFO: 100%|█████████████████████████████████████████████████████████████████| 1/1 [00:00<00:00, 798.61it/s]\n",
      "[clustimage] >DEBUG> [[2 2 1 1 1 1 1 3 2 1 2 3]]\n",
      "[clustimage] >DEBUG> Iloc: [ True]\n",
      "[clustimage] >DEBUG> silscores: [    0.25757]\n",
      "[clustimage] >DEBUG> sillclust: [          3]\n",
      "[clustimage] >DEBUG> clustlabx: [[2 2 1 1 1 1 1 3 2 1 2 3]]\n",
      "[clustimage] >INFO> Compute dendrogram threshold.\n",
      "[clustimage] >INFO> Optimal number clusters detected: [3].\n",
      "[clustimage] >INFO> Fin.\n"
     ]
    },
    {
     "name": "stdout",
     "output_type": "stream",
     "text": [
      "name: image_prmw_1300.png, preds: [0, 0, 1, 1, 1, 1, 1, 2, 0, 1, 0, 2], total boxes in : 13\n",
      "[pca] >Column labels are auto-completed.\n",
      "[pca] >The PCA reduction is performed to capture [95.0%] explained variance using the [2400] columns of the input data.\n",
      "[pca] >Fit using PCA.\n",
      "[pca] >Compute loadings and PCs.\n",
      "[pca] >Compute explained variance.\n",
      "[pca] >Number of components is [11] that covers the [95.00%] explained variance.\n",
      "[pca] >The PCA reduction is performed on the [2400] columns of the input dataframe.\n",
      "[pca] >Fit using PCA.\n",
      "[pca] >Compute loadings and PCs.\n"
     ]
    },
    {
     "name": "stderr",
     "output_type": "stream",
     "text": [
      "[clustimage] >INFO> Saving data in memory.\n",
      "[clustimage] >INFO> Fit with method=[agglomerative], metric=[euclidean], linkage=[ward]\n",
      "[clustimage] >INFO> Evaluate using silhouette.\n",
      "[clusteval] >INFO: 100%|█████████████████████████████████████████████████████████████████| 1/1 [00:00<00:00, 697.42it/s]\n",
      "[clustimage] >DEBUG> [[3 1 3 1 2 3 3 2 1 2 1 3 1 2 1 2]]\n",
      "[clustimage] >DEBUG> Iloc: [ True]\n",
      "[clustimage] >DEBUG> silscores: [    0.24069]\n",
      "[clustimage] >DEBUG> sillclust: [          3]\n",
      "[clustimage] >DEBUG> clustlabx: [[3 1 3 1 2 3 3 2 1 2 1 3 1 2 1 2]]\n",
      "[clustimage] >INFO> Compute dendrogram threshold.\n",
      "[clustimage] >INFO> Optimal number clusters detected: [3].\n",
      "[clustimage] >INFO> Fin.\n"
     ]
    },
    {
     "name": "stdout",
     "output_type": "stream",
     "text": [
      "name: image_prmw_1303.png, preds: [1, 0, 1, 0, 2, 1, 1, 2, 0, 2, 0, 1, 0, 2, 0, 2], total boxes in : 16\n",
      "[pca] >Column labels are auto-completed.\n",
      "[pca] >The PCA reduction is performed to capture [95.0%] explained variance using the [2400] columns of the input data.\n",
      "[pca] >Fit using PCA.\n",
      "[pca] >Compute loadings and PCs.\n",
      "[pca] >Compute explained variance.\n",
      "[pca] >Number of components is [11] that covers the [95.00%] explained variance.\n",
      "[pca] >The PCA reduction is performed on the [2400] columns of the input dataframe.\n",
      "[pca] >Fit using PCA.\n",
      "[pca] >Compute loadings and PCs.\n"
     ]
    },
    {
     "name": "stderr",
     "output_type": "stream",
     "text": [
      "[clustimage] >INFO> Saving data in memory.\n",
      "[clustimage] >INFO> Fit with method=[agglomerative], metric=[euclidean], linkage=[ward]\n",
      "[clustimage] >INFO> Evaluate using silhouette.\n",
      "[clusteval] >INFO: 100%|█████████████████████████████████████████████████████████████████| 1/1 [00:00<00:00, 766.22it/s]\n",
      "[clustimage] >DEBUG> [[1 1 1 3 1 3 2 2 1 2 2 1 1 2 3]]\n",
      "[clustimage] >DEBUG> Iloc: [ True]\n",
      "[clustimage] >DEBUG> silscores: [      0.199]\n",
      "[clustimage] >DEBUG> sillclust: [          3]\n",
      "[clustimage] >DEBUG> clustlabx: [[1 1 1 3 1 3 2 2 1 2 2 1 1 2 3]]\n",
      "[clustimage] >INFO> Compute dendrogram threshold.\n",
      "[clustimage] >INFO> Optimal number clusters detected: [3].\n",
      "[clustimage] >INFO> Fin.\n"
     ]
    },
    {
     "name": "stdout",
     "output_type": "stream",
     "text": [
      "name: image_prmw_1307.png, preds: [0, 0, 0, 2, 0, 2, 1, 1, 0, 1, 1, 0, 0, 1, 2], total boxes in : 15\n",
      "[pca] >Column labels are auto-completed.\n",
      "[pca] >The PCA reduction is performed to capture [95.0%] explained variance using the [2400] columns of the input data.\n",
      "[pca] >Fit using PCA.\n",
      "[pca] >Compute loadings and PCs.\n",
      "[pca] >Compute explained variance.\n",
      "[pca] >Number of components is [9] that covers the [95.00%] explained variance.\n",
      "[pca] >The PCA reduction is performed on the [2400] columns of the input dataframe.\n",
      "[pca] >Fit using PCA.\n",
      "[pca] >Compute loadings and PCs.\n"
     ]
    },
    {
     "name": "stderr",
     "output_type": "stream",
     "text": [
      "[clustimage] >INFO> Saving data in memory.\n",
      "[clustimage] >INFO> Fit with method=[agglomerative], metric=[euclidean], linkage=[ward]\n",
      "[clustimage] >INFO> Evaluate using silhouette.\n",
      "[clusteval] >INFO: 100%|█████████████████████████████████████████████████████████████████| 1/1 [00:00<00:00, 614.73it/s]\n",
      "[clustimage] >DEBUG> [[3 1 1 3 2 3 3 2 3 3 3 3 1 1]]\n",
      "[clustimage] >DEBUG> Iloc: [ True]\n",
      "[clustimage] >DEBUG> silscores: [    0.25124]\n",
      "[clustimage] >DEBUG> sillclust: [          3]\n",
      "[clustimage] >DEBUG> clustlabx: [[3 1 1 3 2 3 3 2 3 3 3 3 1 1]]\n",
      "[clustimage] >INFO> Compute dendrogram threshold.\n",
      "[clustimage] >INFO> Optimal number clusters detected: [3].\n",
      "[clustimage] >INFO> Fin.\n"
     ]
    },
    {
     "name": "stdout",
     "output_type": "stream",
     "text": [
      "name: image_prmw_1323.png, preds: [1, 0, 0, 1, 2, 1, 1, 2, 1, 1, 1, 1, 0, 0], total boxes in : 14\n",
      "[pca] >Column labels are auto-completed.\n",
      "[pca] >The PCA reduction is performed to capture [95.0%] explained variance using the [2400] columns of the input data.\n",
      "[pca] >Fit using PCA.\n",
      "[pca] >Compute loadings and PCs.\n",
      "[pca] >Compute explained variance.\n",
      "[pca] >Number of components is [12] that covers the [95.00%] explained variance.\n",
      "[pca] >The PCA reduction is performed on the [2400] columns of the input dataframe.\n",
      "[pca] >Fit using PCA.\n",
      "[pca] >Compute loadings and PCs.\n"
     ]
    },
    {
     "name": "stderr",
     "output_type": "stream",
     "text": [
      "[clustimage] >INFO> Saving data in memory.\n",
      "[clustimage] >INFO> Fit with method=[agglomerative], metric=[euclidean], linkage=[ward]\n",
      "[clustimage] >INFO> Evaluate using silhouette.\n",
      "[clusteval] >INFO: 100%|█████████████████████████████████████████████████████████████████| 1/1 [00:00<00:00, 711.50it/s]\n",
      "[clustimage] >DEBUG> [[1 2 1 3 1 1 2 2 1 2 2 2 1 2 2 2]]\n",
      "[clustimage] >DEBUG> Iloc: [ True]\n",
      "[clustimage] >DEBUG> silscores: [     0.2996]\n",
      "[clustimage] >DEBUG> sillclust: [          3]\n",
      "[clustimage] >DEBUG> clustlabx: [[1 2 1 3 1 1 2 2 1 2 2 2 1 2 2 2]]\n",
      "[clustimage] >INFO> Compute dendrogram threshold.\n",
      "[clustimage] >INFO> Optimal number clusters detected: [3].\n",
      "[clustimage] >INFO> Fin.\n"
     ]
    },
    {
     "name": "stdout",
     "output_type": "stream",
     "text": [
      "name: image_prmw_1331.png, preds: [0, 1, 0, 2, 0, 0, 1, 1, 0, 1, 1, 1, 0, 1, 1, 1], total boxes in : 16\n",
      "[pca] >Column labels are auto-completed.\n",
      "[pca] >The PCA reduction is performed to capture [95.0%] explained variance using the [2400] columns of the input data.\n",
      "[pca] >Fit using PCA.\n",
      "[pca] >Compute loadings and PCs.\n",
      "[pca] >Compute explained variance.\n",
      "[pca] >Number of components is [11] that covers the [95.00%] explained variance.\n",
      "[pca] >The PCA reduction is performed on the [2400] columns of the input dataframe.\n",
      "[pca] >Fit using PCA.\n",
      "[pca] >Compute loadings and PCs.\n"
     ]
    },
    {
     "name": "stderr",
     "output_type": "stream",
     "text": [
      "[clustimage] >INFO> Saving data in memory.\n",
      "[clustimage] >INFO> Fit with method=[agglomerative], metric=[euclidean], linkage=[ward]\n",
      "[clustimage] >INFO> Evaluate using silhouette.\n",
      "[clusteval] >INFO: 100%|█████████████████████████████████████████████████████████████████| 1/1 [00:00<00:00, 758.60it/s]\n",
      "[clustimage] >DEBUG> [[4 4 4 1 1 1 2 4 1 2 1 2 3 3 4]]\n",
      "[clustimage] >DEBUG> Iloc: [ True]\n",
      "[clustimage] >DEBUG> silscores: [    0.20003]\n",
      "[clustimage] >DEBUG> sillclust: [          4]\n",
      "[clustimage] >DEBUG> clustlabx: [[4 4 4 1 1 1 2 4 1 2 1 2 3 3 4]]\n",
      "[clustimage] >INFO> Compute dendrogram threshold.\n",
      "[clustimage] >INFO> Optimal number clusters detected: [4].\n",
      "[clustimage] >INFO> Fin.\n"
     ]
    },
    {
     "name": "stdout",
     "output_type": "stream",
     "text": [
      "name: image_prmw_1338.png, preds: [1, 1, 1, 0, 0, 0, 2, 1, 0, 2, 0, 2, 3, 3, 1], total boxes in : 15\n",
      "[pca] >Column labels are auto-completed.\n",
      "[pca] >The PCA reduction is performed to capture [95.0%] explained variance using the [2400] columns of the input data.\n",
      "[pca] >Fit using PCA.\n",
      "[pca] >Compute loadings and PCs.\n",
      "[pca] >Compute explained variance.\n",
      "[pca] >Number of components is [8] that covers the [95.00%] explained variance.\n",
      "[pca] >The PCA reduction is performed on the [2400] columns of the input dataframe.\n",
      "[pca] >Fit using PCA.\n",
      "[pca] >Compute loadings and PCs.\n"
     ]
    },
    {
     "name": "stderr",
     "output_type": "stream",
     "text": [
      "[clustimage] >INFO> Saving data in memory.\n",
      "[clustimage] >INFO> Fit with method=[agglomerative], metric=[euclidean], linkage=[ward]\n",
      "[clustimage] >INFO> Evaluate using silhouette.\n",
      "[clusteval] >INFO: 100%|█████████████████████████████████████████████████████████████████| 1/1 [00:00<00:00, 646.27it/s]\n",
      "[clustimage] >DEBUG> [[1 2 1 1 2 2 2 2 2 3]]\n",
      "[clustimage] >DEBUG> Iloc: [ True]\n",
      "[clustimage] >DEBUG> silscores: [    0.22158]\n",
      "[clustimage] >DEBUG> sillclust: [          3]\n",
      "[clustimage] >DEBUG> clustlabx: [[1 2 1 1 2 2 2 2 2 3]]\n",
      "[clustimage] >INFO> Compute dendrogram threshold.\n",
      "[clustimage] >INFO> Optimal number clusters detected: [3].\n",
      "[clustimage] >INFO> Fin.\n"
     ]
    },
    {
     "name": "stdout",
     "output_type": "stream",
     "text": [
      "name: image_prmw_1340.png, preds: [0, 1, 0, 0, 1, 1, 1, 1, 1, 2], total boxes in : 10\n",
      "[pca] >Column labels are auto-completed.\n",
      "[pca] >The PCA reduction is performed to capture [95.0%] explained variance using the [2400] columns of the input data.\n",
      "[pca] >Fit using PCA.\n",
      "[pca] >Compute loadings and PCs.\n",
      "[pca] >Compute explained variance.\n",
      "[pca] >Number of components is [8] that covers the [95.00%] explained variance.\n",
      "[pca] >The PCA reduction is performed on the [2400] columns of the input dataframe.\n",
      "[pca] >Fit using PCA.\n",
      "[pca] >Compute loadings and PCs.\n"
     ]
    },
    {
     "name": "stderr",
     "output_type": "stream",
     "text": [
      "[clustimage] >INFO> Saving data in memory.\n",
      "[clustimage] >INFO> Fit with method=[agglomerative], metric=[euclidean], linkage=[ward]\n",
      "[clustimage] >INFO> Evaluate using silhouette.\n",
      "[clusteval] >INFO: 100%|█████████████████████████████████████████████████████████████████| 1/1 [00:00<00:00, 692.59it/s]\n",
      "[clustimage] >DEBUG> [[2 2 1 1 1 1 1 2 3 2 2 2]]\n",
      "[clustimage] >DEBUG> Iloc: [ True]\n",
      "[clustimage] >DEBUG> silscores: [    0.37396]\n",
      "[clustimage] >DEBUG> sillclust: [          3]\n",
      "[clustimage] >DEBUG> clustlabx: [[2 2 1 1 1 1 1 2 3 2 2 2]]\n",
      "[clustimage] >INFO> Compute dendrogram threshold.\n",
      "[clustimage] >INFO> Optimal number clusters detected: [3].\n",
      "[clustimage] >INFO> Fin.\n"
     ]
    },
    {
     "name": "stdout",
     "output_type": "stream",
     "text": [
      "name: image_prtl_1027.png, preds: [0, 0, 1, 1, 1, 1, 1, 0, 2, 0, 0, 0], total boxes in : 12\n",
      "[pca] >Column labels are auto-completed.\n",
      "[pca] >The PCA reduction is performed to capture [95.0%] explained variance using the [2400] columns of the input data.\n",
      "[pca] >Fit using PCA.\n",
      "[pca] >Compute loadings and PCs.\n",
      "[pca] >Compute explained variance.\n",
      "[pca] >Number of components is [10] that covers the [95.00%] explained variance.\n",
      "[pca] >The PCA reduction is performed on the [2400] columns of the input dataframe.\n",
      "[pca] >Fit using PCA.\n",
      "[pca] >Compute loadings and PCs.\n"
     ]
    },
    {
     "name": "stderr",
     "output_type": "stream",
     "text": [
      "[clustimage] >INFO> Saving data in memory.\n",
      "[clustimage] >INFO> Fit with method=[agglomerative], metric=[euclidean], linkage=[ward]\n",
      "[clustimage] >INFO> Evaluate using silhouette.\n",
      "[clusteval] >INFO: 100%|█████████████████████████████████████████████████████████████████| 1/1 [00:00<00:00, 783.54it/s]\n",
      "[clustimage] >DEBUG> [[2 2 1 1 1 2 3 1 1 2 2 2 2 2]]\n",
      "[clustimage] >DEBUG> Iloc: [ True]\n",
      "[clustimage] >DEBUG> silscores: [    0.31474]\n",
      "[clustimage] >DEBUG> sillclust: [          3]\n",
      "[clustimage] >DEBUG> clustlabx: [[2 2 1 1 1 2 3 1 1 2 2 2 2 2]]\n",
      "[clustimage] >INFO> Compute dendrogram threshold.\n",
      "[clustimage] >INFO> Optimal number clusters detected: [3].\n",
      "[clustimage] >INFO> Fin.\n"
     ]
    },
    {
     "name": "stdout",
     "output_type": "stream",
     "text": [
      "name: image_prtl_1030.png, preds: [0, 0, 1, 1, 1, 0, 2, 1, 1, 0, 0, 0, 0, 0], total boxes in : 14\n",
      "[pca] >Column labels are auto-completed.\n",
      "[pca] >The PCA reduction is performed to capture [95.0%] explained variance using the [2400] columns of the input data.\n",
      "[pca] >Fit using PCA.\n",
      "[pca] >Compute loadings and PCs.\n",
      "[pca] >Compute explained variance.\n",
      "[pca] >Number of components is [12] that covers the [95.00%] explained variance.\n",
      "[pca] >The PCA reduction is performed on the [2400] columns of the input dataframe.\n",
      "[pca] >Fit using PCA.\n",
      "[pca] >Compute loadings and PCs.\n"
     ]
    },
    {
     "name": "stderr",
     "output_type": "stream",
     "text": [
      "[clustimage] >INFO> Saving data in memory.\n",
      "[clustimage] >INFO> Fit with method=[agglomerative], metric=[euclidean], linkage=[ward]\n",
      "[clustimage] >INFO> Evaluate using silhouette.\n",
      "[clusteval] >INFO: 100%|█████████████████████████████████████████████████████████████████| 1/1 [00:00<00:00, 779.32it/s]\n",
      "[clustimage] >DEBUG> [[2 2 2 2 2 2 2 1 1 1 3 4 1 1 1 2 2]]\n",
      "[clustimage] >DEBUG> Iloc: [ True]\n",
      "[clustimage] >DEBUG> silscores: [    0.31461]\n",
      "[clustimage] >DEBUG> sillclust: [          4]\n",
      "[clustimage] >DEBUG> clustlabx: [[2 2 2 2 2 2 2 1 1 1 3 4 1 1 1 2 2]]\n",
      "[clustimage] >INFO> Compute dendrogram threshold.\n",
      "[clustimage] >INFO> Optimal number clusters detected: [4].\n",
      "[clustimage] >INFO> Fin.\n"
     ]
    },
    {
     "name": "stdout",
     "output_type": "stream",
     "text": [
      "name: image_prtl_1047.png, preds: [0, 0, 0, 0, 0, 0, 0, 1, 1, 1, 3, 2, 1, 1, 1, 0, 0], total boxes in : 17\n",
      "[pca] >Column labels are auto-completed.\n",
      "[pca] >The PCA reduction is performed to capture [95.0%] explained variance using the [2400] columns of the input data.\n",
      "[pca] >Fit using PCA.\n",
      "[pca] >Compute loadings and PCs.\n",
      "[pca] >Compute explained variance.\n",
      "[pca] >Number of components is [7] that covers the [95.00%] explained variance.\n",
      "[pca] >The PCA reduction is performed on the [2400] columns of the input dataframe.\n",
      "[pca] >Fit using PCA.\n",
      "[pca] >Compute loadings and PCs.\n"
     ]
    },
    {
     "name": "stderr",
     "output_type": "stream",
     "text": [
      "[clustimage] >INFO> Saving data in memory.\n",
      "[clustimage] >INFO> Fit with method=[agglomerative], metric=[euclidean], linkage=[ward]\n",
      "[clustimage] >INFO> Evaluate using silhouette.\n",
      "[clusteval] >INFO: 100%|█████████████████████████████████████████████████████████████████| 1/1 [00:00<00:00, 615.63it/s]\n",
      "[clustimage] >DEBUG> [[2 2 1 1 2 2 3 1 1]]\n",
      "[clustimage] >DEBUG> Iloc: [ True]\n",
      "[clustimage] >DEBUG> silscores: [    0.29799]\n",
      "[clustimage] >DEBUG> sillclust: [          3]\n",
      "[clustimage] >DEBUG> clustlabx: [[2 2 1 1 2 2 3 1 1]]\n",
      "[clustimage] >INFO> Compute dendrogram threshold.\n",
      "[clustimage] >INFO> Optimal number clusters detected: [3].\n",
      "[clustimage] >INFO> Fin.\n"
     ]
    },
    {
     "name": "stdout",
     "output_type": "stream",
     "text": [
      "name: image_prtl_1052.png, preds: [1, 1, 0, 0, 1, 1, 2, 0, 0], total boxes in : 9\n",
      "[pca] >Column labels are auto-completed.\n",
      "[pca] >The PCA reduction is performed to capture [95.0%] explained variance using the [2400] columns of the input data.\n",
      "[pca] >Fit using PCA.\n",
      "[pca] >Compute loadings and PCs.\n",
      "[pca] >Compute explained variance.\n",
      "[pca] >Number of components is [10] that covers the [95.00%] explained variance.\n",
      "[pca] >The PCA reduction is performed on the [2400] columns of the input dataframe.\n",
      "[pca] >Fit using PCA.\n",
      "[pca] >Compute loadings and PCs.\n"
     ]
    },
    {
     "name": "stderr",
     "output_type": "stream",
     "text": [
      "[clustimage] >INFO> Saving data in memory.\n",
      "[clustimage] >INFO> Fit with method=[agglomerative], metric=[euclidean], linkage=[ward]\n",
      "[clustimage] >INFO> Evaluate using silhouette.\n",
      "[clusteval] >INFO: 100%|█████████████████████████████████████████████████████████████████| 1/1 [00:00<00:00, 705.87it/s]\n",
      "[clustimage] >DEBUG> [[1 1 1 2 1 1 1 2 2 2 2 2 2 2]]\n",
      "[clustimage] >DEBUG> Iloc: [ True]\n",
      "[clustimage] >DEBUG> silscores: [    0.34854]\n",
      "[clustimage] >DEBUG> sillclust: [          2]\n",
      "[clustimage] >DEBUG> clustlabx: [[1 1 1 2 1 1 1 2 2 2 2 2 2 2]]\n",
      "[clustimage] >INFO> Compute dendrogram threshold.\n",
      "[clustimage] >INFO> Optimal number clusters detected: [2].\n",
      "[clustimage] >INFO> Fin.\n"
     ]
    },
    {
     "name": "stdout",
     "output_type": "stream",
     "text": [
      "name: image_prtl_1059.png, preds: [1, 1, 1, 0, 1, 1, 1, 0, 0, 0, 0, 0, 0, 0], total boxes in : 14\n",
      "[pca] >Column labels are auto-completed.\n",
      "[pca] >The PCA reduction is performed to capture [95.0%] explained variance using the [2400] columns of the input data.\n",
      "[pca] >Fit using PCA.\n",
      "[pca] >Compute loadings and PCs.\n",
      "[pca] >Compute explained variance.\n",
      "[pca] >Number of components is [12] that covers the [95.00%] explained variance.\n",
      "[pca] >The PCA reduction is performed on the [2400] columns of the input dataframe.\n",
      "[pca] >Fit using PCA.\n",
      "[pca] >Compute loadings and PCs.\n"
     ]
    },
    {
     "name": "stderr",
     "output_type": "stream",
     "text": [
      "[clustimage] >INFO> Saving data in memory.\n",
      "[clustimage] >INFO> Fit with method=[agglomerative], metric=[euclidean], linkage=[ward]\n",
      "[clustimage] >INFO> Evaluate using silhouette.\n",
      "[clusteval] >INFO: 100%|█████████████████████████████████████████████████████████████████| 1/1 [00:00<00:00, 809.87it/s]\n",
      "[clustimage] >DEBUG> [[1 1 1 2 1 1 1 2 2 2 2 2 2 3 1 1 2]]\n",
      "[clustimage] >DEBUG> Iloc: [ True]\n",
      "[clustimage] >DEBUG> silscores: [    0.26953]\n",
      "[clustimage] >DEBUG> sillclust: [          3]\n",
      "[clustimage] >DEBUG> clustlabx: [[1 1 1 2 1 1 1 2 2 2 2 2 2 3 1 1 2]]\n",
      "[clustimage] >INFO> Compute dendrogram threshold.\n",
      "[clustimage] >INFO> Optimal number clusters detected: [3].\n",
      "[clustimage] >INFO> Fin.\n"
     ]
    },
    {
     "name": "stdout",
     "output_type": "stream",
     "text": [
      "name: image_prtl_1074.png, preds: [1, 1, 1, 0, 1, 1, 1, 0, 0, 0, 0, 0, 0, 2, 1, 1, 0], total boxes in : 17\n",
      "[pca] >Column labels are auto-completed.\n",
      "[pca] >The PCA reduction is performed to capture [95.0%] explained variance using the [2400] columns of the input data.\n",
      "[pca] >Fit using PCA.\n",
      "[pca] >Compute loadings and PCs.\n",
      "[pca] >Compute explained variance.\n",
      "[pca] >Number of components is [14] that covers the [95.00%] explained variance.\n",
      "[pca] >The PCA reduction is performed on the [2400] columns of the input dataframe.\n",
      "[pca] >Fit using PCA.\n",
      "[pca] >Compute loadings and PCs.\n"
     ]
    },
    {
     "name": "stderr",
     "output_type": "stream",
     "text": [
      "[clustimage] >INFO> Saving data in memory.\n",
      "[clustimage] >INFO> Fit with method=[agglomerative], metric=[euclidean], linkage=[ward]\n",
      "[clustimage] >INFO> Evaluate using silhouette.\n",
      "[clusteval] >INFO: 100%|█████████████████████████████████████████████████████████████████| 1/1 [00:00<00:00, 543.59it/s]\n",
      "[clustimage] >DEBUG> [[1 2 1 1 1 1 2 2 2 2 2 2 2 2 1 1 3 1 1 1]]\n",
      "[clustimage] >DEBUG> Iloc: [ True]\n",
      "[clustimage] >DEBUG> silscores: [    0.27289]\n",
      "[clustimage] >DEBUG> sillclust: [          3]\n",
      "[clustimage] >DEBUG> clustlabx: [[1 2 1 1 1 1 2 2 2 2 2 2 2 2 1 1 3 1 1 1]]\n",
      "[clustimage] >INFO> Compute dendrogram threshold.\n",
      "[clustimage] >INFO> Optimal number clusters detected: [3].\n",
      "[clustimage] >INFO> Fin.\n"
     ]
    },
    {
     "name": "stdout",
     "output_type": "stream",
     "text": [
      "name: image_prtl_1077.png, preds: [1, 0, 1, 1, 1, 1, 0, 0, 0, 0, 0, 0, 0, 0, 1, 1, 2, 1, 1, 1], total boxes in : 20\n",
      "[pca] >Column labels are auto-completed.\n",
      "[pca] >The PCA reduction is performed to capture [95.0%] explained variance using the [2400] columns of the input data.\n",
      "[pca] >Fit using PCA.\n",
      "[pca] >Compute loadings and PCs.\n",
      "[pca] >Compute explained variance.\n",
      "[pca] >Number of components is [13] that covers the [95.00%] explained variance.\n",
      "[pca] >The PCA reduction is performed on the [2400] columns of the input dataframe.\n",
      "[pca] >Fit using PCA.\n",
      "[pca] >Compute loadings and PCs.\n"
     ]
    },
    {
     "name": "stderr",
     "output_type": "stream",
     "text": [
      "[clustimage] >INFO> Saving data in memory.\n",
      "[clustimage] >INFO> Fit with method=[agglomerative], metric=[euclidean], linkage=[ward]\n",
      "[clustimage] >INFO> Evaluate using silhouette.\n",
      "[clusteval] >INFO: 100%|█████████████████████████████████████████████████████████████████| 1/1 [00:00<00:00, 741.17it/s]\n",
      "[clustimage] >DEBUG> [[2 2 2 2 2 2 2 2 1 1 1 1 2 3 1 2 1 1]]\n",
      "[clustimage] >DEBUG> Iloc: [ True]\n",
      "[clustimage] >DEBUG> silscores: [     0.3382]\n",
      "[clustimage] >DEBUG> sillclust: [          3]\n",
      "[clustimage] >DEBUG> clustlabx: [[2 2 2 2 2 2 2 2 1 1 1 1 2 3 1 2 1 1]]\n",
      "[clustimage] >INFO> Compute dendrogram threshold.\n",
      "[clustimage] >INFO> Optimal number clusters detected: [3].\n",
      "[clustimage] >INFO> Fin.\n"
     ]
    },
    {
     "name": "stdout",
     "output_type": "stream",
     "text": [
      "name: image_prtl_1091.png, preds: [0, 0, 0, 0, 0, 0, 0, 0, 1, 1, 1, 1, 0, 2, 1, 0, 1, 1], total boxes in : 18\n",
      "[pca] >Column labels are auto-completed.\n",
      "[pca] >The PCA reduction is performed to capture [95.0%] explained variance using the [2400] columns of the input data.\n",
      "[pca] >Fit using PCA.\n",
      "[pca] >Compute loadings and PCs.\n",
      "[pca] >Compute explained variance.\n",
      "[pca] >Number of components is [10] that covers the [95.00%] explained variance.\n",
      "[pca] >The PCA reduction is performed on the [2400] columns of the input dataframe.\n",
      "[pca] >Fit using PCA.\n",
      "[pca] >Compute loadings and PCs.\n"
     ]
    },
    {
     "name": "stderr",
     "output_type": "stream",
     "text": [
      "[clustimage] >INFO> Saving data in memory.\n",
      "[clustimage] >INFO> Fit with method=[agglomerative], metric=[euclidean], linkage=[ward]\n",
      "[clustimage] >INFO> Evaluate using silhouette.\n",
      "[clusteval] >INFO: 100%|█████████████████████████████████████████████████████████████████| 1/1 [00:00<00:00, 762.60it/s]\n",
      "[clustimage] >DEBUG> [[1 3 1 2 2 1 1 1 3 3 3 1 3 3 1]]\n",
      "[clustimage] >DEBUG> Iloc: [ True]\n",
      "[clustimage] >DEBUG> silscores: [    0.22712]\n",
      "[clustimage] >DEBUG> sillclust: [          3]\n",
      "[clustimage] >DEBUG> clustlabx: [[1 3 1 2 2 1 1 1 3 3 3 1 3 3 1]]\n",
      "[clustimage] >INFO> Compute dendrogram threshold.\n",
      "[clustimage] >INFO> Optimal number clusters detected: [3].\n",
      "[clustimage] >INFO> Fin.\n"
     ]
    },
    {
     "name": "stdout",
     "output_type": "stream",
     "text": [
      "name: image_prtl_1096.png, preds: [1, 0, 1, 2, 2, 1, 1, 1, 0, 0, 0, 1, 0, 0, 1], total boxes in : 15\n",
      "[pca] >Column labels are auto-completed.\n",
      "[pca] >The PCA reduction is performed to capture [95.0%] explained variance using the [2400] columns of the input data.\n",
      "[pca] >Fit using PCA.\n",
      "[pca] >Compute loadings and PCs.\n",
      "[pca] >Compute explained variance.\n",
      "[pca] >Number of components is [11] that covers the [95.00%] explained variance.\n",
      "[pca] >The PCA reduction is performed on the [2400] columns of the input dataframe.\n",
      "[pca] >Fit using PCA.\n",
      "[pca] >Compute loadings and PCs.\n"
     ]
    },
    {
     "name": "stderr",
     "output_type": "stream",
     "text": [
      "[clustimage] >INFO> Saving data in memory.\n",
      "[clustimage] >INFO> Fit with method=[agglomerative], metric=[euclidean], linkage=[ward]\n",
      "[clustimage] >INFO> Evaluate using silhouette.\n",
      "[clusteval] >INFO: 100%|█████████████████████████████████████████████████████████████████| 1/1 [00:00<00:00, 798.15it/s]\n",
      "[clustimage] >DEBUG> [[1 1 1 1 1 1 3 3 3 3 3 1 3 2 1 1 1 2]]\n",
      "[clustimage] >DEBUG> Iloc: [ True]\n",
      "[clustimage] >DEBUG> silscores: [    0.30863]\n",
      "[clustimage] >DEBUG> sillclust: [          3]\n",
      "[clustimage] >DEBUG> clustlabx: [[1 1 1 1 1 1 3 3 3 3 3 1 3 2 1 1 1 2]]\n",
      "[clustimage] >INFO> Compute dendrogram threshold.\n",
      "[clustimage] >INFO> Optimal number clusters detected: [3].\n",
      "[clustimage] >INFO> Fin.\n"
     ]
    },
    {
     "name": "stdout",
     "output_type": "stream",
     "text": [
      "name: image_prtl_1099.png, preds: [0, 0, 0, 0, 0, 0, 1, 1, 1, 1, 1, 0, 1, 2, 0, 0, 0, 2], total boxes in : 18\n",
      "[pca] >Column labels are auto-completed.\n",
      "[pca] >The PCA reduction is performed to capture [95.0%] explained variance using the [2400] columns of the input data.\n",
      "[pca] >Fit using PCA.\n",
      "[pca] >Compute loadings and PCs.\n",
      "[pca] >Compute explained variance.\n",
      "[pca] >Number of components is [7] that covers the [95.00%] explained variance.\n",
      "[pca] >The PCA reduction is performed on the [2400] columns of the input dataframe.\n",
      "[pca] >Fit using PCA.\n",
      "[pca] >Compute loadings and PCs.\n"
     ]
    },
    {
     "name": "stderr",
     "output_type": "stream",
     "text": [
      "[clustimage] >INFO> Saving data in memory.\n",
      "[clustimage] >INFO> Fit with method=[agglomerative], metric=[euclidean], linkage=[ward]\n",
      "[clustimage] >INFO> Evaluate using silhouette.\n",
      "[clusteval] >INFO: 100%|█████████████████████████████████████████████████████████████████| 1/1 [00:00<00:00, 786.33it/s]\n",
      "[clustimage] >DEBUG> [[1 2 1 1 1 2 2 2 2]]\n",
      "[clustimage] >DEBUG> Iloc: [ True]\n",
      "[clustimage] >DEBUG> silscores: [    0.27562]\n",
      "[clustimage] >DEBUG> sillclust: [          2]\n",
      "[clustimage] >DEBUG> clustlabx: [[1 2 1 1 1 2 2 2 2]]\n",
      "[clustimage] >INFO> Compute dendrogram threshold.\n",
      "[clustimage] >INFO> Optimal number clusters detected: [2].\n",
      "[clustimage] >INFO> Fin.\n"
     ]
    },
    {
     "name": "stdout",
     "output_type": "stream",
     "text": [
      "name: image_prtl_1104.png, preds: [1, 0, 1, 1, 1, 0, 0, 0, 0], total boxes in : 9\n",
      "[pca] >Column labels are auto-completed.\n",
      "[pca] >The PCA reduction is performed to capture [95.0%] explained variance using the [2400] columns of the input data.\n",
      "[pca] >Fit using PCA.\n",
      "[pca] >Compute loadings and PCs.\n",
      "[pca] >Compute explained variance.\n",
      "[pca] >Number of components is [9] that covers the [95.00%] explained variance.\n",
      "[pca] >The PCA reduction is performed on the [2400] columns of the input dataframe.\n",
      "[pca] >Fit using PCA.\n",
      "[pca] >Compute loadings and PCs.\n"
     ]
    },
    {
     "name": "stderr",
     "output_type": "stream",
     "text": [
      "[clustimage] >INFO> Saving data in memory.\n",
      "[clustimage] >INFO> Fit with method=[agglomerative], metric=[euclidean], linkage=[ward]\n",
      "[clustimage] >INFO> Evaluate using silhouette.\n",
      "[clusteval] >INFO: 100%|████████████████████████████████████████████████████████████████| 1/1 [00:00<00:00, 1005.83it/s]\n",
      "[clustimage] >DEBUG> [[2 2 2 2 2 2 2 1 1 1 1 1 3 1]]\n",
      "[clustimage] >DEBUG> Iloc: [ True]\n",
      "[clustimage] >DEBUG> silscores: [    0.40716]\n",
      "[clustimage] >DEBUG> sillclust: [          3]\n",
      "[clustimage] >DEBUG> clustlabx: [[2 2 2 2 2 2 2 1 1 1 1 1 3 1]]\n",
      "[clustimage] >INFO> Compute dendrogram threshold.\n",
      "[clustimage] >INFO> Optimal number clusters detected: [3].\n",
      "[clustimage] >INFO> Fin.\n"
     ]
    },
    {
     "name": "stdout",
     "output_type": "stream",
     "text": [
      "name: image_prtl_1108.png, preds: [0, 0, 0, 0, 0, 0, 0, 1, 1, 1, 1, 1, 2, 1], total boxes in : 14\n",
      "[pca] >Column labels are auto-completed.\n",
      "[pca] >The PCA reduction is performed to capture [95.0%] explained variance using the [2400] columns of the input data.\n",
      "[pca] >Fit using PCA.\n",
      "[pca] >Compute loadings and PCs.\n",
      "[pca] >Compute explained variance.\n",
      "[pca] >Number of components is [7] that covers the [95.00%] explained variance.\n",
      "[pca] >The PCA reduction is performed on the [2400] columns of the input dataframe.\n",
      "[pca] >Fit using PCA.\n",
      "[pca] >Compute loadings and PCs.\n"
     ]
    },
    {
     "name": "stderr",
     "output_type": "stream",
     "text": [
      "[clustimage] >INFO> Saving data in memory.\n",
      "[clustimage] >INFO> Fit with method=[agglomerative], metric=[euclidean], linkage=[ward]\n",
      "[clustimage] >INFO> Evaluate using silhouette.\n",
      "[clusteval] >INFO: 100%|█████████████████████████████████████████████████████████████████| 1/1 [00:00<00:00, 542.32it/s]\n",
      "[clustimage] >DEBUG> [[2 2 2 2 1 1 2 1 1 2]]\n",
      "[clustimage] >DEBUG> Iloc: [ True]\n",
      "[clustimage] >DEBUG> silscores: [    0.31773]\n",
      "[clustimage] >DEBUG> sillclust: [          2]\n",
      "[clustimage] >DEBUG> clustlabx: [[2 2 2 2 1 1 2 1 1 2]]\n",
      "[clustimage] >INFO> Compute dendrogram threshold.\n",
      "[clustimage] >INFO> Optimal number clusters detected: [2].\n",
      "[clustimage] >INFO> Fin.\n"
     ]
    },
    {
     "name": "stdout",
     "output_type": "stream",
     "text": [
      "name: image_prtl_1110.png, preds: [0, 0, 0, 0, 1, 1, 0, 1, 1, 0], total boxes in : 10\n",
      "[pca] >Column labels are auto-completed.\n",
      "[pca] >The PCA reduction is performed to capture [95.0%] explained variance using the [2400] columns of the input data.\n",
      "[pca] >Fit using PCA.\n",
      "[pca] >Compute loadings and PCs.\n",
      "[pca] >Compute explained variance.\n",
      "[pca] >Number of components is [11] that covers the [95.00%] explained variance.\n",
      "[pca] >The PCA reduction is performed on the [2400] columns of the input dataframe.\n",
      "[pca] >Fit using PCA.\n",
      "[pca] >Compute loadings and PCs.\n"
     ]
    },
    {
     "name": "stderr",
     "output_type": "stream",
     "text": [
      "[clustimage] >INFO> Saving data in memory.\n",
      "[clustimage] >INFO> Fit with method=[agglomerative], metric=[euclidean], linkage=[ward]\n",
      "[clustimage] >INFO> Evaluate using silhouette.\n",
      "[clusteval] >INFO: 100%|█████████████████████████████████████████████████████████████████| 1/1 [00:00<00:00, 859.84it/s]\n",
      "[clustimage] >DEBUG> [[3 2 3 3 3 3 3 3 1 1 1 1 1 1 2]]\n",
      "[clustimage] >DEBUG> Iloc: [ True]\n",
      "[clustimage] >DEBUG> silscores: [    0.26642]\n",
      "[clustimage] >DEBUG> sillclust: [          3]\n",
      "[clustimage] >DEBUG> clustlabx: [[3 2 3 3 3 3 3 3 1 1 1 1 1 1 2]]\n",
      "[clustimage] >INFO> Compute dendrogram threshold.\n",
      "[clustimage] >INFO> Optimal number clusters detected: [3].\n",
      "[clustimage] >INFO> Fin.\n"
     ]
    },
    {
     "name": "stdout",
     "output_type": "stream",
     "text": [
      "name: image_prtl_1118.png, preds: [1, 2, 1, 1, 1, 1, 1, 1, 0, 0, 0, 0, 0, 0, 2], total boxes in : 15\n",
      "[pca] >Column labels are auto-completed.\n",
      "[pca] >The PCA reduction is performed to capture [95.0%] explained variance using the [2400] columns of the input data.\n",
      "[pca] >Fit using PCA.\n",
      "[pca] >Compute loadings and PCs.\n",
      "[pca] >Compute explained variance.\n",
      "[pca] >Number of components is [9] that covers the [95.00%] explained variance.\n",
      "[pca] >The PCA reduction is performed on the [2400] columns of the input dataframe.\n",
      "[pca] >Fit using PCA.\n",
      "[pca] >Compute loadings and PCs.\n"
     ]
    },
    {
     "name": "stderr",
     "output_type": "stream",
     "text": [
      "[clustimage] >INFO> Saving data in memory.\n",
      "[clustimage] >INFO> Fit with method=[agglomerative], metric=[euclidean], linkage=[ward]\n",
      "[clustimage] >INFO> Evaluate using silhouette.\n",
      "[clusteval] >INFO: 100%|█████████████████████████████████████████████████████████████████| 1/1 [00:00<00:00, 717.47it/s]\n",
      "[clustimage] >DEBUG> [[2 1 1 1 2 1 1 3 3 2 3 3 2 2]]\n",
      "[clustimage] >DEBUG> Iloc: [ True]\n",
      "[clustimage] >DEBUG> silscores: [    0.31986]\n",
      "[clustimage] >DEBUG> sillclust: [          3]\n",
      "[clustimage] >DEBUG> clustlabx: [[2 1 1 1 2 1 1 3 3 2 3 3 2 2]]\n",
      "[clustimage] >INFO> Compute dendrogram threshold.\n",
      "[clustimage] >INFO> Optimal number clusters detected: [3].\n",
      "[clustimage] >INFO> Fin.\n"
     ]
    },
    {
     "name": "stdout",
     "output_type": "stream",
     "text": [
      "name: image_prtl_1121.png, preds: [1, 0, 0, 0, 1, 0, 0, 2, 2, 1, 2, 2, 1, 1], total boxes in : 14\n",
      "[pca] >Column labels are auto-completed.\n",
      "[pca] >The PCA reduction is performed to capture [95.0%] explained variance using the [2400] columns of the input data.\n",
      "[pca] >Fit using PCA.\n",
      "[pca] >Compute loadings and PCs.\n",
      "[pca] >Compute explained variance.\n",
      "[pca] >Number of components is [12] that covers the [95.00%] explained variance.\n",
      "[pca] >The PCA reduction is performed on the [2400] columns of the input dataframe.\n",
      "[pca] >Fit using PCA.\n",
      "[pca] >Compute loadings and PCs.\n"
     ]
    },
    {
     "name": "stderr",
     "output_type": "stream",
     "text": [
      "[clustimage] >INFO> Saving data in memory.\n",
      "[clustimage] >INFO> Fit with method=[agglomerative], metric=[euclidean], linkage=[ward]\n",
      "[clustimage] >INFO> Evaluate using silhouette.\n",
      "[clusteval] >INFO: 100%|█████████████████████████████████████████████████████████████████| 1/1 [00:00<00:00, 800.44it/s]\n",
      "[clustimage] >DEBUG> [[1 2 2 2 2 3 2 2 2 2 1 1 1 1 1 1 1]]\n",
      "[clustimage] >DEBUG> Iloc: [ True]\n",
      "[clustimage] >DEBUG> silscores: [    0.32516]\n",
      "[clustimage] >DEBUG> sillclust: [          3]\n",
      "[clustimage] >DEBUG> clustlabx: [[1 2 2 2 2 3 2 2 2 2 1 1 1 1 1 1 1]]\n",
      "[clustimage] >INFO> Compute dendrogram threshold.\n",
      "[clustimage] >INFO> Optimal number clusters detected: [3].\n",
      "[clustimage] >INFO> Fin.\n"
     ]
    },
    {
     "name": "stdout",
     "output_type": "stream",
     "text": [
      "name: image_prtl_1128.png, preds: [0, 1, 1, 1, 1, 2, 1, 1, 1, 1, 0, 0, 0, 0, 0, 0, 0], total boxes in : 17\n",
      "[pca] >Column labels are auto-completed.\n",
      "[pca] >The PCA reduction is performed to capture [95.0%] explained variance using the [2400] columns of the input data.\n",
      "[pca] >Fit using PCA.\n",
      "[pca] >Compute loadings and PCs.\n",
      "[pca] >Compute explained variance.\n",
      "[pca] >Number of components is [12] that covers the [95.00%] explained variance.\n",
      "[pca] >The PCA reduction is performed on the [2400] columns of the input dataframe.\n",
      "[pca] >Fit using PCA.\n",
      "[pca] >Compute loadings and PCs.\n"
     ]
    },
    {
     "name": "stderr",
     "output_type": "stream",
     "text": [
      "[clustimage] >INFO> Saving data in memory.\n",
      "[clustimage] >INFO> Fit with method=[agglomerative], metric=[euclidean], linkage=[ward]\n",
      "[clustimage] >INFO> Evaluate using silhouette.\n",
      "[clusteval] >INFO: 100%|█████████████████████████████████████████████████████████████████| 1/1 [00:00<00:00, 807.37it/s]\n",
      "[clustimage] >DEBUG> [[3 3 3 2 3 2 1 2 1 1 1 1 1 1 1 1 3 2 2]]\n",
      "[clustimage] >DEBUG> Iloc: [ True]\n",
      "[clustimage] >DEBUG> silscores: [    0.23476]\n",
      "[clustimage] >DEBUG> sillclust: [          3]\n",
      "[clustimage] >DEBUG> clustlabx: [[3 3 3 2 3 2 1 2 1 1 1 1 1 1 1 1 3 2 2]]\n",
      "[clustimage] >INFO> Compute dendrogram threshold.\n",
      "[clustimage] >INFO> Optimal number clusters detected: [3].\n",
      "[clustimage] >INFO> Fin.\n"
     ]
    },
    {
     "name": "stdout",
     "output_type": "stream",
     "text": [
      "name: image_prtl_1141.png, preds: [0, 0, 0, 2, 0, 2, 1, 2, 1, 1, 1, 1, 1, 1, 1, 1, 0, 2, 2], total boxes in : 19\n",
      "[pca] >Column labels are auto-completed.\n",
      "[pca] >The PCA reduction is performed to capture [95.0%] explained variance using the [2400] columns of the input data.\n",
      "[pca] >Fit using PCA.\n",
      "[pca] >Compute loadings and PCs.\n",
      "[pca] >Compute explained variance.\n",
      "[pca] >Number of components is [12] that covers the [95.00%] explained variance.\n",
      "[pca] >The PCA reduction is performed on the [2400] columns of the input dataframe.\n",
      "[pca] >Fit using PCA.\n",
      "[pca] >Compute loadings and PCs.\n"
     ]
    },
    {
     "name": "stderr",
     "output_type": "stream",
     "text": [
      "[clustimage] >INFO> Saving data in memory.\n",
      "[clustimage] >INFO> Fit with method=[agglomerative], metric=[euclidean], linkage=[ward]\n",
      "[clustimage] >INFO> Evaluate using silhouette.\n",
      "[clusteval] >INFO: 100%|█████████████████████████████████████████████████████████████████| 1/1 [00:00<00:00, 336.38it/s]\n",
      "[clustimage] >DEBUG> [[1 1 1 1 1 1 1 3 2 2 2 1 2 2 2 2 2]]\n",
      "[clustimage] >DEBUG> Iloc: [ True]\n",
      "[clustimage] >DEBUG> silscores: [    0.30517]\n",
      "[clustimage] >DEBUG> sillclust: [          3]\n",
      "[clustimage] >DEBUG> clustlabx: [[1 1 1 1 1 1 1 3 2 2 2 1 2 2 2 2 2]]\n",
      "[clustimage] >INFO> Compute dendrogram threshold.\n",
      "[clustimage] >INFO> Optimal number clusters detected: [3].\n",
      "[clustimage] >INFO> Fin.\n"
     ]
    },
    {
     "name": "stdout",
     "output_type": "stream",
     "text": [
      "name: image_prtl_1144.png, preds: [1, 1, 1, 1, 1, 1, 1, 2, 0, 0, 0, 1, 0, 0, 0, 0, 0], total boxes in : 17\n",
      "[pca] >Column labels are auto-completed.\n",
      "[pca] >The PCA reduction is performed to capture [95.0%] explained variance using the [2400] columns of the input data.\n",
      "[pca] >Fit using PCA.\n",
      "[pca] >Compute loadings and PCs.\n",
      "[pca] >Compute explained variance.\n",
      "[pca] >Number of components is [11] that covers the [95.00%] explained variance.\n",
      "[pca] >The PCA reduction is performed on the [2400] columns of the input dataframe.\n",
      "[pca] >Fit using PCA.\n",
      "[pca] >Compute loadings and PCs.\n"
     ]
    },
    {
     "name": "stderr",
     "output_type": "stream",
     "text": [
      "[clustimage] >INFO> Saving data in memory.\n",
      "[clustimage] >INFO> Fit with method=[agglomerative], metric=[euclidean], linkage=[ward]\n",
      "[clustimage] >INFO> Evaluate using silhouette.\n",
      "[clusteval] >INFO: 100%|█████████████████████████████████████████████████████████████████| 1/1 [00:00<00:00, 879.49it/s]\n",
      "[clustimage] >DEBUG> [[1 1 2 1 1 3 1 1 1 2 2 2 3 2 2]]\n",
      "[clustimage] >DEBUG> Iloc: [ True]\n",
      "[clustimage] >DEBUG> silscores: [    0.20158]\n",
      "[clustimage] >DEBUG> sillclust: [          3]\n",
      "[clustimage] >DEBUG> clustlabx: [[1 1 2 1 1 3 1 1 1 2 2 2 3 2 2]]\n",
      "[clustimage] >INFO> Compute dendrogram threshold.\n",
      "[clustimage] >INFO> Optimal number clusters detected: [3].\n",
      "[clustimage] >INFO> Fin.\n"
     ]
    },
    {
     "name": "stdout",
     "output_type": "stream",
     "text": [
      "name: image_prtl_1147.png, preds: [1, 1, 0, 1, 1, 2, 1, 1, 1, 0, 0, 0, 2, 0, 0], total boxes in : 15\n",
      "[pca] >Column labels are auto-completed.\n",
      "[pca] >The PCA reduction is performed to capture [95.0%] explained variance using the [2400] columns of the input data.\n",
      "[pca] >Fit using PCA.\n",
      "[pca] >Compute loadings and PCs.\n",
      "[pca] >Compute explained variance.\n",
      "[pca] >Number of components is [11] that covers the [95.00%] explained variance.\n",
      "[pca] >The PCA reduction is performed on the [2400] columns of the input dataframe.\n",
      "[pca] >Fit using PCA.\n",
      "[pca] >Compute loadings and PCs.\n"
     ]
    },
    {
     "name": "stderr",
     "output_type": "stream",
     "text": [
      "[clustimage] >INFO> Saving data in memory.\n",
      "[clustimage] >INFO> Fit with method=[agglomerative], metric=[euclidean], linkage=[ward]\n",
      "[clustimage] >INFO> Evaluate using silhouette.\n",
      "[clusteval] >INFO: 100%|█████████████████████████████████████████████████████████████████| 1/1 [00:00<00:00, 928.15it/s]\n",
      "[clustimage] >DEBUG> [[3 2 2 2 2 2 1 1 1 1 1 1 1 2 2]]\n",
      "[clustimage] >DEBUG> Iloc: [ True]\n",
      "[clustimage] >DEBUG> silscores: [    0.26975]\n",
      "[clustimage] >DEBUG> sillclust: [          3]\n",
      "[clustimage] >DEBUG> clustlabx: [[3 2 2 2 2 2 1 1 1 1 1 1 1 2 2]]\n",
      "[clustimage] >INFO> Compute dendrogram threshold.\n",
      "[clustimage] >INFO> Optimal number clusters detected: [3].\n",
      "[clustimage] >INFO> Fin.\n"
     ]
    },
    {
     "name": "stdout",
     "output_type": "stream",
     "text": [
      "name: image_prtl_1159.png, preds: [2, 0, 0, 0, 0, 0, 1, 1, 1, 1, 1, 1, 1, 0, 0], total boxes in : 15\n",
      "[pca] >Column labels are auto-completed.\n",
      "[pca] >The PCA reduction is performed to capture [95.0%] explained variance using the [2400] columns of the input data.\n",
      "[pca] >Fit using PCA.\n",
      "[pca] >Compute loadings and PCs.\n",
      "[pca] >Compute explained variance.\n",
      "[pca] >Number of components is [8] that covers the [95.00%] explained variance.\n",
      "[pca] >The PCA reduction is performed on the [2400] columns of the input dataframe.\n",
      "[pca] >Fit using PCA.\n",
      "[pca] >Compute loadings and PCs.\n"
     ]
    },
    {
     "name": "stderr",
     "output_type": "stream",
     "text": [
      "[clustimage] >INFO> Saving data in memory.\n",
      "[clustimage] >INFO> Fit with method=[agglomerative], metric=[euclidean], linkage=[ward]\n",
      "[clustimage] >INFO> Evaluate using silhouette.\n",
      "[clusteval] >INFO: 100%|█████████████████████████████████████████████████████████████████| 1/1 [00:00<00:00, 518.39it/s]\n",
      "[clustimage] >DEBUG> [[1 2 1 1 1 1 2 3 2 2 2]]\n",
      "[clustimage] >DEBUG> Iloc: [ True]\n",
      "[clustimage] >DEBUG> silscores: [    0.27083]\n",
      "[clustimage] >DEBUG> sillclust: [          3]\n",
      "[clustimage] >DEBUG> clustlabx: [[1 2 1 1 1 1 2 3 2 2 2]]\n",
      "[clustimage] >INFO> Compute dendrogram threshold.\n",
      "[clustimage] >INFO> Optimal number clusters detected: [3].\n",
      "[clustimage] >INFO> Fin.\n"
     ]
    },
    {
     "name": "stdout",
     "output_type": "stream",
     "text": [
      "name: image_prtl_1162.png, preds: [1, 0, 1, 1, 1, 1, 0, 2, 0, 0, 0], total boxes in : 11\n",
      "[pca] >Column labels are auto-completed.\n",
      "[pca] >The PCA reduction is performed to capture [95.0%] explained variance using the [2400] columns of the input data.\n",
      "[pca] >Fit using PCA.\n",
      "[pca] >Compute loadings and PCs.\n",
      "[pca] >Compute explained variance.\n",
      "[pca] >Number of components is [11] that covers the [95.00%] explained variance.\n",
      "[pca] >The PCA reduction is performed on the [2400] columns of the input dataframe.\n",
      "[pca] >Fit using PCA.\n",
      "[pca] >Compute loadings and PCs.\n"
     ]
    },
    {
     "name": "stderr",
     "output_type": "stream",
     "text": [
      "[clustimage] >INFO> Saving data in memory.\n",
      "[clustimage] >INFO> Fit with method=[agglomerative], metric=[euclidean], linkage=[ward]\n",
      "[clustimage] >INFO> Evaluate using silhouette.\n",
      "[clusteval] >INFO: 100%|█████████████████████████████████████████████████████████████████| 1/1 [00:00<00:00, 849.74it/s]\n",
      "[clustimage] >DEBUG> [[1 1 1 1 1 2 2 3 2 1 2 2 2 1 2 2]]\n",
      "[clustimage] >DEBUG> Iloc: [ True]\n",
      "[clustimage] >DEBUG> silscores: [    0.34423]\n",
      "[clustimage] >DEBUG> sillclust: [          3]\n",
      "[clustimage] >DEBUG> clustlabx: [[1 1 1 1 1 2 2 3 2 1 2 2 2 1 2 2]]\n",
      "[clustimage] >INFO> Compute dendrogram threshold.\n",
      "[clustimage] >INFO> Optimal number clusters detected: [3].\n",
      "[clustimage] >INFO> Fin.\n"
     ]
    },
    {
     "name": "stdout",
     "output_type": "stream",
     "text": [
      "name: image_prtl_1164.png, preds: [0, 0, 0, 0, 0, 1, 1, 2, 1, 0, 1, 1, 1, 0, 1, 1], total boxes in : 16\n",
      "[pca] >Column labels are auto-completed.\n",
      "[pca] >The PCA reduction is performed to capture [95.0%] explained variance using the [2400] columns of the input data.\n",
      "[pca] >Fit using PCA.\n",
      "[pca] >Compute loadings and PCs.\n",
      "[pca] >Compute explained variance.\n",
      "[pca] >Number of components is [11] that covers the [95.00%] explained variance.\n",
      "[pca] >The PCA reduction is performed on the [2400] columns of the input dataframe.\n",
      "[pca] >Fit using PCA.\n",
      "[pca] >Compute loadings and PCs.\n"
     ]
    },
    {
     "name": "stderr",
     "output_type": "stream",
     "text": [
      "[clustimage] >INFO> Saving data in memory.\n",
      "[clustimage] >INFO> Fit with method=[agglomerative], metric=[euclidean], linkage=[ward]\n",
      "[clustimage] >INFO> Evaluate using silhouette.\n",
      "[clusteval] >INFO: 100%|█████████████████████████████████████████████████████████████████| 1/1 [00:00<00:00, 759.84it/s]\n",
      "[clustimage] >DEBUG> [[1 1 1 1 2 1 1 2 3 2 2 2 3 3 2 2]]\n",
      "[clustimage] >DEBUG> Iloc: [ True]\n",
      "[clustimage] >DEBUG> silscores: [    0.21078]\n",
      "[clustimage] >DEBUG> sillclust: [          3]\n",
      "[clustimage] >DEBUG> clustlabx: [[1 1 1 1 2 1 1 2 3 2 2 2 3 3 2 2]]\n",
      "[clustimage] >INFO> Compute dendrogram threshold.\n",
      "[clustimage] >INFO> Optimal number clusters detected: [3].\n",
      "[clustimage] >INFO> Fin.\n"
     ]
    },
    {
     "name": "stdout",
     "output_type": "stream",
     "text": [
      "name: image_prtl_1166.png, preds: [0, 0, 0, 0, 1, 0, 0, 1, 2, 1, 1, 1, 2, 2, 1, 1], total boxes in : 17\n",
      "[pca] >Column labels are auto-completed.\n",
      "[pca] >The PCA reduction is performed to capture [95.0%] explained variance using the [2400] columns of the input data.\n",
      "[pca] >Fit using PCA.\n",
      "[pca] >Compute loadings and PCs.\n",
      "[pca] >Compute explained variance.\n",
      "[pca] >Number of components is [10] that covers the [95.00%] explained variance.\n",
      "[pca] >The PCA reduction is performed on the [2400] columns of the input dataframe.\n",
      "[pca] >Fit using PCA.\n",
      "[pca] >Compute loadings and PCs.\n"
     ]
    },
    {
     "name": "stderr",
     "output_type": "stream",
     "text": [
      "[clustimage] >INFO> Saving data in memory.\n",
      "[clustimage] >INFO> Fit with method=[agglomerative], metric=[euclidean], linkage=[ward]\n",
      "[clustimage] >INFO> Evaluate using silhouette.\n",
      "[clusteval] >INFO: 100%|█████████████████████████████████████████████████████████████████| 1/1 [00:00<00:00, 856.33it/s]\n",
      "[clustimage] >DEBUG> [[2 1 2 2 1 1 2 3 2 1 2 2 1 1 1 2 1 1]]\n",
      "[clustimage] >DEBUG> Iloc: [ True]\n",
      "[clustimage] >DEBUG> silscores: [     0.4879]\n",
      "[clustimage] >DEBUG> sillclust: [          3]\n",
      "[clustimage] >DEBUG> clustlabx: [[2 1 2 2 1 1 2 3 2 1 2 2 1 1 1 2 1 1]]\n",
      "[clustimage] >INFO> Compute dendrogram threshold.\n",
      "[clustimage] >INFO> Optimal number clusters detected: [3].\n",
      "[clustimage] >INFO> Fin.\n"
     ]
    },
    {
     "name": "stdout",
     "output_type": "stream",
     "text": [
      "name: image_prtl_1182.png, preds: [1, 0, 1, 1, 0, 0, 1, 2, 1, 0, 1, 1, 0, 0, 0, 1, 0, 0], total boxes in : 18\n",
      "[pca] >Column labels are auto-completed.\n",
      "[pca] >The PCA reduction is performed to capture [95.0%] explained variance using the [2400] columns of the input data.\n",
      "[pca] >Fit using PCA.\n",
      "[pca] >Compute loadings and PCs.\n",
      "[pca] >Compute explained variance.\n",
      "[pca] >Number of components is [9] that covers the [95.00%] explained variance.\n",
      "[pca] >The PCA reduction is performed on the [2400] columns of the input dataframe.\n",
      "[pca] >Fit using PCA.\n",
      "[pca] >Compute loadings and PCs.\n"
     ]
    },
    {
     "name": "stderr",
     "output_type": "stream",
     "text": [
      "[clustimage] >INFO> Saving data in memory.\n",
      "[clustimage] >INFO> Fit with method=[agglomerative], metric=[euclidean], linkage=[ward]\n",
      "[clustimage] >INFO> Evaluate using silhouette.\n",
      "[clusteval] >INFO: 100%|█████████████████████████████████████████████████████████████████| 1/1 [00:00<00:00, 643.10it/s]\n",
      "[clustimage] >DEBUG> [[1 2 2 2 1 1 1 3 1 2 1 1 2]]\n",
      "[clustimage] >DEBUG> Iloc: [ True]\n",
      "[clustimage] >DEBUG> silscores: [    0.28851]\n",
      "[clustimage] >DEBUG> sillclust: [          3]\n",
      "[clustimage] >DEBUG> clustlabx: [[1 2 2 2 1 1 1 3 1 2 1 1 2]]\n",
      "[clustimage] >INFO> Compute dendrogram threshold.\n",
      "[clustimage] >INFO> Optimal number clusters detected: [3].\n",
      "[clustimage] >INFO> Fin.\n"
     ]
    },
    {
     "name": "stdout",
     "output_type": "stream",
     "text": [
      "name: image_prtl_1186.png, preds: [0, 1, 1, 1, 0, 0, 0, 2, 0, 1, 0, 0, 1], total boxes in : 14\n",
      "[pca] >Column labels are auto-completed.\n",
      "[pca] >The PCA reduction is performed to capture [95.0%] explained variance using the [2400] columns of the input data.\n",
      "[pca] >Fit using PCA.\n",
      "[pca] >Compute loadings and PCs.\n",
      "[pca] >Compute explained variance.\n",
      "[pca] >Number of components is [12] that covers the [95.00%] explained variance.\n",
      "[pca] >The PCA reduction is performed on the [2400] columns of the input dataframe.\n",
      "[pca] >Fit using PCA.\n",
      "[pca] >Compute loadings and PCs.\n"
     ]
    },
    {
     "name": "stderr",
     "output_type": "stream",
     "text": [
      "[clustimage] >INFO> Saving data in memory.\n",
      "[clustimage] >INFO> Fit with method=[agglomerative], metric=[euclidean], linkage=[ward]\n",
      "[clustimage] >INFO> Evaluate using silhouette.\n",
      "[clusteval] >INFO: 100%|█████████████████████████████████████████████████████████████████| 1/1 [00:00<00:00, 825.33it/s]\n",
      "[clustimage] >DEBUG> [[3 2 2 1 2 2 1 2 3 1 2 1 1 1 1 2]]\n",
      "[clustimage] >DEBUG> Iloc: [ True]\n",
      "[clustimage] >DEBUG> silscores: [    0.28847]\n",
      "[clustimage] >DEBUG> sillclust: [          3]\n",
      "[clustimage] >DEBUG> clustlabx: [[3 2 2 1 2 2 1 2 3 1 2 1 1 1 1 2]]\n",
      "[clustimage] >INFO> Compute dendrogram threshold.\n",
      "[clustimage] >INFO> Optimal number clusters detected: [3].\n",
      "[clustimage] >INFO> Fin.\n"
     ]
    },
    {
     "name": "stdout",
     "output_type": "stream",
     "text": [
      "name: image_prtl_1187.png, preds: [2, 1, 1, 0, 1, 1, 0, 1, 2, 0, 1, 0, 0, 0, 0, 1], total boxes in : 16\n",
      "[pca] >Column labels are auto-completed.\n",
      "[pca] >The PCA reduction is performed to capture [95.0%] explained variance using the [2400] columns of the input data.\n",
      "[pca] >Fit using PCA.\n",
      "[pca] >Compute loadings and PCs.\n",
      "[pca] >Compute explained variance.\n",
      "[pca] >Number of components is [9] that covers the [95.00%] explained variance.\n",
      "[pca] >The PCA reduction is performed on the [2400] columns of the input dataframe.\n",
      "[pca] >Fit using PCA.\n",
      "[pca] >Compute loadings and PCs.\n"
     ]
    },
    {
     "name": "stderr",
     "output_type": "stream",
     "text": [
      "[clustimage] >INFO> Saving data in memory.\n",
      "[clustimage] >INFO> Fit with method=[agglomerative], metric=[euclidean], linkage=[ward]\n",
      "[clustimage] >INFO> Evaluate using silhouette.\n",
      "[clusteval] >INFO: 100%|█████████████████████████████████████████████████████████████████| 1/1 [00:00<00:00, 651.39it/s]\n",
      "[clustimage] >DEBUG> [[2 2 2 2 1 1 2 1 2 1 3 1 2 1]]\n",
      "[clustimage] >DEBUG> Iloc: [ True]\n",
      "[clustimage] >DEBUG> silscores: [    0.37239]\n",
      "[clustimage] >DEBUG> sillclust: [          3]\n",
      "[clustimage] >DEBUG> clustlabx: [[2 2 2 2 1 1 2 1 2 1 3 1 2 1]]\n",
      "[clustimage] >INFO> Compute dendrogram threshold.\n",
      "[clustimage] >INFO> Optimal number clusters detected: [3].\n",
      "[clustimage] >INFO> Fin.\n"
     ]
    },
    {
     "name": "stdout",
     "output_type": "stream",
     "text": [
      "name: image_prtl_1197.png, preds: [1, 1, 1, 1, 0, 0, 1, 0, 1, 0, 2, 0, 1, 0], total boxes in : 14\n",
      "[pca] >Column labels are auto-completed.\n",
      "[pca] >The PCA reduction is performed to capture [95.0%] explained variance using the [2400] columns of the input data.\n",
      "[pca] >Fit using PCA.\n",
      "[pca] >Compute loadings and PCs.\n",
      "[pca] >Compute explained variance.\n",
      "[pca] >Number of components is [10] that covers the [95.00%] explained variance.\n",
      "[pca] >The PCA reduction is performed on the [2400] columns of the input dataframe.\n",
      "[pca] >Fit using PCA.\n",
      "[pca] >Compute loadings and PCs.\n"
     ]
    },
    {
     "name": "stderr",
     "output_type": "stream",
     "text": [
      "[clustimage] >INFO> Saving data in memory.\n",
      "[clustimage] >INFO> Fit with method=[agglomerative], metric=[euclidean], linkage=[ward]\n",
      "[clustimage] >INFO> Evaluate using silhouette.\n",
      "[clusteval] >INFO: 100%|█████████████████████████████████████████████████████████████████| 1/1 [00:00<00:00, 786.04it/s]\n",
      "[clustimage] >DEBUG> [[3 4 3 3 3 1 1 1 3 1 1 1 1 3 2]]\n",
      "[clustimage] >DEBUG> Iloc: [ True]\n",
      "[clustimage] >DEBUG> silscores: [    0.33681]\n",
      "[clustimage] >DEBUG> sillclust: [          4]\n",
      "[clustimage] >DEBUG> clustlabx: [[3 4 3 3 3 1 1 1 3 1 1 1 1 3 2]]\n",
      "[clustimage] >INFO> Compute dendrogram threshold.\n",
      "[clustimage] >INFO> Optimal number clusters detected: [4].\n",
      "[clustimage] >INFO> Fin.\n"
     ]
    },
    {
     "name": "stdout",
     "output_type": "stream",
     "text": [
      "name: image_prtl_1200.png, preds: [1, 2, 1, 1, 1, 0, 0, 0, 1, 0, 0, 0, 0, 1, 3], total boxes in : 15\n",
      "[pca] >Column labels are auto-completed.\n",
      "[pca] >The PCA reduction is performed to capture [95.0%] explained variance using the [2400] columns of the input data.\n",
      "[pca] >Fit using PCA.\n",
      "[pca] >Compute loadings and PCs.\n",
      "[pca] >Compute explained variance.\n",
      "[pca] >Number of components is [13] that covers the [95.00%] explained variance.\n",
      "[pca] >The PCA reduction is performed on the [2400] columns of the input dataframe.\n",
      "[pca] >Fit using PCA.\n",
      "[pca] >Compute loadings and PCs.\n"
     ]
    },
    {
     "name": "stderr",
     "output_type": "stream",
     "text": [
      "[clustimage] >INFO> Saving data in memory.\n",
      "[clustimage] >INFO> Fit with method=[agglomerative], metric=[euclidean], linkage=[ward]\n",
      "[clustimage] >INFO> Evaluate using silhouette.\n",
      "[clusteval] >INFO: 100%|█████████████████████████████████████████████████████████████████| 1/1 [00:00<00:00, 606.38it/s]\n",
      "[clustimage] >DEBUG> [[1 2 2 1 1 1 1 2 2 1 2 1 1 1 2 2 2 2]]\n",
      "[clustimage] >DEBUG> Iloc: [ True]\n",
      "[clustimage] >DEBUG> silscores: [    0.19745]\n",
      "[clustimage] >DEBUG> sillclust: [          2]\n",
      "[clustimage] >DEBUG> clustlabx: [[1 2 2 1 1 1 1 2 2 1 2 1 1 1 2 2 2 2]]\n",
      "[clustimage] >INFO> Compute dendrogram threshold.\n",
      "[clustimage] >INFO> Optimal number clusters detected: [2].\n",
      "[clustimage] >INFO> Fin.\n"
     ]
    },
    {
     "name": "stdout",
     "output_type": "stream",
     "text": [
      "name: image_prtl_1201.png, preds: [0, 1, 1, 0, 0, 0, 0, 1, 1, 0, 1, 0, 0, 0, 1, 1, 1, 1], total boxes in : 18\n",
      "[pca] >Column labels are auto-completed.\n",
      "[pca] >The PCA reduction is performed to capture [95.0%] explained variance using the [2400] columns of the input data.\n",
      "[pca] >Fit using PCA.\n",
      "[pca] >Compute loadings and PCs.\n",
      "[pca] >Compute explained variance.\n",
      "[pca] >Number of components is [10] that covers the [95.00%] explained variance.\n",
      "[pca] >The PCA reduction is performed on the [2400] columns of the input dataframe.\n",
      "[pca] >Fit using PCA.\n",
      "[pca] >Compute loadings and PCs.\n"
     ]
    },
    {
     "name": "stderr",
     "output_type": "stream",
     "text": [
      "[clustimage] >INFO> Saving data in memory.\n",
      "[clustimage] >INFO> Fit with method=[agglomerative], metric=[euclidean], linkage=[ward]\n",
      "[clustimage] >INFO> Evaluate using silhouette.\n",
      "[clusteval] >INFO: 100%|█████████████████████████████████████████████████████████████████| 1/1 [00:00<00:00, 821.29it/s]\n",
      "[clustimage] >DEBUG> [[2 1 3 1 2 2 3 2 1 3 3 2 1]]\n",
      "[clustimage] >DEBUG> Iloc: [ True]\n",
      "[clustimage] >DEBUG> silscores: [    0.25464]\n",
      "[clustimage] >DEBUG> sillclust: [          3]\n",
      "[clustimage] >DEBUG> clustlabx: [[2 1 3 1 2 2 3 2 1 3 3 2 1]]\n",
      "[clustimage] >INFO> Compute dendrogram threshold.\n",
      "[clustimage] >INFO> Optimal number clusters detected: [3].\n",
      "[clustimage] >INFO> Fin.\n"
     ]
    },
    {
     "name": "stdout",
     "output_type": "stream",
     "text": [
      "name: image_prtl_1208.png, preds: [1, 2, 0, 2, 1, 1, 0, 1, 2, 0, 0, 1, 2], total boxes in : 13\n",
      "[pca] >Column labels are auto-completed.\n",
      "[pca] >The PCA reduction is performed to capture [95.0%] explained variance using the [2400] columns of the input data.\n",
      "[pca] >Fit using PCA.\n",
      "[pca] >Compute loadings and PCs.\n",
      "[pca] >Compute explained variance.\n",
      "[pca] >Number of components is [7] that covers the [95.00%] explained variance.\n",
      "[pca] >The PCA reduction is performed on the [2400] columns of the input dataframe.\n",
      "[pca] >Fit using PCA.\n",
      "[pca] >Compute loadings and PCs.\n"
     ]
    },
    {
     "name": "stderr",
     "output_type": "stream",
     "text": [
      "[clustimage] >INFO> Saving data in memory.\n",
      "[clustimage] >INFO> Fit with method=[agglomerative], metric=[euclidean], linkage=[ward]\n",
      "[clustimage] >INFO> Evaluate using silhouette.\n",
      "[clusteval] >INFO: 100%|█████████████████████████████████████████████████████████████████| 1/1 [00:00<00:00, 777.59it/s]\n",
      "[clustimage] >DEBUG> [[2 2 2 2 1 1 2 1 1 1 3]]\n",
      "[clustimage] >DEBUG> Iloc: [ True]\n",
      "[clustimage] >DEBUG> silscores: [    0.33854]\n",
      "[clustimage] >DEBUG> sillclust: [          3]\n",
      "[clustimage] >DEBUG> clustlabx: [[2 2 2 2 1 1 2 1 1 1 3]]\n",
      "[clustimage] >INFO> Compute dendrogram threshold.\n",
      "[clustimage] >INFO> Optimal number clusters detected: [3].\n",
      "[clustimage] >INFO> Fin.\n"
     ]
    },
    {
     "name": "stdout",
     "output_type": "stream",
     "text": [
      "name: image_prtl_1217.png, preds: [1, 1, 1, 1, 0, 0, 1, 0, 0, 0, 2], total boxes in : 11\n",
      "[pca] >Column labels are auto-completed.\n",
      "[pca] >The PCA reduction is performed to capture [95.0%] explained variance using the [2400] columns of the input data.\n",
      "[pca] >Fit using PCA.\n",
      "[pca] >Compute loadings and PCs.\n",
      "[pca] >Compute explained variance.\n",
      "[pca] >Number of components is [12] that covers the [95.00%] explained variance.\n",
      "[pca] >The PCA reduction is performed on the [2400] columns of the input dataframe.\n",
      "[pca] >Fit using PCA.\n",
      "[pca] >Compute loadings and PCs.\n"
     ]
    },
    {
     "name": "stderr",
     "output_type": "stream",
     "text": [
      "[clustimage] >INFO> Saving data in memory.\n",
      "[clustimage] >INFO> Fit with method=[agglomerative], metric=[euclidean], linkage=[ward]\n",
      "[clustimage] >INFO> Evaluate using silhouette.\n",
      "[clusteval] >INFO: 100%|██████████████████████████████████████████████████████████████████| 1/1 [00:00<00:00, 49.22it/s]\n",
      "[clustimage] >DEBUG> [[1 2 2 2 2 1 2 2 3 2 1 2 1 1 2 1 1 1]]\n",
      "[clustimage] >DEBUG> Iloc: [ True]\n",
      "[clustimage] >DEBUG> silscores: [    0.32463]\n",
      "[clustimage] >DEBUG> sillclust: [          3]\n",
      "[clustimage] >DEBUG> clustlabx: [[1 2 2 2 2 1 2 2 3 2 1 2 1 1 2 1 1 1]]\n",
      "[clustimage] >INFO> Compute dendrogram threshold.\n",
      "[clustimage] >INFO> Optimal number clusters detected: [3].\n",
      "[clustimage] >INFO> Fin.\n"
     ]
    },
    {
     "name": "stdout",
     "output_type": "stream",
     "text": [
      "name: image_prtl_1218.png, preds: [0, 1, 1, 1, 1, 0, 1, 1, 2, 1, 0, 1, 0, 0, 1, 0, 0, 0], total boxes in : 18\n",
      "[pca] >Column labels are auto-completed.\n",
      "[pca] >The PCA reduction is performed to capture [95.0%] explained variance using the [2400] columns of the input data.\n",
      "[pca] >Fit using PCA.\n",
      "[pca] >Compute loadings and PCs.\n",
      "[pca] >Compute explained variance.\n",
      "[pca] >Number of components is [11] that covers the [95.00%] explained variance.\n",
      "[pca] >The PCA reduction is performed on the [2400] columns of the input dataframe.\n",
      "[pca] >Fit using PCA.\n",
      "[pca] >Compute loadings and PCs.\n"
     ]
    },
    {
     "name": "stderr",
     "output_type": "stream",
     "text": [
      "[clustimage] >INFO> Saving data in memory.\n",
      "[clustimage] >INFO> Fit with method=[agglomerative], metric=[euclidean], linkage=[ward]\n",
      "[clustimage] >INFO> Evaluate using silhouette.\n",
      "[clusteval] >INFO: 100%|█████████████████████████████████████████████████████████████████| 1/1 [00:00<00:00, 765.10it/s]\n",
      "[clustimage] >DEBUG> [[2 3 2 4 1 2 2 2 2 1 1 2 1 1 2 2]]\n",
      "[clustimage] >DEBUG> Iloc: [ True]\n",
      "[clustimage] >DEBUG> silscores: [    0.21312]\n",
      "[clustimage] >DEBUG> sillclust: [          4]\n",
      "[clustimage] >DEBUG> clustlabx: [[2 3 2 4 1 2 2 2 2 1 1 2 1 1 2 2]]\n",
      "[clustimage] >INFO> Compute dendrogram threshold.\n",
      "[clustimage] >INFO> Optimal number clusters detected: [4].\n",
      "[clustimage] >INFO> Fin.\n"
     ]
    },
    {
     "name": "stdout",
     "output_type": "stream",
     "text": [
      "name: image_prtl_1221.png, preds: [0, 3, 0, 2, 1, 0, 0, 0, 0, 1, 1, 0, 1, 1, 0, 0], total boxes in : 16\n",
      "[pca] >Column labels are auto-completed.\n",
      "[pca] >The PCA reduction is performed to capture [95.0%] explained variance using the [2400] columns of the input data.\n",
      "[pca] >Fit using PCA.\n",
      "[pca] >Compute loadings and PCs.\n",
      "[pca] >Compute explained variance.\n",
      "[pca] >Number of components is [10] that covers the [95.00%] explained variance.\n",
      "[pca] >The PCA reduction is performed on the [2400] columns of the input dataframe.\n",
      "[pca] >Fit using PCA.\n",
      "[pca] >Compute loadings and PCs.\n"
     ]
    },
    {
     "name": "stderr",
     "output_type": "stream",
     "text": [
      "[clustimage] >INFO> Saving data in memory.\n",
      "[clustimage] >INFO> Fit with method=[agglomerative], metric=[euclidean], linkage=[ward]\n",
      "[clustimage] >INFO> Evaluate using silhouette.\n",
      "[clusteval] >INFO: 100%|█████████████████████████████████████████████████████████████████| 1/1 [00:00<00:00, 869.29it/s]\n",
      "[clustimage] >DEBUG> [[3 2 2 2 1 1 1 2 2 2 1 1 1]]\n",
      "[clustimage] >DEBUG> Iloc: [ True]\n",
      "[clustimage] >DEBUG> silscores: [    0.20914]\n",
      "[clustimage] >DEBUG> sillclust: [          3]\n",
      "[clustimage] >DEBUG> clustlabx: [[3 2 2 2 1 1 1 2 2 2 1 1 1]]\n",
      "[clustimage] >INFO> Compute dendrogram threshold.\n",
      "[clustimage] >INFO> Optimal number clusters detected: [3].\n",
      "[clustimage] >INFO> Fin.\n"
     ]
    },
    {
     "name": "stdout",
     "output_type": "stream",
     "text": [
      "name: image_prtl_1223.png, preds: [2, 1, 1, 1, 0, 0, 0, 1, 1, 1, 0, 0, 0], total boxes in : 13\n",
      "[pca] >Column labels are auto-completed.\n",
      "[pca] >The PCA reduction is performed to capture [95.0%] explained variance using the [2400] columns of the input data.\n",
      "[pca] >Fit using PCA.\n",
      "[pca] >Compute loadings and PCs.\n",
      "[pca] >Compute explained variance.\n",
      "[pca] >Number of components is [11] that covers the [95.00%] explained variance.\n",
      "[pca] >The PCA reduction is performed on the [2400] columns of the input dataframe.\n",
      "[pca] >Fit using PCA.\n",
      "[pca] >Compute loadings and PCs.\n"
     ]
    },
    {
     "name": "stderr",
     "output_type": "stream",
     "text": [
      "[clustimage] >INFO> Saving data in memory.\n",
      "[clustimage] >INFO> Fit with method=[agglomerative], metric=[euclidean], linkage=[ward]\n",
      "[clustimage] >INFO> Evaluate using silhouette.\n",
      "[clusteval] >INFO: 100%|█████████████████████████████████████████████████████████████████| 1/1 [00:00<00:00, 793.17it/s]\n",
      "[clustimage] >DEBUG> [[2 2 1 1 2 2 1 1 1 3 2 1 2 2 1 1]]\n",
      "[clustimage] >DEBUG> Iloc: [ True]\n",
      "[clustimage] >DEBUG> silscores: [     0.3386]\n",
      "[clustimage] >DEBUG> sillclust: [          3]\n",
      "[clustimage] >DEBUG> clustlabx: [[2 2 1 1 2 2 1 1 1 3 2 1 2 2 1 1]]\n",
      "[clustimage] >INFO> Compute dendrogram threshold.\n",
      "[clustimage] >INFO> Optimal number clusters detected: [3].\n",
      "[clustimage] >INFO> Fin.\n"
     ]
    },
    {
     "name": "stdout",
     "output_type": "stream",
     "text": [
      "name: image_prtl_1225.png, preds: [1, 1, 0, 0, 1, 1, 0, 0, 0, 2, 1, 0, 1, 1, 0, 0], total boxes in : 16\n",
      "[pca] >Column labels are auto-completed.\n",
      "[pca] >The PCA reduction is performed to capture [95.0%] explained variance using the [2400] columns of the input data.\n",
      "[pca] >Fit using PCA.\n",
      "[pca] >Compute loadings and PCs.\n",
      "[pca] >Compute explained variance.\n",
      "[pca] >Number of components is [11] that covers the [95.00%] explained variance.\n",
      "[pca] >The PCA reduction is performed on the [2400] columns of the input dataframe.\n",
      "[pca] >Fit using PCA.\n",
      "[pca] >Compute loadings and PCs.\n"
     ]
    },
    {
     "name": "stderr",
     "output_type": "stream",
     "text": [
      "[clustimage] >INFO> Saving data in memory.\n",
      "[clustimage] >INFO> Fit with method=[agglomerative], metric=[euclidean], linkage=[ward]\n",
      "[clustimage] >INFO> Evaluate using silhouette.\n",
      "[clusteval] >INFO: 100%|█████████████████████████████████████████████████████████████████| 1/1 [00:00<00:00, 914.79it/s]\n",
      "[clustimage] >DEBUG> [[2 1 2 1 2 2 1 1 1 3 2 2 2 1 1]]\n",
      "[clustimage] >DEBUG> Iloc: [ True]\n",
      "[clustimage] >DEBUG> silscores: [     0.2445]\n",
      "[clustimage] >DEBUG> sillclust: [          3]\n",
      "[clustimage] >DEBUG> clustlabx: [[2 1 2 1 2 2 1 1 1 3 2 2 2 1 1]]\n",
      "[clustimage] >INFO> Compute dendrogram threshold.\n",
      "[clustimage] >INFO> Optimal number clusters detected: [3].\n",
      "[clustimage] >INFO> Fin.\n"
     ]
    },
    {
     "name": "stdout",
     "output_type": "stream",
     "text": [
      "name: image_prtl_1227.png, preds: [1, 0, 1, 0, 1, 1, 0, 0, 0, 2, 1, 1, 1, 0, 0], total boxes in : 15\n",
      "[pca] >Column labels are auto-completed.\n",
      "[pca] >The PCA reduction is performed to capture [95.0%] explained variance using the [2400] columns of the input data.\n",
      "[pca] >Fit using PCA.\n",
      "[pca] >Compute loadings and PCs.\n",
      "[pca] >Compute explained variance.\n",
      "[pca] >Number of components is [10] that covers the [95.00%] explained variance.\n",
      "[pca] >The PCA reduction is performed on the [2400] columns of the input dataframe.\n",
      "[pca] >Fit using PCA.\n",
      "[pca] >Compute loadings and PCs.\n"
     ]
    },
    {
     "name": "stderr",
     "output_type": "stream",
     "text": [
      "[clustimage] >INFO> Saving data in memory.\n",
      "[clustimage] >INFO> Fit with method=[agglomerative], metric=[euclidean], linkage=[ward]\n",
      "[clustimage] >INFO> Evaluate using silhouette.\n",
      "[clusteval] >INFO: 100%|█████████████████████████████████████████████████████████████████| 1/1 [00:00<00:00, 617.72it/s]\n",
      "[clustimage] >DEBUG> [[3 3 3 4 2 2 1 1 2 2 1 1 3 1 1]]\n",
      "[clustimage] >DEBUG> Iloc: [ True]\n",
      "[clustimage] >DEBUG> silscores: [    0.25091]\n",
      "[clustimage] >DEBUG> sillclust: [          4]\n",
      "[clustimage] >DEBUG> clustlabx: [[3 3 3 4 2 2 1 1 2 2 1 1 3 1 1]]\n",
      "[clustimage] >INFO> Compute dendrogram threshold.\n",
      "[clustimage] >INFO> Optimal number clusters detected: [4].\n",
      "[clustimage] >INFO> Fin.\n"
     ]
    },
    {
     "name": "stdout",
     "output_type": "stream",
     "text": [
      "name: image_prtl_1229.png, preds: [1, 1, 1, 3, 2, 2, 0, 0, 2, 2, 0, 0, 1, 0, 0], total boxes in : 15\n",
      "[pca] >Column labels are auto-completed.\n",
      "[pca] >The PCA reduction is performed to capture [95.0%] explained variance using the [2400] columns of the input data.\n",
      "[pca] >Fit using PCA.\n",
      "[pca] >Compute loadings and PCs.\n",
      "[pca] >Compute explained variance.\n",
      "[pca] >Number of components is [11] that covers the [95.00%] explained variance.\n",
      "[pca] >The PCA reduction is performed on the [2400] columns of the input dataframe.\n",
      "[pca] >Fit using PCA.\n",
      "[pca] >Compute loadings and PCs.\n"
     ]
    },
    {
     "name": "stderr",
     "output_type": "stream",
     "text": [
      "[clustimage] >INFO> Saving data in memory.\n",
      "[clustimage] >INFO> Fit with method=[agglomerative], metric=[euclidean], linkage=[ward]\n",
      "[clustimage] >INFO> Evaluate using silhouette.\n",
      "[clusteval] >INFO: 100%|█████████████████████████████████████████████████████████████████| 1/1 [00:00<00:00, 788.70it/s]\n",
      "[clustimage] >DEBUG> [[1 1 2 1 2 2 1 1 2 1 2 3 2 2 1 2]]\n",
      "[clustimage] >DEBUG> Iloc: [ True]\n",
      "[clustimage] >DEBUG> silscores: [    0.32651]\n",
      "[clustimage] >DEBUG> sillclust: [          3]\n",
      "[clustimage] >DEBUG> clustlabx: [[1 1 2 1 2 2 1 1 2 1 2 3 2 2 1 2]]\n",
      "[clustimage] >INFO> Compute dendrogram threshold.\n",
      "[clustimage] >INFO> Optimal number clusters detected: [3].\n",
      "[clustimage] >INFO> Fin.\n"
     ]
    },
    {
     "name": "stdout",
     "output_type": "stream",
     "text": [
      "name: image_snjv_109.png, preds: [0, 0, 1, 0, 1, 1, 0, 0, 1, 0, 1, 2, 1, 1, 0, 1], total boxes in : 16\n",
      "[pca] >Column labels are auto-completed.\n",
      "[pca] >The PCA reduction is performed to capture [95.0%] explained variance using the [2400] columns of the input data.\n",
      "[pca] >Fit using PCA.\n",
      "[pca] >Compute loadings and PCs.\n",
      "[pca] >Compute explained variance.\n",
      "[pca] >Number of components is [13] that covers the [95.00%] explained variance.\n",
      "[pca] >The PCA reduction is performed on the [2400] columns of the input dataframe.\n",
      "[pca] >Fit using PCA.\n",
      "[pca] >Compute loadings and PCs.\n"
     ]
    },
    {
     "name": "stderr",
     "output_type": "stream",
     "text": [
      "[clustimage] >INFO> Saving data in memory.\n",
      "[clustimage] >INFO> Fit with method=[agglomerative], metric=[euclidean], linkage=[ward]\n",
      "[clustimage] >INFO> Evaluate using silhouette.\n",
      "[clusteval] >INFO: 100%|█████████████████████████████████████████████████████████████████| 1/1 [00:00<00:00, 748.05it/s]\n",
      "[clustimage] >DEBUG> [[3 2 1 1 3 3 3 1 3 1 3 1 3 1 1 1 3 2 1]]\n",
      "[clustimage] >DEBUG> Iloc: [ True]\n",
      "[clustimage] >DEBUG> silscores: [    0.30458]\n",
      "[clustimage] >DEBUG> sillclust: [          3]\n",
      "[clustimage] >DEBUG> clustlabx: [[3 2 1 1 3 3 3 1 3 1 3 1 3 1 1 1 3 2 1]]\n",
      "[clustimage] >INFO> Compute dendrogram threshold.\n",
      "[clustimage] >INFO> Optimal number clusters detected: [3].\n",
      "[clustimage] >INFO> Fin.\n"
     ]
    },
    {
     "name": "stdout",
     "output_type": "stream",
     "text": [
      "name: image_snjv_110.png, preds: [1, 2, 0, 0, 1, 1, 1, 0, 1, 0, 1, 0, 1, 0, 0, 0, 1, 2, 0], total boxes in : 19\n",
      "[pca] >Column labels are auto-completed.\n",
      "[pca] >The PCA reduction is performed to capture [95.0%] explained variance using the [2400] columns of the input data.\n",
      "[pca] >Fit using PCA.\n",
      "[pca] >Compute loadings and PCs.\n",
      "[pca] >Compute explained variance.\n",
      "[pca] >Number of components is [12] that covers the [95.00%] explained variance.\n",
      "[pca] >The PCA reduction is performed on the [2400] columns of the input dataframe.\n",
      "[pca] >Fit using PCA.\n",
      "[pca] >Compute loadings and PCs.\n"
     ]
    },
    {
     "name": "stderr",
     "output_type": "stream",
     "text": [
      "[clustimage] >INFO> Saving data in memory.\n",
      "[clustimage] >INFO> Fit with method=[agglomerative], metric=[euclidean], linkage=[ward]\n",
      "[clustimage] >INFO> Evaluate using silhouette.\n",
      "[clusteval] >INFO: 100%|█████████████████████████████████████████████████████████████████| 1/1 [00:00<00:00, 759.56it/s]\n",
      "[clustimage] >DEBUG> [[1 3 3 2 1 2 1 2 1 2 1 2 1 1 1 3 3]]\n",
      "[clustimage] >DEBUG> Iloc: [ True]\n",
      "[clustimage] >DEBUG> silscores: [    0.33967]\n",
      "[clustimage] >DEBUG> sillclust: [          3]\n",
      "[clustimage] >DEBUG> clustlabx: [[1 3 3 2 1 2 1 2 1 2 1 2 1 1 1 3 3]]\n",
      "[clustimage] >INFO> Compute dendrogram threshold.\n",
      "[clustimage] >INFO> Optimal number clusters detected: [3].\n",
      "[clustimage] >INFO> Fin.\n"
     ]
    },
    {
     "name": "stdout",
     "output_type": "stream",
     "text": [
      "name: image_snjv_119.png, preds: [0, 2, 2, 1, 0, 1, 0, 1, 0, 1, 0, 1, 0, 0, 0, 2, 2], total boxes in : 17\n",
      "[pca] >Column labels are auto-completed.\n",
      "[pca] >The PCA reduction is performed to capture [95.0%] explained variance using the [2400] columns of the input data.\n",
      "[pca] >Fit using PCA.\n",
      "[pca] >Compute loadings and PCs.\n",
      "[pca] >Compute explained variance.\n",
      "[pca] >Number of components is [12] that covers the [95.00%] explained variance.\n",
      "[pca] >The PCA reduction is performed on the [2400] columns of the input dataframe.\n",
      "[pca] >Fit using PCA.\n",
      "[pca] >Compute loadings and PCs.\n"
     ]
    },
    {
     "name": "stderr",
     "output_type": "stream",
     "text": [
      "[clustimage] >INFO> Saving data in memory.\n",
      "[clustimage] >INFO> Fit with method=[agglomerative], metric=[euclidean], linkage=[ward]\n",
      "[clustimage] >INFO> Evaluate using silhouette.\n",
      "[clusteval] >INFO: 100%|█████████████████████████████████████████████████████████████████| 1/1 [00:00<00:00, 590.83it/s]\n",
      "[clustimage] >DEBUG> [[3 3 1 1 3 1 3 2 4 1 1 4 1 3 1 4 3 1 1]]\n",
      "[clustimage] >DEBUG> Iloc: [ True]\n",
      "[clustimage] >DEBUG> silscores: [    0.30549]\n",
      "[clustimage] >DEBUG> sillclust: [          4]\n",
      "[clustimage] >DEBUG> clustlabx: [[3 3 1 1 3 1 3 2 4 1 1 4 1 3 1 4 3 1 1]]\n",
      "[clustimage] >INFO> Compute dendrogram threshold.\n",
      "[clustimage] >INFO> Optimal number clusters detected: [4].\n",
      "[clustimage] >INFO> Fin.\n"
     ]
    },
    {
     "name": "stdout",
     "output_type": "stream",
     "text": [
      "name: image_snjv_122.png, preds: [1, 1, 0, 0, 1, 0, 1, 3, 2, 0, 0, 2, 0, 1, 0, 2, 1, 0, 0], total boxes in : 19\n",
      "[pca] >Column labels are auto-completed.\n",
      "[pca] >The PCA reduction is performed to capture [95.0%] explained variance using the [2400] columns of the input data.\n",
      "[pca] >Fit using PCA.\n",
      "[pca] >Compute loadings and PCs.\n",
      "[pca] >Compute explained variance.\n",
      "[pca] >Number of components is [13] that covers the [95.00%] explained variance.\n",
      "[pca] >The PCA reduction is performed on the [2400] columns of the input dataframe.\n",
      "[pca] >Fit using PCA.\n",
      "[pca] >Compute loadings and PCs.\n"
     ]
    },
    {
     "name": "stderr",
     "output_type": "stream",
     "text": [
      "[clustimage] >INFO> Saving data in memory.\n",
      "[clustimage] >INFO> Fit with method=[agglomerative], metric=[euclidean], linkage=[ward]\n",
      "[clustimage] >INFO> Evaluate using silhouette.\n",
      "[clusteval] >INFO: 100%|█████████████████████████████████████████████████████████████████| 1/1 [00:00<00:00, 750.19it/s]\n",
      "[clustimage] >DEBUG> [[2 1 2 1 2 2 2 3 2 2 1 2 1 2 1 2 1 2 1 1]]\n",
      "[clustimage] >DEBUG> Iloc: [ True]\n",
      "[clustimage] >DEBUG> silscores: [    0.34374]\n",
      "[clustimage] >DEBUG> sillclust: [          3]\n",
      "[clustimage] >DEBUG> clustlabx: [[2 1 2 1 2 2 2 3 2 2 1 2 1 2 1 2 1 2 1 1]]\n",
      "[clustimage] >INFO> Compute dendrogram threshold.\n",
      "[clustimage] >INFO> Optimal number clusters detected: [3].\n",
      "[clustimage] >INFO> Fin.\n"
     ]
    },
    {
     "name": "stdout",
     "output_type": "stream",
     "text": [
      "name: image_snjv_127.png, preds: [1, 0, 1, 0, 1, 1, 1, 2, 1, 1, 0, 1, 0, 1, 0, 1, 0, 1, 0, 0], total boxes in : 20\n",
      "[pca] >Column labels are auto-completed.\n",
      "[pca] >The PCA reduction is performed to capture [95.0%] explained variance using the [2400] columns of the input data.\n",
      "[pca] >Fit using PCA.\n",
      "[pca] >Compute loadings and PCs.\n",
      "[pca] >Compute explained variance.\n",
      "[pca] >Number of components is [11] that covers the [95.00%] explained variance.\n",
      "[pca] >The PCA reduction is performed on the [2400] columns of the input dataframe.\n",
      "[pca] >Fit using PCA.\n",
      "[pca] >Compute loadings and PCs.\n"
     ]
    },
    {
     "name": "stderr",
     "output_type": "stream",
     "text": [
      "[clustimage] >INFO> Saving data in memory.\n",
      "[clustimage] >INFO> Fit with method=[agglomerative], metric=[euclidean], linkage=[ward]\n",
      "[clustimage] >INFO> Evaluate using silhouette.\n",
      "[clusteval] >INFO: 100%|█████████████████████████████████████████████████████████████████| 1/1 [00:00<00:00, 585.96it/s]\n",
      "[clustimage] >DEBUG> [[2 2 1 1 1 3 2 1 1 1 2 2 2 2 2 1]]\n",
      "[clustimage] >DEBUG> Iloc: [ True]\n",
      "[clustimage] >DEBUG> silscores: [    0.31768]\n",
      "[clustimage] >DEBUG> sillclust: [          3]\n",
      "[clustimage] >DEBUG> clustlabx: [[2 2 1 1 1 3 2 1 1 1 2 2 2 2 2 1]]\n",
      "[clustimage] >INFO> Compute dendrogram threshold.\n",
      "[clustimage] >INFO> Optimal number clusters detected: [3].\n",
      "[clustimage] >INFO> Fin.\n"
     ]
    },
    {
     "name": "stdout",
     "output_type": "stream",
     "text": [
      "name: image_snjv_14.png, preds: [1, 1, 0, 0, 0, 2, 1, 0, 0, 0, 1, 1, 1, 1, 1, 0], total boxes in : 16\n",
      "[pca] >Column labels are auto-completed.\n",
      "[pca] >The PCA reduction is performed to capture [95.0%] explained variance using the [2400] columns of the input data.\n",
      "[pca] >Fit using PCA.\n",
      "[pca] >Compute loadings and PCs.\n",
      "[pca] >Compute explained variance.\n",
      "[pca] >Number of components is [10] that covers the [95.00%] explained variance.\n",
      "[pca] >The PCA reduction is performed on the [2400] columns of the input dataframe.\n",
      "[pca] >Fit using PCA.\n",
      "[pca] >Compute loadings and PCs.\n"
     ]
    },
    {
     "name": "stderr",
     "output_type": "stream",
     "text": [
      "[clustimage] >INFO> Saving data in memory.\n",
      "[clustimage] >INFO> Fit with method=[agglomerative], metric=[euclidean], linkage=[ward]\n",
      "[clustimage] >INFO> Evaluate using silhouette.\n",
      "[clusteval] >INFO: 100%|█████████████████████████████████████████████████████████████████| 1/1 [00:00<00:00, 801.05it/s]\n",
      "[clustimage] >DEBUG> [[1 2 1 1 1 2 3 2 1 2 2 2 1 3 3 3]]\n",
      "[clustimage] >DEBUG> Iloc: [ True]\n",
      "[clustimage] >DEBUG> silscores: [    0.39716]\n",
      "[clustimage] >DEBUG> sillclust: [          3]\n",
      "[clustimage] >DEBUG> clustlabx: [[1 2 1 1 1 2 3 2 1 2 2 2 1 3 3 3]]\n",
      "[clustimage] >INFO> Compute dendrogram threshold.\n",
      "[clustimage] >INFO> Optimal number clusters detected: [3].\n",
      "[clustimage] >INFO> Fin.\n"
     ]
    },
    {
     "name": "stdout",
     "output_type": "stream",
     "text": [
      "name: image_snjv_153.png, preds: [1, 0, 1, 1, 1, 0, 2, 0, 1, 0, 0, 0, 1, 2, 2, 2], total boxes in : 16\n",
      "[pca] >Column labels are auto-completed.\n",
      "[pca] >The PCA reduction is performed to capture [95.0%] explained variance using the [2400] columns of the input data.\n",
      "[pca] >Fit using PCA.\n",
      "[pca] >Compute loadings and PCs.\n",
      "[pca] >Compute explained variance.\n",
      "[pca] >Number of components is [7] that covers the [95.00%] explained variance.\n",
      "[pca] >The PCA reduction is performed on the [2400] columns of the input dataframe.\n",
      "[pca] >Fit using PCA.\n",
      "[pca] >Compute loadings and PCs.\n"
     ]
    },
    {
     "name": "stderr",
     "output_type": "stream",
     "text": [
      "[clustimage] >INFO> Saving data in memory.\n",
      "[clustimage] >INFO> Fit with method=[agglomerative], metric=[euclidean], linkage=[ward]\n",
      "[clustimage] >INFO> Evaluate using silhouette.\n",
      "[clusteval] >INFO: 100%|█████████████████████████████████████████████████████████████████| 1/1 [00:00<00:00, 839.20it/s]\n",
      "[clustimage] >DEBUG> [[1 2 1 1 3 1 2 2 1 2]]\n",
      "[clustimage] >DEBUG> Iloc: [ True]\n",
      "[clustimage] >DEBUG> silscores: [    0.32392]\n",
      "[clustimage] >DEBUG> sillclust: [          3]\n",
      "[clustimage] >DEBUG> clustlabx: [[1 2 1 1 3 1 2 2 1 2]]\n",
      "[clustimage] >INFO> Compute dendrogram threshold.\n",
      "[clustimage] >INFO> Optimal number clusters detected: [3].\n",
      "[clustimage] >INFO> Fin.\n"
     ]
    },
    {
     "name": "stdout",
     "output_type": "stream",
     "text": [
      "name: image_snjv_158.png, preds: [1, 0, 1, 1, 2, 1, 0, 0, 1, 0], total boxes in : 10\n",
      "[pca] >Column labels are auto-completed.\n",
      "[pca] >The PCA reduction is performed to capture [95.0%] explained variance using the [2400] columns of the input data.\n",
      "[pca] >Fit using PCA.\n",
      "[pca] >Compute loadings and PCs.\n",
      "[pca] >Compute explained variance.\n",
      "[pca] >Number of components is [9] that covers the [95.00%] explained variance.\n",
      "[pca] >The PCA reduction is performed on the [2400] columns of the input dataframe.\n",
      "[pca] >Fit using PCA.\n",
      "[pca] >Compute loadings and PCs.\n"
     ]
    },
    {
     "name": "stderr",
     "output_type": "stream",
     "text": [
      "[clustimage] >INFO> Saving data in memory.\n",
      "[clustimage] >INFO> Fit with method=[agglomerative], metric=[euclidean], linkage=[ward]\n",
      "[clustimage] >INFO> Evaluate using silhouette.\n",
      "[clusteval] >INFO: 100%|█████████████████████████████████████████████████████████████████| 1/1 [00:00<00:00, 656.49it/s]\n",
      "[clustimage] >DEBUG> [[2 2 2 2 1 1 3 3 1 1 3 3 1]]\n",
      "[clustimage] >DEBUG> Iloc: [ True]\n",
      "[clustimage] >DEBUG> silscores: [    0.23674]\n",
      "[clustimage] >DEBUG> sillclust: [          3]\n",
      "[clustimage] >DEBUG> clustlabx: [[2 2 2 2 1 1 3 3 1 1 3 3 1]]\n",
      "[clustimage] >INFO> Compute dendrogram threshold.\n",
      "[clustimage] >INFO> Optimal number clusters detected: [3].\n",
      "[clustimage] >INFO> Fin.\n"
     ]
    },
    {
     "name": "stdout",
     "output_type": "stream",
     "text": [
      "name: image_snjv_166.png, preds: [2, 2, 2, 2, 1, 1, 0, 0, 1, 1, 0, 0, 1], total boxes in : 13\n",
      "[pca] >Column labels are auto-completed.\n",
      "[pca] >The PCA reduction is performed to capture [95.0%] explained variance using the [2400] columns of the input data.\n",
      "[pca] >Fit using PCA.\n",
      "[pca] >Compute loadings and PCs.\n",
      "[pca] >Compute explained variance.\n",
      "[pca] >Number of components is [10] that covers the [95.00%] explained variance.\n",
      "[pca] >The PCA reduction is performed on the [2400] columns of the input dataframe.\n",
      "[pca] >Fit using PCA.\n",
      "[pca] >Compute loadings and PCs.\n"
     ]
    },
    {
     "name": "stderr",
     "output_type": "stream",
     "text": [
      "[clustimage] >INFO> Saving data in memory.\n",
      "[clustimage] >INFO> Fit with method=[agglomerative], metric=[euclidean], linkage=[ward]\n",
      "[clustimage] >INFO> Evaluate using silhouette.\n",
      "[clusteval] >INFO: 100%|█████████████████████████████████████████████████████████████████| 1/1 [00:00<00:00, 631.58it/s]\n",
      "[clustimage] >DEBUG> [[1 2 1 1 1 1 3 3 1 2 3 1 3 3]]\n",
      "[clustimage] >DEBUG> Iloc: [ True]\n",
      "[clustimage] >DEBUG> silscores: [    0.24017]\n",
      "[clustimage] >DEBUG> sillclust: [          3]\n",
      "[clustimage] >DEBUG> clustlabx: [[1 2 1 1 1 1 3 3 1 2 3 1 3 3]]\n",
      "[clustimage] >INFO> Compute dendrogram threshold.\n",
      "[clustimage] >INFO> Optimal number clusters detected: [3].\n",
      "[clustimage] >INFO> Fin.\n"
     ]
    },
    {
     "name": "stdout",
     "output_type": "stream",
     "text": [
      "name: image_snjv_168.png, preds: [1, 2, 1, 1, 1, 1, 0, 0, 1, 2, 0, 1, 0, 0], total boxes in : 14\n",
      "[pca] >Column labels are auto-completed.\n",
      "[pca] >The PCA reduction is performed to capture [95.0%] explained variance using the [2400] columns of the input data.\n",
      "[pca] >Fit using PCA.\n",
      "[pca] >Compute loadings and PCs.\n",
      "[pca] >Compute explained variance.\n",
      "[pca] >Number of components is [8] that covers the [95.00%] explained variance.\n",
      "[pca] >The PCA reduction is performed on the [2400] columns of the input dataframe.\n",
      "[pca] >Fit using PCA.\n",
      "[pca] >Compute loadings and PCs.\n"
     ]
    },
    {
     "name": "stderr",
     "output_type": "stream",
     "text": [
      "[clustimage] >INFO> Saving data in memory.\n",
      "[clustimage] >INFO> Fit with method=[agglomerative], metric=[euclidean], linkage=[ward]\n",
      "[clustimage] >INFO> Evaluate using silhouette.\n",
      "[clusteval] >INFO: 100%|█████████████████████████████████████████████████████████████████| 1/1 [00:00<00:00, 788.70it/s]\n",
      "[clustimage] >DEBUG> [[1 3 2 3 2 1 3 2 1 1 1 1]]\n",
      "[clustimage] >DEBUG> Iloc: [ True]\n",
      "[clustimage] >DEBUG> silscores: [    0.26908]\n",
      "[clustimage] >DEBUG> sillclust: [          3]\n",
      "[clustimage] >DEBUG> clustlabx: [[1 3 2 3 2 1 3 2 1 1 1 1]]\n",
      "[clustimage] >INFO> Compute dendrogram threshold.\n",
      "[clustimage] >INFO> Optimal number clusters detected: [3].\n",
      "[clustimage] >INFO> Fin.\n"
     ]
    },
    {
     "name": "stdout",
     "output_type": "stream",
     "text": [
      "name: image_snjv_170.png, preds: [0, 1, 2, 1, 2, 0, 1, 2, 0, 0, 0, 0], total boxes in : 12\n",
      "[pca] >Column labels are auto-completed.\n",
      "[pca] >The PCA reduction is performed to capture [95.0%] explained variance using the [2400] columns of the input data.\n",
      "[pca] >Fit using PCA.\n",
      "[pca] >Compute loadings and PCs.\n",
      "[pca] >Compute explained variance.\n",
      "[pca] >Number of components is [12] that covers the [95.00%] explained variance.\n",
      "[pca] >The PCA reduction is performed on the [2400] columns of the input dataframe.\n",
      "[pca] >Fit using PCA.\n",
      "[pca] >Compute loadings and PCs.\n"
     ]
    },
    {
     "name": "stderr",
     "output_type": "stream",
     "text": [
      "[clustimage] >INFO> Saving data in memory.\n",
      "[clustimage] >INFO> Fit with method=[agglomerative], metric=[euclidean], linkage=[ward]\n",
      "[clustimage] >INFO> Evaluate using silhouette.\n",
      "[clusteval] >INFO: 100%|█████████████████████████████████████████████████████████████████| 1/1 [00:00<00:00, 745.79it/s]\n",
      "[clustimage] >DEBUG> [[1 1 1 3 1 1 3 1 3 2 1 2 1 2 3 1 3 1 3]]\n",
      "[clustimage] >DEBUG> Iloc: [ True]\n",
      "[clustimage] >DEBUG> silscores: [    0.29315]\n",
      "[clustimage] >DEBUG> sillclust: [          3]\n",
      "[clustimage] >DEBUG> clustlabx: [[1 1 1 3 1 1 3 1 3 2 1 2 1 2 3 1 3 1 3]]\n",
      "[clustimage] >INFO> Compute dendrogram threshold.\n",
      "[clustimage] >INFO> Optimal number clusters detected: [3].\n",
      "[clustimage] >INFO> Fin.\n"
     ]
    },
    {
     "name": "stdout",
     "output_type": "stream",
     "text": [
      "name: image_snjv_184.png, preds: [1, 1, 1, 0, 1, 1, 0, 1, 0, 2, 1, 2, 1, 2, 0, 1, 0, 1, 0], total boxes in : 19\n",
      "[pca] >Column labels are auto-completed.\n",
      "[pca] >The PCA reduction is performed to capture [95.0%] explained variance using the [2400] columns of the input data.\n",
      "[pca] >Fit using PCA.\n",
      "[pca] >Compute loadings and PCs.\n",
      "[pca] >Compute explained variance.\n",
      "[pca] >Number of components is [11] that covers the [95.00%] explained variance.\n",
      "[pca] >The PCA reduction is performed on the [2400] columns of the input dataframe.\n",
      "[pca] >Fit using PCA.\n",
      "[pca] >Compute loadings and PCs.\n"
     ]
    },
    {
     "name": "stderr",
     "output_type": "stream",
     "text": [
      "[clustimage] >INFO> Saving data in memory.\n",
      "[clustimage] >INFO> Fit with method=[agglomerative], metric=[euclidean], linkage=[ward]\n",
      "[clustimage] >INFO> Evaluate using silhouette.\n",
      "[clusteval] >INFO: 100%|█████████████████████████████████████████████████████████████████| 1/1 [00:00<00:00, 796.49it/s]\n",
      "[clustimage] >DEBUG> [[1 2 1 2 2 3 3 1 1 1 1 2 1 1 3 2]]\n",
      "[clustimage] >DEBUG> Iloc: [ True]\n",
      "[clustimage] >DEBUG> silscores: [    0.24276]\n",
      "[clustimage] >DEBUG> sillclust: [          3]\n",
      "[clustimage] >DEBUG> clustlabx: [[1 2 1 2 2 3 3 1 1 1 1 2 1 1 3 2]]\n",
      "[clustimage] >INFO> Compute dendrogram threshold.\n",
      "[clustimage] >INFO> Optimal number clusters detected: [3].\n",
      "[clustimage] >INFO> Fin.\n"
     ]
    },
    {
     "name": "stdout",
     "output_type": "stream",
     "text": [
      "name: image_snjv_190.png, preds: [0, 1, 0, 1, 1, 2, 2, 0, 0, 0, 0, 1, 0, 0, 2, 1], total boxes in : 16\n",
      "[pca] >Column labels are auto-completed.\n",
      "[pca] >The PCA reduction is performed to capture [95.0%] explained variance using the [2400] columns of the input data.\n",
      "[pca] >Fit using PCA.\n",
      "[pca] >Compute loadings and PCs.\n",
      "[pca] >Compute explained variance.\n",
      "[pca] >Number of components is [11] that covers the [95.00%] explained variance.\n",
      "[pca] >The PCA reduction is performed on the [2400] columns of the input dataframe.\n",
      "[pca] >Fit using PCA.\n",
      "[pca] >Compute loadings and PCs.\n"
     ]
    },
    {
     "name": "stderr",
     "output_type": "stream",
     "text": [
      "[clustimage] >INFO> Saving data in memory.\n",
      "[clustimage] >INFO> Fit with method=[agglomerative], metric=[euclidean], linkage=[ward]\n",
      "[clustimage] >INFO> Evaluate using silhouette.\n",
      "[clusteval] >INFO: 100%|█████████████████████████████████████████████████████████████████| 1/1 [00:00<00:00, 845.97it/s]\n",
      "[clustimage] >DEBUG> [[1 4 2 1 1 3 3 1 1 1 4 3 1 2 1 3]]\n",
      "[clustimage] >DEBUG> Iloc: [ True]\n",
      "[clustimage] >DEBUG> silscores: [    0.27898]\n",
      "[clustimage] >DEBUG> sillclust: [          4]\n",
      "[clustimage] >DEBUG> clustlabx: [[1 4 2 1 1 3 3 1 1 1 4 3 1 2 1 3]]\n",
      "[clustimage] >INFO> Compute dendrogram threshold.\n",
      "[clustimage] >INFO> Optimal number clusters detected: [4].\n",
      "[clustimage] >INFO> Fin.\n"
     ]
    },
    {
     "name": "stdout",
     "output_type": "stream",
     "text": [
      "name: image_snjv_197.png, preds: [1, 2, 3, 1, 1, 0, 0, 1, 1, 1, 2, 0, 1, 3, 1, 0], total boxes in : 18\n",
      "[pca] >Column labels are auto-completed.\n",
      "[pca] >The PCA reduction is performed to capture [95.0%] explained variance using the [2400] columns of the input data.\n",
      "[pca] >Fit using PCA.\n",
      "[pca] >Compute loadings and PCs.\n",
      "[pca] >Compute explained variance.\n",
      "[pca] >Number of components is [11] that covers the [95.00%] explained variance.\n",
      "[pca] >The PCA reduction is performed on the [2400] columns of the input dataframe.\n",
      "[pca] >Fit using PCA.\n",
      "[pca] >Compute loadings and PCs.\n"
     ]
    },
    {
     "name": "stderr",
     "output_type": "stream",
     "text": [
      "[clustimage] >INFO> Saving data in memory.\n",
      "[clustimage] >INFO> Fit with method=[agglomerative], metric=[euclidean], linkage=[ward]\n",
      "[clustimage] >INFO> Evaluate using silhouette.\n",
      "[clusteval] >INFO: 100%|█████████████████████████████████████████████████████████████████| 1/1 [00:00<00:00, 779.61it/s]\n",
      "[clustimage] >DEBUG> [[2 1 1 1 1 2 3 2 2 2 2 2 1 1 1]]\n",
      "[clustimage] >DEBUG> Iloc: [ True]\n",
      "[clustimage] >DEBUG> silscores: [    0.31968]\n",
      "[clustimage] >DEBUG> sillclust: [          3]\n",
      "[clustimage] >DEBUG> clustlabx: [[2 1 1 1 1 2 3 2 2 2 2 2 1 1 1]]\n",
      "[clustimage] >INFO> Compute dendrogram threshold.\n",
      "[clustimage] >INFO> Optimal number clusters detected: [3].\n",
      "[clustimage] >INFO> Fin.\n"
     ]
    },
    {
     "name": "stdout",
     "output_type": "stream",
     "text": [
      "name: image_snjv_202.png, preds: [1, 0, 0, 0, 0, 1, 2, 1, 1, 1, 1, 1, 0, 0, 0], total boxes in : 15\n",
      "[pca] >Column labels are auto-completed.\n",
      "[pca] >The PCA reduction is performed to capture [95.0%] explained variance using the [2400] columns of the input data.\n",
      "[pca] >Fit using PCA.\n",
      "[pca] >Compute loadings and PCs.\n",
      "[pca] >Compute explained variance.\n",
      "[pca] >Number of components is [11] that covers the [95.00%] explained variance.\n",
      "[pca] >The PCA reduction is performed on the [2400] columns of the input dataframe.\n",
      "[pca] >Fit using PCA.\n",
      "[pca] >Compute loadings and PCs.\n"
     ]
    },
    {
     "name": "stderr",
     "output_type": "stream",
     "text": [
      "[clustimage] >INFO> Saving data in memory.\n",
      "[clustimage] >INFO> Fit with method=[agglomerative], metric=[euclidean], linkage=[ward]\n",
      "[clustimage] >INFO> Evaluate using silhouette.\n",
      "[clusteval] >INFO: 100%|█████████████████████████████████████████████████████████████████| 1/1 [00:00<00:00, 824.51it/s]\n",
      "[clustimage] >DEBUG> [[3 2 1 3 3 2 3 3 1 1 3 1 1 1 2 2 3]]\n",
      "[clustimage] >DEBUG> Iloc: [ True]\n",
      "[clustimage] >DEBUG> silscores: [    0.22205]\n",
      "[clustimage] >DEBUG> sillclust: [          3]\n",
      "[clustimage] >DEBUG> clustlabx: [[3 2 1 3 3 2 3 3 1 1 3 1 1 1 2 2 3]]\n",
      "[clustimage] >INFO> Compute dendrogram threshold.\n",
      "[clustimage] >INFO> Optimal number clusters detected: [3].\n",
      "[clustimage] >INFO> Fin.\n"
     ]
    },
    {
     "name": "stdout",
     "output_type": "stream",
     "text": [
      "name: image_snjv_206.png, preds: [1, 2, 0, 1, 1, 2, 1, 1, 0, 0, 1, 0, 0, 0, 2, 2, 1], total boxes in : 17\n",
      "[pca] >Column labels are auto-completed.\n",
      "[pca] >The PCA reduction is performed to capture [95.0%] explained variance using the [2400] columns of the input data.\n",
      "[pca] >Fit using PCA.\n",
      "[pca] >Compute loadings and PCs.\n",
      "[pca] >Compute explained variance.\n",
      "[pca] >Number of components is [9] that covers the [95.00%] explained variance.\n",
      "[pca] >The PCA reduction is performed on the [2400] columns of the input dataframe.\n",
      "[pca] >Fit using PCA.\n",
      "[pca] >Compute loadings and PCs.\n"
     ]
    },
    {
     "name": "stderr",
     "output_type": "stream",
     "text": [
      "[clustimage] >INFO> Saving data in memory.\n",
      "[clustimage] >INFO> Fit with method=[agglomerative], metric=[euclidean], linkage=[ward]\n",
      "[clustimage] >INFO> Evaluate using silhouette.\n",
      "[clusteval] >INFO: 100%|█████████████████████████████████████████████████████████████████| 1/1 [00:00<00:00, 895.26it/s]\n",
      "[clustimage] >DEBUG> [[2 3 2 3 2 1 1 1 1 1 1 3 1]]\n",
      "[clustimage] >DEBUG> Iloc: [ True]\n",
      "[clustimage] >DEBUG> silscores: [     0.2803]\n",
      "[clustimage] >DEBUG> sillclust: [          3]\n",
      "[clustimage] >DEBUG> clustlabx: [[2 3 2 3 2 1 1 1 1 1 1 3 1]]\n",
      "[clustimage] >INFO> Compute dendrogram threshold.\n",
      "[clustimage] >INFO> Optimal number clusters detected: [3].\n",
      "[clustimage] >INFO> Fin.\n"
     ]
    },
    {
     "name": "stdout",
     "output_type": "stream",
     "text": [
      "name: image_snjv_210.png, preds: [2, 0, 2, 0, 2, 1, 1, 1, 1, 1, 1, 0, 1], total boxes in : 13\n",
      "[pca] >Column labels are auto-completed.\n",
      "[pca] >The PCA reduction is performed to capture [95.0%] explained variance using the [2400] columns of the input data.\n",
      "[pca] >Fit using PCA.\n",
      "[pca] >Compute loadings and PCs.\n",
      "[pca] >Compute explained variance.\n",
      "[pca] >Number of components is [10] that covers the [95.00%] explained variance.\n",
      "[pca] >The PCA reduction is performed on the [2400] columns of the input dataframe.\n",
      "[pca] >Fit using PCA.\n",
      "[pca] >Compute loadings and PCs.\n"
     ]
    },
    {
     "name": "stderr",
     "output_type": "stream",
     "text": [
      "[clustimage] >INFO> Saving data in memory.\n",
      "[clustimage] >INFO> Fit with method=[agglomerative], metric=[euclidean], linkage=[ward]\n",
      "[clustimage] >INFO> Evaluate using silhouette.\n",
      "[clusteval] >INFO: 100%|█████████████████████████████████████████████████████████████████| 1/1 [00:00<00:00, 881.34it/s]\n",
      "[clustimage] >DEBUG> [[1 1 1 3 3 3 3 3 1 1 2 2 2 3]]\n",
      "[clustimage] >DEBUG> Iloc: [ True]\n",
      "[clustimage] >DEBUG> silscores: [    0.23445]\n",
      "[clustimage] >DEBUG> sillclust: [          3]\n",
      "[clustimage] >DEBUG> clustlabx: [[1 1 1 3 3 3 3 3 1 1 2 2 2 3]]\n",
      "[clustimage] >INFO> Compute dendrogram threshold.\n",
      "[clustimage] >INFO> Optimal number clusters detected: [3].\n",
      "[clustimage] >INFO> Fin.\n"
     ]
    },
    {
     "name": "stdout",
     "output_type": "stream",
     "text": [
      "name: image_snjv_211.png, preds: [1, 1, 1, 0, 0, 0, 0, 0, 1, 1, 2, 2, 2, 0], total boxes in : 14\n",
      "[pca] >Column labels are auto-completed.\n",
      "[pca] >The PCA reduction is performed to capture [95.0%] explained variance using the [2400] columns of the input data.\n",
      "[pca] >Fit using PCA.\n",
      "[pca] >Compute loadings and PCs.\n",
      "[pca] >Compute explained variance.\n",
      "[pca] >Number of components is [11] that covers the [95.00%] explained variance.\n",
      "[pca] >The PCA reduction is performed on the [2400] columns of the input dataframe.\n",
      "[pca] >Fit using PCA.\n",
      "[pca] >Compute loadings and PCs.\n"
     ]
    },
    {
     "name": "stderr",
     "output_type": "stream",
     "text": [
      "[clustimage] >INFO> Saving data in memory.\n",
      "[clustimage] >INFO> Fit with method=[agglomerative], metric=[euclidean], linkage=[ward]\n",
      "[clustimage] >INFO> Evaluate using silhouette.\n",
      "[clusteval] >INFO: 100%|█████████████████████████████████████████████████████████████████| 1/1 [00:00<00:00, 841.05it/s]\n",
      "[clustimage] >DEBUG> [[3 3 2 1 3 1 1 1 2 1 1 2 1 1 3 2 3]]\n",
      "[clustimage] >DEBUG> Iloc: [ True]\n",
      "[clustimage] >DEBUG> silscores: [    0.31977]\n",
      "[clustimage] >DEBUG> sillclust: [          3]\n",
      "[clustimage] >DEBUG> clustlabx: [[3 3 2 1 3 1 1 1 2 1 1 2 1 1 3 2 3]]\n",
      "[clustimage] >INFO> Compute dendrogram threshold.\n",
      "[clustimage] >INFO> Optimal number clusters detected: [3].\n",
      "[clustimage] >INFO> Fin.\n"
     ]
    },
    {
     "name": "stdout",
     "output_type": "stream",
     "text": [
      "name: image_snjv_220.png, preds: [0, 0, 2, 1, 0, 1, 1, 1, 2, 1, 1, 2, 1, 1, 0, 2, 0], total boxes in : 17\n",
      "[pca] >Column labels are auto-completed.\n",
      "[pca] >The PCA reduction is performed to capture [95.0%] explained variance using the [2400] columns of the input data.\n",
      "[pca] >Fit using PCA.\n",
      "[pca] >Compute loadings and PCs.\n",
      "[pca] >Compute explained variance.\n",
      "[pca] >Number of components is [10] that covers the [95.00%] explained variance.\n",
      "[pca] >The PCA reduction is performed on the [2400] columns of the input dataframe.\n",
      "[pca] >Fit using PCA.\n",
      "[pca] >Compute loadings and PCs.\n"
     ]
    },
    {
     "name": "stderr",
     "output_type": "stream",
     "text": [
      "[clustimage] >INFO> Saving data in memory.\n",
      "[clustimage] >INFO> Fit with method=[agglomerative], metric=[euclidean], linkage=[ward]\n",
      "[clustimage] >INFO> Evaluate using silhouette.\n",
      "[clusteval] >INFO: 100%|█████████████████████████████████████████████████████████████████| 1/1 [00:00<00:00, 819.52it/s]\n",
      "[clustimage] >DEBUG> [[2 2 1 1 1 1 1 3 3 2 3 3 3 3]]\n",
      "[clustimage] >DEBUG> Iloc: [ True]\n",
      "[clustimage] >DEBUG> silscores: [    0.32575]\n",
      "[clustimage] >DEBUG> sillclust: [          3]\n",
      "[clustimage] >DEBUG> clustlabx: [[2 2 1 1 1 1 1 3 3 2 3 3 3 3]]\n",
      "[clustimage] >INFO> Compute dendrogram threshold.\n",
      "[clustimage] >INFO> Optimal number clusters detected: [3].\n",
      "[clustimage] >INFO> Fin.\n"
     ]
    },
    {
     "name": "stdout",
     "output_type": "stream",
     "text": [
      "name: image_snjv_224.png, preds: [2, 2, 1, 1, 1, 1, 1, 0, 0, 2, 0, 0, 0, 0], total boxes in : 14\n",
      "[pca] >Column labels are auto-completed.\n",
      "[pca] >The PCA reduction is performed to capture [95.0%] explained variance using the [2400] columns of the input data.\n",
      "[pca] >Fit using PCA.\n",
      "[pca] >Compute loadings and PCs.\n",
      "[pca] >Compute explained variance.\n",
      "[pca] >Number of components is [10] that covers the [95.00%] explained variance.\n",
      "[pca] >The PCA reduction is performed on the [2400] columns of the input dataframe.\n",
      "[pca] >Fit using PCA.\n",
      "[pca] >Compute loadings and PCs.\n"
     ]
    },
    {
     "name": "stderr",
     "output_type": "stream",
     "text": [
      "[clustimage] >INFO> Saving data in memory.\n",
      "[clustimage] >INFO> Fit with method=[agglomerative], metric=[euclidean], linkage=[ward]\n",
      "[clustimage] >INFO> Evaluate using silhouette.\n",
      "[clusteval] >INFO: 100%|█████████████████████████████████████████████████████████████████| 1/1 [00:00<00:00, 809.87it/s]\n",
      "[clustimage] >DEBUG> [[1 1 1 1 1 2 1 1 2 2 2 2 2 2 2]]\n",
      "[clustimage] >DEBUG> Iloc: [ True]\n",
      "[clustimage] >DEBUG> silscores: [    0.38625]\n",
      "[clustimage] >DEBUG> sillclust: [          2]\n",
      "[clustimage] >DEBUG> clustlabx: [[1 1 1 1 1 2 1 1 2 2 2 2 2 2 2]]\n",
      "[clustimage] >INFO> Compute dendrogram threshold.\n",
      "[clustimage] >INFO> Optimal number clusters detected: [2].\n",
      "[clustimage] >INFO> Fin.\n"
     ]
    },
    {
     "name": "stdout",
     "output_type": "stream",
     "text": [
      "name: image_snjv_229.png, preds: [0, 0, 0, 0, 0, 1, 0, 0, 1, 1, 1, 1, 1, 1, 1], total boxes in : 15\n",
      "[pca] >Column labels are auto-completed.\n",
      "[pca] >The PCA reduction is performed to capture [95.0%] explained variance using the [2400] columns of the input data.\n",
      "[pca] >Fit using PCA.\n",
      "[pca] >Compute loadings and PCs.\n",
      "[pca] >Compute explained variance.\n",
      "[pca] >Number of components is [8] that covers the [95.00%] explained variance.\n",
      "[pca] >The PCA reduction is performed on the [2400] columns of the input dataframe.\n",
      "[pca] >Fit using PCA.\n",
      "[pca] >Compute loadings and PCs.\n"
     ]
    },
    {
     "name": "stderr",
     "output_type": "stream",
     "text": [
      "[clustimage] >INFO> Saving data in memory.\n",
      "[clustimage] >INFO> Fit with method=[agglomerative], metric=[euclidean], linkage=[ward]\n",
      "[clustimage] >INFO> Evaluate using silhouette.\n",
      "[clusteval] >INFO: 100%|█████████████████████████████████████████████████████████████████| 1/1 [00:00<00:00, 838.69it/s]\n",
      "[clustimage] >DEBUG> [[2 2 3 2 4 2 1 1 1 2 1 1]]\n",
      "[clustimage] >DEBUG> Iloc: [ True]\n",
      "[clustimage] >DEBUG> silscores: [    0.24647]\n",
      "[clustimage] >DEBUG> sillclust: [          4]\n",
      "[clustimage] >DEBUG> clustlabx: [[2 2 3 2 4 2 1 1 1 2 1 1]]\n",
      "[clustimage] >INFO> Compute dendrogram threshold.\n",
      "[clustimage] >INFO> Optimal number clusters detected: [4].\n",
      "[clustimage] >INFO> Fin.\n"
     ]
    },
    {
     "name": "stdout",
     "output_type": "stream",
     "text": [
      "name: image_snjv_23.png, preds: [1, 1, 3, 1, 2, 1, 0, 0, 0, 1, 0, 0], total boxes in : 13\n",
      "[pca] >Column labels are auto-completed.\n",
      "[pca] >The PCA reduction is performed to capture [95.0%] explained variance using the [2400] columns of the input data.\n",
      "[pca] >Fit using PCA.\n",
      "[pca] >Compute loadings and PCs.\n",
      "[pca] >Compute explained variance.\n",
      "[pca] >Number of components is [10] that covers the [95.00%] explained variance.\n",
      "[pca] >The PCA reduction is performed on the [2400] columns of the input dataframe.\n",
      "[pca] >Fit using PCA.\n",
      "[pca] >Compute loadings and PCs.\n"
     ]
    },
    {
     "name": "stderr",
     "output_type": "stream",
     "text": [
      "[clustimage] >INFO> Saving data in memory.\n",
      "[clustimage] >INFO> Fit with method=[agglomerative], metric=[euclidean], linkage=[ward]\n",
      "[clustimage] >INFO> Evaluate using silhouette.\n",
      "[clusteval] >INFO: 100%|█████████████████████████████████████████████████████████████████| 1/1 [00:00<00:00, 725.66it/s]\n",
      "[clustimage] >DEBUG> [[3 3 4 2 1 4 2 2 4 4 4 3 1 4 2 4 2]]\n",
      "[clustimage] >DEBUG> Iloc: [ True]\n",
      "[clustimage] >DEBUG> silscores: [    0.26402]\n",
      "[clustimage] >DEBUG> sillclust: [          4]\n",
      "[clustimage] >DEBUG> clustlabx: [[3 3 4 2 1 4 2 2 4 4 4 3 1 4 2 4 2]]\n",
      "[clustimage] >INFO> Compute dendrogram threshold.\n",
      "[clustimage] >INFO> Optimal number clusters detected: [4].\n",
      "[clustimage] >INFO> Fin.\n"
     ]
    },
    {
     "name": "stdout",
     "output_type": "stream",
     "text": [
      "name: image_snjv_25.png, preds: [2, 2, 1, 0, 3, 1, 0, 0, 1, 1, 1, 2, 3, 1, 0, 1, 0], total boxes in : 17\n",
      "[pca] >Column labels are auto-completed.\n",
      "[pca] >The PCA reduction is performed to capture [95.0%] explained variance using the [2400] columns of the input data.\n",
      "[pca] >Fit using PCA.\n",
      "[pca] >Compute loadings and PCs.\n",
      "[pca] >Compute explained variance.\n",
      "[pca] >Number of components is [9] that covers the [95.00%] explained variance.\n",
      "[pca] >The PCA reduction is performed on the [2400] columns of the input dataframe.\n",
      "[pca] >Fit using PCA.\n",
      "[pca] >Compute loadings and PCs.\n"
     ]
    },
    {
     "name": "stderr",
     "output_type": "stream",
     "text": [
      "[clustimage] >INFO> Saving data in memory.\n",
      "[clustimage] >INFO> Fit with method=[agglomerative], metric=[euclidean], linkage=[ward]\n",
      "[clustimage] >INFO> Evaluate using silhouette.\n",
      "[clusteval] >INFO: 100%|█████████████████████████████████████████████████████████████████| 1/1 [00:00<00:00, 853.19it/s]\n",
      "[clustimage] >DEBUG> [[2 2 2 2 1 1 1 1 1 2 2 2 2]]\n",
      "[clustimage] >DEBUG> Iloc: [ True]\n",
      "[clustimage] >DEBUG> silscores: [    0.35421]\n",
      "[clustimage] >DEBUG> sillclust: [          2]\n",
      "[clustimage] >DEBUG> clustlabx: [[2 2 2 2 1 1 1 1 1 2 2 2 2]]\n",
      "[clustimage] >INFO> Compute dendrogram threshold.\n",
      "[clustimage] >INFO> Optimal number clusters detected: [2].\n",
      "[clustimage] >INFO> Fin.\n"
     ]
    },
    {
     "name": "stdout",
     "output_type": "stream",
     "text": [
      "name: image_snjv_258.png, preds: [1, 1, 1, 1, 0, 0, 0, 0, 0, 1, 1, 1, 1], total boxes in : 13\n",
      "[pca] >Column labels are auto-completed.\n",
      "[pca] >The PCA reduction is performed to capture [95.0%] explained variance using the [2400] columns of the input data.\n",
      "[pca] >Fit using PCA.\n",
      "[pca] >Compute loadings and PCs.\n",
      "[pca] >Compute explained variance.\n",
      "[pca] >Number of components is [10] that covers the [95.00%] explained variance.\n",
      "[pca] >The PCA reduction is performed on the [2400] columns of the input dataframe.\n",
      "[pca] >Fit using PCA.\n",
      "[pca] >Compute loadings and PCs.\n"
     ]
    },
    {
     "name": "stderr",
     "output_type": "stream",
     "text": [
      "[clustimage] >INFO> Saving data in memory.\n",
      "[clustimage] >INFO> Fit with method=[agglomerative], metric=[euclidean], linkage=[ward]\n",
      "[clustimage] >INFO> Evaluate using silhouette.\n",
      "[clusteval] >INFO: 100%|█████████████████████████████████████████████████████████████████| 1/1 [00:00<00:00, 826.14it/s]\n",
      "[clustimage] >DEBUG> [[1 1 2 1 1 1 3 3 2 1 1 1 1 2 2 2]]\n",
      "[clustimage] >DEBUG> Iloc: [ True]\n",
      "[clustimage] >DEBUG> silscores: [    0.35052]\n",
      "[clustimage] >DEBUG> sillclust: [          3]\n",
      "[clustimage] >DEBUG> clustlabx: [[1 1 2 1 1 1 3 3 2 1 1 1 1 2 2 2]]\n",
      "[clustimage] >INFO> Compute dendrogram threshold.\n",
      "[clustimage] >INFO> Optimal number clusters detected: [3].\n",
      "[clustimage] >INFO> Fin.\n"
     ]
    },
    {
     "name": "stdout",
     "output_type": "stream",
     "text": [
      "name: image_snjv_26.png, preds: [1, 1, 0, 1, 1, 1, 2, 2, 0, 1, 1, 1, 1, 0, 0, 0], total boxes in : 16\n",
      "[pca] >Column labels are auto-completed.\n",
      "[pca] >The PCA reduction is performed to capture [95.0%] explained variance using the [2400] columns of the input data.\n",
      "[pca] >Fit using PCA.\n",
      "[pca] >Compute loadings and PCs.\n",
      "[pca] >Compute explained variance.\n",
      "[pca] >Number of components is [12] that covers the [95.00%] explained variance.\n",
      "[pca] >The PCA reduction is performed on the [2400] columns of the input dataframe.\n",
      "[pca] >Fit using PCA.\n",
      "[pca] >Compute loadings and PCs.\n"
     ]
    },
    {
     "name": "stderr",
     "output_type": "stream",
     "text": [
      "[clustimage] >INFO> Saving data in memory.\n",
      "[clustimage] >INFO> Fit with method=[agglomerative], metric=[euclidean], linkage=[ward]\n",
      "[clustimage] >INFO> Evaluate using silhouette.\n",
      "[clusteval] >INFO: 100%|█████████████████████████████████████████████████████████████████| 1/1 [00:00<00:00, 807.84it/s]\n",
      "[clustimage] >DEBUG> [[2 3 3 3 2 3 3 3 3 1 1 1 1 1 1 1 1 1]]\n",
      "[clustimage] >DEBUG> Iloc: [ True]\n",
      "[clustimage] >DEBUG> silscores: [    0.29111]\n",
      "[clustimage] >DEBUG> sillclust: [          3]\n",
      "[clustimage] >DEBUG> clustlabx: [[2 3 3 3 2 3 3 3 3 1 1 1 1 1 1 1 1 1]]\n",
      "[clustimage] >INFO> Compute dendrogram threshold.\n",
      "[clustimage] >INFO> Optimal number clusters detected: [3].\n",
      "[clustimage] >INFO> Fin.\n"
     ]
    },
    {
     "name": "stdout",
     "output_type": "stream",
     "text": [
      "name: image_snjv_265.png, preds: [2, 1, 1, 1, 2, 1, 1, 1, 1, 0, 0, 0, 0, 0, 0, 0, 0, 0], total boxes in : 18\n",
      "[pca] >Column labels are auto-completed.\n",
      "[pca] >The PCA reduction is performed to capture [95.0%] explained variance using the [2400] columns of the input data.\n",
      "[pca] >Fit using PCA.\n",
      "[pca] >Compute loadings and PCs.\n",
      "[pca] >Compute explained variance.\n",
      "[pca] >Number of components is [12] that covers the [95.00%] explained variance.\n",
      "[pca] >The PCA reduction is performed on the [2400] columns of the input dataframe.\n",
      "[pca] >Fit using PCA.\n",
      "[pca] >Compute loadings and PCs.\n"
     ]
    },
    {
     "name": "stderr",
     "output_type": "stream",
     "text": [
      "[clustimage] >INFO> Saving data in memory.\n",
      "[clustimage] >INFO> Fit with method=[agglomerative], metric=[euclidean], linkage=[ward]\n",
      "[clustimage] >INFO> Evaluate using silhouette.\n",
      "[clusteval] >INFO: 100%|█████████████████████████████████████████████████████████████████| 1/1 [00:00<00:00, 681.78it/s]\n",
      "[clustimage] >DEBUG> [[2 3 3 3 3 3 1 1 1 1 1 1 2 1 1 3 2 2]]\n",
      "[clustimage] >DEBUG> Iloc: [ True]\n",
      "[clustimage] >DEBUG> silscores: [    0.35299]\n",
      "[clustimage] >DEBUG> sillclust: [          3]\n",
      "[clustimage] >DEBUG> clustlabx: [[2 3 3 3 3 3 1 1 1 1 1 1 2 1 1 3 2 2]]\n",
      "[clustimage] >INFO> Compute dendrogram threshold.\n",
      "[clustimage] >INFO> Optimal number clusters detected: [3].\n",
      "[clustimage] >INFO> Fin.\n"
     ]
    },
    {
     "name": "stdout",
     "output_type": "stream",
     "text": [
      "name: image_snjv_267.png, preds: [2, 1, 1, 1, 1, 1, 0, 0, 0, 0, 0, 0, 2, 0, 0, 1, 2, 2], total boxes in : 19\n",
      "[pca] >Column labels are auto-completed.\n",
      "[pca] >The PCA reduction is performed to capture [95.0%] explained variance using the [2400] columns of the input data.\n",
      "[pca] >Fit using PCA.\n",
      "[pca] >Compute loadings and PCs.\n",
      "[pca] >Compute explained variance.\n",
      "[pca] >Number of components is [12] that covers the [95.00%] explained variance.\n",
      "[pca] >The PCA reduction is performed on the [2400] columns of the input dataframe.\n",
      "[pca] >Fit using PCA.\n",
      "[pca] >Compute loadings and PCs.\n"
     ]
    },
    {
     "name": "stderr",
     "output_type": "stream",
     "text": [
      "[clustimage] >INFO> Saving data in memory.\n",
      "[clustimage] >INFO> Fit with method=[agglomerative], metric=[euclidean], linkage=[ward]\n",
      "[clustimage] >INFO> Evaluate using silhouette.\n",
      "[clusteval] >INFO: 100%|█████████████████████████████████████████████████████████████████| 1/1 [00:00<00:00, 761.35it/s]\n",
      "[clustimage] >DEBUG> [[1 1 1 1 1 4 3 3 5 5 4 4 5 5 5 2 4 4 1 4 1]]\n",
      "[clustimage] >DEBUG> Iloc: [ True]\n",
      "[clustimage] >DEBUG> silscores: [    0.25414]\n",
      "[clustimage] >DEBUG> sillclust: [          5]\n",
      "[clustimage] >DEBUG> clustlabx: [[1 1 1 1 1 4 3 3 5 5 4 4 5 5 5 2 4 4 1 4 1]]\n",
      "[clustimage] >INFO> Compute dendrogram threshold.\n",
      "[clustimage] >INFO> Optimal number clusters detected: [5].\n",
      "[clustimage] >INFO> Fin.\n"
     ]
    },
    {
     "name": "stdout",
     "output_type": "stream",
     "text": [
      "name: image_snjv_270.png, preds: [0, 0, 0, 0, 0, 1, 3, 3, 2, 2, 1, 1, 2, 2, 2, 4, 1, 1, 0, 1, 0], total boxes in : 21\n",
      "[pca] >Column labels are auto-completed.\n",
      "[pca] >The PCA reduction is performed to capture [95.0%] explained variance using the [2400] columns of the input data.\n",
      "[pca] >Fit using PCA.\n",
      "[pca] >Compute loadings and PCs.\n",
      "[pca] >Compute explained variance.\n",
      "[pca] >Number of components is [13] that covers the [95.00%] explained variance.\n",
      "[pca] >The PCA reduction is performed on the [2400] columns of the input dataframe.\n",
      "[pca] >Fit using PCA.\n",
      "[pca] >Compute loadings and PCs.\n"
     ]
    },
    {
     "name": "stderr",
     "output_type": "stream",
     "text": [
      "[clustimage] >INFO> Saving data in memory.\n",
      "[clustimage] >INFO> Fit with method=[agglomerative], metric=[euclidean], linkage=[ward]\n",
      "[clustimage] >INFO> Evaluate using silhouette.\n",
      "[clusteval] >INFO: 100%|█████████████████████████████████████████████████████████████████| 1/1 [00:00<00:00, 831.21it/s]\n",
      "[clustimage] >DEBUG> [[1 1 2 1 1 1 4 1 5 4 5 5 5 4 1 5 4 4 3 4 5]]\n",
      "[clustimage] >DEBUG> Iloc: [ True]\n",
      "[clustimage] >DEBUG> silscores: [    0.25068]\n",
      "[clustimage] >DEBUG> sillclust: [          5]\n",
      "[clustimage] >DEBUG> clustlabx: [[1 1 2 1 1 1 4 1 5 4 5 5 5 4 1 5 4 4 3 4 5]]\n",
      "[clustimage] >INFO> Compute dendrogram threshold.\n",
      "[clustimage] >INFO> Optimal number clusters detected: [5].\n",
      "[clustimage] >INFO> Fin.\n"
     ]
    },
    {
     "name": "stdout",
     "output_type": "stream",
     "text": [
      "name: image_snjv_271.png, preds: [0, 0, 4, 0, 0, 0, 2, 0, 1, 2, 1, 1, 1, 2, 0, 1, 2, 2, 3, 2, 1], total boxes in : 21\n",
      "[pca] >Column labels are auto-completed.\n",
      "[pca] >The PCA reduction is performed to capture [95.0%] explained variance using the [2400] columns of the input data.\n",
      "[pca] >Fit using PCA.\n",
      "[pca] >Compute loadings and PCs.\n",
      "[pca] >Compute explained variance.\n",
      "[pca] >Number of components is [9] that covers the [95.00%] explained variance.\n",
      "[pca] >The PCA reduction is performed on the [2400] columns of the input dataframe.\n",
      "[pca] >Fit using PCA.\n",
      "[pca] >Compute loadings and PCs.\n"
     ]
    },
    {
     "name": "stderr",
     "output_type": "stream",
     "text": [
      "[clustimage] >INFO> Saving data in memory.\n",
      "[clustimage] >INFO> Fit with method=[agglomerative], metric=[euclidean], linkage=[ward]\n",
      "[clustimage] >INFO> Evaluate using silhouette.\n",
      "[clusteval] >INFO: 100%|█████████████████████████████████████████████████████████████████| 1/1 [00:00<00:00, 798.76it/s]\n",
      "[clustimage] >DEBUG> [[3 1 2 1 1 1 3 2 3 3 1 1 3]]\n",
      "[clustimage] >DEBUG> Iloc: [ True]\n",
      "[clustimage] >DEBUG> silscores: [     0.4062]\n",
      "[clustimage] >DEBUG> sillclust: [          3]\n",
      "[clustimage] >DEBUG> clustlabx: [[3 1 2 1 1 1 3 2 3 3 1 1 3]]\n",
      "[clustimage] >INFO> Compute dendrogram threshold.\n",
      "[clustimage] >INFO> Optimal number clusters detected: [3].\n",
      "[clustimage] >INFO> Fin.\n"
     ]
    },
    {
     "name": "stdout",
     "output_type": "stream",
     "text": [
      "name: image_snjv_287.png, preds: [1, 0, 2, 0, 0, 0, 1, 2, 1, 1, 0, 0, 1], total boxes in : 13\n",
      "[pca] >Column labels are auto-completed.\n",
      "[pca] >The PCA reduction is performed to capture [95.0%] explained variance using the [2400] columns of the input data.\n",
      "[pca] >Fit using PCA.\n",
      "[pca] >Compute loadings and PCs.\n",
      "[pca] >Compute explained variance.\n",
      "[pca] >Number of components is [11] that covers the [95.00%] explained variance.\n",
      "[pca] >The PCA reduction is performed on the [2400] columns of the input dataframe.\n",
      "[pca] >Fit using PCA.\n",
      "[pca] >Compute loadings and PCs.\n"
     ]
    },
    {
     "name": "stderr",
     "output_type": "stream",
     "text": [
      "[clustimage] >INFO> Saving data in memory.\n",
      "[clustimage] >INFO> Fit with method=[agglomerative], metric=[euclidean], linkage=[ward]\n",
      "[clustimage] >INFO> Evaluate using silhouette.\n",
      "[clusteval] >INFO: 100%|█████████████████████████████████████████████████████████████████| 1/1 [00:00<00:00, 808.46it/s]\n",
      "[clustimage] >DEBUG> [[3 1 4 1 3 3 1 1 4 5 5 1 4 1 2 1 5 3]]\n",
      "[clustimage] >DEBUG> Iloc: [ True]\n",
      "[clustimage] >DEBUG> silscores: [    0.26748]\n",
      "[clustimage] >DEBUG> sillclust: [          5]\n",
      "[clustimage] >DEBUG> clustlabx: [[3 1 4 1 3 3 1 1 4 5 5 1 4 1 2 1 5 3]]\n",
      "[clustimage] >INFO> Compute dendrogram threshold.\n",
      "[clustimage] >INFO> Optimal number clusters detected: [5].\n",
      "[clustimage] >INFO> Fin.\n"
     ]
    },
    {
     "name": "stdout",
     "output_type": "stream",
     "text": [
      "name: image_snjv_296.png, preds: [1, 0, 3, 0, 1, 1, 0, 0, 3, 2, 2, 0, 3, 0, 4, 0, 2, 1], total boxes in : 18\n",
      "[pca] >Column labels are auto-completed.\n",
      "[pca] >The PCA reduction is performed to capture [95.0%] explained variance using the [2400] columns of the input data.\n",
      "[pca] >Fit using PCA.\n",
      "[pca] >Compute loadings and PCs.\n",
      "[pca] >Compute explained variance.\n",
      "[pca] >Number of components is [12] that covers the [95.00%] explained variance.\n",
      "[pca] >The PCA reduction is performed on the [2400] columns of the input dataframe.\n",
      "[pca] >Fit using PCA.\n",
      "[pca] >Compute loadings and PCs.\n"
     ]
    },
    {
     "name": "stderr",
     "output_type": "stream",
     "text": [
      "[clustimage] >INFO> Saving data in memory.\n",
      "[clustimage] >INFO> Fit with method=[agglomerative], metric=[euclidean], linkage=[ward]\n",
      "[clustimage] >INFO> Evaluate using silhouette.\n",
      "[clusteval] >INFO: 100%|█████████████████████████████████████████████████████████████████| 1/1 [00:00<00:00, 850.43it/s]\n",
      "[clustimage] >DEBUG> [[2 2 1 4 1 1 1 2 4 4 1 1 1 2 1 3 3 4]]\n",
      "[clustimage] >DEBUG> Iloc: [ True]\n",
      "[clustimage] >DEBUG> silscores: [    0.27349]\n",
      "[clustimage] >DEBUG> sillclust: [          4]\n",
      "[clustimage] >DEBUG> clustlabx: [[2 2 1 4 1 1 1 2 4 4 1 1 1 2 1 3 3 4]]\n",
      "[clustimage] >INFO> Compute dendrogram threshold.\n",
      "[clustimage] >INFO> Optimal number clusters detected: [4].\n",
      "[clustimage] >INFO> Fin.\n"
     ]
    },
    {
     "name": "stdout",
     "output_type": "stream",
     "text": [
      "name: image_snjv_297.png, preds: [2, 2, 0, 1, 0, 0, 0, 2, 1, 1, 0, 0, 0, 2, 0, 3, 3, 1], total boxes in : 18\n",
      "[pca] >Column labels are auto-completed.\n",
      "[pca] >The PCA reduction is performed to capture [95.0%] explained variance using the [2400] columns of the input data.\n",
      "[pca] >Fit using PCA.\n",
      "[pca] >Compute loadings and PCs.\n",
      "[pca] >Compute explained variance.\n",
      "[pca] >Number of components is [11] that covers the [95.00%] explained variance.\n",
      "[pca] >The PCA reduction is performed on the [2400] columns of the input dataframe.\n",
      "[pca] >Fit using PCA.\n",
      "[pca] >Compute loadings and PCs.\n"
     ]
    },
    {
     "name": "stderr",
     "output_type": "stream",
     "text": [
      "[clustimage] >INFO> Saving data in memory.\n",
      "[clustimage] >INFO> Fit with method=[agglomerative], metric=[euclidean], linkage=[ward]\n",
      "[clustimage] >INFO> Evaluate using silhouette.\n",
      "[clusteval] >INFO: 100%|█████████████████████████████████████████████████████████████████| 1/1 [00:00<00:00, 807.53it/s]\n",
      "[clustimage] >DEBUG> [[2 2 3 1 1 2 1 1 1 2 2 1 1 1 1 2]]\n",
      "[clustimage] >DEBUG> Iloc: [ True]\n",
      "[clustimage] >DEBUG> silscores: [    0.29456]\n",
      "[clustimage] >DEBUG> sillclust: [          3]\n",
      "[clustimage] >DEBUG> clustlabx: [[2 2 3 1 1 2 1 1 1 2 2 1 1 1 1 2]]\n",
      "[clustimage] >INFO> Compute dendrogram threshold.\n",
      "[clustimage] >INFO> Optimal number clusters detected: [3].\n",
      "[clustimage] >INFO> Fin.\n"
     ]
    },
    {
     "name": "stdout",
     "output_type": "stream",
     "text": [
      "name: image_snjv_299.png, preds: [1, 1, 2, 0, 0, 1, 0, 0, 0, 1, 1, 0, 0, 0, 0, 1], total boxes in : 16\n",
      "[pca] >Column labels are auto-completed.\n",
      "[pca] >The PCA reduction is performed to capture [95.0%] explained variance using the [2400] columns of the input data.\n",
      "[pca] >Fit using PCA.\n",
      "[pca] >Compute loadings and PCs.\n",
      "[pca] >Compute explained variance.\n",
      "[pca] >Number of components is [10] that covers the [95.00%] explained variance.\n",
      "[pca] >The PCA reduction is performed on the [2400] columns of the input dataframe.\n",
      "[pca] >Fit using PCA.\n",
      "[pca] >Compute loadings and PCs.\n"
     ]
    },
    {
     "name": "stderr",
     "output_type": "stream",
     "text": [
      "[clustimage] >INFO> Saving data in memory.\n",
      "[clustimage] >INFO> Fit with method=[agglomerative], metric=[euclidean], linkage=[ward]\n",
      "[clustimage] >INFO> Evaluate using silhouette.\n",
      "[clusteval] >INFO: 100%|█████████████████████████████████████████████████████████████████| 1/1 [00:00<00:00, 882.08it/s]\n",
      "[clustimage] >DEBUG> [[2 1 2 1 1 2 2 1 1 1 1 2 2 2 2]]\n",
      "[clustimage] >DEBUG> Iloc: [ True]\n",
      "[clustimage] >DEBUG> silscores: [    0.35983]\n",
      "[clustimage] >DEBUG> sillclust: [          2]\n",
      "[clustimage] >DEBUG> clustlabx: [[2 1 2 1 1 2 2 1 1 1 1 2 2 2 2]]\n",
      "[clustimage] >INFO> Compute dendrogram threshold.\n",
      "[clustimage] >INFO> Optimal number clusters detected: [2].\n",
      "[clustimage] >INFO> Fin.\n"
     ]
    },
    {
     "name": "stdout",
     "output_type": "stream",
     "text": [
      "name: image_snjv_301.png, preds: [1, 0, 1, 0, 0, 1, 1, 0, 0, 0, 0, 1, 1, 1, 1], total boxes in : 15\n",
      "[pca] >Column labels are auto-completed.\n",
      "[pca] >The PCA reduction is performed to capture [95.0%] explained variance using the [2400] columns of the input data.\n",
      "[pca] >Fit using PCA.\n",
      "[pca] >Compute loadings and PCs.\n",
      "[pca] >Compute explained variance.\n",
      "[pca] >Number of components is [9] that covers the [95.00%] explained variance.\n",
      "[pca] >The PCA reduction is performed on the [2400] columns of the input dataframe.\n",
      "[pca] >Fit using PCA.\n",
      "[pca] >Compute loadings and PCs.\n"
     ]
    },
    {
     "name": "stderr",
     "output_type": "stream",
     "text": [
      "[clustimage] >INFO> Saving data in memory.\n",
      "[clustimage] >INFO> Fit with method=[agglomerative], metric=[euclidean], linkage=[ward]\n",
      "[clustimage] >INFO> Evaluate using silhouette.\n",
      "[clusteval] >INFO: 100%|█████████████████████████████████████████████████████████████████| 1/1 [00:00<00:00, 828.26it/s]\n",
      "[clustimage] >DEBUG> [[2 2 3 2 2 1 1 1 2 1 1 1 1 1 3 3]]\n",
      "[clustimage] >DEBUG> Iloc: [ True]\n",
      "[clustimage] >DEBUG> silscores: [    0.36222]\n",
      "[clustimage] >DEBUG> sillclust: [          3]\n",
      "[clustimage] >DEBUG> clustlabx: [[2 2 3 2 2 1 1 1 2 1 1 1 1 1 3 3]]\n",
      "[clustimage] >INFO> Compute dendrogram threshold.\n",
      "[clustimage] >INFO> Optimal number clusters detected: [3].\n",
      "[clustimage] >INFO> Fin.\n"
     ]
    },
    {
     "name": "stdout",
     "output_type": "stream",
     "text": [
      "name: image_snjv_302.png, preds: [1, 1, 2, 1, 1, 0, 0, 0, 1, 0, 0, 0, 0, 0, 2, 2], total boxes in : 16\n",
      "[pca] >Column labels are auto-completed.\n",
      "[pca] >The PCA reduction is performed to capture [95.0%] explained variance using the [2400] columns of the input data.\n",
      "[pca] >Fit using PCA.\n",
      "[pca] >Compute loadings and PCs.\n",
      "[pca] >Compute explained variance.\n",
      "[pca] >Number of components is [11] that covers the [95.00%] explained variance.\n",
      "[pca] >The PCA reduction is performed on the [2400] columns of the input dataframe.\n",
      "[pca] >Fit using PCA.\n",
      "[pca] >Compute loadings and PCs.\n"
     ]
    },
    {
     "name": "stderr",
     "output_type": "stream",
     "text": [
      "[clustimage] >INFO> Saving data in memory.\n",
      "[clustimage] >INFO> Fit with method=[agglomerative], metric=[euclidean], linkage=[ward]\n",
      "[clustimage] >INFO> Evaluate using silhouette.\n",
      "[clusteval] >INFO: 100%|█████████████████████████████████████████████████████████████████| 1/1 [00:00<00:00, 840.37it/s]\n",
      "[clustimage] >DEBUG> [[1 1 2 3 2 1 3 1 3 3 2 2 3 2 1 1 1]]\n",
      "[clustimage] >DEBUG> Iloc: [ True]\n",
      "[clustimage] >DEBUG> silscores: [    0.25824]\n",
      "[clustimage] >DEBUG> sillclust: [          3]\n",
      "[clustimage] >DEBUG> clustlabx: [[1 1 2 3 2 1 3 1 3 3 2 2 3 2 1 1 1]]\n",
      "[clustimage] >INFO> Compute dendrogram threshold.\n",
      "[clustimage] >INFO> Optimal number clusters detected: [3].\n",
      "[clustimage] >INFO> Fin.\n"
     ]
    },
    {
     "name": "stdout",
     "output_type": "stream",
     "text": [
      "name: image_snjv_303.png, preds: [0, 0, 2, 1, 2, 0, 1, 0, 1, 1, 2, 2, 1, 2, 0, 0, 0], total boxes in : 17\n",
      "[pca] >Column labels are auto-completed.\n",
      "[pca] >The PCA reduction is performed to capture [95.0%] explained variance using the [2400] columns of the input data.\n",
      "[pca] >Fit using PCA.\n",
      "[pca] >Compute loadings and PCs.\n",
      "[pca] >Compute explained variance.\n",
      "[pca] >Number of components is [10] that covers the [95.00%] explained variance.\n",
      "[pca] >The PCA reduction is performed on the [2400] columns of the input dataframe.\n",
      "[pca] >Fit using PCA.\n",
      "[pca] >Compute loadings and PCs.\n"
     ]
    },
    {
     "name": "stderr",
     "output_type": "stream",
     "text": [
      "[clustimage] >INFO> Saving data in memory.\n",
      "[clustimage] >INFO> Fit with method=[agglomerative], metric=[euclidean], linkage=[ward]\n",
      "[clustimage] >INFO> Evaluate using silhouette.\n",
      "[clusteval] >INFO: 100%|█████████████████████████████████████████████████████████████████| 1/1 [00:00<00:00, 848.19it/s]\n",
      "[clustimage] >DEBUG> [[2 2 2 1 2 1 2 1 1 1 1 2 1 3 2]]\n",
      "[clustimage] >DEBUG> Iloc: [ True]\n",
      "[clustimage] >DEBUG> silscores: [    0.38078]\n",
      "[clustimage] >DEBUG> sillclust: [          3]\n",
      "[clustimage] >DEBUG> clustlabx: [[2 2 2 1 2 1 2 1 1 1 1 2 1 3 2]]\n",
      "[clustimage] >INFO> Compute dendrogram threshold.\n",
      "[clustimage] >INFO> Optimal number clusters detected: [3].\n",
      "[clustimage] >INFO> Fin.\n"
     ]
    },
    {
     "name": "stdout",
     "output_type": "stream",
     "text": [
      "name: image_snjv_304.png, preds: [1, 1, 1, 0, 1, 0, 1, 0, 0, 0, 0, 1, 0, 2, 1], total boxes in : 15\n",
      "[pca] >Column labels are auto-completed.\n",
      "[pca] >The PCA reduction is performed to capture [95.0%] explained variance using the [2400] columns of the input data.\n",
      "[pca] >Fit using PCA.\n",
      "[pca] >Compute loadings and PCs.\n",
      "[pca] >Compute explained variance.\n",
      "[pca] >Number of components is [5] that covers the [95.00%] explained variance.\n",
      "[pca] >The PCA reduction is performed on the [2400] columns of the input dataframe.\n",
      "[pca] >Fit using PCA.\n",
      "[pca] >Compute loadings and PCs.\n"
     ]
    },
    {
     "name": "stderr",
     "output_type": "stream",
     "text": [
      "[clustimage] >INFO> Saving data in memory.\n",
      "[clustimage] >INFO> Fit with method=[agglomerative], metric=[euclidean], linkage=[ward]\n",
      "[clustimage] >INFO> Evaluate using silhouette.\n",
      "[clusteval] >INFO: 100%|█████████████████████████████████████████████████████████████████| 1/1 [00:00<00:00, 933.52it/s]\n",
      "[clustimage] >DEBUG> [[1 2 1 2 2 1 1 1]]\n",
      "[clustimage] >DEBUG> Iloc: [ True]\n",
      "[clustimage] >DEBUG> silscores: [    0.48012]\n",
      "[clustimage] >DEBUG> sillclust: [          2]\n",
      "[clustimage] >DEBUG> clustlabx: [[1 2 1 2 2 1 1 1]]\n",
      "[clustimage] >INFO> Compute dendrogram threshold.\n",
      "[clustimage] >INFO> Optimal number clusters detected: [2].\n",
      "[clustimage] >INFO> Fin.\n"
     ]
    },
    {
     "name": "stdout",
     "output_type": "stream",
     "text": [
      "name: image_snjv_305.png, preds: [1, 0, 1, 0, 0, 1, 1, 1], total boxes in : 9\n",
      "[pca] >Column labels are auto-completed.\n",
      "[pca] >The PCA reduction is performed to capture [95.0%] explained variance using the [2400] columns of the input data.\n",
      "[pca] >Fit using PCA.\n",
      "[pca] >Compute loadings and PCs.\n",
      "[pca] >Compute explained variance.\n",
      "[pca] >Number of components is [10] that covers the [95.00%] explained variance.\n",
      "[pca] >The PCA reduction is performed on the [2400] columns of the input dataframe.\n",
      "[pca] >Fit using PCA.\n",
      "[pca] >Compute loadings and PCs.\n"
     ]
    },
    {
     "name": "stderr",
     "output_type": "stream",
     "text": [
      "[clustimage] >INFO> Saving data in memory.\n",
      "[clustimage] >INFO> Fit with method=[agglomerative], metric=[euclidean], linkage=[ward]\n",
      "[clustimage] >INFO> Evaluate using silhouette.\n",
      "[clusteval] >INFO: 100%|█████████████████████████████████████████████████████████████████| 1/1 [00:00<00:00, 853.54it/s]\n",
      "[clustimage] >DEBUG> [[1 2 2 2 1 2 1 1 2 3 2 2 1 2 1 2 1]]\n",
      "[clustimage] >DEBUG> Iloc: [ True]\n",
      "[clustimage] >DEBUG> silscores: [    0.45345]\n",
      "[clustimage] >DEBUG> sillclust: [          3]\n",
      "[clustimage] >DEBUG> clustlabx: [[1 2 2 2 1 2 1 1 2 3 2 2 1 2 1 2 1]]\n",
      "[clustimage] >INFO> Compute dendrogram threshold.\n",
      "[clustimage] >INFO> Optimal number clusters detected: [3].\n",
      "[clustimage] >INFO> Fin.\n"
     ]
    },
    {
     "name": "stdout",
     "output_type": "stream",
     "text": [
      "name: image_snjv_31.png, preds: [0, 1, 1, 1, 0, 1, 0, 0, 1, 2, 1, 1, 0, 1, 0, 1, 0], total boxes in : 17\n",
      "[pca] >Column labels are auto-completed.\n",
      "[pca] >The PCA reduction is performed to capture [95.0%] explained variance using the [2400] columns of the input data.\n",
      "[pca] >Fit using PCA.\n",
      "[pca] >Compute loadings and PCs.\n",
      "[pca] >Compute explained variance.\n",
      "[pca] >Number of components is [9] that covers the [95.00%] explained variance.\n",
      "[pca] >The PCA reduction is performed on the [2400] columns of the input dataframe.\n",
      "[pca] >Fit using PCA.\n",
      "[pca] >Compute loadings and PCs.\n"
     ]
    },
    {
     "name": "stderr",
     "output_type": "stream",
     "text": [
      "[clustimage] >INFO> Saving data in memory.\n",
      "[clustimage] >INFO> Fit with method=[agglomerative], metric=[euclidean], linkage=[ward]\n",
      "[clustimage] >INFO> Evaluate using silhouette.\n",
      "[clusteval] >INFO: 100%|█████████████████████████████████████████████████████████████████| 1/1 [00:00<00:00, 880.97it/s]\n",
      "[clustimage] >DEBUG> [[4 2 1 3 1 1 3 3 2 1 1 3 2 3]]\n",
      "[clustimage] >DEBUG> Iloc: [ True]\n",
      "[clustimage] >DEBUG> silscores: [    0.28315]\n",
      "[clustimage] >DEBUG> sillclust: [          4]\n",
      "[clustimage] >DEBUG> clustlabx: [[4 2 1 3 1 1 3 3 2 1 1 3 2 3]]\n",
      "[clustimage] >INFO> Compute dendrogram threshold.\n",
      "[clustimage] >INFO> Optimal number clusters detected: [4].\n",
      "[clustimage] >INFO> Fin.\n"
     ]
    },
    {
     "name": "stdout",
     "output_type": "stream",
     "text": [
      "name: image_snjv_312.png, preds: [3, 2, 0, 1, 0, 0, 1, 1, 2, 0, 0, 1, 2, 1], total boxes in : 14\n",
      "[pca] >Column labels are auto-completed.\n",
      "[pca] >The PCA reduction is performed to capture [95.0%] explained variance using the [2400] columns of the input data.\n",
      "[pca] >Fit using PCA.\n",
      "[pca] >Compute loadings and PCs.\n",
      "[pca] >Compute explained variance.\n",
      "[pca] >Number of components is [11] that covers the [95.00%] explained variance.\n",
      "[pca] >The PCA reduction is performed on the [2400] columns of the input dataframe.\n",
      "[pca] >Fit using PCA.\n",
      "[pca] >Compute loadings and PCs.\n"
     ]
    },
    {
     "name": "stderr",
     "output_type": "stream",
     "text": [
      "[clustimage] >INFO> Saving data in memory.\n",
      "[clustimage] >INFO> Fit with method=[agglomerative], metric=[euclidean], linkage=[ward]\n",
      "[clustimage] >INFO> Evaluate using silhouette.\n",
      "[clusteval] >INFO: 100%|█████████████████████████████████████████████████████████████████| 1/1 [00:00<00:00, 692.93it/s]\n",
      "[clustimage] >DEBUG> [[3 2 1 1 2 1 1 1 1 3 1 1 3 3 2]]\n",
      "[clustimage] >DEBUG> Iloc: [ True]\n",
      "[clustimage] >DEBUG> silscores: [    0.31352]\n",
      "[clustimage] >DEBUG> sillclust: [          3]\n",
      "[clustimage] >DEBUG> clustlabx: [[3 2 1 1 2 1 1 1 1 3 1 1 3 3 2]]\n",
      "[clustimage] >INFO> Compute dendrogram threshold.\n",
      "[clustimage] >INFO> Optimal number clusters detected: [3].\n",
      "[clustimage] >INFO> Fin.\n"
     ]
    },
    {
     "name": "stdout",
     "output_type": "stream",
     "text": [
      "name: image_snjv_314.png, preds: [0, 2, 1, 1, 2, 1, 1, 1, 1, 0, 1, 1, 0, 0, 2], total boxes in : 15\n",
      "[pca] >Column labels are auto-completed.\n",
      "[pca] >The PCA reduction is performed to capture [95.0%] explained variance using the [2400] columns of the input data.\n",
      "[pca] >Fit using PCA.\n",
      "[pca] >Compute loadings and PCs.\n",
      "[pca] >Compute explained variance.\n",
      "[pca] >Number of components is [12] that covers the [95.00%] explained variance.\n",
      "[pca] >The PCA reduction is performed on the [2400] columns of the input dataframe.\n",
      "[pca] >Fit using PCA.\n",
      "[pca] >Compute loadings and PCs.\n"
     ]
    },
    {
     "name": "stderr",
     "output_type": "stream",
     "text": [
      "[clustimage] >INFO> Saving data in memory.\n",
      "[clustimage] >INFO> Fit with method=[agglomerative], metric=[euclidean], linkage=[ward]\n",
      "[clustimage] >INFO> Evaluate using silhouette.\n",
      "[clusteval] >INFO: 100%|█████████████████████████████████████████████████████████████████| 1/1 [00:00<00:00, 871.63it/s]\n",
      "[clustimage] >DEBUG> [[1 3 2 2 1 1 1 1 3 1 3 1 3 1 3 1 3 3]]\n",
      "[clustimage] >DEBUG> Iloc: [ True]\n",
      "[clustimage] >DEBUG> silscores: [    0.27984]\n",
      "[clustimage] >DEBUG> sillclust: [          3]\n",
      "[clustimage] >DEBUG> clustlabx: [[1 3 2 2 1 1 1 1 3 1 3 1 3 1 3 1 3 3]]\n",
      "[clustimage] >INFO> Compute dendrogram threshold.\n",
      "[clustimage] >INFO> Optimal number clusters detected: [3].\n",
      "[clustimage] >INFO> Fin.\n"
     ]
    },
    {
     "name": "stdout",
     "output_type": "stream",
     "text": [
      "name: image_snjv_315.png, preds: [0, 1, 2, 2, 0, 0, 0, 0, 1, 0, 1, 0, 1, 0, 1, 0, 1, 1], total boxes in : 18\n",
      "[pca] >Column labels are auto-completed.\n",
      "[pca] >The PCA reduction is performed to capture [95.0%] explained variance using the [2400] columns of the input data.\n",
      "[pca] >Fit using PCA.\n",
      "[pca] >Compute loadings and PCs.\n",
      "[pca] >Compute explained variance.\n",
      "[pca] >Number of components is [12] that covers the [95.00%] explained variance.\n",
      "[pca] >The PCA reduction is performed on the [2400] columns of the input dataframe.\n",
      "[pca] >Fit using PCA.\n",
      "[pca] >Compute loadings and PCs.\n"
     ]
    },
    {
     "name": "stderr",
     "output_type": "stream",
     "text": [
      "[clustimage] >INFO> Saving data in memory.\n",
      "[clustimage] >INFO> Fit with method=[agglomerative], metric=[euclidean], linkage=[ward]\n",
      "[clustimage] >INFO> Evaluate using silhouette.\n",
      "[clusteval] >INFO: 100%|█████████████████████████████████████████████████████████████████| 1/1 [00:00<00:00, 725.16it/s]\n",
      "[clustimage] >DEBUG> [[1 2 2 1 3 3 3 2 2 2 1 1 1 3 1 3 1 2 1]]\n",
      "[clustimage] >DEBUG> Iloc: [ True]\n",
      "[clustimage] >DEBUG> silscores: [    0.28594]\n",
      "[clustimage] >DEBUG> sillclust: [          3]\n",
      "[clustimage] >DEBUG> clustlabx: [[1 2 2 1 3 3 3 2 2 2 1 1 1 3 1 3 1 2 1]]\n",
      "[clustimage] >INFO> Compute dendrogram threshold.\n",
      "[clustimage] >INFO> Optimal number clusters detected: [3].\n",
      "[clustimage] >INFO> Fin.\n"
     ]
    },
    {
     "name": "stdout",
     "output_type": "stream",
     "text": [
      "name: image_snjv_319.png, preds: [0, 1, 1, 0, 2, 2, 2, 1, 1, 1, 0, 0, 0, 2, 0, 2, 0, 1, 0], total boxes in : 19\n",
      "[pca] >Column labels are auto-completed.\n",
      "[pca] >The PCA reduction is performed to capture [95.0%] explained variance using the [2400] columns of the input data.\n",
      "[pca] >Fit using PCA.\n",
      "[pca] >Compute loadings and PCs.\n",
      "[pca] >Compute explained variance.\n",
      "[pca] >Number of components is [11] that covers the [95.00%] explained variance.\n",
      "[pca] >The PCA reduction is performed on the [2400] columns of the input dataframe.\n",
      "[pca] >Fit using PCA.\n",
      "[pca] >Compute loadings and PCs.\n"
     ]
    },
    {
     "name": "stderr",
     "output_type": "stream",
     "text": [
      "[clustimage] >INFO> Saving data in memory.\n",
      "[clustimage] >INFO> Fit with method=[agglomerative], metric=[euclidean], linkage=[ward]\n",
      "[clustimage] >INFO> Evaluate using silhouette.\n",
      "[clusteval] >INFO: 100%|█████████████████████████████████████████████████████████████████| 1/1 [00:00<00:00, 847.85it/s]\n",
      "[clustimage] >DEBUG> [[1 2 2 1 1 1 2 2 1 2 2 2 1 1 3 2 1]]\n",
      "[clustimage] >DEBUG> Iloc: [ True]\n",
      "[clustimage] >DEBUG> silscores: [    0.33001]\n",
      "[clustimage] >DEBUG> sillclust: [          3]\n",
      "[clustimage] >DEBUG> clustlabx: [[1 2 2 1 1 1 2 2 1 2 2 2 1 1 3 2 1]]\n",
      "[clustimage] >INFO> Compute dendrogram threshold.\n",
      "[clustimage] >INFO> Optimal number clusters detected: [3].\n",
      "[clustimage] >INFO> Fin.\n"
     ]
    },
    {
     "name": "stdout",
     "output_type": "stream",
     "text": [
      "name: image_snjv_322.png, preds: [0, 1, 1, 0, 0, 0, 1, 1, 0, 1, 1, 1, 0, 0, 2, 1, 0], total boxes in : 17\n",
      "[pca] >Column labels are auto-completed.\n",
      "[pca] >The PCA reduction is performed to capture [95.0%] explained variance using the [2400] columns of the input data.\n",
      "[pca] >Fit using PCA.\n",
      "[pca] >Compute loadings and PCs.\n",
      "[pca] >Compute explained variance.\n",
      "[pca] >Number of components is [10] that covers the [95.00%] explained variance.\n",
      "[pca] >The PCA reduction is performed on the [2400] columns of the input dataframe.\n",
      "[pca] >Fit using PCA.\n",
      "[pca] >Compute loadings and PCs.\n"
     ]
    },
    {
     "name": "stderr",
     "output_type": "stream",
     "text": [
      "[clustimage] >INFO> Saving data in memory.\n",
      "[clustimage] >INFO> Fit with method=[agglomerative], metric=[euclidean], linkage=[ward]\n",
      "[clustimage] >INFO> Evaluate using silhouette.\n",
      "[clusteval] >INFO: 100%|█████████████████████████████████████████████████████████████████| 1/1 [00:00<00:00, 690.53it/s]\n",
      "[clustimage] >DEBUG> [[2 1 3 2 1 1 2 2 1 1 2 2 1 1 2 2 1]]\n",
      "[clustimage] >DEBUG> Iloc: [ True]\n",
      "[clustimage] >DEBUG> silscores: [    0.39462]\n",
      "[clustimage] >DEBUG> sillclust: [          3]\n",
      "[clustimage] >DEBUG> clustlabx: [[2 1 3 2 1 1 2 2 1 1 2 2 1 1 2 2 1]]\n",
      "[clustimage] >INFO> Compute dendrogram threshold.\n",
      "[clustimage] >INFO> Optimal number clusters detected: [3].\n",
      "[clustimage] >INFO> Fin.\n"
     ]
    },
    {
     "name": "stdout",
     "output_type": "stream",
     "text": [
      "name: image_snjv_334.png, preds: [1, 0, 2, 1, 0, 0, 1, 1, 0, 0, 1, 1, 0, 0, 1, 1, 0], total boxes in : 17\n",
      "[pca] >Column labels are auto-completed.\n",
      "[pca] >The PCA reduction is performed to capture [95.0%] explained variance using the [2400] columns of the input data.\n",
      "[pca] >Fit using PCA.\n",
      "[pca] >Compute loadings and PCs.\n",
      "[pca] >Compute explained variance.\n",
      "[pca] >Number of components is [7] that covers the [95.00%] explained variance.\n",
      "[pca] >The PCA reduction is performed on the [2400] columns of the input dataframe.\n",
      "[pca] >Fit using PCA.\n",
      "[pca] >Compute loadings and PCs.\n"
     ]
    },
    {
     "name": "stderr",
     "output_type": "stream",
     "text": [
      "[clustimage] >INFO> Saving data in memory.\n",
      "[clustimage] >INFO> Fit with method=[agglomerative], metric=[euclidean], linkage=[ward]\n",
      "[clustimage] >INFO> Evaluate using silhouette.\n",
      "[clusteval] >INFO: 100%|█████████████████████████████████████████████████████████████████| 1/1 [00:00<00:00, 648.27it/s]\n",
      "[clustimage] >DEBUG> [[2 1 2 1 2 1 2 2 1 2 1]]\n",
      "[clustimage] >DEBUG> Iloc: [ True]\n",
      "[clustimage] >DEBUG> silscores: [     0.4868]\n",
      "[clustimage] >DEBUG> sillclust: [          2]\n",
      "[clustimage] >DEBUG> clustlabx: [[2 1 2 1 2 1 2 2 1 2 1]]\n",
      "[clustimage] >INFO> Compute dendrogram threshold.\n",
      "[clustimage] >INFO> Optimal number clusters detected: [2].\n",
      "[clustimage] >INFO> Fin.\n"
     ]
    },
    {
     "name": "stdout",
     "output_type": "stream",
     "text": [
      "name: image_snjv_335.png, preds: [0, 1, 0, 1, 0, 1, 0, 0, 1, 0, 1], total boxes in : 11\n",
      "[pca] >Column labels are auto-completed.\n",
      "[pca] >The PCA reduction is performed to capture [95.0%] explained variance using the [2400] columns of the input data.\n",
      "[pca] >Fit using PCA.\n",
      "[pca] >Compute loadings and PCs.\n",
      "[pca] >Compute explained variance.\n",
      "[pca] >Number of components is [12] that covers the [95.00%] explained variance.\n",
      "[pca] >The PCA reduction is performed on the [2400] columns of the input dataframe.\n",
      "[pca] >Fit using PCA.\n",
      "[pca] >Compute loadings and PCs.\n"
     ]
    },
    {
     "name": "stderr",
     "output_type": "stream",
     "text": [
      "[clustimage] >INFO> Saving data in memory.\n",
      "[clustimage] >INFO> Fit with method=[agglomerative], metric=[euclidean], linkage=[ward]\n",
      "[clustimage] >INFO> Evaluate using silhouette.\n",
      "[clusteval] >INFO: 100%|█████████████████████████████████████████████████████████████████| 1/1 [00:00<00:00, 714.17it/s]\n",
      "[clustimage] >DEBUG> [[2 3 1 1 2 2 3 1 1 1 1 1 3 3 3 1 3 3 1 1]]\n",
      "[clustimage] >DEBUG> Iloc: [ True]\n",
      "[clustimage] >DEBUG> silscores: [     0.2824]\n",
      "[clustimage] >DEBUG> sillclust: [          3]\n",
      "[clustimage] >DEBUG> clustlabx: [[2 3 1 1 2 2 3 1 1 1 1 1 3 3 3 1 3 3 1 1]]\n",
      "[clustimage] >INFO> Compute dendrogram threshold.\n",
      "[clustimage] >INFO> Optimal number clusters detected: [3].\n",
      "[clustimage] >INFO> Fin.\n"
     ]
    },
    {
     "name": "stdout",
     "output_type": "stream",
     "text": [
      "name: image_snjv_346.png, preds: [2, 1, 0, 0, 2, 2, 1, 0, 0, 0, 0, 0, 1, 1, 1, 0, 1, 1, 0, 0], total boxes in : 20\n",
      "[pca] >Column labels are auto-completed.\n",
      "[pca] >The PCA reduction is performed to capture [95.0%] explained variance using the [2400] columns of the input data.\n",
      "[pca] >Fit using PCA.\n",
      "[pca] >Compute loadings and PCs.\n",
      "[pca] >Compute explained variance.\n",
      "[pca] >Number of components is [11] that covers the [95.00%] explained variance.\n",
      "[pca] >The PCA reduction is performed on the [2400] columns of the input dataframe.\n",
      "[pca] >Fit using PCA.\n",
      "[pca] >Compute loadings and PCs.\n"
     ]
    },
    {
     "name": "stderr",
     "output_type": "stream",
     "text": [
      "[clustimage] >INFO> Saving data in memory.\n",
      "[clustimage] >INFO> Fit with method=[agglomerative], metric=[euclidean], linkage=[ward]\n",
      "[clustimage] >INFO> Evaluate using silhouette.\n",
      "[clusteval] >INFO: 100%|█████████████████████████████████████████████████████████████████| 1/1 [00:00<00:00, 766.08it/s]\n",
      "[clustimage] >DEBUG> [[1 1 3 2 1 3 1 1 3 2 3 3 1 3 3 1 1]]\n",
      "[clustimage] >DEBUG> Iloc: [ True]\n",
      "[clustimage] >DEBUG> silscores: [    0.31555]\n",
      "[clustimage] >DEBUG> sillclust: [          3]\n",
      "[clustimage] >DEBUG> clustlabx: [[1 1 3 2 1 3 1 1 3 2 3 3 1 3 3 1 1]]\n",
      "[clustimage] >INFO> Compute dendrogram threshold.\n",
      "[clustimage] >INFO> Optimal number clusters detected: [3].\n",
      "[clustimage] >INFO> Fin.\n"
     ]
    },
    {
     "name": "stdout",
     "output_type": "stream",
     "text": [
      "name: image_snjv_354.png, preds: [0, 0, 1, 2, 0, 1, 0, 0, 1, 2, 1, 1, 0, 1, 1, 0, 0], total boxes in : 17\n",
      "[pca] >Column labels are auto-completed.\n",
      "[pca] >The PCA reduction is performed to capture [95.0%] explained variance using the [2400] columns of the input data.\n",
      "[pca] >Fit using PCA.\n",
      "[pca] >Compute loadings and PCs.\n",
      "[pca] >Compute explained variance.\n",
      "[pca] >Number of components is [12] that covers the [95.00%] explained variance.\n",
      "[pca] >The PCA reduction is performed on the [2400] columns of the input dataframe.\n",
      "[pca] >Fit using PCA.\n",
      "[pca] >Compute loadings and PCs.\n"
     ]
    },
    {
     "name": "stderr",
     "output_type": "stream",
     "text": [
      "[clustimage] >INFO> Saving data in memory.\n",
      "[clustimage] >INFO> Fit with method=[agglomerative], metric=[euclidean], linkage=[ward]\n",
      "[clustimage] >INFO> Evaluate using silhouette.\n",
      "[clusteval] >INFO: 100%|█████████████████████████████████████████████████████████████████| 1/1 [00:00<00:00, 779.32it/s]\n",
      "[clustimage] >DEBUG> [[3 1 1 3 1 1 1 2 1 1 1 2 3 3 3 3 3 3 1]]\n",
      "[clustimage] >DEBUG> Iloc: [ True]\n",
      "[clustimage] >DEBUG> silscores: [    0.34631]\n",
      "[clustimage] >DEBUG> sillclust: [          3]\n",
      "[clustimage] >DEBUG> clustlabx: [[3 1 1 3 1 1 1 2 1 1 1 2 3 3 3 3 3 3 1]]\n",
      "[clustimage] >INFO> Compute dendrogram threshold.\n",
      "[clustimage] >INFO> Optimal number clusters detected: [3].\n",
      "[clustimage] >INFO> Fin.\n"
     ]
    },
    {
     "name": "stdout",
     "output_type": "stream",
     "text": [
      "name: image_snjv_355.png, preds: [0, 1, 1, 0, 1, 1, 1, 2, 1, 1, 1, 2, 0, 0, 0, 0, 0, 0, 1], total boxes in : 19\n",
      "[pca] >Column labels are auto-completed.\n",
      "[pca] >The PCA reduction is performed to capture [95.0%] explained variance using the [2400] columns of the input data.\n",
      "[pca] >Fit using PCA.\n",
      "[pca] >Compute loadings and PCs.\n",
      "[pca] >Compute explained variance.\n",
      "[pca] >Number of components is [9] that covers the [95.00%] explained variance.\n",
      "[pca] >The PCA reduction is performed on the [2400] columns of the input dataframe.\n",
      "[pca] >Fit using PCA.\n",
      "[pca] >Compute loadings and PCs.\n"
     ]
    },
    {
     "name": "stderr",
     "output_type": "stream",
     "text": [
      "[clustimage] >INFO> Saving data in memory.\n",
      "[clustimage] >INFO> Fit with method=[agglomerative], metric=[euclidean], linkage=[ward]\n",
      "[clustimage] >INFO> Evaluate using silhouette.\n",
      "[clusteval] >INFO: 100%|█████████████████████████████████████████████████████████████████| 1/1 [00:00<00:00, 790.63it/s]\n",
      "[clustimage] >DEBUG> [[1 1 1 3 2 3 1 1 1 2 1 3 3 2]]\n",
      "[clustimage] >DEBUG> Iloc: [ True]\n",
      "[clustimage] >DEBUG> silscores: [    0.42712]\n",
      "[clustimage] >DEBUG> sillclust: [          3]\n",
      "[clustimage] >DEBUG> clustlabx: [[1 1 1 3 2 3 1 1 1 2 1 3 3 2]]\n",
      "[clustimage] >INFO> Compute dendrogram threshold.\n",
      "[clustimage] >INFO> Optimal number clusters detected: [3].\n",
      "[clustimage] >INFO> Fin.\n"
     ]
    },
    {
     "name": "stdout",
     "output_type": "stream",
     "text": [
      "name: image_snjv_356.png, preds: [0, 0, 0, 1, 2, 1, 0, 0, 0, 2, 0, 1, 1, 2], total boxes in : 14\n",
      "[pca] >Column labels are auto-completed.\n",
      "[pca] >The PCA reduction is performed to capture [95.0%] explained variance using the [2400] columns of the input data.\n",
      "[pca] >Fit using PCA.\n",
      "[pca] >Compute loadings and PCs.\n",
      "[pca] >Compute explained variance.\n",
      "[pca] >Number of components is [7] that covers the [95.00%] explained variance.\n",
      "[pca] >The PCA reduction is performed on the [2400] columns of the input dataframe.\n",
      "[pca] >Fit using PCA.\n",
      "[pca] >Compute loadings and PCs.\n"
     ]
    },
    {
     "name": "stderr",
     "output_type": "stream",
     "text": [
      "[clustimage] >INFO> Saving data in memory.\n",
      "[clustimage] >INFO> Fit with method=[agglomerative], metric=[euclidean], linkage=[ward]\n",
      "[clustimage] >INFO> Evaluate using silhouette.\n",
      "[clusteval] >INFO: 100%|█████████████████████████████████████████████████████████████████| 1/1 [00:00<00:00, 745.12it/s]\n",
      "[clustimage] >DEBUG> [[4 2 3 1 3 4 1 3 4 3]]\n",
      "[clustimage] >DEBUG> Iloc: [ True]\n",
      "[clustimage] >DEBUG> silscores: [    0.36807]\n",
      "[clustimage] >DEBUG> sillclust: [          4]\n",
      "[clustimage] >DEBUG> clustlabx: [[4 2 3 1 3 4 1 3 4 3]]\n",
      "[clustimage] >INFO> Compute dendrogram threshold.\n",
      "[clustimage] >INFO> Optimal number clusters detected: [4].\n",
      "[clustimage] >INFO> Fin.\n"
     ]
    },
    {
     "name": "stdout",
     "output_type": "stream",
     "text": [
      "name: image_snjv_368.png, preds: [1, 3, 0, 2, 0, 1, 2, 0, 1, 0], total boxes in : 10\n",
      "[pca] >Column labels are auto-completed.\n",
      "[pca] >The PCA reduction is performed to capture [95.0%] explained variance using the [2400] columns of the input data.\n",
      "[pca] >Fit using PCA.\n",
      "[pca] >Compute loadings and PCs.\n",
      "[pca] >Compute explained variance.\n",
      "[pca] >Number of components is [13] that covers the [95.00%] explained variance.\n",
      "[pca] >The PCA reduction is performed on the [2400] columns of the input dataframe.\n",
      "[pca] >Fit using PCA.\n",
      "[pca] >Compute loadings and PCs.\n"
     ]
    },
    {
     "name": "stderr",
     "output_type": "stream",
     "text": [
      "[clustimage] >INFO> Saving data in memory.\n",
      "[clustimage] >INFO> Fit with method=[agglomerative], metric=[euclidean], linkage=[ward]\n",
      "[clustimage] >INFO> Evaluate using silhouette.\n",
      "[clusteval] >INFO: 100%|█████████████████████████████████████████████████████████████████| 1/1 [00:00<00:00, 582.79it/s]\n",
      "[clustimage] >DEBUG> [[3 2 1 1 1 1 2 1 2 1 1 2 2 2 2 1 2 3 2 4 3]]\n",
      "[clustimage] >DEBUG> Iloc: [ True]\n",
      "[clustimage] >DEBUG> silscores: [    0.37265]\n",
      "[clustimage] >DEBUG> sillclust: [          4]\n",
      "[clustimage] >DEBUG> clustlabx: [[3 2 1 1 1 1 2 1 2 1 1 2 2 2 2 1 2 3 2 4 3]]\n",
      "[clustimage] >INFO> Compute dendrogram threshold.\n",
      "[clustimage] >INFO> Optimal number clusters detected: [4].\n",
      "[clustimage] >INFO> Fin.\n"
     ]
    },
    {
     "name": "stdout",
     "output_type": "stream",
     "text": [
      "name: image_snjv_37.png, preds: [2, 1, 0, 0, 0, 0, 1, 0, 1, 0, 0, 1, 1, 1, 1, 0, 1, 2, 1, 3, 2], total boxes in : 21\n",
      "[pca] >Column labels are auto-completed.\n",
      "[pca] >The PCA reduction is performed to capture [95.0%] explained variance using the [2400] columns of the input data.\n",
      "[pca] >Fit using PCA.\n",
      "[pca] >Compute loadings and PCs.\n",
      "[pca] >Compute explained variance.\n",
      "[pca] >Number of components is [12] that covers the [95.00%] explained variance.\n",
      "[pca] >The PCA reduction is performed on the [2400] columns of the input dataframe.\n",
      "[pca] >Fit using PCA.\n",
      "[pca] >Compute loadings and PCs.\n"
     ]
    },
    {
     "name": "stderr",
     "output_type": "stream",
     "text": [
      "[clustimage] >INFO> Saving data in memory.\n",
      "[clustimage] >INFO> Fit with method=[agglomerative], metric=[euclidean], linkage=[ward]\n",
      "[clustimage] >INFO> Evaluate using silhouette.\n",
      "[clusteval] >INFO: 100%|█████████████████████████████████████████████████████████████████| 1/1 [00:00<00:00, 645.48it/s]\n",
      "[clustimage] >DEBUG> [[1 3 1 2 3 3 1 1 3 3 1 1 1 3 1 1 4 3 3 3 2 1 3]]\n",
      "[clustimage] >DEBUG> Iloc: [ True]\n",
      "[clustimage] >DEBUG> silscores: [    0.38224]\n",
      "[clustimage] >DEBUG> sillclust: [          4]\n",
      "[clustimage] >DEBUG> clustlabx: [[1 3 1 2 3 3 1 1 3 3 1 1 1 3 1 1 4 3 3 3 2 1 3]]\n",
      "[clustimage] >INFO> Compute dendrogram threshold.\n",
      "[clustimage] >INFO> Optimal number clusters detected: [4].\n",
      "[clustimage] >INFO> Fin.\n"
     ]
    },
    {
     "name": "stdout",
     "output_type": "stream",
     "text": [
      "name: image_snjv_374.png, preds: [1, 0, 1, 2, 0, 0, 1, 1, 0, 0, 1, 1, 1, 0, 1, 1, 3, 0, 0, 0, 2, 1, 0], total boxes in : 23\n",
      "[pca] >Column labels are auto-completed.\n",
      "[pca] >The PCA reduction is performed to capture [95.0%] explained variance using the [2400] columns of the input data.\n",
      "[pca] >Fit using PCA.\n",
      "[pca] >Compute loadings and PCs.\n",
      "[pca] >Compute explained variance.\n",
      "[pca] >Number of components is [9] that covers the [95.00%] explained variance.\n",
      "[pca] >The PCA reduction is performed on the [2400] columns of the input dataframe.\n",
      "[pca] >Fit using PCA.\n",
      "[pca] >Compute loadings and PCs.\n"
     ]
    },
    {
     "name": "stderr",
     "output_type": "stream",
     "text": [
      "[clustimage] >INFO> Saving data in memory.\n",
      "[clustimage] >INFO> Fit with method=[agglomerative], metric=[euclidean], linkage=[ward]\n",
      "[clustimage] >INFO> Evaluate using silhouette.\n",
      "[clusteval] >INFO: 100%|█████████████████████████████████████████████████████████████████| 1/1 [00:00<00:00, 794.53it/s]\n",
      "[clustimage] >DEBUG> [[1 1 3 3 3 3 2 1 1 1 1 2]]\n",
      "[clustimage] >DEBUG> Iloc: [ True]\n",
      "[clustimage] >DEBUG> silscores: [    0.33006]\n",
      "[clustimage] >DEBUG> sillclust: [          3]\n",
      "[clustimage] >DEBUG> clustlabx: [[1 1 3 3 3 3 2 1 1 1 1 2]]\n",
      "[clustimage] >INFO> Compute dendrogram threshold.\n",
      "[clustimage] >INFO> Optimal number clusters detected: [3].\n",
      "[clustimage] >INFO> Fin.\n"
     ]
    },
    {
     "name": "stdout",
     "output_type": "stream",
     "text": [
      "name: image_snjv_382.png, preds: [0, 0, 1, 1, 1, 1, 2, 0, 0, 0, 0, 2], total boxes in : 12\n",
      "[pca] >Column labels are auto-completed.\n",
      "[pca] >The PCA reduction is performed to capture [95.0%] explained variance using the [2400] columns of the input data.\n",
      "[pca] >Fit using PCA.\n",
      "[pca] >Compute loadings and PCs.\n",
      "[pca] >Compute explained variance.\n",
      "[pca] >Number of components is [11] that covers the [95.00%] explained variance.\n",
      "[pca] >The PCA reduction is performed on the [2400] columns of the input dataframe.\n",
      "[pca] >Fit using PCA.\n",
      "[pca] >Compute loadings and PCs.\n"
     ]
    },
    {
     "name": "stderr",
     "output_type": "stream",
     "text": [
      "[clustimage] >INFO> Saving data in memory.\n",
      "[clustimage] >INFO> Fit with method=[agglomerative], metric=[euclidean], linkage=[ward]\n",
      "[clustimage] >INFO> Evaluate using silhouette.\n",
      "[clusteval] >INFO: 100%|█████████████████████████████████████████████████████████████████| 1/1 [00:00<00:00, 670.23it/s]\n",
      "[clustimage] >DEBUG> [[1 1 2 2 1 1 1 1 1 2 2 2 2 1 3 2 1 2]]\n",
      "[clustimage] >DEBUG> Iloc: [ True]\n",
      "[clustimage] >DEBUG> silscores: [    0.42425]\n",
      "[clustimage] >DEBUG> sillclust: [          3]\n",
      "[clustimage] >DEBUG> clustlabx: [[1 1 2 2 1 1 1 1 1 2 2 2 2 1 3 2 1 2]]\n",
      "[clustimage] >INFO> Compute dendrogram threshold.\n",
      "[clustimage] >INFO> Optimal number clusters detected: [3].\n",
      "[clustimage] >INFO> Fin.\n"
     ]
    },
    {
     "name": "stdout",
     "output_type": "stream",
     "text": [
      "name: image_snjv_383.png, preds: [1, 1, 0, 0, 1, 1, 1, 1, 1, 0, 0, 0, 0, 1, 2, 0, 1, 0], total boxes in : 18\n",
      "[pca] >Column labels are auto-completed.\n",
      "[pca] >The PCA reduction is performed to capture [95.0%] explained variance using the [2400] columns of the input data.\n",
      "[pca] >Fit using PCA.\n",
      "[pca] >Compute loadings and PCs.\n",
      "[pca] >Compute explained variance.\n",
      "[pca] >Number of components is [11] that covers the [95.00%] explained variance.\n",
      "[pca] >The PCA reduction is performed on the [2400] columns of the input dataframe.\n",
      "[pca] >Fit using PCA.\n",
      "[pca] >Compute loadings and PCs.\n"
     ]
    },
    {
     "name": "stderr",
     "output_type": "stream",
     "text": [
      "[clustimage] >INFO> Saving data in memory.\n",
      "[clustimage] >INFO> Fit with method=[agglomerative], metric=[euclidean], linkage=[ward]\n",
      "[clustimage] >INFO> Evaluate using silhouette.\n",
      "[clusteval] >INFO: 100%|█████████████████████████████████████████████████████████████████| 1/1 [00:00<00:00, 767.20it/s]\n",
      "[clustimage] >DEBUG> [[3 1 3 3 2 3 1 1 3 1 1 3 4 1 1 2 2]]\n",
      "[clustimage] >DEBUG> Iloc: [ True]\n",
      "[clustimage] >DEBUG> silscores: [     0.3247]\n",
      "[clustimage] >DEBUG> sillclust: [          4]\n",
      "[clustimage] >DEBUG> clustlabx: [[3 1 3 3 2 3 1 1 3 1 1 3 4 1 1 2 2]]\n",
      "[clustimage] >INFO> Compute dendrogram threshold.\n",
      "[clustimage] >INFO> Optimal number clusters detected: [4].\n",
      "[clustimage] >INFO> Fin.\n"
     ]
    },
    {
     "name": "stdout",
     "output_type": "stream",
     "text": [
      "name: image_snjv_389.png, preds: [1, 0, 1, 1, 2, 1, 0, 0, 1, 0, 0, 1, 3, 0, 0, 2, 2], total boxes in : 17\n",
      "[pca] >Column labels are auto-completed.\n",
      "[pca] >The PCA reduction is performed to capture [95.0%] explained variance using the [2400] columns of the input data.\n",
      "[pca] >Fit using PCA.\n",
      "[pca] >Compute loadings and PCs.\n",
      "[pca] >Compute explained variance.\n",
      "[pca] >Number of components is [9] that covers the [95.00%] explained variance.\n",
      "[pca] >The PCA reduction is performed on the [2400] columns of the input dataframe.\n",
      "[pca] >Fit using PCA.\n",
      "[pca] >Compute loadings and PCs.\n"
     ]
    },
    {
     "name": "stderr",
     "output_type": "stream",
     "text": [
      "[clustimage] >INFO> Saving data in memory.\n",
      "[clustimage] >INFO> Fit with method=[agglomerative], metric=[euclidean], linkage=[ward]\n",
      "[clustimage] >INFO> Evaluate using silhouette.\n",
      "[clusteval] >INFO: 100%|█████████████████████████████████████████████████████████████████| 1/1 [00:00<00:00, 829.90it/s]\n",
      "[clustimage] >DEBUG> [[3 2 2 2 1 1 1 1 1 1 2 1 1]]\n",
      "[clustimage] >DEBUG> Iloc: [ True]\n",
      "[clustimage] >DEBUG> silscores: [    0.35769]\n",
      "[clustimage] >DEBUG> sillclust: [          3]\n",
      "[clustimage] >DEBUG> clustlabx: [[3 2 2 2 1 1 1 1 1 1 2 1 1]]\n",
      "[clustimage] >INFO> Compute dendrogram threshold.\n",
      "[clustimage] >INFO> Optimal number clusters detected: [3].\n",
      "[clustimage] >INFO> Fin.\n"
     ]
    },
    {
     "name": "stdout",
     "output_type": "stream",
     "text": [
      "name: image_snjv_399.png, preds: [2, 0, 0, 0, 1, 1, 1, 1, 1, 1, 0, 1, 1], total boxes in : 13\n",
      "[pca] >Column labels are auto-completed.\n",
      "[pca] >The PCA reduction is performed to capture [95.0%] explained variance using the [2400] columns of the input data.\n",
      "[pca] >Fit using PCA.\n",
      "[pca] >Compute loadings and PCs.\n",
      "[pca] >Compute explained variance.\n",
      "[pca] >Number of components is [10] that covers the [95.00%] explained variance.\n",
      "[pca] >The PCA reduction is performed on the [2400] columns of the input dataframe.\n",
      "[pca] >Fit using PCA.\n",
      "[pca] >Compute loadings and PCs.\n"
     ]
    },
    {
     "name": "stderr",
     "output_type": "stream",
     "text": [
      "[clustimage] >INFO> Saving data in memory.\n",
      "[clustimage] >INFO> Fit with method=[agglomerative], metric=[euclidean], linkage=[ward]\n",
      "[clustimage] >INFO> Evaluate using silhouette.\n",
      "[clusteval] >INFO: 100%|█████████████████████████████████████████████████████████████████| 1/1 [00:00<00:00, 793.77it/s]\n",
      "[clustimage] >DEBUG> [[3 1 1 2 2 2 2 2 2 1 1 2 4 1 2 1 1]]\n",
      "[clustimage] >DEBUG> Iloc: [ True]\n",
      "[clustimage] >DEBUG> silscores: [     0.3717]\n",
      "[clustimage] >DEBUG> sillclust: [          4]\n",
      "[clustimage] >DEBUG> clustlabx: [[3 1 1 2 2 2 2 2 2 1 1 2 4 1 2 1 1]]\n",
      "[clustimage] >INFO> Compute dendrogram threshold.\n",
      "[clustimage] >INFO> Optimal number clusters detected: [4].\n",
      "[clustimage] >INFO> Fin.\n"
     ]
    },
    {
     "name": "stdout",
     "output_type": "stream",
     "text": [
      "name: image_snjv_40.png, preds: [3, 0, 0, 1, 1, 1, 1, 1, 1, 0, 0, 1, 2, 0, 1, 0, 0], total boxes in : 17\n",
      "[pca] >Column labels are auto-completed.\n",
      "[pca] >The PCA reduction is performed to capture [95.0%] explained variance using the [2400] columns of the input data.\n",
      "[pca] >Fit using PCA.\n",
      "[pca] >Compute loadings and PCs.\n",
      "[pca] >Compute explained variance.\n",
      "[pca] >Number of components is [6] that covers the [95.00%] explained variance.\n",
      "[pca] >The PCA reduction is performed on the [2400] columns of the input dataframe.\n",
      "[pca] >Fit using PCA.\n",
      "[pca] >Compute loadings and PCs.\n"
     ]
    },
    {
     "name": "stderr",
     "output_type": "stream",
     "text": [
      "[clustimage] >INFO> Saving data in memory.\n",
      "[clustimage] >INFO> Fit with method=[agglomerative], metric=[euclidean], linkage=[ward]\n",
      "[clustimage] >INFO> Evaluate using silhouette.\n",
      "[clusteval] >INFO: 100%|█████████████████████████████████████████████████████████████████| 1/1 [00:00<00:00, 805.98it/s]\n",
      "[clustimage] >DEBUG> [[2 1 2 1 3 2 1 1 1]]\n",
      "[clustimage] >DEBUG> Iloc: [ True]\n",
      "[clustimage] >DEBUG> silscores: [    0.38847]\n",
      "[clustimage] >DEBUG> sillclust: [          3]\n",
      "[clustimage] >DEBUG> clustlabx: [[2 1 2 1 3 2 1 1 1]]\n",
      "[clustimage] >INFO> Compute dendrogram threshold.\n",
      "[clustimage] >INFO> Optimal number clusters detected: [3].\n",
      "[clustimage] >INFO> Fin.\n"
     ]
    },
    {
     "name": "stdout",
     "output_type": "stream",
     "text": [
      "name: image_snjv_406.png, preds: [0, 1, 0, 1, 2, 0, 1, 1, 1], total boxes in : 9\n",
      "[pca] >Column labels are auto-completed.\n",
      "[pca] >The PCA reduction is performed to capture [95.0%] explained variance using the [2400] columns of the input data.\n",
      "[pca] >Fit using PCA.\n",
      "[pca] >Compute loadings and PCs.\n",
      "[pca] >Compute explained variance.\n",
      "[pca] >Number of components is [13] that covers the [95.00%] explained variance.\n",
      "[pca] >The PCA reduction is performed on the [2400] columns of the input dataframe.\n",
      "[pca] >Fit using PCA.\n",
      "[pca] >Compute loadings and PCs.\n"
     ]
    },
    {
     "name": "stderr",
     "output_type": "stream",
     "text": [
      "[clustimage] >INFO> Saving data in memory.\n",
      "[clustimage] >INFO> Fit with method=[agglomerative], metric=[euclidean], linkage=[ward]\n",
      "[clustimage] >INFO> Evaluate using silhouette.\n",
      "[clusteval] >INFO: 100%|█████████████████████████████████████████████████████████████████| 1/1 [00:00<00:00, 780.92it/s]\n",
      "[clustimage] >DEBUG> [[1 2 4 1 2 1 4 1 1 2 3 3 2 2 1 2 4 2 2 1 3]]\n",
      "[clustimage] >DEBUG> Iloc: [ True]\n",
      "[clustimage] >DEBUG> silscores: [     0.2684]\n",
      "[clustimage] >DEBUG> sillclust: [          4]\n",
      "[clustimage] >DEBUG> clustlabx: [[1 2 4 1 2 1 4 1 1 2 3 3 2 2 1 2 4 2 2 1 3]]\n",
      "[clustimage] >INFO> Compute dendrogram threshold.\n",
      "[clustimage] >INFO> Optimal number clusters detected: [4].\n",
      "[clustimage] >INFO> Fin.\n"
     ]
    },
    {
     "name": "stdout",
     "output_type": "stream",
     "text": [
      "name: image_snjv_41.png, preds: [0, 1, 2, 0, 1, 0, 2, 0, 0, 1, 3, 3, 1, 1, 0, 1, 2, 1, 1, 0, 3], total boxes in : 21\n",
      "[pca] >Column labels are auto-completed.\n",
      "[pca] >The PCA reduction is performed to capture [95.0%] explained variance using the [2400] columns of the input data.\n",
      "[pca] >Fit using PCA.\n",
      "[pca] >Compute loadings and PCs.\n",
      "[pca] >Compute explained variance.\n",
      "[pca] >Number of components is [13] that covers the [95.00%] explained variance.\n",
      "[pca] >The PCA reduction is performed on the [2400] columns of the input dataframe.\n",
      "[pca] >Fit using PCA.\n",
      "[pca] >Compute loadings and PCs.\n"
     ]
    },
    {
     "name": "stderr",
     "output_type": "stream",
     "text": [
      "[clustimage] >INFO> Saving data in memory.\n",
      "[clustimage] >INFO> Fit with method=[agglomerative], metric=[euclidean], linkage=[ward]\n",
      "[clustimage] >INFO> Evaluate using silhouette.\n",
      "[clusteval] >INFO: 100%|█████████████████████████████████████████████████████████████████| 1/1 [00:00<00:00, 787.81it/s]\n",
      "[clustimage] >DEBUG> [[3 4 3 3 3 4 3 3 4 4 4 1 3 4 4 4 2 3]]\n",
      "[clustimage] >DEBUG> Iloc: [ True]\n",
      "[clustimage] >DEBUG> silscores: [    0.18886]\n",
      "[clustimage] >DEBUG> sillclust: [          4]\n",
      "[clustimage] >DEBUG> clustlabx: [[3 4 3 3 3 4 3 3 4 4 4 1 3 4 4 4 2 3]]\n",
      "[clustimage] >INFO> Compute dendrogram threshold.\n",
      "[clustimage] >INFO> Optimal number clusters detected: [4].\n",
      "[clustimage] >INFO> Fin.\n"
     ]
    },
    {
     "name": "stdout",
     "output_type": "stream",
     "text": [
      "name: image_snjv_426.png, preds: [1, 0, 1, 1, 1, 0, 1, 1, 0, 0, 0, 3, 1, 0, 0, 0, 2, 1], total boxes in : 18\n",
      "[pca] >Column labels are auto-completed.\n",
      "[pca] >The PCA reduction is performed to capture [95.0%] explained variance using the [2400] columns of the input data.\n",
      "[pca] >Fit using PCA.\n",
      "[pca] >Compute loadings and PCs.\n",
      "[pca] >Compute explained variance.\n",
      "[pca] >Number of components is [11] that covers the [95.00%] explained variance.\n",
      "[pca] >The PCA reduction is performed on the [2400] columns of the input dataframe.\n",
      "[pca] >Fit using PCA.\n",
      "[pca] >Compute loadings and PCs.\n"
     ]
    },
    {
     "name": "stderr",
     "output_type": "stream",
     "text": [
      "[clustimage] >INFO> Saving data in memory.\n",
      "[clustimage] >INFO> Fit with method=[agglomerative], metric=[euclidean], linkage=[ward]\n",
      "[clustimage] >INFO> Evaluate using silhouette.\n",
      "[clusteval] >INFO: 100%|█████████████████████████████████████████████████████████████████| 1/1 [00:00<00:00, 810.02it/s]\n",
      "[clustimage] >DEBUG> [[3 1 1 1 3 1 1 3 1 2 1 3 3 2]]\n",
      "[clustimage] >DEBUG> Iloc: [ True]\n",
      "[clustimage] >DEBUG> silscores: [    0.15239]\n",
      "[clustimage] >DEBUG> sillclust: [          3]\n",
      "[clustimage] >DEBUG> clustlabx: [[3 1 1 1 3 1 1 3 1 2 1 3 3 2]]\n",
      "[clustimage] >INFO> Compute dendrogram threshold.\n",
      "[clustimage] >INFO> Optimal number clusters detected: [3].\n",
      "[clustimage] >INFO> Fin.\n"
     ]
    },
    {
     "name": "stdout",
     "output_type": "stream",
     "text": [
      "name: image_snjv_431.png, preds: [1, 0, 0, 0, 1, 0, 0, 1, 0, 2, 0, 1, 1, 2], total boxes in : 14\n",
      "[pca] >Column labels are auto-completed.\n",
      "[pca] >The PCA reduction is performed to capture [95.0%] explained variance using the [2400] columns of the input data.\n",
      "[pca] >Fit using PCA.\n",
      "[pca] >Compute loadings and PCs.\n",
      "[pca] >Compute explained variance.\n",
      "[pca] >Number of components is [13] that covers the [95.00%] explained variance.\n",
      "[pca] >The PCA reduction is performed on the [2400] columns of the input dataframe.\n",
      "[pca] >Fit using PCA.\n",
      "[pca] >Compute loadings and PCs.\n"
     ]
    },
    {
     "name": "stderr",
     "output_type": "stream",
     "text": [
      "[clustimage] >INFO> Saving data in memory.\n",
      "[clustimage] >INFO> Fit with method=[agglomerative], metric=[euclidean], linkage=[ward]\n",
      "[clustimage] >INFO> Evaluate using silhouette.\n",
      "[clusteval] >INFO: 100%|█████████████████████████████████████████████████████████████████| 1/1 [00:00<00:00, 808.31it/s]\n",
      "[clustimage] >DEBUG> [[1 2 1 1 1 2 1 2 2 3 2 2 3 1 1 1 2 2 3 1 1 2]]\n",
      "[clustimage] >DEBUG> Iloc: [ True]\n",
      "[clustimage] >DEBUG> silscores: [    0.38786]\n",
      "[clustimage] >DEBUG> sillclust: [          3]\n",
      "[clustimage] >DEBUG> clustlabx: [[1 2 1 1 1 2 1 2 2 3 2 2 3 1 1 1 2 2 3 1 1 2]]\n",
      "[clustimage] >INFO> Compute dendrogram threshold.\n",
      "[clustimage] >INFO> Optimal number clusters detected: [3].\n",
      "[clustimage] >INFO> Fin.\n"
     ]
    },
    {
     "name": "stdout",
     "output_type": "stream",
     "text": [
      "name: image_snjv_435.png, preds: [1, 0, 1, 1, 1, 0, 1, 0, 0, 2, 0, 0, 2, 1, 1, 1, 0, 0, 2, 1, 1, 0], total boxes in : 22\n",
      "[pca] >Column labels are auto-completed.\n",
      "[pca] >The PCA reduction is performed to capture [95.0%] explained variance using the [2400] columns of the input data.\n",
      "[pca] >Fit using PCA.\n",
      "[pca] >Compute loadings and PCs.\n",
      "[pca] >Compute explained variance.\n",
      "[pca] >Number of components is [12] that covers the [95.00%] explained variance.\n",
      "[pca] >The PCA reduction is performed on the [2400] columns of the input dataframe.\n",
      "[pca] >Fit using PCA.\n",
      "[pca] >Compute loadings and PCs.\n"
     ]
    },
    {
     "name": "stderr",
     "output_type": "stream",
     "text": [
      "[clustimage] >INFO> Saving data in memory.\n",
      "[clustimage] >INFO> Fit with method=[agglomerative], metric=[euclidean], linkage=[ward]\n",
      "[clustimage] >INFO> Evaluate using silhouette.\n",
      "[clusteval] >INFO: 100%|█████████████████████████████████████████████████████████████████| 1/1 [00:00<00:00, 640.45it/s]\n",
      "[clustimage] >DEBUG> [[1 1 2 3 1 3 1 1 1 3 3 3 1 2 2 2 3]]\n",
      "[clustimage] >DEBUG> Iloc: [ True]\n",
      "[clustimage] >DEBUG> silscores: [    0.26127]\n",
      "[clustimage] >DEBUG> sillclust: [          3]\n",
      "[clustimage] >DEBUG> clustlabx: [[1 1 2 3 1 3 1 1 1 3 3 3 1 2 2 2 3]]\n",
      "[clustimage] >INFO> Compute dendrogram threshold.\n",
      "[clustimage] >INFO> Optimal number clusters detected: [3].\n",
      "[clustimage] >INFO> Fin.\n"
     ]
    },
    {
     "name": "stdout",
     "output_type": "stream",
     "text": [
      "name: image_snjv_441.png, preds: [1, 1, 2, 0, 1, 0, 1, 1, 1, 0, 0, 0, 1, 2, 2, 2, 0], total boxes in : 17\n",
      "[pca] >Column labels are auto-completed.\n",
      "[pca] >The PCA reduction is performed to capture [95.0%] explained variance using the [2400] columns of the input data.\n",
      "[pca] >Fit using PCA.\n",
      "[pca] >Compute loadings and PCs.\n",
      "[pca] >Compute explained variance.\n",
      "[pca] >Number of components is [12] that covers the [95.00%] explained variance.\n",
      "[pca] >The PCA reduction is performed on the [2400] columns of the input dataframe.\n",
      "[pca] >Fit using PCA.\n",
      "[pca] >Compute loadings and PCs.\n"
     ]
    },
    {
     "name": "stderr",
     "output_type": "stream",
     "text": [
      "[clustimage] >INFO> Saving data in memory.\n",
      "[clustimage] >INFO> Fit with method=[agglomerative], metric=[euclidean], linkage=[ward]\n",
      "[clustimage] >INFO> Evaluate using silhouette.\n",
      "[clusteval] >INFO: 100%|█████████████████████████████████████████████████████████████████| 1/1 [00:00<00:00, 831.87it/s]\n",
      "[clustimage] >DEBUG> [[2 2 1 1 1 2 1 3 2 1 1 1 1 1 2 2 1 1]]\n",
      "[clustimage] >DEBUG> Iloc: [ True]\n",
      "[clustimage] >DEBUG> silscores: [    0.27675]\n",
      "[clustimage] >DEBUG> sillclust: [          3]\n",
      "[clustimage] >DEBUG> clustlabx: [[2 2 1 1 1 2 1 3 2 1 1 1 1 1 2 2 1 1]]\n",
      "[clustimage] >INFO> Compute dendrogram threshold.\n",
      "[clustimage] >INFO> Optimal number clusters detected: [3].\n",
      "[clustimage] >INFO> Fin.\n"
     ]
    },
    {
     "name": "stdout",
     "output_type": "stream",
     "text": [
      "name: image_snjv_443.png, preds: [1, 1, 0, 0, 0, 1, 0, 2, 1, 0, 0, 0, 0, 0, 1, 1, 0, 0], total boxes in : 18\n",
      "[pca] >Column labels are auto-completed.\n",
      "[pca] >The PCA reduction is performed to capture [95.0%] explained variance using the [2400] columns of the input data.\n",
      "[pca] >Fit using PCA.\n",
      "[pca] >Compute loadings and PCs.\n",
      "[pca] >Compute explained variance.\n",
      "[pca] >Number of components is [7] that covers the [95.00%] explained variance.\n",
      "[pca] >The PCA reduction is performed on the [2400] columns of the input dataframe.\n",
      "[pca] >Fit using PCA.\n",
      "[pca] >Compute loadings and PCs.\n"
     ]
    },
    {
     "name": "stderr",
     "output_type": "stream",
     "text": [
      "[clustimage] >INFO> Saving data in memory.\n",
      "[clustimage] >INFO> Fit with method=[agglomerative], metric=[euclidean], linkage=[ward]\n",
      "[clustimage] >INFO> Evaluate using silhouette.\n",
      "[clusteval] >INFO: 100%|█████████████████████████████████████████████████████████████████| 1/1 [00:00<00:00, 790.48it/s]\n",
      "[clustimage] >DEBUG> [[2 2 1 2 1 2 3 2 2 1]]\n",
      "[clustimage] >DEBUG> Iloc: [ True]\n",
      "[clustimage] >DEBUG> silscores: [    0.26791]\n",
      "[clustimage] >DEBUG> sillclust: [          3]\n",
      "[clustimage] >DEBUG> clustlabx: [[2 2 1 2 1 2 3 2 2 1]]\n",
      "[clustimage] >INFO> Compute dendrogram threshold.\n",
      "[clustimage] >INFO> Optimal number clusters detected: [3].\n",
      "[clustimage] >INFO> Fin.\n"
     ]
    },
    {
     "name": "stdout",
     "output_type": "stream",
     "text": [
      "name: image_snjv_447.png, preds: [0, 0, 1, 0, 1, 0, 2, 0, 0, 1], total boxes in : 10\n",
      "[pca] >Column labels are auto-completed.\n",
      "[pca] >The PCA reduction is performed to capture [95.0%] explained variance using the [2400] columns of the input data.\n",
      "[pca] >Fit using PCA.\n",
      "[pca] >Compute loadings and PCs.\n",
      "[pca] >Compute explained variance.\n",
      "[pca] >Number of components is [13] that covers the [95.00%] explained variance.\n",
      "[pca] >The PCA reduction is performed on the [2400] columns of the input dataframe.\n",
      "[pca] >Fit using PCA.\n",
      "[pca] >Compute loadings and PCs.\n"
     ]
    },
    {
     "name": "stderr",
     "output_type": "stream",
     "text": [
      "[clustimage] >INFO> Saving data in memory.\n",
      "[clustimage] >INFO> Fit with method=[agglomerative], metric=[euclidean], linkage=[ward]\n",
      "[clustimage] >INFO> Evaluate using silhouette.\n",
      "[clusteval] >INFO: 100%|█████████████████████████████████████████████████████████████████| 1/1 [00:00<00:00, 905.31it/s]\n",
      "[clustimage] >DEBUG> [[3 1 3 3 1 1 3 3 1 1 2 2 1 2 1 3 3 1 3 1]]\n",
      "[clustimage] >DEBUG> Iloc: [ True]\n",
      "[clustimage] >DEBUG> silscores: [     0.2292]\n",
      "[clustimage] >DEBUG> sillclust: [          3]\n",
      "[clustimage] >DEBUG> clustlabx: [[3 1 3 3 1 1 3 3 1 1 2 2 1 2 1 3 3 1 3 1]]\n",
      "[clustimage] >INFO> Compute dendrogram threshold.\n",
      "[clustimage] >INFO> Optimal number clusters detected: [3].\n",
      "[clustimage] >INFO> Fin.\n"
     ]
    },
    {
     "name": "stdout",
     "output_type": "stream",
     "text": [
      "name: image_snjv_456.png, preds: [0, 1, 0, 0, 1, 1, 0, 0, 1, 1, 2, 2, 1, 2, 1, 0, 0, 1, 0, 1], total boxes in : 20\n",
      "[pca] >Column labels are auto-completed.\n",
      "[pca] >The PCA reduction is performed to capture [95.0%] explained variance using the [2400] columns of the input data.\n",
      "[pca] >Fit using PCA.\n",
      "[pca] >Compute loadings and PCs.\n",
      "[pca] >Compute explained variance.\n",
      "[pca] >Number of components is [14] that covers the [95.00%] explained variance.\n",
      "[pca] >The PCA reduction is performed on the [2400] columns of the input dataframe.\n",
      "[pca] >Fit using PCA.\n",
      "[pca] >Compute loadings and PCs.\n"
     ]
    },
    {
     "name": "stderr",
     "output_type": "stream",
     "text": [
      "[clustimage] >INFO> Saving data in memory.\n",
      "[clustimage] >INFO> Fit with method=[agglomerative], metric=[euclidean], linkage=[ward]\n",
      "[clustimage] >INFO> Evaluate using silhouette.\n",
      "[clusteval] >INFO: 100%|█████████████████████████████████████████████████████████████████| 1/1 [00:00<00:00, 847.68it/s]\n",
      "[clustimage] >DEBUG> [[1 2 2 1 1 1 2 2 1 2 1 2 3 1 3 1 1 2 2 1 2]]\n",
      "[clustimage] >DEBUG> Iloc: [ True]\n",
      "[clustimage] >DEBUG> silscores: [    0.30424]\n",
      "[clustimage] >DEBUG> sillclust: [          3]\n",
      "[clustimage] >DEBUG> clustlabx: [[1 2 2 1 1 1 2 2 1 2 1 2 3 1 3 1 1 2 2 1 2]]\n",
      "[clustimage] >INFO> Compute dendrogram threshold.\n",
      "[clustimage] >INFO> Optimal number clusters detected: [3].\n",
      "[clustimage] >INFO> Fin.\n"
     ]
    },
    {
     "name": "stdout",
     "output_type": "stream",
     "text": [
      "name: image_snjv_462.png, preds: [0, 1, 1, 0, 0, 0, 1, 1, 0, 1, 0, 1, 2, 0, 2, 0, 0, 1, 1, 0, 1], total boxes in : 21\n",
      "[pca] >Column labels are auto-completed.\n",
      "[pca] >The PCA reduction is performed to capture [95.0%] explained variance using the [2400] columns of the input data.\n",
      "[pca] >Fit using PCA.\n",
      "[pca] >Compute loadings and PCs.\n",
      "[pca] >Compute explained variance.\n",
      "[pca] >Number of components is [13] that covers the [95.00%] explained variance.\n",
      "[pca] >The PCA reduction is performed on the [2400] columns of the input dataframe.\n",
      "[pca] >Fit using PCA.\n",
      "[pca] >Compute loadings and PCs.\n"
     ]
    },
    {
     "name": "stderr",
     "output_type": "stream",
     "text": [
      "[clustimage] >INFO> Saving data in memory.\n",
      "[clustimage] >INFO> Fit with method=[agglomerative], metric=[euclidean], linkage=[ward]\n",
      "[clustimage] >INFO> Evaluate using silhouette.\n",
      "[clusteval] >INFO: 100%|█████████████████████████████████████████████████████████████████| 1/1 [00:00<00:00, 695.69it/s]\n",
      "[clustimage] >DEBUG> [[2 1 1 2 1 2 2 1 1 2 1 1 2 1 3 3 1 1 2 1 3]]\n",
      "[clustimage] >DEBUG> Iloc: [ True]\n",
      "[clustimage] >DEBUG> silscores: [    0.31068]\n",
      "[clustimage] >DEBUG> sillclust: [          3]\n",
      "[clustimage] >DEBUG> clustlabx: [[2 1 1 2 1 2 2 1 1 2 1 1 2 1 3 3 1 1 2 1 3]]\n",
      "[clustimage] >INFO> Compute dendrogram threshold.\n",
      "[clustimage] >INFO> Optimal number clusters detected: [3].\n",
      "[clustimage] >INFO> Fin.\n"
     ]
    },
    {
     "name": "stdout",
     "output_type": "stream",
     "text": [
      "name: image_snjv_471.png, preds: [1, 0, 0, 1, 0, 1, 1, 0, 0, 1, 0, 0, 1, 0, 2, 2, 0, 0, 1, 0, 2], total boxes in : 21\n",
      "[pca] >Column labels are auto-completed.\n",
      "[pca] >The PCA reduction is performed to capture [95.0%] explained variance using the [2400] columns of the input data.\n",
      "[pca] >Fit using PCA.\n",
      "[pca] >Compute loadings and PCs.\n",
      "[pca] >Compute explained variance.\n",
      "[pca] >Number of components is [16] that covers the [95.00%] explained variance.\n",
      "[pca] >The PCA reduction is performed on the [2400] columns of the input dataframe.\n",
      "[pca] >Fit using PCA.\n",
      "[pca] >Compute loadings and PCs.\n"
     ]
    },
    {
     "name": "stderr",
     "output_type": "stream",
     "text": [
      "[clustimage] >INFO> Saving data in memory.\n",
      "[clustimage] >INFO> Fit with method=[agglomerative], metric=[euclidean], linkage=[ward]\n",
      "[clustimage] >INFO> Evaluate using silhouette.\n",
      "[clusteval] >INFO: 100%|█████████████████████████████████████████████████████████████████| 1/1 [00:00<00:00, 826.30it/s]\n",
      "[clustimage] >DEBUG> [[5 5 1 1 4 1 1 1 4 4 4 3 3 1 1 1 5 1 4 4 5 4 2 4 5 3]]\n",
      "[clustimage] >DEBUG> Iloc: [ True]\n",
      "[clustimage] >DEBUG> silscores: [    0.21756]\n",
      "[clustimage] >DEBUG> sillclust: [          5]\n",
      "[clustimage] >DEBUG> clustlabx: [[5 5 1 1 4 1 1 1 4 4 4 3 3 1 1 1 5 1 4 4 5 4 2 4 5 3]]\n",
      "[clustimage] >INFO> Compute dendrogram threshold.\n",
      "[clustimage] >INFO> Optimal number clusters detected: [5].\n",
      "[clustimage] >INFO> Fin.\n"
     ]
    },
    {
     "name": "stdout",
     "output_type": "stream",
     "text": [
      "name: image_snjv_477.png, preds: [2, 2, 0, 0, 1, 0, 0, 0, 1, 1, 1, 3, 3, 0, 0, 0, 2, 0, 1, 1, 2, 1, 4, 1, 2, 3], total boxes in : 26\n",
      "[pca] >Column labels are auto-completed.\n",
      "[pca] >The PCA reduction is performed to capture [95.0%] explained variance using the [2400] columns of the input data.\n",
      "[pca] >Fit using PCA.\n",
      "[pca] >Compute loadings and PCs.\n",
      "[pca] >Compute explained variance.\n",
      "[pca] >Number of components is [8] that covers the [95.00%] explained variance.\n",
      "[pca] >The PCA reduction is performed on the [2400] columns of the input dataframe.\n",
      "[pca] >Fit using PCA.\n",
      "[pca] >Compute loadings and PCs.\n"
     ]
    },
    {
     "name": "stderr",
     "output_type": "stream",
     "text": [
      "[clustimage] >INFO> Saving data in memory.\n",
      "[clustimage] >INFO> Fit with method=[agglomerative], metric=[euclidean], linkage=[ward]\n",
      "[clustimage] >INFO> Evaluate using silhouette.\n",
      "[clusteval] >INFO: 100%|█████████████████████████████████████████████████████████████████| 1/1 [00:00<00:00, 911.01it/s]\n",
      "[clustimage] >DEBUG> [[2 3 1 2 2 1 1 1 1 1 1]]\n",
      "[clustimage] >DEBUG> Iloc: [ True]\n",
      "[clustimage] >DEBUG> silscores: [    0.19813]\n",
      "[clustimage] >DEBUG> sillclust: [          3]\n",
      "[clustimage] >DEBUG> clustlabx: [[2 3 1 2 2 1 1 1 1 1 1]]\n",
      "[clustimage] >INFO> Compute dendrogram threshold.\n",
      "[clustimage] >INFO> Optimal number clusters detected: [3].\n",
      "[clustimage] >INFO> Fin.\n"
     ]
    },
    {
     "name": "stdout",
     "output_type": "stream",
     "text": [
      "name: image_snjv_482.png, preds: [0, 2, 1, 0, 0, 1, 1, 1, 1, 1, 1], total boxes in : 11\n",
      "[pca] >Column labels are auto-completed.\n",
      "[pca] >The PCA reduction is performed to capture [95.0%] explained variance using the [2400] columns of the input data.\n",
      "[pca] >Fit using PCA.\n",
      "[pca] >Compute loadings and PCs.\n",
      "[pca] >Compute explained variance.\n",
      "[pca] >Number of components is [12] that covers the [95.00%] explained variance.\n",
      "[pca] >The PCA reduction is performed on the [2400] columns of the input dataframe.\n",
      "[pca] >Fit using PCA.\n",
      "[pca] >Compute loadings and PCs.\n"
     ]
    },
    {
     "name": "stderr",
     "output_type": "stream",
     "text": [
      "[clustimage] >INFO> Saving data in memory.\n",
      "[clustimage] >INFO> Fit with method=[agglomerative], metric=[euclidean], linkage=[ward]\n",
      "[clustimage] >INFO> Evaluate using silhouette.\n",
      "[clusteval] >INFO: 100%|█████████████████████████████████████████████████████████████████| 1/1 [00:00<00:00, 929.18it/s]\n",
      "[clustimage] >DEBUG> [[1 3 3 2 3 3 2 3 3 1 1 2 1 3 1 1 2 1]]\n",
      "[clustimage] >DEBUG> Iloc: [ True]\n",
      "[clustimage] >DEBUG> silscores: [    0.24649]\n",
      "[clustimage] >DEBUG> sillclust: [          3]\n",
      "[clustimage] >DEBUG> clustlabx: [[1 3 3 2 3 3 2 3 3 1 1 2 1 3 1 1 2 1]]\n",
      "[clustimage] >INFO> Compute dendrogram threshold.\n",
      "[clustimage] >INFO> Optimal number clusters detected: [3].\n",
      "[clustimage] >INFO> Fin.\n"
     ]
    },
    {
     "name": "stdout",
     "output_type": "stream",
     "text": [
      "name: image_snjv_483.png, preds: [0, 1, 1, 2, 1, 1, 2, 1, 1, 0, 0, 2, 0, 1, 0, 0, 2, 0], total boxes in : 18\n",
      "[pca] >Column labels are auto-completed.\n",
      "[pca] >The PCA reduction is performed to capture [95.0%] explained variance using the [2400] columns of the input data.\n",
      "[pca] >Fit using PCA.\n",
      "[pca] >Compute loadings and PCs.\n",
      "[pca] >Compute explained variance.\n",
      "[pca] >Number of components is [13] that covers the [95.00%] explained variance.\n",
      "[pca] >The PCA reduction is performed on the [2400] columns of the input dataframe.\n",
      "[pca] >Fit using PCA.\n",
      "[pca] >Compute loadings and PCs.\n"
     ]
    },
    {
     "name": "stderr",
     "output_type": "stream",
     "text": [
      "[clustimage] >INFO> Saving data in memory.\n",
      "[clustimage] >INFO> Fit with method=[agglomerative], metric=[euclidean], linkage=[ward]\n",
      "[clustimage] >INFO> Evaluate using silhouette.\n",
      "[clusteval] >INFO: 100%|█████████████████████████████████████████████████████████████████| 1/1 [00:00<00:00, 803.81it/s]\n",
      "[clustimage] >DEBUG> [[3 1 1 2 3 1 1 1 3 3 1 3 1 1 2 3 1 3 3 1 3 2]]\n",
      "[clustimage] >DEBUG> Iloc: [ True]\n",
      "[clustimage] >DEBUG> silscores: [    0.48334]\n",
      "[clustimage] >DEBUG> sillclust: [          3]\n",
      "[clustimage] >DEBUG> clustlabx: [[3 1 1 2 3 1 1 1 3 3 1 3 1 1 2 3 1 3 3 1 3 2]]\n",
      "[clustimage] >INFO> Compute dendrogram threshold.\n",
      "[clustimage] >INFO> Optimal number clusters detected: [3].\n",
      "[clustimage] >INFO> Fin.\n"
     ]
    },
    {
     "name": "stdout",
     "output_type": "stream",
     "text": [
      "name: image_snjv_485.png, preds: [1, 0, 0, 2, 1, 0, 0, 0, 1, 1, 0, 1, 0, 0, 2, 1, 0, 1, 1, 0, 1, 2], total boxes in : 22\n",
      "[pca] >Column labels are auto-completed.\n",
      "[pca] >The PCA reduction is performed to capture [95.0%] explained variance using the [2400] columns of the input data.\n",
      "[pca] >Fit using PCA.\n",
      "[pca] >Compute loadings and PCs.\n",
      "[pca] >Compute explained variance.\n",
      "[pca] >Number of components is [9] that covers the [95.00%] explained variance.\n",
      "[pca] >The PCA reduction is performed on the [2400] columns of the input dataframe.\n",
      "[pca] >Fit using PCA.\n",
      "[pca] >Compute loadings and PCs.\n"
     ]
    },
    {
     "name": "stderr",
     "output_type": "stream",
     "text": [
      "[clustimage] >INFO> Saving data in memory.\n",
      "[clustimage] >INFO> Fit with method=[agglomerative], metric=[euclidean], linkage=[ward]\n",
      "[clustimage] >INFO> Evaluate using silhouette.\n",
      "[clusteval] >INFO: 100%|█████████████████████████████████████████████████████████████████| 1/1 [00:00<00:00, 615.18it/s]\n",
      "[clustimage] >DEBUG> [[1 1 1 2 2 1 2 3 2 2 2 3]]\n",
      "[clustimage] >DEBUG> Iloc: [ True]\n",
      "[clustimage] >DEBUG> silscores: [    0.28295]\n",
      "[clustimage] >DEBUG> sillclust: [          3]\n",
      "[clustimage] >DEBUG> clustlabx: [[1 1 1 2 2 1 2 3 2 2 2 3]]\n",
      "[clustimage] >INFO> Compute dendrogram threshold.\n",
      "[clustimage] >INFO> Optimal number clusters detected: [3].\n",
      "[clustimage] >INFO> Fin.\n"
     ]
    },
    {
     "name": "stdout",
     "output_type": "stream",
     "text": [
      "name: image_snjv_495.png, preds: [0, 0, 0, 1, 1, 0, 1, 2, 1, 1, 1, 2], total boxes in : 12\n",
      "[pca] >Column labels are auto-completed.\n",
      "[pca] >The PCA reduction is performed to capture [95.0%] explained variance using the [2400] columns of the input data.\n",
      "[pca] >Fit using PCA.\n",
      "[pca] >Compute loadings and PCs.\n",
      "[pca] >Compute explained variance.\n",
      "[pca] >Number of components is [10] that covers the [95.00%] explained variance.\n",
      "[pca] >The PCA reduction is performed on the [2400] columns of the input dataframe.\n",
      "[pca] >Fit using PCA.\n",
      "[pca] >Compute loadings and PCs.\n"
     ]
    },
    {
     "name": "stderr",
     "output_type": "stream",
     "text": [
      "[clustimage] >INFO> Saving data in memory.\n",
      "[clustimage] >INFO> Fit with method=[agglomerative], metric=[euclidean], linkage=[ward]\n",
      "[clustimage] >INFO> Evaluate using silhouette.\n",
      "[clusteval] >INFO: 100%|█████████████████████████████████████████████████████████████████| 1/1 [00:00<00:00, 845.11it/s]\n",
      "[clustimage] >DEBUG> [[1 1 1 1 2 2 2 2 1 1 1 2 1 1 3]]\n",
      "[clustimage] >DEBUG> Iloc: [ True]\n",
      "[clustimage] >DEBUG> silscores: [    0.41988]\n",
      "[clustimage] >DEBUG> sillclust: [          3]\n",
      "[clustimage] >DEBUG> clustlabx: [[1 1 1 1 2 2 2 2 1 1 1 2 1 1 3]]\n",
      "[clustimage] >INFO> Compute dendrogram threshold.\n",
      "[clustimage] >INFO> Optimal number clusters detected: [3].\n",
      "[clustimage] >INFO> Fin.\n"
     ]
    },
    {
     "name": "stdout",
     "output_type": "stream",
     "text": [
      "name: image_snjv_59.png, preds: [0, 0, 0, 0, 1, 1, 1, 1, 0, 0, 0, 1, 0, 0, 2], total boxes in : 15\n",
      "[pca] >Column labels are auto-completed.\n",
      "[pca] >The PCA reduction is performed to capture [95.0%] explained variance using the [2400] columns of the input data.\n",
      "[pca] >Fit using PCA.\n",
      "[pca] >Compute loadings and PCs.\n",
      "[pca] >Compute explained variance.\n",
      "[pca] >Number of components is [10] that covers the [95.00%] explained variance.\n",
      "[pca] >The PCA reduction is performed on the [2400] columns of the input dataframe.\n",
      "[pca] >Fit using PCA.\n",
      "[pca] >Compute loadings and PCs.\n"
     ]
    },
    {
     "name": "stderr",
     "output_type": "stream",
     "text": [
      "[clustimage] >INFO> Saving data in memory.\n",
      "[clustimage] >INFO> Fit with method=[agglomerative], metric=[euclidean], linkage=[ward]\n",
      "[clustimage] >INFO> Evaluate using silhouette.\n",
      "[clusteval] >INFO: 100%|█████████████████████████████████████████████████████████████████| 1/1 [00:00<00:00, 818.56it/s]\n",
      "[clustimage] >DEBUG> [[1 3 1 4 3 3 2 1 4 5 2 1 1 3 3 1]]\n",
      "[clustimage] >DEBUG> Iloc: [ True]\n",
      "[clustimage] >DEBUG> silscores: [     0.3017]\n",
      "[clustimage] >DEBUG> sillclust: [          5]\n",
      "[clustimage] >DEBUG> clustlabx: [[1 3 1 4 3 3 2 1 4 5 2 1 1 3 3 1]]\n",
      "[clustimage] >INFO> Compute dendrogram threshold.\n",
      "[clustimage] >INFO> Optimal number clusters detected: [5].\n",
      "[clustimage] >INFO> Fin.\n"
     ]
    },
    {
     "name": "stdout",
     "output_type": "stream",
     "text": [
      "name: image_snjv_71.png, preds: [0, 1, 0, 2, 1, 1, 3, 0, 2, 4, 3, 0, 0, 1, 1, 0], total boxes in : 17\n",
      "[pca] >Column labels are auto-completed.\n",
      "[pca] >The PCA reduction is performed to capture [95.0%] explained variance using the [2400] columns of the input data.\n",
      "[pca] >Fit using PCA.\n",
      "[pca] >Compute loadings and PCs.\n",
      "[pca] >Compute explained variance.\n",
      "[pca] >Number of components is [10] that covers the [95.00%] explained variance.\n",
      "[pca] >The PCA reduction is performed on the [2400] columns of the input dataframe.\n",
      "[pca] >Fit using PCA.\n",
      "[pca] >Compute loadings and PCs.\n"
     ]
    },
    {
     "name": "stderr",
     "output_type": "stream",
     "text": [
      "[clustimage] >INFO> Saving data in memory.\n",
      "[clustimage] >INFO> Fit with method=[agglomerative], metric=[euclidean], linkage=[ward]\n",
      "[clustimage] >INFO> Evaluate using silhouette.\n",
      "[clusteval] >INFO: 100%|█████████████████████████████████████████████████████████████████| 1/1 [00:00<00:00, 809.87it/s]\n",
      "[clustimage] >DEBUG> [[4 1 4 2 4 4 1 3 4 4 4 1 4 3 1 1]]\n",
      "[clustimage] >DEBUG> Iloc: [ True]\n",
      "[clustimage] >DEBUG> silscores: [    0.31418]\n",
      "[clustimage] >DEBUG> sillclust: [          4]\n",
      "[clustimage] >DEBUG> clustlabx: [[4 1 4 2 4 4 1 3 4 4 4 1 4 3 1 1]]\n",
      "[clustimage] >INFO> Compute dendrogram threshold.\n",
      "[clustimage] >INFO> Optimal number clusters detected: [4].\n",
      "[clustimage] >INFO> Fin.\n"
     ]
    },
    {
     "name": "stdout",
     "output_type": "stream",
     "text": [
      "name: image_snjv_76.png, preds: [0, 1, 0, 3, 0, 0, 1, 2, 0, 0, 0, 1, 0, 2, 1, 1], total boxes in : 16\n",
      "[pca] >Column labels are auto-completed.\n",
      "[pca] >The PCA reduction is performed to capture [95.0%] explained variance using the [2400] columns of the input data.\n",
      "[pca] >Fit using PCA.\n",
      "[pca] >Compute loadings and PCs.\n",
      "[pca] >Compute explained variance.\n",
      "[pca] >Number of components is [10] that covers the [95.00%] explained variance.\n",
      "[pca] >The PCA reduction is performed on the [2400] columns of the input dataframe.\n",
      "[pca] >Fit using PCA.\n",
      "[pca] >Compute loadings and PCs.\n"
     ]
    },
    {
     "name": "stderr",
     "output_type": "stream",
     "text": [
      "[clustimage] >INFO> Saving data in memory.\n",
      "[clustimage] >INFO> Fit with method=[agglomerative], metric=[euclidean], linkage=[ward]\n",
      "[clustimage] >INFO> Evaluate using silhouette.\n",
      "[clusteval] >INFO: 100%|█████████████████████████████████████████████████████████████████| 1/1 [00:00<00:00, 718.94it/s]\n",
      "[clustimage] >DEBUG> [[1 2 1 1 2 3 1 2 1 1 2 2 2 1]]\n",
      "[clustimage] >DEBUG> Iloc: [ True]\n",
      "[clustimage] >DEBUG> silscores: [     0.3684]\n",
      "[clustimage] >DEBUG> sillclust: [          3]\n",
      "[clustimage] >DEBUG> clustlabx: [[1 2 1 1 2 3 1 2 1 1 2 2 2 1]]\n",
      "[clustimage] >INFO> Compute dendrogram threshold.\n",
      "[clustimage] >INFO> Optimal number clusters detected: [3].\n",
      "[clustimage] >INFO> Fin.\n"
     ]
    },
    {
     "name": "stdout",
     "output_type": "stream",
     "text": [
      "name: image_snjv_78.png, preds: [1, 0, 1, 1, 0, 2, 1, 0, 1, 1, 0, 0, 0, 1], total boxes in : 14\n",
      "[pca] >Column labels are auto-completed.\n",
      "[pca] >The PCA reduction is performed to capture [95.0%] explained variance using the [2400] columns of the input data.\n",
      "[pca] >Fit using PCA.\n",
      "[pca] >Compute loadings and PCs.\n",
      "[pca] >Compute explained variance.\n",
      "[pca] >Number of components is [9] that covers the [95.00%] explained variance.\n",
      "[pca] >The PCA reduction is performed on the [2400] columns of the input dataframe.\n",
      "[pca] >Fit using PCA.\n",
      "[pca] >Compute loadings and PCs.\n"
     ]
    },
    {
     "name": "stderr",
     "output_type": "stream",
     "text": [
      "[clustimage] >INFO> Saving data in memory.\n",
      "[clustimage] >INFO> Fit with method=[agglomerative], metric=[euclidean], linkage=[ward]\n",
      "[clustimage] >INFO> Evaluate using silhouette.\n",
      "[clusteval] >INFO: 100%|█████████████████████████████████████████████████████████████████| 1/1 [00:00<00:00, 771.30it/s]\n",
      "[clustimage] >DEBUG> [[2 1 1 2 2 2 1 2 2 3 1 1 1 1]]\n",
      "[clustimage] >DEBUG> Iloc: [ True]\n",
      "[clustimage] >DEBUG> silscores: [    0.35396]\n",
      "[clustimage] >DEBUG> sillclust: [          3]\n",
      "[clustimage] >DEBUG> clustlabx: [[2 1 1 2 2 2 1 2 2 3 1 1 1 1]]\n",
      "[clustimage] >INFO> Compute dendrogram threshold.\n",
      "[clustimage] >INFO> Optimal number clusters detected: [3].\n",
      "[clustimage] >INFO> Fin.\n"
     ]
    },
    {
     "name": "stdout",
     "output_type": "stream",
     "text": [
      "name: image_snjv_87.png, preds: [0, 1, 1, 0, 0, 0, 1, 0, 0, 2, 1, 1, 1, 1], total boxes in : 14\n",
      "[pca] >Column labels are auto-completed.\n",
      "[pca] >The PCA reduction is performed to capture [95.0%] explained variance using the [2400] columns of the input data.\n",
      "[pca] >Fit using PCA.\n",
      "[pca] >Compute loadings and PCs.\n",
      "[pca] >Compute explained variance.\n",
      "[pca] >Number of components is [10] that covers the [95.00%] explained variance.\n",
      "[pca] >The PCA reduction is performed on the [2400] columns of the input dataframe.\n",
      "[pca] >Fit using PCA.\n",
      "[pca] >Compute loadings and PCs.\n"
     ]
    },
    {
     "name": "stderr",
     "output_type": "stream",
     "text": [
      "[clustimage] >INFO> Saving data in memory.\n",
      "[clustimage] >INFO> Fit with method=[agglomerative], metric=[euclidean], linkage=[ward]\n",
      "[clustimage] >INFO> Evaluate using silhouette.\n",
      "[clusteval] >INFO: 100%|█████████████████████████████████████████████████████████████████| 1/1 [00:00<00:00, 792.13it/s]\n",
      "[clustimage] >DEBUG> [[2 1 3 2 1 3 1 3 1 3 1 3 3 3 1 4 1]]\n",
      "[clustimage] >DEBUG> Iloc: [ True]\n",
      "[clustimage] >DEBUG> silscores: [    0.34077]\n",
      "[clustimage] >DEBUG> sillclust: [          4]\n",
      "[clustimage] >DEBUG> clustlabx: [[2 1 3 2 1 3 1 3 1 3 1 3 3 3 1 4 1]]\n",
      "[clustimage] >INFO> Compute dendrogram threshold.\n",
      "[clustimage] >INFO> Optimal number clusters detected: [4].\n",
      "[clustimage] >INFO> Fin.\n"
     ]
    },
    {
     "name": "stdout",
     "output_type": "stream",
     "text": [
      "name: image_snjv_91.png, preds: [2, 1, 0, 2, 1, 0, 1, 0, 1, 0, 1, 0, 0, 0, 1, 3, 1], total boxes in : 17\n",
      "[pca] >Column labels are auto-completed.\n",
      "[pca] >The PCA reduction is performed to capture [95.0%] explained variance using the [2400] columns of the input data.\n",
      "[pca] >Fit using PCA.\n",
      "[pca] >Compute loadings and PCs.\n",
      "[pca] >Compute explained variance.\n",
      "[pca] >Number of components is [11] that covers the [95.00%] explained variance.\n",
      "[pca] >The PCA reduction is performed on the [2400] columns of the input dataframe.\n",
      "[pca] >Fit using PCA.\n",
      "[pca] >Compute loadings and PCs.\n"
     ]
    },
    {
     "name": "stderr",
     "output_type": "stream",
     "text": [
      "[clustimage] >INFO> Saving data in memory.\n",
      "[clustimage] >INFO> Fit with method=[agglomerative], metric=[euclidean], linkage=[ward]\n",
      "[clustimage] >INFO> Evaluate using silhouette.\n",
      "[clusteval] >INFO: 100%|█████████████████████████████████████████████████████████████████| 1/1 [00:00<00:00, 744.60it/s]\n",
      "[clustimage] >DEBUG> [[2 1 3 3 3 2 3 3 1 1 1 1 1 1 1 1]]\n",
      "[clustimage] >DEBUG> Iloc: [ True]\n",
      "[clustimage] >DEBUG> silscores: [    0.29299]\n",
      "[clustimage] >DEBUG> sillclust: [          3]\n",
      "[clustimage] >DEBUG> clustlabx: [[2 1 3 3 3 2 3 3 1 1 1 1 1 1 1 1]]\n",
      "[clustimage] >INFO> Compute dendrogram threshold.\n",
      "[clustimage] >INFO> Optimal number clusters detected: [3].\n",
      "[clustimage] >INFO> Fin.\n"
     ]
    },
    {
     "name": "stdout",
     "output_type": "stream",
     "text": [
      "name: image_vics_1344.png, preds: [2, 1, 0, 0, 0, 2, 0, 0, 1, 1, 1, 1, 1, 1, 1, 1], total boxes in : 16\n",
      "[pca] >Column labels are auto-completed.\n",
      "[pca] >The PCA reduction is performed to capture [95.0%] explained variance using the [2400] columns of the input data.\n",
      "[pca] >Fit using PCA.\n",
      "[pca] >Compute loadings and PCs.\n",
      "[pca] >Compute explained variance.\n",
      "[pca] >Number of components is [12] that covers the [95.00%] explained variance.\n",
      "[pca] >The PCA reduction is performed on the [2400] columns of the input dataframe.\n",
      "[pca] >Fit using PCA.\n",
      "[pca] >Compute loadings and PCs.\n"
     ]
    },
    {
     "name": "stderr",
     "output_type": "stream",
     "text": [
      "[clustimage] >INFO> Saving data in memory.\n",
      "[clustimage] >INFO> Fit with method=[agglomerative], metric=[euclidean], linkage=[ward]\n",
      "[clustimage] >INFO> Evaluate using silhouette.\n",
      "[clusteval] >INFO: 100%|█████████████████████████████████████████████████████████████████| 1/1 [00:00<00:00, 621.01it/s]\n",
      "[clustimage] >DEBUG> [[2 1 1 3 3 2 3 1 2 3 1 1 1 1 2 1 2]]\n",
      "[clustimage] >DEBUG> Iloc: [ True]\n",
      "[clustimage] >DEBUG> silscores: [     0.2825]\n",
      "[clustimage] >DEBUG> sillclust: [          3]\n",
      "[clustimage] >DEBUG> clustlabx: [[2 1 1 3 3 2 3 1 2 3 1 1 1 1 2 1 2]]\n",
      "[clustimage] >INFO> Compute dendrogram threshold.\n",
      "[clustimage] >INFO> Optimal number clusters detected: [3].\n",
      "[clustimage] >INFO> Fin.\n"
     ]
    },
    {
     "name": "stdout",
     "output_type": "stream",
     "text": [
      "name: image_vics_1367.png, preds: [1, 0, 0, 2, 2, 1, 2, 0, 1, 2, 0, 0, 0, 0, 1, 0, 1], total boxes in : 17\n",
      "[pca] >Column labels are auto-completed.\n",
      "[pca] >The PCA reduction is performed to capture [95.0%] explained variance using the [2400] columns of the input data.\n",
      "[pca] >Fit using PCA.\n",
      "[pca] >Compute loadings and PCs.\n",
      "[pca] >Compute explained variance.\n",
      "[pca] >Number of components is [8] that covers the [95.00%] explained variance.\n",
      "[pca] >The PCA reduction is performed on the [2400] columns of the input dataframe.\n",
      "[pca] >Fit using PCA.\n",
      "[pca] >Compute loadings and PCs.\n"
     ]
    },
    {
     "name": "stderr",
     "output_type": "stream",
     "text": [
      "[clustimage] >INFO> Saving data in memory.\n",
      "[clustimage] >INFO> Fit with method=[agglomerative], metric=[euclidean], linkage=[ward]\n",
      "[clustimage] >INFO> Evaluate using silhouette.\n",
      "[clusteval] >INFO: 100%|█████████████████████████████████████████████████████████████████| 1/1 [00:00<00:00, 791.98it/s]\n",
      "[clustimage] >DEBUG> [[1 1 1 1 2 2 2 2 1 1 1]]\n",
      "[clustimage] >DEBUG> Iloc: [ True]\n",
      "[clustimage] >DEBUG> silscores: [    0.29452]\n",
      "[clustimage] >DEBUG> sillclust: [          2]\n",
      "[clustimage] >DEBUG> clustlabx: [[1 1 1 1 2 2 2 2 1 1 1]]\n",
      "[clustimage] >INFO> Compute dendrogram threshold.\n",
      "[clustimage] >INFO> Optimal number clusters detected: [2].\n",
      "[clustimage] >INFO> Fin.\n"
     ]
    },
    {
     "name": "stdout",
     "output_type": "stream",
     "text": [
      "name: image_vics_1373.png, preds: [0, 0, 0, 0, 1, 1, 1, 1, 0, 0, 0], total boxes in : 11\n",
      "[pca] >Column labels are auto-completed.\n",
      "[pca] >The PCA reduction is performed to capture [95.0%] explained variance using the [2400] columns of the input data.\n",
      "[pca] >Fit using PCA.\n",
      "[pca] >Compute loadings and PCs.\n",
      "[pca] >Compute explained variance.\n",
      "[pca] >Number of components is [9] that covers the [95.00%] explained variance.\n",
      "[pca] >The PCA reduction is performed on the [2400] columns of the input dataframe.\n",
      "[pca] >Fit using PCA.\n",
      "[pca] >Compute loadings and PCs.\n"
     ]
    },
    {
     "name": "stderr",
     "output_type": "stream",
     "text": [
      "[clustimage] >INFO> Saving data in memory.\n",
      "[clustimage] >INFO> Fit with method=[agglomerative], metric=[euclidean], linkage=[ward]\n",
      "[clustimage] >INFO> Evaluate using silhouette.\n",
      "[clusteval] >INFO: 100%|█████████████████████████████████████████████████████████████████| 1/1 [00:00<00:00, 606.73it/s]\n",
      "[clustimage] >DEBUG> [[1 1 1 2 2 2 1 3 2 1 2 2 2]]\n",
      "[clustimage] >DEBUG> Iloc: [ True]\n",
      "[clustimage] >DEBUG> silscores: [    0.31252]\n",
      "[clustimage] >DEBUG> sillclust: [          3]\n",
      "[clustimage] >DEBUG> clustlabx: [[1 1 1 2 2 2 1 3 2 1 2 2 2]]\n",
      "[clustimage] >INFO> Compute dendrogram threshold.\n",
      "[clustimage] >INFO> Optimal number clusters detected: [3].\n",
      "[clustimage] >INFO> Fin.\n"
     ]
    },
    {
     "name": "stdout",
     "output_type": "stream",
     "text": [
      "name: image_vics_1380.png, preds: [0, 0, 0, 1, 1, 1, 0, 2, 1, 0, 1, 1, 1], total boxes in : 13\n",
      "[pca] >Column labels are auto-completed.\n",
      "[pca] >The PCA reduction is performed to capture [95.0%] explained variance using the [2400] columns of the input data.\n",
      "[pca] >Fit using PCA.\n",
      "[pca] >Compute loadings and PCs.\n",
      "[pca] >Compute explained variance.\n",
      "[pca] >Number of components is [9] that covers the [95.00%] explained variance.\n",
      "[pca] >The PCA reduction is performed on the [2400] columns of the input dataframe.\n",
      "[pca] >Fit using PCA.\n",
      "[pca] >Compute loadings and PCs.\n"
     ]
    },
    {
     "name": "stderr",
     "output_type": "stream",
     "text": [
      "[clustimage] >INFO> Saving data in memory.\n",
      "[clustimage] >INFO> Fit with method=[agglomerative], metric=[euclidean], linkage=[ward]\n",
      "[clustimage] >INFO> Evaluate using silhouette.\n",
      "[clusteval] >INFO: 100%|█████████████████████████████████████████████████████████████████| 1/1 [00:00<00:00, 859.14it/s]\n",
      "[clustimage] >DEBUG> [[1 2 2 2 1 3 2 1 2 2 1 1 2]]\n",
      "[clustimage] >DEBUG> Iloc: [ True]\n",
      "[clustimage] >DEBUG> silscores: [    0.23649]\n",
      "[clustimage] >DEBUG> sillclust: [          3]\n",
      "[clustimage] >DEBUG> clustlabx: [[1 2 2 2 1 3 2 1 2 2 1 1 2]]\n",
      "[clustimage] >INFO> Compute dendrogram threshold.\n",
      "[clustimage] >INFO> Optimal number clusters detected: [3].\n",
      "[clustimage] >INFO> Fin.\n"
     ]
    },
    {
     "name": "stdout",
     "output_type": "stream",
     "text": [
      "name: image_vics_1381.png, preds: [0, 1, 1, 1, 0, 2, 1, 0, 1, 1, 0, 0, 1], total boxes in : 13\n",
      "[pca] >Column labels are auto-completed.\n",
      "[pca] >The PCA reduction is performed to capture [95.0%] explained variance using the [2400] columns of the input data.\n",
      "[pca] >Fit using PCA.\n",
      "[pca] >Compute loadings and PCs.\n",
      "[pca] >Compute explained variance.\n",
      "[pca] >Number of components is [7] that covers the [95.00%] explained variance.\n",
      "[pca] >The PCA reduction is performed on the [2400] columns of the input dataframe.\n",
      "[pca] >Fit using PCA.\n",
      "[pca] >Compute loadings and PCs.\n"
     ]
    },
    {
     "name": "stderr",
     "output_type": "stream",
     "text": [
      "[clustimage] >INFO> Saving data in memory.\n",
      "[clustimage] >INFO> Fit with method=[agglomerative], metric=[euclidean], linkage=[ward]\n",
      "[clustimage] >INFO> Evaluate using silhouette.\n",
      "[clusteval] >INFO: 100%|█████████████████████████████████████████████████████████████████| 1/1 [00:00<00:00, 832.53it/s]\n",
      "[clustimage] >DEBUG> [[1 2 2 1 2 1 1 2 1 2]]\n",
      "[clustimage] >DEBUG> Iloc: [ True]\n",
      "[clustimage] >DEBUG> silscores: [    0.37469]\n",
      "[clustimage] >DEBUG> sillclust: [          2]\n",
      "[clustimage] >DEBUG> clustlabx: [[1 2 2 1 2 1 1 2 1 2]]\n",
      "[clustimage] >INFO> Compute dendrogram threshold.\n",
      "[clustimage] >INFO> Optimal number clusters detected: [2].\n",
      "[clustimage] >INFO> Fin.\n"
     ]
    },
    {
     "name": "stdout",
     "output_type": "stream",
     "text": [
      "name: image_vics_1383.png, preds: [1, 0, 0, 1, 0, 1, 1, 0, 1, 0], total boxes in : 10\n",
      "[pca] >Column labels are auto-completed.\n",
      "[pca] >The PCA reduction is performed to capture [95.0%] explained variance using the [2400] columns of the input data.\n",
      "[pca] >Fit using PCA.\n",
      "[pca] >Compute loadings and PCs.\n",
      "[pca] >Compute explained variance.\n",
      "[pca] >Number of components is [5] that covers the [95.00%] explained variance.\n",
      "[pca] >The PCA reduction is performed on the [2400] columns of the input dataframe.\n",
      "[pca] >Fit using PCA.\n",
      "[pca] >Compute loadings and PCs.\n"
     ]
    },
    {
     "name": "stderr",
     "output_type": "stream",
     "text": [
      "[clustimage] >INFO> Saving data in memory.\n",
      "[clustimage] >INFO> Fit with method=[agglomerative], metric=[euclidean], linkage=[ward]\n",
      "[clustimage] >INFO> Evaluate using silhouette.\n",
      "[clusteval] >INFO: 100%|████████████████████████████████████████████████████████████████| 1/1 [00:00<00:00, 1009.46it/s]\n",
      "[clustimage] >DEBUG> [[3 2 1 1 1 2 1]]\n",
      "[clustimage] >DEBUG> Iloc: [ True]\n",
      "[clustimage] >DEBUG> silscores: [    0.35363]\n",
      "[clustimage] >DEBUG> sillclust: [          3]\n",
      "[clustimage] >DEBUG> clustlabx: [[3 2 1 1 1 2 1]]\n",
      "[clustimage] >INFO> Compute dendrogram threshold.\n",
      "[clustimage] >INFO> Optimal number clusters detected: [3].\n",
      "[clustimage] >INFO> Fin.\n"
     ]
    },
    {
     "name": "stdout",
     "output_type": "stream",
     "text": [
      "name: image_vics_1384.png, preds: [2, 1, 0, 0, 0, 1, 0], total boxes in : 7\n",
      "[pca] >Column labels are auto-completed.\n",
      "[pca] >The PCA reduction is performed to capture [95.0%] explained variance using the [2400] columns of the input data.\n",
      "[pca] >Fit using PCA.\n",
      "[pca] >Compute loadings and PCs.\n",
      "[pca] >Compute explained variance.\n",
      "[pca] >Number of components is [9] that covers the [95.00%] explained variance.\n",
      "[pca] >The PCA reduction is performed on the [2400] columns of the input dataframe.\n",
      "[pca] >Fit using PCA.\n",
      "[pca] >Compute loadings and PCs.\n"
     ]
    },
    {
     "name": "stderr",
     "output_type": "stream",
     "text": [
      "[clustimage] >INFO> Saving data in memory.\n",
      "[clustimage] >INFO> Fit with method=[agglomerative], metric=[euclidean], linkage=[ward]\n",
      "[clustimage] >INFO> Evaluate using silhouette.\n",
      "[clusteval] >INFO: 100%|█████████████████████████████████████████████████████████████████| 1/1 [00:00<00:00, 810.81it/s]\n",
      "[clustimage] >DEBUG> [[2 1 2 1 2 1 1 3 3 3 2 1 1]]\n",
      "[clustimage] >DEBUG> Iloc: [ True]\n",
      "[clustimage] >DEBUG> silscores: [    0.26631]\n",
      "[clustimage] >DEBUG> sillclust: [          3]\n",
      "[clustimage] >DEBUG> clustlabx: [[2 1 2 1 2 1 1 3 3 3 2 1 1]]\n",
      "[clustimage] >INFO> Compute dendrogram threshold.\n",
      "[clustimage] >INFO> Optimal number clusters detected: [3].\n",
      "[clustimage] >INFO> Fin.\n"
     ]
    },
    {
     "name": "stdout",
     "output_type": "stream",
     "text": [
      "name: image_vics_1386.png, preds: [1, 0, 1, 0, 1, 0, 0, 2, 2, 2, 1, 0, 0], total boxes in : 14\n",
      "[pca] >Column labels are auto-completed.\n",
      "[pca] >The PCA reduction is performed to capture [95.0%] explained variance using the [2400] columns of the input data.\n",
      "[pca] >Fit using PCA.\n",
      "[pca] >Compute loadings and PCs.\n",
      "[pca] >Compute explained variance.\n",
      "[pca] >Number of components is [11] that covers the [95.00%] explained variance.\n",
      "[pca] >The PCA reduction is performed on the [2400] columns of the input dataframe.\n",
      "[pca] >Fit using PCA.\n",
      "[pca] >Compute loadings and PCs.\n"
     ]
    },
    {
     "name": "stderr",
     "output_type": "stream",
     "text": [
      "[clustimage] >INFO> Saving data in memory.\n",
      "[clustimage] >INFO> Fit with method=[agglomerative], metric=[euclidean], linkage=[ward]\n",
      "[clustimage] >INFO> Evaluate using silhouette.\n",
      "[clusteval] >INFO: 100%|█████████████████████████████████████████████████████████████████| 1/1 [00:00<00:00, 645.58it/s]\n",
      "[clustimage] >DEBUG> [[2 1 1 1 2 2 1 1 1 2 1 3 1 2 2]]\n",
      "[clustimage] >DEBUG> Iloc: [ True]\n",
      "[clustimage] >DEBUG> silscores: [    0.24647]\n",
      "[clustimage] >DEBUG> sillclust: [          3]\n",
      "[clustimage] >DEBUG> clustlabx: [[2 1 1 1 2 2 1 1 1 2 1 3 1 2 2]]\n",
      "[clustimage] >INFO> Compute dendrogram threshold.\n",
      "[clustimage] >INFO> Optimal number clusters detected: [3].\n",
      "[clustimage] >INFO> Fin.\n"
     ]
    },
    {
     "name": "stdout",
     "output_type": "stream",
     "text": [
      "name: image_vics_1388.png, preds: [1, 0, 0, 0, 1, 1, 0, 0, 0, 1, 0, 2, 0, 1, 1], total boxes in : 15\n",
      "[pca] >Column labels are auto-completed.\n",
      "[pca] >The PCA reduction is performed to capture [95.0%] explained variance using the [2400] columns of the input data.\n",
      "[pca] >Fit using PCA.\n",
      "[pca] >Compute loadings and PCs.\n",
      "[pca] >Compute explained variance.\n",
      "[pca] >Number of components is [5] that covers the [95.00%] explained variance.\n",
      "[pca] >The PCA reduction is performed on the [2400] columns of the input dataframe.\n",
      "[pca] >Fit using PCA.\n",
      "[pca] >Compute loadings and PCs.\n"
     ]
    },
    {
     "name": "stderr",
     "output_type": "stream",
     "text": [
      "[clustimage] >INFO> Saving data in memory.\n",
      "[clustimage] >INFO> Fit with method=[agglomerative], metric=[euclidean], linkage=[ward]\n",
      "[clustimage] >INFO> Evaluate using silhouette.\n",
      "[clusteval] >INFO: 100%|█████████████████████████████████████████████████████████████████| 1/1 [00:00<00:00, 632.72it/s]\n",
      "[clustimage] >DEBUG> [[2 1 1 1 2 1 3]]\n",
      "[clustimage] >DEBUG> Iloc: [ True]\n",
      "[clustimage] >DEBUG> silscores: [    0.22072]\n",
      "[clustimage] >DEBUG> sillclust: [          3]\n",
      "[clustimage] >DEBUG> clustlabx: [[2 1 1 1 2 1 3]]\n",
      "[clustimage] >INFO> Compute dendrogram threshold.\n",
      "[clustimage] >INFO> Optimal number clusters detected: [3].\n",
      "[clustimage] >INFO> Fin.\n"
     ]
    },
    {
     "name": "stdout",
     "output_type": "stream",
     "text": [
      "name: image_vics_1395.png, preds: [1, 0, 0, 0, 1, 0, 2], total boxes in : 7\n",
      "[pca] >Column labels are auto-completed.\n",
      "[pca] >The PCA reduction is performed to capture [95.0%] explained variance using the [2400] columns of the input data.\n",
      "[pca] >Fit using PCA.\n",
      "[pca] >Compute loadings and PCs.\n",
      "[pca] >Compute explained variance.\n",
      "[pca] >Number of components is [8] that covers the [95.00%] explained variance.\n",
      "[pca] >The PCA reduction is performed on the [2400] columns of the input dataframe.\n",
      "[pca] >Fit using PCA.\n",
      "[pca] >Compute loadings and PCs.\n"
     ]
    },
    {
     "name": "stderr",
     "output_type": "stream",
     "text": [
      "[clustimage] >INFO> Saving data in memory.\n",
      "[clustimage] >INFO> Fit with method=[agglomerative], metric=[euclidean], linkage=[ward]\n",
      "[clustimage] >INFO> Evaluate using silhouette.\n",
      "[clusteval] >INFO: 100%|█████████████████████████████████████████████████████████████████| 1/1 [00:00<00:00, 952.82it/s]\n",
      "[clustimage] >DEBUG> [[2 1 2 2 1 1 2 1 2 1 2]]\n",
      "[clustimage] >DEBUG> Iloc: [ True]\n",
      "[clustimage] >DEBUG> silscores: [    0.31577]\n",
      "[clustimage] >DEBUG> sillclust: [          2]\n",
      "[clustimage] >DEBUG> clustlabx: [[2 1 2 2 1 1 2 1 2 1 2]]\n",
      "[clustimage] >INFO> Compute dendrogram threshold.\n",
      "[clustimage] >INFO> Optimal number clusters detected: [2].\n",
      "[clustimage] >INFO> Fin.\n"
     ]
    },
    {
     "name": "stdout",
     "output_type": "stream",
     "text": [
      "name: image_vics_1399.png, preds: [1, 0, 1, 1, 0, 0, 1, 0, 1, 0, 1], total boxes in : 11\n",
      "[pca] >Column labels are auto-completed.\n",
      "[pca] >The PCA reduction is performed to capture [95.0%] explained variance using the [2400] columns of the input data.\n",
      "[pca] >Fit using PCA.\n",
      "[pca] >Compute loadings and PCs.\n",
      "[pca] >Compute explained variance.\n",
      "[pca] >Number of components is [10] that covers the [95.00%] explained variance.\n",
      "[pca] >The PCA reduction is performed on the [2400] columns of the input dataframe.\n",
      "[pca] >Fit using PCA.\n",
      "[pca] >Compute loadings and PCs.\n"
     ]
    },
    {
     "name": "stderr",
     "output_type": "stream",
     "text": [
      "[clustimage] >INFO> Saving data in memory.\n",
      "[clustimage] >INFO> Fit with method=[agglomerative], metric=[euclidean], linkage=[ward]\n",
      "[clustimage] >INFO> Evaluate using silhouette.\n",
      "[clusteval] >INFO: 100%|█████████████████████████████████████████████████████████████████| 1/1 [00:00<00:00, 678.14it/s]\n",
      "[clustimage] >DEBUG> [[1 2 1 3 3 2 2 1 2 2 1 2 3 1 1]]\n",
      "[clustimage] >DEBUG> Iloc: [ True]\n",
      "[clustimage] >DEBUG> silscores: [    0.27394]\n",
      "[clustimage] >DEBUG> sillclust: [          3]\n",
      "[clustimage] >DEBUG> clustlabx: [[1 2 1 3 3 2 2 1 2 2 1 2 3 1 1]]\n",
      "[clustimage] >INFO> Compute dendrogram threshold.\n",
      "[clustimage] >INFO> Optimal number clusters detected: [3].\n",
      "[clustimage] >INFO> Fin.\n"
     ]
    },
    {
     "name": "stdout",
     "output_type": "stream",
     "text": [
      "name: image_vics_1402.png, preds: [0, 1, 0, 2, 2, 1, 1, 0, 1, 1, 0, 1, 2, 0, 0], total boxes in : 15\n",
      "[pca] >Column labels are auto-completed.\n",
      "[pca] >The PCA reduction is performed to capture [95.0%] explained variance using the [2400] columns of the input data.\n",
      "[pca] >Fit using PCA.\n",
      "[pca] >Compute loadings and PCs.\n",
      "[pca] >Compute explained variance.\n",
      "[pca] >Number of components is [5] that covers the [95.00%] explained variance.\n",
      "[pca] >The PCA reduction is performed on the [2400] columns of the input dataframe.\n",
      "[pca] >Fit using PCA.\n",
      "[pca] >Compute loadings and PCs.\n"
     ]
    },
    {
     "name": "stderr",
     "output_type": "stream",
     "text": [
      "[clustimage] >INFO> Saving data in memory.\n",
      "[clustimage] >INFO> Fit with method=[agglomerative], metric=[euclidean], linkage=[ward]\n",
      "[clustimage] >INFO> Evaluate using silhouette.\n",
      "[clusteval] >INFO: 100%|█████████████████████████████████████████████████████████████████| 1/1 [00:00<00:00, 902.58it/s]\n",
      "[clustimage] >DEBUG> [[4 3 4 4 1 2 3]]\n",
      "[clustimage] >DEBUG> Iloc: [ True]\n",
      "[clustimage] >DEBUG> silscores: [    0.17373]\n",
      "[clustimage] >DEBUG> sillclust: [          4]\n",
      "[clustimage] >DEBUG> clustlabx: [[4 3 4 4 1 2 3]]\n",
      "[clustimage] >INFO> Compute dendrogram threshold.\n",
      "[clustimage] >INFO> Optimal number clusters detected: [4].\n",
      "[clustimage] >INFO> Fin.\n"
     ]
    },
    {
     "name": "stdout",
     "output_type": "stream",
     "text": [
      "name: image_vics_1403.png, preds: [0, 1, 0, 0, 3, 2, 1], total boxes in : 7\n",
      "[pca] >Column labels are auto-completed.\n",
      "[pca] >The PCA reduction is performed to capture [95.0%] explained variance using the [2400] columns of the input data.\n",
      "[pca] >Fit using PCA.\n",
      "[pca] >Compute loadings and PCs.\n",
      "[pca] >Compute explained variance.\n",
      "[pca] >Number of components is [7] that covers the [95.00%] explained variance.\n",
      "[pca] >The PCA reduction is performed on the [2400] columns of the input dataframe.\n",
      "[pca] >Fit using PCA.\n",
      "[pca] >Compute loadings and PCs.\n"
     ]
    },
    {
     "name": "stderr",
     "output_type": "stream",
     "text": [
      "[clustimage] >INFO> Saving data in memory.\n",
      "[clustimage] >INFO> Fit with method=[agglomerative], metric=[euclidean], linkage=[ward]\n",
      "[clustimage] >INFO> Evaluate using silhouette.\n",
      "[clusteval] >INFO: 100%|█████████████████████████████████████████████████████████████████| 1/1 [00:00<00:00, 975.42it/s]\n",
      "[clustimage] >DEBUG> [[2 2 1 1 1 1 2 3 1 1]]\n",
      "[clustimage] >DEBUG> Iloc: [ True]\n",
      "[clustimage] >DEBUG> silscores: [     0.3559]\n",
      "[clustimage] >DEBUG> sillclust: [          3]\n",
      "[clustimage] >DEBUG> clustlabx: [[2 2 1 1 1 1 2 3 1 1]]\n",
      "[clustimage] >INFO> Compute dendrogram threshold.\n",
      "[clustimage] >INFO> Optimal number clusters detected: [3].\n",
      "[clustimage] >INFO> Fin.\n"
     ]
    },
    {
     "name": "stdout",
     "output_type": "stream",
     "text": [
      "name: image_vics_1409.png, preds: [1, 1, 0, 0, 0, 0, 1, 2, 0, 0], total boxes in : 10\n",
      "[pca] >Column labels are auto-completed.\n",
      "[pca] >The PCA reduction is performed to capture [95.0%] explained variance using the [2400] columns of the input data.\n",
      "[pca] >Fit using PCA.\n",
      "[pca] >Compute loadings and PCs.\n",
      "[pca] >Compute explained variance.\n",
      "[pca] >Number of components is [7] that covers the [95.00%] explained variance.\n",
      "[pca] >The PCA reduction is performed on the [2400] columns of the input dataframe.\n",
      "[pca] >Fit using PCA.\n",
      "[pca] >Compute loadings and PCs.\n"
     ]
    },
    {
     "name": "stderr",
     "output_type": "stream",
     "text": [
      "[clustimage] >INFO> Saving data in memory.\n",
      "[clustimage] >INFO> Fit with method=[agglomerative], metric=[euclidean], linkage=[ward]\n",
      "[clustimage] >INFO> Evaluate using silhouette.\n",
      "[clusteval] >INFO: 100%|█████████████████████████████████████████████████████████████████| 1/1 [00:00<00:00, 859.84it/s]\n",
      "[clustimage] >DEBUG> [[2 3 1 1 1 1 2 1 1 2]]\n",
      "[clustimage] >DEBUG> Iloc: [ True]\n",
      "[clustimage] >DEBUG> silscores: [    0.29515]\n",
      "[clustimage] >DEBUG> sillclust: [          3]\n",
      "[clustimage] >DEBUG> clustlabx: [[2 3 1 1 1 1 2 1 1 2]]\n",
      "[clustimage] >INFO> Compute dendrogram threshold.\n",
      "[clustimage] >INFO> Optimal number clusters detected: [3].\n",
      "[clustimage] >INFO> Fin.\n"
     ]
    },
    {
     "name": "stdout",
     "output_type": "stream",
     "text": [
      "name: image_vics_1411.png, preds: [1, 2, 0, 0, 0, 0, 1, 0, 0, 1], total boxes in : 10\n",
      "[pca] >Column labels are auto-completed.\n",
      "[pca] >The PCA reduction is performed to capture [95.0%] explained variance using the [2400] columns of the input data.\n",
      "[pca] >Fit using PCA.\n",
      "[pca] >Compute loadings and PCs.\n",
      "[pca] >Compute explained variance.\n",
      "[pca] >Number of components is [9] that covers the [95.00%] explained variance.\n",
      "[pca] >The PCA reduction is performed on the [2400] columns of the input dataframe.\n",
      "[pca] >Fit using PCA.\n",
      "[pca] >Compute loadings and PCs.\n"
     ]
    },
    {
     "name": "stderr",
     "output_type": "stream",
     "text": [
      "[clustimage] >INFO> Saving data in memory.\n",
      "[clustimage] >INFO> Fit with method=[agglomerative], metric=[euclidean], linkage=[ward]\n",
      "[clustimage] >INFO> Evaluate using silhouette.\n",
      "[clusteval] >INFO: 100%|█████████████████████████████████████████████████████████████████| 1/1 [00:00<00:00, 851.46it/s]\n",
      "[clustimage] >DEBUG> [[3 1 1 3 2 1 3 1 3 2 1 1 2]]\n",
      "[clustimage] >DEBUG> Iloc: [ True]\n",
      "[clustimage] >DEBUG> silscores: [    0.25617]\n",
      "[clustimage] >DEBUG> sillclust: [          3]\n",
      "[clustimage] >DEBUG> clustlabx: [[3 1 1 3 2 1 3 1 3 2 1 1 2]]\n",
      "[clustimage] >INFO> Compute dendrogram threshold.\n",
      "[clustimage] >INFO> Optimal number clusters detected: [3].\n",
      "[clustimage] >INFO> Fin.\n"
     ]
    },
    {
     "name": "stdout",
     "output_type": "stream",
     "text": [
      "name: image_vics_1419.png, preds: [1, 0, 0, 1, 2, 0, 1, 0, 1, 2, 0, 0, 2], total boxes in : 13\n",
      "[pca] >Column labels are auto-completed.\n",
      "[pca] >The PCA reduction is performed to capture [95.0%] explained variance using the [2400] columns of the input data.\n",
      "[pca] >Fit using PCA.\n",
      "[pca] >Compute loadings and PCs.\n",
      "[pca] >Compute explained variance.\n",
      "[pca] >Number of components is [8] that covers the [95.00%] explained variance.\n",
      "[pca] >The PCA reduction is performed on the [2400] columns of the input dataframe.\n",
      "[pca] >Fit using PCA.\n",
      "[pca] >Compute loadings and PCs.\n"
     ]
    },
    {
     "name": "stderr",
     "output_type": "stream",
     "text": [
      "[clustimage] >INFO> Saving data in memory.\n",
      "[clustimage] >INFO> Fit with method=[agglomerative], metric=[euclidean], linkage=[ward]\n",
      "[clustimage] >INFO> Evaluate using silhouette.\n",
      "[clusteval] >INFO: 100%|█████████████████████████████████████████████████████████████████| 1/1 [00:00<00:00, 815.54it/s]\n",
      "[clustimage] >DEBUG> [[1 1 2 2 3 2 2 2 1 1 1]]\n",
      "[clustimage] >DEBUG> Iloc: [ True]\n",
      "[clustimage] >DEBUG> silscores: [    0.36527]\n",
      "[clustimage] >DEBUG> sillclust: [          3]\n",
      "[clustimage] >DEBUG> clustlabx: [[1 1 2 2 3 2 2 2 1 1 1]]\n",
      "[clustimage] >INFO> Compute dendrogram threshold.\n",
      "[clustimage] >INFO> Optimal number clusters detected: [3].\n",
      "[clustimage] >INFO> Fin.\n"
     ]
    },
    {
     "name": "stdout",
     "output_type": "stream",
     "text": [
      "name: image_vics_1422.png, preds: [0, 0, 1, 1, 2, 1, 1, 1, 0, 0, 0], total boxes in : 11\n",
      "[pca] >Column labels are auto-completed.\n",
      "[pca] >The PCA reduction is performed to capture [95.0%] explained variance using the [2400] columns of the input data.\n",
      "[pca] >Fit using PCA.\n",
      "[pca] >Compute loadings and PCs.\n",
      "[pca] >Compute explained variance.\n",
      "[pca] >Number of components is [9] that covers the [95.00%] explained variance.\n",
      "[pca] >The PCA reduction is performed on the [2400] columns of the input dataframe.\n",
      "[pca] >Fit using PCA.\n",
      "[pca] >Compute loadings and PCs.\n"
     ]
    },
    {
     "name": "stderr",
     "output_type": "stream",
     "text": [
      "[clustimage] >INFO> Saving data in memory.\n",
      "[clustimage] >INFO> Fit with method=[agglomerative], metric=[euclidean], linkage=[ward]\n",
      "[clustimage] >INFO> Evaluate using silhouette.\n",
      "[clusteval] >INFO: 100%|█████████████████████████████████████████████████████████████████| 1/1 [00:00<00:00, 869.29it/s]\n",
      "[clustimage] >DEBUG> [[2 1 1 2 2 1 2 1 3 2 2 1 1]]\n",
      "[clustimage] >DEBUG> Iloc: [ True]\n",
      "[clustimage] >DEBUG> silscores: [    0.33717]\n",
      "[clustimage] >DEBUG> sillclust: [          3]\n",
      "[clustimage] >DEBUG> clustlabx: [[2 1 1 2 2 1 2 1 3 2 2 1 1]]\n",
      "[clustimage] >INFO> Compute dendrogram threshold.\n",
      "[clustimage] >INFO> Optimal number clusters detected: [3].\n",
      "[clustimage] >INFO> Fin.\n"
     ]
    },
    {
     "name": "stdout",
     "output_type": "stream",
     "text": [
      "name: image_vics_1424.png, preds: [1, 0, 0, 1, 1, 0, 1, 0, 2, 1, 1, 0, 0], total boxes in : 13\n",
      "[pca] >Column labels are auto-completed.\n",
      "[pca] >The PCA reduction is performed to capture [95.0%] explained variance using the [2400] columns of the input data.\n",
      "[pca] >Fit using PCA.\n",
      "[pca] >Compute loadings and PCs.\n",
      "[pca] >Compute explained variance.\n",
      "[pca] >Number of components is [9] that covers the [95.00%] explained variance.\n",
      "[pca] >The PCA reduction is performed on the [2400] columns of the input dataframe.\n",
      "[pca] >Fit using PCA.\n",
      "[pca] >Compute loadings and PCs.\n"
     ]
    },
    {
     "name": "stderr",
     "output_type": "stream",
     "text": [
      "[clustimage] >INFO> Saving data in memory.\n",
      "[clustimage] >INFO> Fit with method=[agglomerative], metric=[euclidean], linkage=[ward]\n",
      "[clustimage] >INFO> Evaluate using silhouette.\n",
      "[clusteval] >INFO: 100%|█████████████████████████████████████████████████████████████████| 1/1 [00:00<00:00, 825.00it/s]\n",
      "[clustimage] >DEBUG> [[1 1 3 1 2 1 2 1 2 2 1 2 2]]\n",
      "[clustimage] >DEBUG> Iloc: [ True]\n",
      "[clustimage] >DEBUG> silscores: [    0.29634]\n",
      "[clustimage] >DEBUG> sillclust: [          3]\n",
      "[clustimage] >DEBUG> clustlabx: [[1 1 3 1 2 1 2 1 2 2 1 2 2]]\n",
      "[clustimage] >INFO> Compute dendrogram threshold.\n",
      "[clustimage] >INFO> Optimal number clusters detected: [3].\n",
      "[clustimage] >INFO> Fin.\n"
     ]
    },
    {
     "name": "stdout",
     "output_type": "stream",
     "text": [
      "name: image_vics_1425.png, preds: [0, 0, 2, 0, 1, 0, 1, 0, 1, 1, 0, 1, 1], total boxes in : 13\n",
      "[pca] >Column labels are auto-completed.\n",
      "[pca] >The PCA reduction is performed to capture [95.0%] explained variance using the [2400] columns of the input data.\n",
      "[pca] >Fit using PCA.\n",
      "[pca] >Compute loadings and PCs.\n",
      "[pca] >Compute explained variance.\n",
      "[pca] >Number of components is [10] that covers the [95.00%] explained variance.\n",
      "[pca] >The PCA reduction is performed on the [2400] columns of the input dataframe.\n",
      "[pca] >Fit using PCA.\n",
      "[pca] >Compute loadings and PCs.\n"
     ]
    },
    {
     "name": "stderr",
     "output_type": "stream",
     "text": [
      "[clustimage] >INFO> Saving data in memory.\n",
      "[clustimage] >INFO> Fit with method=[agglomerative], metric=[euclidean], linkage=[ward]\n",
      "[clustimage] >INFO> Evaluate using silhouette.\n",
      "[clusteval] >INFO: 100%|█████████████████████████████████████████████████████████████████| 1/1 [00:00<00:00, 817.76it/s]\n",
      "[clustimage] >DEBUG> [[2 1 2 3 3 1 3 1 1 1 1 1 3 1 3]]\n",
      "[clustimage] >DEBUG> Iloc: [ True]\n",
      "[clustimage] >DEBUG> silscores: [    0.29415]\n",
      "[clustimage] >DEBUG> sillclust: [          3]\n",
      "[clustimage] >DEBUG> clustlabx: [[2 1 2 3 3 1 3 1 1 1 1 1 3 1 3]]\n",
      "[clustimage] >INFO> Compute dendrogram threshold.\n",
      "[clustimage] >INFO> Optimal number clusters detected: [3].\n",
      "[clustimage] >INFO> Fin.\n"
     ]
    },
    {
     "name": "stdout",
     "output_type": "stream",
     "text": [
      "name: image_vics_1428.png, preds: [2, 0, 2, 1, 1, 0, 1, 0, 0, 0, 0, 0, 1, 0, 1], total boxes in : 15\n",
      "[pca] >Column labels are auto-completed.\n",
      "[pca] >The PCA reduction is performed to capture [95.0%] explained variance using the [2400] columns of the input data.\n",
      "[pca] >Fit using PCA.\n",
      "[pca] >Compute loadings and PCs.\n",
      "[pca] >Compute explained variance.\n",
      "[pca] >Number of components is [11] that covers the [95.00%] explained variance.\n",
      "[pca] >The PCA reduction is performed on the [2400] columns of the input dataframe.\n",
      "[pca] >Fit using PCA.\n",
      "[pca] >Compute loadings and PCs.\n"
     ]
    },
    {
     "name": "stderr",
     "output_type": "stream",
     "text": [
      "[clustimage] >INFO> Saving data in memory.\n",
      "[clustimage] >INFO> Fit with method=[agglomerative], metric=[euclidean], linkage=[ward]\n",
      "[clustimage] >INFO> Evaluate using silhouette.\n",
      "[clusteval] >INFO: 100%|█████████████████████████████████████████████████████████████████| 1/1 [00:00<00:00, 864.63it/s]\n",
      "[clustimage] >DEBUG> [[1 3 3 1 1 3 1 1 3 2 3 3 1 2 3]]\n",
      "[clustimage] >DEBUG> Iloc: [ True]\n",
      "[clustimage] >DEBUG> silscores: [    0.24746]\n",
      "[clustimage] >DEBUG> sillclust: [          3]\n",
      "[clustimage] >DEBUG> clustlabx: [[1 3 3 1 1 3 1 1 3 2 3 3 1 2 3]]\n",
      "[clustimage] >INFO> Compute dendrogram threshold.\n",
      "[clustimage] >INFO> Optimal number clusters detected: [3].\n",
      "[clustimage] >INFO> Fin.\n"
     ]
    },
    {
     "name": "stdout",
     "output_type": "stream",
     "text": [
      "name: image_vics_1434.png, preds: [0, 1, 1, 0, 0, 1, 0, 0, 1, 2, 1, 1, 0, 2, 1], total boxes in : 15\n",
      "[pca] >Column labels are auto-completed.\n",
      "[pca] >The PCA reduction is performed to capture [95.0%] explained variance using the [2400] columns of the input data.\n",
      "[pca] >Fit using PCA.\n",
      "[pca] >Compute loadings and PCs.\n",
      "[pca] >Compute explained variance.\n",
      "[pca] >Number of components is [10] that covers the [95.00%] explained variance.\n",
      "[pca] >The PCA reduction is performed on the [2400] columns of the input dataframe.\n",
      "[pca] >Fit using PCA.\n",
      "[pca] >Compute loadings and PCs.\n"
     ]
    },
    {
     "name": "stderr",
     "output_type": "stream",
     "text": [
      "[clustimage] >INFO> Saving data in memory.\n",
      "[clustimage] >INFO> Fit with method=[agglomerative], metric=[euclidean], linkage=[ward]\n",
      "[clustimage] >INFO> Evaluate using silhouette.\n",
      "[clusteval] >INFO: 100%|█████████████████████████████████████████████████████████████████| 1/1 [00:00<00:00, 860.37it/s]\n",
      "[clustimage] >DEBUG> [[2 1 2 3 1 2 2 2 1 1 2 1 1 1 1]]\n",
      "[clustimage] >DEBUG> Iloc: [ True]\n",
      "[clustimage] >DEBUG> silscores: [    0.32366]\n",
      "[clustimage] >DEBUG> sillclust: [          3]\n",
      "[clustimage] >DEBUG> clustlabx: [[2 1 2 3 1 2 2 2 1 1 2 1 1 1 1]]\n",
      "[clustimage] >INFO> Compute dendrogram threshold.\n",
      "[clustimage] >INFO> Optimal number clusters detected: [3].\n",
      "[clustimage] >INFO> Fin.\n"
     ]
    },
    {
     "name": "stdout",
     "output_type": "stream",
     "text": [
      "name: image_vics_1435.png, preds: [1, 0, 1, 2, 0, 1, 1, 1, 0, 0, 1, 0, 0, 0, 0], total boxes in : 15\n",
      "[pca] >Column labels are auto-completed.\n",
      "[pca] >The PCA reduction is performed to capture [95.0%] explained variance using the [2400] columns of the input data.\n",
      "[pca] >Fit using PCA.\n",
      "[pca] >Compute loadings and PCs.\n",
      "[pca] >Compute explained variance.\n",
      "[pca] >Number of components is [9] that covers the [95.00%] explained variance.\n",
      "[pca] >The PCA reduction is performed on the [2400] columns of the input dataframe.\n",
      "[pca] >Fit using PCA.\n",
      "[pca] >Compute loadings and PCs.\n"
     ]
    },
    {
     "name": "stderr",
     "output_type": "stream",
     "text": [
      "[clustimage] >INFO> Saving data in memory.\n",
      "[clustimage] >INFO> Fit with method=[agglomerative], metric=[euclidean], linkage=[ward]\n",
      "[clustimage] >INFO> Evaluate using silhouette.\n",
      "[clusteval] >INFO: 100%|█████████████████████████████████████████████████████████████████| 1/1 [00:00<00:00, 831.05it/s]\n",
      "[clustimage] >DEBUG> [[1 1 1 2 3 2 1 2 1 1 2 2]]\n",
      "[clustimage] >DEBUG> Iloc: [ True]\n",
      "[clustimage] >DEBUG> silscores: [    0.28567]\n",
      "[clustimage] >DEBUG> sillclust: [          3]\n",
      "[clustimage] >DEBUG> clustlabx: [[1 1 1 2 3 2 1 2 1 1 2 2]]\n",
      "[clustimage] >INFO> Compute dendrogram threshold.\n",
      "[clustimage] >INFO> Optimal number clusters detected: [3].\n",
      "[clustimage] >INFO> Fin.\n"
     ]
    },
    {
     "name": "stdout",
     "output_type": "stream",
     "text": [
      "name: image_vics_1437.png, preds: [0, 0, 0, 1, 2, 1, 0, 1, 0, 0, 1, 1], total boxes in : 12\n",
      "[pca] >Column labels are auto-completed.\n",
      "[pca] >The PCA reduction is performed to capture [95.0%] explained variance using the [2400] columns of the input data.\n",
      "[pca] >Fit using PCA.\n",
      "[pca] >Compute loadings and PCs.\n",
      "[pca] >Compute explained variance.\n",
      "[pca] >Number of components is [10] that covers the [95.00%] explained variance.\n",
      "[pca] >The PCA reduction is performed on the [2400] columns of the input dataframe.\n",
      "[pca] >Fit using PCA.\n",
      "[pca] >Compute loadings and PCs.\n"
     ]
    },
    {
     "name": "stderr",
     "output_type": "stream",
     "text": [
      "[clustimage] >INFO> Saving data in memory.\n",
      "[clustimage] >INFO> Fit with method=[agglomerative], metric=[euclidean], linkage=[ward]\n",
      "[clustimage] >INFO> Evaluate using silhouette.\n",
      "[clusteval] >INFO: 100%|█████████████████████████████████████████████████████████████████| 1/1 [00:00<00:00, 749.65it/s]\n",
      "[clustimage] >DEBUG> [[2 3 3 3 1 3 1 2 1 1 1 1 1 1]]\n",
      "[clustimage] >DEBUG> Iloc: [ True]\n",
      "[clustimage] >DEBUG> silscores: [    0.28494]\n",
      "[clustimage] >DEBUG> sillclust: [          3]\n",
      "[clustimage] >DEBUG> clustlabx: [[2 3 3 3 1 3 1 2 1 1 1 1 1 1]]\n",
      "[clustimage] >INFO> Compute dendrogram threshold.\n",
      "[clustimage] >INFO> Optimal number clusters detected: [3].\n",
      "[clustimage] >INFO> Fin.\n"
     ]
    },
    {
     "name": "stdout",
     "output_type": "stream",
     "text": [
      "name: image_viml_702.png, preds: [2, 0, 0, 0, 1, 0, 1, 2, 1, 1, 1, 1, 1, 1], total boxes in : 14\n",
      "[pca] >Column labels are auto-completed.\n",
      "[pca] >The PCA reduction is performed to capture [95.0%] explained variance using the [2400] columns of the input data.\n",
      "[pca] >Fit using PCA.\n",
      "[pca] >Compute loadings and PCs.\n",
      "[pca] >Compute explained variance.\n",
      "[pca] >Number of components is [11] that covers the [95.00%] explained variance.\n",
      "[pca] >The PCA reduction is performed on the [2400] columns of the input dataframe.\n",
      "[pca] >Fit using PCA.\n",
      "[pca] >Compute loadings and PCs.\n"
     ]
    },
    {
     "name": "stderr",
     "output_type": "stream",
     "text": [
      "[clustimage] >INFO> Saving data in memory.\n",
      "[clustimage] >INFO> Fit with method=[agglomerative], metric=[euclidean], linkage=[ward]\n",
      "[clustimage] >INFO> Evaluate using silhouette.\n",
      "[clusteval] >INFO: 100%|█████████████████████████████████████████████████████████████████| 1/1 [00:00<00:00, 834.52it/s]\n",
      "[clustimage] >DEBUG> [[3 3 2 1 2 3 3 3 3 1 3 3 1 1 1]]\n",
      "[clustimage] >DEBUG> Iloc: [ True]\n",
      "[clustimage] >DEBUG> silscores: [    0.31451]\n",
      "[clustimage] >DEBUG> sillclust: [          3]\n",
      "[clustimage] >DEBUG> clustlabx: [[3 3 2 1 2 3 3 3 3 1 3 3 1 1 1]]\n",
      "[clustimage] >INFO> Compute dendrogram threshold.\n",
      "[clustimage] >INFO> Optimal number clusters detected: [3].\n",
      "[clustimage] >INFO> Fin.\n"
     ]
    },
    {
     "name": "stdout",
     "output_type": "stream",
     "text": [
      "name: image_viml_703.png, preds: [1, 1, 2, 0, 2, 1, 1, 1, 1, 0, 1, 1, 0, 0, 0], total boxes in : 15\n",
      "[pca] >Column labels are auto-completed.\n",
      "[pca] >The PCA reduction is performed to capture [95.0%] explained variance using the [2400] columns of the input data.\n",
      "[pca] >Fit using PCA.\n",
      "[pca] >Compute loadings and PCs.\n",
      "[pca] >Compute explained variance.\n",
      "[pca] >Number of components is [12] that covers the [95.00%] explained variance.\n",
      "[pca] >The PCA reduction is performed on the [2400] columns of the input dataframe.\n",
      "[pca] >Fit using PCA.\n",
      "[pca] >Compute loadings and PCs.\n"
     ]
    },
    {
     "name": "stderr",
     "output_type": "stream",
     "text": [
      "[clustimage] >INFO> Saving data in memory.\n",
      "[clustimage] >INFO> Fit with method=[agglomerative], metric=[euclidean], linkage=[ward]\n",
      "[clustimage] >INFO> Evaluate using silhouette.\n",
      "[clusteval] >INFO: 100%|█████████████████████████████████████████████████████████████████| 1/1 [00:00<00:00, 824.19it/s]\n",
      "[clustimage] >DEBUG> [[1 3 3 3 3 3 2 2 3 3 1 3 1 1 1 1 1]]\n",
      "[clustimage] >DEBUG> Iloc: [ True]\n",
      "[clustimage] >DEBUG> silscores: [    0.27049]\n",
      "[clustimage] >DEBUG> sillclust: [          3]\n",
      "[clustimage] >DEBUG> clustlabx: [[1 3 3 3 3 3 2 2 3 3 1 3 1 1 1 1 1]]\n",
      "[clustimage] >INFO> Compute dendrogram threshold.\n",
      "[clustimage] >INFO> Optimal number clusters detected: [3].\n",
      "[clustimage] >INFO> Fin.\n"
     ]
    },
    {
     "name": "stdout",
     "output_type": "stream",
     "text": [
      "name: image_viml_708.png, preds: [0, 1, 1, 1, 1, 1, 2, 2, 1, 1, 0, 1, 0, 0, 0, 0, 0], total boxes in : 17\n",
      "[pca] >Column labels are auto-completed.\n",
      "[pca] >The PCA reduction is performed to capture [95.0%] explained variance using the [2400] columns of the input data.\n",
      "[pca] >Fit using PCA.\n",
      "[pca] >Compute loadings and PCs.\n",
      "[pca] >Compute explained variance.\n",
      "[pca] >Number of components is [11] that covers the [95.00%] explained variance.\n",
      "[pca] >The PCA reduction is performed on the [2400] columns of the input dataframe.\n",
      "[pca] >Fit using PCA.\n",
      "[pca] >Compute loadings and PCs.\n"
     ]
    },
    {
     "name": "stderr",
     "output_type": "stream",
     "text": [
      "[clustimage] >INFO> Saving data in memory.\n",
      "[clustimage] >INFO> Fit with method=[agglomerative], metric=[euclidean], linkage=[ward]\n",
      "[clustimage] >INFO> Evaluate using silhouette.\n",
      "[clusteval] >INFO: 100%|█████████████████████████████████████████████████████████████████| 1/1 [00:00<00:00, 780.05it/s]\n",
      "[clustimage] >DEBUG> [[1 1 2 1 1 1 1 1 1 1 3 3 3 2 1 3 2 2]]\n",
      "[clustimage] >DEBUG> Iloc: [ True]\n",
      "[clustimage] >DEBUG> silscores: [    0.35665]\n",
      "[clustimage] >DEBUG> sillclust: [          3]\n",
      "[clustimage] >DEBUG> clustlabx: [[1 1 2 1 1 1 1 1 1 1 3 3 3 2 1 3 2 2]]\n",
      "[clustimage] >INFO> Compute dendrogram threshold.\n",
      "[clustimage] >INFO> Optimal number clusters detected: [3].\n",
      "[clustimage] >INFO> Fin.\n"
     ]
    },
    {
     "name": "stdout",
     "output_type": "stream",
     "text": [
      "name: image_viml_710.png, preds: [1, 1, 2, 1, 1, 1, 1, 1, 1, 1, 0, 0, 0, 2, 1, 0, 2, 2], total boxes in : 18\n",
      "[pca] >Column labels are auto-completed.\n",
      "[pca] >The PCA reduction is performed to capture [95.0%] explained variance using the [2400] columns of the input data.\n",
      "[pca] >Fit using PCA.\n",
      "[pca] >Compute loadings and PCs.\n",
      "[pca] >Compute explained variance.\n",
      "[pca] >Number of components is [11] that covers the [95.00%] explained variance.\n",
      "[pca] >The PCA reduction is performed on the [2400] columns of the input dataframe.\n",
      "[pca] >Fit using PCA.\n",
      "[pca] >Compute loadings and PCs.\n"
     ]
    },
    {
     "name": "stderr",
     "output_type": "stream",
     "text": [
      "[clustimage] >INFO> Saving data in memory.\n",
      "[clustimage] >INFO> Fit with method=[agglomerative], metric=[euclidean], linkage=[ward]\n",
      "[clustimage] >INFO> Evaluate using silhouette.\n",
      "[clusteval] >INFO: 100%|█████████████████████████████████████████████████████████████████| 1/1 [00:00<00:00, 771.58it/s]\n",
      "[clustimage] >DEBUG> [[2 1 1 2 2 2 3 2 2 2 2 1 1 1 1 1]]\n",
      "[clustimage] >DEBUG> Iloc: [ True]\n",
      "[clustimage] >DEBUG> silscores: [    0.36672]\n",
      "[clustimage] >DEBUG> sillclust: [          3]\n",
      "[clustimage] >DEBUG> clustlabx: [[2 1 1 2 2 2 3 2 2 2 2 1 1 1 1 1]]\n",
      "[clustimage] >INFO> Compute dendrogram threshold.\n",
      "[clustimage] >INFO> Optimal number clusters detected: [3].\n",
      "[clustimage] >INFO> Fin.\n"
     ]
    },
    {
     "name": "stdout",
     "output_type": "stream",
     "text": [
      "name: image_viml_711.png, preds: [1, 0, 0, 1, 1, 1, 2, 1, 1, 1, 1, 0, 0, 0, 0, 0], total boxes in : 16\n",
      "[pca] >Column labels are auto-completed.\n",
      "[pca] >The PCA reduction is performed to capture [95.0%] explained variance using the [2400] columns of the input data.\n",
      "[pca] >Fit using PCA.\n",
      "[pca] >Compute loadings and PCs.\n",
      "[pca] >Compute explained variance.\n",
      "[pca] >Number of components is [10] that covers the [95.00%] explained variance.\n",
      "[pca] >The PCA reduction is performed on the [2400] columns of the input dataframe.\n",
      "[pca] >Fit using PCA.\n",
      "[pca] >Compute loadings and PCs.\n"
     ]
    },
    {
     "name": "stderr",
     "output_type": "stream",
     "text": [
      "[clustimage] >INFO> Saving data in memory.\n",
      "[clustimage] >INFO> Fit with method=[agglomerative], metric=[euclidean], linkage=[ward]\n",
      "[clustimage] >INFO> Evaluate using silhouette.\n",
      "[clusteval] >INFO: 100%|█████████████████████████████████████████████████████████████████| 1/1 [00:00<00:00, 736.36it/s]\n",
      "[clustimage] >DEBUG> [[3 3 3 3 1 2 3 1 3 2 4 1 1 1 1]]\n",
      "[clustimage] >DEBUG> Iloc: [ True]\n",
      "[clustimage] >DEBUG> silscores: [    0.28186]\n",
      "[clustimage] >DEBUG> sillclust: [          4]\n",
      "[clustimage] >DEBUG> clustlabx: [[3 3 3 3 1 2 3 1 3 2 4 1 1 1 1]]\n",
      "[clustimage] >INFO> Compute dendrogram threshold.\n",
      "[clustimage] >INFO> Optimal number clusters detected: [4].\n",
      "[clustimage] >INFO> Fin.\n"
     ]
    },
    {
     "name": "stdout",
     "output_type": "stream",
     "text": [
      "name: image_viml_724.png, preds: [1, 1, 1, 1, 0, 2, 1, 0, 1, 2, 3, 0, 0, 0, 0], total boxes in : 15\n",
      "[pca] >Column labels are auto-completed.\n",
      "[pca] >The PCA reduction is performed to capture [95.0%] explained variance using the [2400] columns of the input data.\n",
      "[pca] >Fit using PCA.\n",
      "[pca] >Compute loadings and PCs.\n",
      "[pca] >Compute explained variance.\n",
      "[pca] >Number of components is [8] that covers the [95.00%] explained variance.\n",
      "[pca] >The PCA reduction is performed on the [2400] columns of the input dataframe.\n",
      "[pca] >Fit using PCA.\n",
      "[pca] >Compute loadings and PCs.\n"
     ]
    },
    {
     "name": "stderr",
     "output_type": "stream",
     "text": [
      "[clustimage] >INFO> Saving data in memory.\n",
      "[clustimage] >INFO> Fit with method=[agglomerative], metric=[euclidean], linkage=[ward]\n",
      "[clustimage] >INFO> Evaluate using silhouette.\n",
      "[clusteval] >INFO: 100%|█████████████████████████████████████████████████████████████████| 1/1 [00:00<00:00, 614.82it/s]\n",
      "[clustimage] >DEBUG> [[1 1 1 3 2 3 3 1 3 3 2]]\n",
      "[clustimage] >DEBUG> Iloc: [ True]\n",
      "[clustimage] >DEBUG> silscores: [     0.2798]\n",
      "[clustimage] >DEBUG> sillclust: [          3]\n",
      "[clustimage] >DEBUG> clustlabx: [[1 1 1 3 2 3 3 1 3 3 2]]\n",
      "[clustimage] >INFO> Compute dendrogram threshold.\n",
      "[clustimage] >INFO> Optimal number clusters detected: [3].\n",
      "[clustimage] >INFO> Fin.\n"
     ]
    },
    {
     "name": "stdout",
     "output_type": "stream",
     "text": [
      "name: image_viml_730.png, preds: [0, 0, 0, 1, 2, 1, 1, 0, 1, 1, 2], total boxes in : 11\n",
      "[pca] >Column labels are auto-completed.\n",
      "[pca] >The PCA reduction is performed to capture [95.0%] explained variance using the [2400] columns of the input data.\n",
      "[pca] >Fit using PCA.\n",
      "[pca] >Compute loadings and PCs.\n",
      "[pca] >Compute explained variance.\n",
      "[pca] >Number of components is [9] that covers the [95.00%] explained variance.\n",
      "[pca] >The PCA reduction is performed on the [2400] columns of the input dataframe.\n",
      "[pca] >Fit using PCA.\n",
      "[pca] >Compute loadings and PCs.\n"
     ]
    },
    {
     "name": "stderr",
     "output_type": "stream",
     "text": [
      "[clustimage] >INFO> Saving data in memory.\n",
      "[clustimage] >INFO> Fit with method=[agglomerative], metric=[euclidean], linkage=[ward]\n",
      "[clustimage] >INFO> Evaluate using silhouette.\n",
      "[clusteval] >INFO: 100%|█████████████████████████████████████████████████████████████████| 1/1 [00:00<00:00, 887.50it/s]\n",
      "[clustimage] >DEBUG> [[2 2 1 1 1 1 1 2 2 2 2]]\n",
      "[clustimage] >DEBUG> Iloc: [ True]\n",
      "[clustimage] >DEBUG> silscores: [    0.29154]\n",
      "[clustimage] >DEBUG> sillclust: [          2]\n",
      "[clustimage] >DEBUG> clustlabx: [[2 2 1 1 1 1 1 2 2 2 2]]\n",
      "[clustimage] >INFO> Compute dendrogram threshold.\n",
      "[clustimage] >INFO> Optimal number clusters detected: [2].\n",
      "[clustimage] >INFO> Fin.\n"
     ]
    },
    {
     "name": "stdout",
     "output_type": "stream",
     "text": [
      "name: image_viml_731.png, preds: [0, 0, 1, 1, 1, 1, 1, 0, 0, 0, 0], total boxes in : 11\n",
      "[pca] >Column labels are auto-completed.\n",
      "[pca] >The PCA reduction is performed to capture [95.0%] explained variance using the [2400] columns of the input data.\n",
      "[pca] >Fit using PCA.\n",
      "[pca] >Compute loadings and PCs.\n",
      "[pca] >Compute explained variance.\n",
      "[pca] >Number of components is [8] that covers the [95.00%] explained variance.\n",
      "[pca] >The PCA reduction is performed on the [2400] columns of the input dataframe.\n",
      "[pca] >Fit using PCA.\n",
      "[pca] >Compute loadings and PCs.\n"
     ]
    },
    {
     "name": "stderr",
     "output_type": "stream",
     "text": [
      "[clustimage] >INFO> Saving data in memory.\n",
      "[clustimage] >INFO> Fit with method=[agglomerative], metric=[euclidean], linkage=[ward]\n",
      "[clustimage] >INFO> Evaluate using silhouette.\n",
      "[clusteval] >INFO: 100%|█████████████████████████████████████████████████████████████████| 1/1 [00:00<00:00, 812.38it/s]\n",
      "[clustimage] >DEBUG> [[1 1 1 2 2 1 2 2 3 2 2 2]]\n",
      "[clustimage] >DEBUG> Iloc: [ True]\n",
      "[clustimage] >DEBUG> silscores: [    0.28303]\n",
      "[clustimage] >DEBUG> sillclust: [          3]\n",
      "[clustimage] >DEBUG> clustlabx: [[1 1 1 2 2 1 2 2 3 2 2 2]]\n",
      "[clustimage] >INFO> Compute dendrogram threshold.\n",
      "[clustimage] >INFO> Optimal number clusters detected: [3].\n",
      "[clustimage] >INFO> Fin.\n"
     ]
    },
    {
     "name": "stdout",
     "output_type": "stream",
     "text": [
      "name: image_viml_732.png, preds: [0, 0, 0, 1, 1, 0, 1, 1, 2, 1, 1, 1], total boxes in : 12\n",
      "[pca] >Column labels are auto-completed.\n",
      "[pca] >The PCA reduction is performed to capture [95.0%] explained variance using the [2400] columns of the input data.\n",
      "[pca] >Fit using PCA.\n",
      "[pca] >Compute loadings and PCs.\n",
      "[pca] >Compute explained variance.\n",
      "[pca] >Number of components is [8] that covers the [95.00%] explained variance.\n",
      "[pca] >The PCA reduction is performed on the [2400] columns of the input dataframe.\n",
      "[pca] >Fit using PCA.\n",
      "[pca] >Compute loadings and PCs.\n"
     ]
    },
    {
     "name": "stderr",
     "output_type": "stream",
     "text": [
      "[clustimage] >INFO> Saving data in memory.\n",
      "[clustimage] >INFO> Fit with method=[agglomerative], metric=[euclidean], linkage=[ward]\n",
      "[clustimage] >INFO> Evaluate using silhouette.\n",
      "[clusteval] >INFO: 100%|█████████████████████████████████████████████████████████████████| 1/1 [00:00<00:00, 779.18it/s]\n",
      "[clustimage] >DEBUG> [[1 1 1 2 1 4 3 3 3 3 4]]\n",
      "[clustimage] >DEBUG> Iloc: [ True]\n",
      "[clustimage] >DEBUG> silscores: [     0.2495]\n",
      "[clustimage] >DEBUG> sillclust: [          4]\n",
      "[clustimage] >DEBUG> clustlabx: [[1 1 1 2 1 4 3 3 3 3 4]]\n",
      "[clustimage] >INFO> Compute dendrogram threshold.\n",
      "[clustimage] >INFO> Optimal number clusters detected: [4].\n",
      "[clustimage] >INFO> Fin.\n"
     ]
    },
    {
     "name": "stdout",
     "output_type": "stream",
     "text": [
      "name: image_viml_734.png, preds: [0, 0, 0, 3, 0, 2, 1, 1, 1, 1, 2], total boxes in : 12\n",
      "[pca] >Column labels are auto-completed.\n",
      "[pca] >The PCA reduction is performed to capture [95.0%] explained variance using the [2400] columns of the input data.\n",
      "[pca] >Fit using PCA.\n",
      "[pca] >Compute loadings and PCs.\n",
      "[pca] >Compute explained variance.\n",
      "[pca] >Number of components is [10] that covers the [95.00%] explained variance.\n",
      "[pca] >The PCA reduction is performed on the [2400] columns of the input dataframe.\n",
      "[pca] >Fit using PCA.\n",
      "[pca] >Compute loadings and PCs.\n"
     ]
    },
    {
     "name": "stderr",
     "output_type": "stream",
     "text": [
      "[clustimage] >INFO> Saving data in memory.\n",
      "[clustimage] >INFO> Fit with method=[agglomerative], metric=[euclidean], linkage=[ward]\n",
      "[clustimage] >INFO> Evaluate using silhouette.\n",
      "[clusteval] >INFO: 100%|█████████████████████████████████████████████████████████████████| 1/1 [00:00<00:00, 760.39it/s]\n",
      "[clustimage] >DEBUG> [[1 2 2 2 1 1 1 1 2 3 2 2 2 2]]\n",
      "[clustimage] >DEBUG> Iloc: [ True]\n",
      "[clustimage] >DEBUG> silscores: [    0.31169]\n",
      "[clustimage] >DEBUG> sillclust: [          3]\n",
      "[clustimage] >DEBUG> clustlabx: [[1 2 2 2 1 1 1 1 2 3 2 2 2 2]]\n",
      "[clustimage] >INFO> Compute dendrogram threshold.\n",
      "[clustimage] >INFO> Optimal number clusters detected: [3].\n",
      "[clustimage] >INFO> Fin.\n"
     ]
    },
    {
     "name": "stdout",
     "output_type": "stream",
     "text": [
      "name: image_viml_746.png, preds: [0, 1, 1, 1, 0, 0, 0, 0, 1, 2, 1, 1, 1, 1], total boxes in : 14\n",
      "[pca] >Column labels are auto-completed.\n",
      "[pca] >The PCA reduction is performed to capture [95.0%] explained variance using the [2400] columns of the input data.\n",
      "[pca] >Fit using PCA.\n",
      "[pca] >Compute loadings and PCs.\n",
      "[pca] >Compute explained variance.\n",
      "[pca] >Number of components is [9] that covers the [95.00%] explained variance.\n",
      "[pca] >The PCA reduction is performed on the [2400] columns of the input dataframe.\n",
      "[pca] >Fit using PCA.\n",
      "[pca] >Compute loadings and PCs.\n"
     ]
    },
    {
     "name": "stderr",
     "output_type": "stream",
     "text": [
      "[clustimage] >INFO> Saving data in memory.\n",
      "[clustimage] >INFO> Fit with method=[agglomerative], metric=[euclidean], linkage=[ward]\n",
      "[clustimage] >INFO> Evaluate using silhouette.\n",
      "[clusteval] >INFO: 100%|█████████████████████████████████████████████████████████████████| 1/1 [00:00<00:00, 794.53it/s]\n",
      "[clustimage] >DEBUG> [[2 1 1 1 1 1 1 3 2 4 3 2]]\n",
      "[clustimage] >DEBUG> Iloc: [ True]\n",
      "[clustimage] >DEBUG> silscores: [    0.26864]\n",
      "[clustimage] >DEBUG> sillclust: [          4]\n",
      "[clustimage] >DEBUG> clustlabx: [[2 1 1 1 1 1 1 3 2 4 3 2]]\n",
      "[clustimage] >INFO> Compute dendrogram threshold.\n",
      "[clustimage] >INFO> Optimal number clusters detected: [4].\n",
      "[clustimage] >INFO> Fin.\n"
     ]
    },
    {
     "name": "stdout",
     "output_type": "stream",
     "text": [
      "name: image_viml_747.png, preds: [1, 0, 0, 0, 0, 0, 0, 2, 1, 3, 2, 1], total boxes in : 12\n",
      "[pca] >Column labels are auto-completed.\n",
      "[pca] >The PCA reduction is performed to capture [95.0%] explained variance using the [2400] columns of the input data.\n",
      "[pca] >Fit using PCA.\n",
      "[pca] >Compute loadings and PCs.\n",
      "[pca] >Compute explained variance.\n",
      "[pca] >Number of components is [14] that covers the [95.00%] explained variance.\n",
      "[pca] >The PCA reduction is performed on the [2400] columns of the input dataframe.\n",
      "[pca] >Fit using PCA.\n",
      "[pca] >Compute loadings and PCs.\n"
     ]
    },
    {
     "name": "stderr",
     "output_type": "stream",
     "text": [
      "[clustimage] >INFO> Saving data in memory.\n",
      "[clustimage] >INFO> Fit with method=[agglomerative], metric=[euclidean], linkage=[ward]\n",
      "[clustimage] >INFO> Evaluate using silhouette.\n",
      "[clusteval] >INFO: 100%|█████████████████████████████████████████████████████████████████| 1/1 [00:00<00:00, 734.30it/s]\n",
      "[clustimage] >DEBUG> [[1 3 1 1 1 1 1 1 3 2 3 1 1 3 2 3 3 4 3 3 3]]\n",
      "[clustimage] >DEBUG> Iloc: [ True]\n",
      "[clustimage] >DEBUG> silscores: [    0.28508]\n",
      "[clustimage] >DEBUG> sillclust: [          4]\n",
      "[clustimage] >DEBUG> clustlabx: [[1 3 1 1 1 1 1 1 3 2 3 1 1 3 2 3 3 4 3 3 3]]\n",
      "[clustimage] >INFO> Compute dendrogram threshold.\n",
      "[clustimage] >INFO> Optimal number clusters detected: [4].\n",
      "[clustimage] >INFO> Fin.\n"
     ]
    },
    {
     "name": "stdout",
     "output_type": "stream",
     "text": [
      "name: image_viml_749.png, preds: [0, 1, 0, 0, 0, 0, 0, 0, 1, 2, 1, 0, 0, 1, 2, 1, 1, 3, 1, 1, 1], total boxes in : 21\n",
      "[pca] >Column labels are auto-completed.\n",
      "[pca] >The PCA reduction is performed to capture [95.0%] explained variance using the [2400] columns of the input data.\n",
      "[pca] >Fit using PCA.\n",
      "[pca] >Compute loadings and PCs.\n",
      "[pca] >Compute explained variance.\n",
      "[pca] >Number of components is [9] that covers the [95.00%] explained variance.\n",
      "[pca] >The PCA reduction is performed on the [2400] columns of the input dataframe.\n",
      "[pca] >Fit using PCA.\n",
      "[pca] >Compute loadings and PCs.\n"
     ]
    },
    {
     "name": "stderr",
     "output_type": "stream",
     "text": [
      "[clustimage] >INFO> Saving data in memory.\n",
      "[clustimage] >INFO> Fit with method=[agglomerative], metric=[euclidean], linkage=[ward]\n",
      "[clustimage] >INFO> Evaluate using silhouette.\n",
      "[clusteval] >INFO: 100%|█████████████████████████████████████████████████████████████████| 1/1 [00:00<00:00, 806.60it/s]\n",
      "[clustimage] >DEBUG> [[3 2 1 2 3 1 1 3 3 3 2 3 1 1]]\n",
      "[clustimage] >DEBUG> Iloc: [ True]\n",
      "[clustimage] >DEBUG> silscores: [    0.25151]\n",
      "[clustimage] >DEBUG> sillclust: [          3]\n",
      "[clustimage] >DEBUG> clustlabx: [[3 2 1 2 3 1 1 3 3 3 2 3 1 1]]\n",
      "[clustimage] >INFO> Compute dendrogram threshold.\n",
      "[clustimage] >INFO> Optimal number clusters detected: [3].\n",
      "[clustimage] >INFO> Fin.\n"
     ]
    },
    {
     "name": "stdout",
     "output_type": "stream",
     "text": [
      "name: image_viml_759.png, preds: [1, 2, 0, 2, 1, 0, 0, 1, 1, 1, 2, 1, 0, 0], total boxes in : 14\n",
      "[pca] >Column labels are auto-completed.\n",
      "[pca] >The PCA reduction is performed to capture [95.0%] explained variance using the [2400] columns of the input data.\n",
      "[pca] >Fit using PCA.\n",
      "[pca] >Compute loadings and PCs.\n",
      "[pca] >Compute explained variance.\n",
      "[pca] >Number of components is [12] that covers the [95.00%] explained variance.\n",
      "[pca] >The PCA reduction is performed on the [2400] columns of the input dataframe.\n",
      "[pca] >Fit using PCA.\n",
      "[pca] >Compute loadings and PCs.\n"
     ]
    },
    {
     "name": "stderr",
     "output_type": "stream",
     "text": [
      "[clustimage] >INFO> Saving data in memory.\n",
      "[clustimage] >INFO> Fit with method=[agglomerative], metric=[euclidean], linkage=[ward]\n",
      "[clustimage] >INFO> Evaluate using silhouette.\n",
      "[clusteval] >INFO: 100%|█████████████████████████████████████████████████████████████████| 1/1 [00:00<00:00, 761.91it/s]\n",
      "[clustimage] >DEBUG> [[3 2 2 1 3 3 1 1 1 1 3 1 1 1 3 2 3]]\n",
      "[clustimage] >DEBUG> Iloc: [ True]\n",
      "[clustimage] >DEBUG> silscores: [    0.20176]\n",
      "[clustimage] >DEBUG> sillclust: [          3]\n",
      "[clustimage] >DEBUG> clustlabx: [[3 2 2 1 3 3 1 1 1 1 3 1 1 1 3 2 3]]\n",
      "[clustimage] >INFO> Compute dendrogram threshold.\n",
      "[clustimage] >INFO> Optimal number clusters detected: [3].\n",
      "[clustimage] >INFO> Fin.\n"
     ]
    },
    {
     "name": "stdout",
     "output_type": "stream",
     "text": [
      "name: image_viml_761.png, preds: [1, 2, 2, 0, 1, 1, 0, 0, 0, 0, 1, 0, 0, 0, 1, 2, 1], total boxes in : 17\n",
      "[pca] >Column labels are auto-completed.\n",
      "[pca] >The PCA reduction is performed to capture [95.0%] explained variance using the [2400] columns of the input data.\n",
      "[pca] >Fit using PCA.\n",
      "[pca] >Compute loadings and PCs.\n",
      "[pca] >Compute explained variance.\n",
      "[pca] >Number of components is [8] that covers the [95.00%] explained variance.\n",
      "[pca] >The PCA reduction is performed on the [2400] columns of the input dataframe.\n",
      "[pca] >Fit using PCA.\n",
      "[pca] >Compute loadings and PCs.\n"
     ]
    },
    {
     "name": "stderr",
     "output_type": "stream",
     "text": [
      "[clustimage] >INFO> Saving data in memory.\n",
      "[clustimage] >INFO> Fit with method=[agglomerative], metric=[euclidean], linkage=[ward]\n",
      "[clustimage] >INFO> Evaluate using silhouette.\n",
      "[clusteval] >INFO: 100%|█████████████████████████████████████████████████████████████████| 1/1 [00:00<00:00, 808.62it/s]\n",
      "[clustimage] >DEBUG> [[1 1 1 1 1 2 2 2 2 2 2]]\n",
      "[clustimage] >DEBUG> Iloc: [ True]\n",
      "[clustimage] >DEBUG> silscores: [    0.28953]\n",
      "[clustimage] >DEBUG> sillclust: [          2]\n",
      "[clustimage] >DEBUG> clustlabx: [[1 1 1 1 1 2 2 2 2 2 2]]\n",
      "[clustimage] >INFO> Compute dendrogram threshold.\n",
      "[clustimage] >INFO> Optimal number clusters detected: [2].\n",
      "[clustimage] >INFO> Fin.\n"
     ]
    },
    {
     "name": "stdout",
     "output_type": "stream",
     "text": [
      "name: image_viml_766.png, preds: [1, 1, 1, 1, 1, 0, 0, 0, 0, 0, 0], total boxes in : 11\n",
      "[pca] >Column labels are auto-completed.\n",
      "[pca] >The PCA reduction is performed to capture [95.0%] explained variance using the [2400] columns of the input data.\n",
      "[pca] >Fit using PCA.\n",
      "[pca] >Compute loadings and PCs.\n",
      "[pca] >Compute explained variance.\n",
      "[pca] >Number of components is [5] that covers the [95.00%] explained variance.\n",
      "[pca] >The PCA reduction is performed on the [2400] columns of the input dataframe.\n",
      "[pca] >Fit using PCA.\n",
      "[pca] >Compute loadings and PCs.\n"
     ]
    },
    {
     "name": "stderr",
     "output_type": "stream",
     "text": [
      "[clustimage] >INFO> Saving data in memory.\n",
      "[clustimage] >INFO> Fit with method=[agglomerative], metric=[euclidean], linkage=[ward]\n",
      "[clustimage] >INFO> Evaluate using silhouette.\n",
      "[clusteval] >INFO: 100%|█████████████████████████████████████████████████████████████████| 1/1 [00:00<00:00, 868.57it/s]\n",
      "[clustimage] >DEBUG> [[1 1 2 3 2 1 1]]\n",
      "[clustimage] >DEBUG> Iloc: [ True]\n",
      "[clustimage] >DEBUG> silscores: [      0.271]\n",
      "[clustimage] >DEBUG> sillclust: [          3]\n",
      "[clustimage] >DEBUG> clustlabx: [[1 1 2 3 2 1 1]]\n",
      "[clustimage] >INFO> Compute dendrogram threshold.\n",
      "[clustimage] >INFO> Optimal number clusters detected: [3].\n",
      "[clustimage] >INFO> Fin.\n"
     ]
    },
    {
     "name": "stdout",
     "output_type": "stream",
     "text": [
      "name: image_viml_774.png, preds: [0, 0, 1, 2, 1, 0, 0], total boxes in : 7\n",
      "[pca] >Column labels are auto-completed.\n",
      "[pca] >The PCA reduction is performed to capture [95.0%] explained variance using the [2400] columns of the input data.\n",
      "[pca] >Fit using PCA.\n",
      "[pca] >Compute loadings and PCs.\n",
      "[pca] >Compute explained variance.\n",
      "[pca] >Number of components is [12] that covers the [95.00%] explained variance.\n",
      "[pca] >The PCA reduction is performed on the [2400] columns of the input dataframe.\n",
      "[pca] >Fit using PCA.\n",
      "[pca] >Compute loadings and PCs.\n"
     ]
    },
    {
     "name": "stderr",
     "output_type": "stream",
     "text": [
      "[clustimage] >INFO> Saving data in memory.\n",
      "[clustimage] >INFO> Fit with method=[agglomerative], metric=[euclidean], linkage=[ward]\n",
      "[clustimage] >INFO> Evaluate using silhouette.\n",
      "[clusteval] >INFO: 100%|█████████████████████████████████████████████████████████████████| 1/1 [00:00<00:00, 740.65it/s]\n",
      "[clustimage] >DEBUG> [[1 1 1 1 1 1 1 1 1 3 1 3 3 2 3 3 2]]\n",
      "[clustimage] >DEBUG> Iloc: [ True]\n",
      "[clustimage] >DEBUG> silscores: [    0.26356]\n",
      "[clustimage] >DEBUG> sillclust: [          3]\n",
      "[clustimage] >DEBUG> clustlabx: [[1 1 1 1 1 1 1 1 1 3 1 3 3 2 3 3 2]]\n",
      "[clustimage] >INFO> Compute dendrogram threshold.\n",
      "[clustimage] >INFO> Optimal number clusters detected: [3].\n",
      "[clustimage] >INFO> Fin.\n"
     ]
    },
    {
     "name": "stdout",
     "output_type": "stream",
     "text": [
      "name: image_viml_779.png, preds: [1, 1, 1, 1, 1, 1, 1, 1, 1, 0, 1, 0, 0, 2, 0, 0, 2], total boxes in : 17\n",
      "[pca] >Column labels are auto-completed.\n",
      "[pca] >The PCA reduction is performed to capture [95.0%] explained variance using the [2400] columns of the input data.\n",
      "[pca] >Fit using PCA.\n",
      "[pca] >Compute loadings and PCs.\n",
      "[pca] >Compute explained variance.\n",
      "[pca] >Number of components is [8] that covers the [95.00%] explained variance.\n",
      "[pca] >The PCA reduction is performed on the [2400] columns of the input dataframe.\n",
      "[pca] >Fit using PCA.\n",
      "[pca] >Compute loadings and PCs.\n"
     ]
    },
    {
     "name": "stderr",
     "output_type": "stream",
     "text": [
      "[clustimage] >INFO> Saving data in memory.\n",
      "[clustimage] >INFO> Fit with method=[agglomerative], metric=[euclidean], linkage=[ward]\n",
      "[clustimage] >INFO> Evaluate using silhouette.\n",
      "[clusteval] >INFO: 100%|█████████████████████████████████████████████████████████████████| 1/1 [00:00<00:00, 632.15it/s]\n",
      "[clustimage] >DEBUG> [[1 2 1 2 3 1 1 1 3 2 2 1]]\n",
      "[clustimage] >DEBUG> Iloc: [ True]\n",
      "[clustimage] >DEBUG> silscores: [    0.34588]\n",
      "[clustimage] >DEBUG> sillclust: [          3]\n",
      "[clustimage] >DEBUG> clustlabx: [[1 2 1 2 3 1 1 1 3 2 2 1]]\n",
      "[clustimage] >INFO> Compute dendrogram threshold.\n",
      "[clustimage] >INFO> Optimal number clusters detected: [3].\n",
      "[clustimage] >INFO> Fin.\n"
     ]
    },
    {
     "name": "stdout",
     "output_type": "stream",
     "text": [
      "name: image_viml_785.png, preds: [1, 0, 1, 0, 2, 1, 1, 1, 2, 0, 0, 1], total boxes in : 12\n",
      "[pca] >Column labels are auto-completed.\n",
      "[pca] >The PCA reduction is performed to capture [95.0%] explained variance using the [2400] columns of the input data.\n",
      "[pca] >Fit using PCA.\n",
      "[pca] >Compute loadings and PCs.\n",
      "[pca] >Compute explained variance.\n",
      "[pca] >Number of components is [9] that covers the [95.00%] explained variance.\n",
      "[pca] >The PCA reduction is performed on the [2400] columns of the input dataframe.\n",
      "[pca] >Fit using PCA.\n",
      "[pca] >Compute loadings and PCs.\n"
     ]
    },
    {
     "name": "stderr",
     "output_type": "stream",
     "text": [
      "[clustimage] >INFO> Saving data in memory.\n",
      "[clustimage] >INFO> Fit with method=[agglomerative], metric=[euclidean], linkage=[ward]\n",
      "[clustimage] >INFO> Evaluate using silhouette.\n",
      "[clusteval] >INFO: 100%|█████████████████████████████████████████████████████████████████| 1/1 [00:00<00:00, 650.58it/s]\n",
      "[clustimage] >DEBUG> [[1 1 1 1 2 3 2 2 3 1 3 3 1 3]]\n",
      "[clustimage] >DEBUG> Iloc: [ True]\n",
      "[clustimage] >DEBUG> silscores: [    0.31789]\n",
      "[clustimage] >DEBUG> sillclust: [          3]\n",
      "[clustimage] >DEBUG> clustlabx: [[1 1 1 1 2 3 2 2 3 1 3 3 1 3]]\n",
      "[clustimage] >INFO> Compute dendrogram threshold.\n",
      "[clustimage] >INFO> Optimal number clusters detected: [3].\n",
      "[clustimage] >INFO> Fin.\n"
     ]
    },
    {
     "name": "stdout",
     "output_type": "stream",
     "text": [
      "name: image_viml_793.png, preds: [0, 0, 0, 0, 2, 1, 2, 2, 1, 0, 1, 1, 0, 1], total boxes in : 14\n",
      "[pca] >Column labels are auto-completed.\n",
      "[pca] >The PCA reduction is performed to capture [95.0%] explained variance using the [2400] columns of the input data.\n",
      "[pca] >Fit using PCA.\n",
      "[pca] >Compute loadings and PCs.\n",
      "[pca] >Compute explained variance.\n",
      "[pca] >Number of components is [11] that covers the [95.00%] explained variance.\n",
      "[pca] >The PCA reduction is performed on the [2400] columns of the input dataframe.\n",
      "[pca] >Fit using PCA.\n",
      "[pca] >Compute loadings and PCs.\n"
     ]
    },
    {
     "name": "stderr",
     "output_type": "stream",
     "text": [
      "[clustimage] >INFO> Saving data in memory.\n",
      "[clustimage] >INFO> Fit with method=[agglomerative], metric=[euclidean], linkage=[ward]\n",
      "[clustimage] >INFO> Evaluate using silhouette.\n",
      "[clusteval] >INFO: 100%|█████████████████████████████████████████████████████████████████| 1/1 [00:00<00:00, 745.26it/s]\n",
      "[clustimage] >DEBUG> [[2 2 3 2 2 2 2 1 1 1 2 1 1 1 2]]\n",
      "[clustimage] >DEBUG> Iloc: [ True]\n",
      "[clustimage] >DEBUG> silscores: [    0.28199]\n",
      "[clustimage] >DEBUG> sillclust: [          3]\n",
      "[clustimage] >DEBUG> clustlabx: [[2 2 3 2 2 2 2 1 1 1 2 1 1 1 2]]\n",
      "[clustimage] >INFO> Compute dendrogram threshold.\n",
      "[clustimage] >INFO> Optimal number clusters detected: [3].\n",
      "[clustimage] >INFO> Fin.\n"
     ]
    },
    {
     "name": "stdout",
     "output_type": "stream",
     "text": [
      "name: image_viml_813.png, preds: [1, 1, 2, 1, 1, 1, 1, 0, 0, 0, 1, 0, 0, 0, 1], total boxes in : 15\n",
      "[pca] >Column labels are auto-completed.\n",
      "[pca] >The PCA reduction is performed to capture [95.0%] explained variance using the [2400] columns of the input data.\n",
      "[pca] >Fit using PCA.\n",
      "[pca] >Compute loadings and PCs.\n",
      "[pca] >Compute explained variance.\n",
      "[pca] >Number of components is [12] that covers the [95.00%] explained variance.\n",
      "[pca] >The PCA reduction is performed on the [2400] columns of the input dataframe.\n",
      "[pca] >Fit using PCA.\n",
      "[pca] >Compute loadings and PCs.\n"
     ]
    },
    {
     "name": "stderr",
     "output_type": "stream",
     "text": [
      "[clustimage] >INFO> Saving data in memory.\n",
      "[clustimage] >INFO> Fit with method=[agglomerative], metric=[euclidean], linkage=[ward]\n",
      "[clustimage] >INFO> Evaluate using silhouette.\n",
      "[clusteval] >INFO: 100%|█████████████████████████████████████████████████████████████████| 1/1 [00:00<00:00, 634.16it/s]\n",
      "[clustimage] >DEBUG> [[1 3 3 1 2 3 3 3 2 3 1 1 4 1 1 1]]\n",
      "[clustimage] >DEBUG> Iloc: [ True]\n",
      "[clustimage] >DEBUG> silscores: [     0.2812]\n",
      "[clustimage] >DEBUG> sillclust: [          4]\n",
      "[clustimage] >DEBUG> clustlabx: [[1 3 3 1 2 3 3 3 2 3 1 1 4 1 1 1]]\n",
      "[clustimage] >INFO> Compute dendrogram threshold.\n",
      "[clustimage] >INFO> Optimal number clusters detected: [4].\n",
      "[clustimage] >INFO> Fin.\n"
     ]
    },
    {
     "name": "stdout",
     "output_type": "stream",
     "text": [
      "name: image_viml_814.png, preds: [0, 1, 1, 0, 2, 1, 1, 1, 2, 1, 0, 0, 3, 0, 0, 0], total boxes in : 16\n",
      "[pca] >Column labels are auto-completed.\n",
      "[pca] >The PCA reduction is performed to capture [95.0%] explained variance using the [2400] columns of the input data.\n",
      "[pca] >Fit using PCA.\n",
      "[pca] >Compute loadings and PCs.\n",
      "[pca] >Compute explained variance.\n",
      "[pca] >Number of components is [12] that covers the [95.00%] explained variance.\n",
      "[pca] >The PCA reduction is performed on the [2400] columns of the input dataframe.\n",
      "[pca] >Fit using PCA.\n",
      "[pca] >Compute loadings and PCs.\n"
     ]
    },
    {
     "name": "stderr",
     "output_type": "stream",
     "text": [
      "[clustimage] >INFO> Saving data in memory.\n",
      "[clustimage] >INFO> Fit with method=[agglomerative], metric=[euclidean], linkage=[ward]\n",
      "[clustimage] >INFO> Evaluate using silhouette.\n",
      "[clusteval] >INFO: 100%|█████████████████████████████████████████████████████████████████| 1/1 [00:00<00:00, 537.87it/s]\n",
      "[clustimage] >DEBUG> [[2 2 1 1 3 1 2 1 1 2 1 3 1 3 3 3 1 3]]\n",
      "[clustimage] >DEBUG> Iloc: [ True]\n",
      "[clustimage] >DEBUG> silscores: [    0.26845]\n",
      "[clustimage] >DEBUG> sillclust: [          3]\n",
      "[clustimage] >DEBUG> clustlabx: [[2 2 1 1 3 1 2 1 1 2 1 3 1 3 3 3 1 3]]\n",
      "[clustimage] >INFO> Compute dendrogram threshold.\n",
      "[clustimage] >INFO> Optimal number clusters detected: [3].\n",
      "[clustimage] >INFO> Fin.\n"
     ]
    },
    {
     "name": "stdout",
     "output_type": "stream",
     "text": [
      "name: image_vimp_499.png, preds: [2, 2, 1, 1, 0, 1, 2, 1, 1, 2, 1, 0, 1, 0, 0, 0, 1, 0], total boxes in : 18\n",
      "[pca] >Column labels are auto-completed.\n",
      "[pca] >The PCA reduction is performed to capture [95.0%] explained variance using the [2400] columns of the input data.\n",
      "[pca] >Fit using PCA.\n",
      "[pca] >Compute loadings and PCs.\n",
      "[pca] >Compute explained variance.\n",
      "[pca] >Number of components is [11] that covers the [95.00%] explained variance.\n",
      "[pca] >The PCA reduction is performed on the [2400] columns of the input dataframe.\n",
      "[pca] >Fit using PCA.\n",
      "[pca] >Compute loadings and PCs.\n"
     ]
    },
    {
     "name": "stderr",
     "output_type": "stream",
     "text": [
      "[clustimage] >INFO> Saving data in memory.\n",
      "[clustimage] >INFO> Fit with method=[agglomerative], metric=[euclidean], linkage=[ward]\n",
      "[clustimage] >INFO> Evaluate using silhouette.\n",
      "[clusteval] >INFO: 100%|█████████████████████████████████████████████████████████████████| 1/1 [00:00<00:00, 750.59it/s]\n",
      "[clustimage] >DEBUG> [[2 1 2 1 2 2 1 1 2 2 1 2 3 2 1]]\n",
      "[clustimage] >DEBUG> Iloc: [ True]\n",
      "[clustimage] >DEBUG> silscores: [    0.29705]\n",
      "[clustimage] >DEBUG> sillclust: [          3]\n",
      "[clustimage] >DEBUG> clustlabx: [[2 1 2 1 2 2 1 1 2 2 1 2 3 2 1]]\n",
      "[clustimage] >INFO> Compute dendrogram threshold.\n",
      "[clustimage] >INFO> Optimal number clusters detected: [3].\n",
      "[clustimage] >INFO> Fin.\n"
     ]
    },
    {
     "name": "stdout",
     "output_type": "stream",
     "text": [
      "name: image_vimp_507.png, preds: [0, 1, 0, 1, 0, 0, 1, 1, 0, 0, 1, 0, 2, 0, 1], total boxes in : 15\n",
      "[pca] >Column labels are auto-completed.\n",
      "[pca] >The PCA reduction is performed to capture [95.0%] explained variance using the [2400] columns of the input data.\n",
      "[pca] >Fit using PCA.\n",
      "[pca] >Compute loadings and PCs.\n",
      "[pca] >Compute explained variance.\n",
      "[pca] >Number of components is [7] that covers the [95.00%] explained variance.\n",
      "[pca] >The PCA reduction is performed on the [2400] columns of the input dataframe.\n",
      "[pca] >Fit using PCA.\n",
      "[pca] >Compute loadings and PCs.\n"
     ]
    },
    {
     "name": "stderr",
     "output_type": "stream",
     "text": [
      "[clustimage] >INFO> Saving data in memory.\n",
      "[clustimage] >INFO> Fit with method=[agglomerative], metric=[euclidean], linkage=[ward]\n",
      "[clustimage] >INFO> Evaluate using silhouette.\n",
      "[clusteval] >INFO: 100%|█████████████████████████████████████████████████████████████████| 1/1 [00:00<00:00, 799.68it/s]\n",
      "[clustimage] >DEBUG> [[3 1 1 3 1 3 3 1 2 1 2]]\n",
      "[clustimage] >DEBUG> Iloc: [ True]\n",
      "[clustimage] >DEBUG> silscores: [    0.34426]\n",
      "[clustimage] >DEBUG> sillclust: [          3]\n",
      "[clustimage] >DEBUG> clustlabx: [[3 1 1 3 1 3 3 1 2 1 2]]\n",
      "[clustimage] >INFO> Compute dendrogram threshold.\n",
      "[clustimage] >INFO> Optimal number clusters detected: [3].\n",
      "[clustimage] >INFO> Fin.\n"
     ]
    },
    {
     "name": "stdout",
     "output_type": "stream",
     "text": [
      "name: image_vimp_515.png, preds: [0, 1, 1, 0, 1, 0, 0, 1, 2, 1, 2], total boxes in : 11\n",
      "[pca] >Column labels are auto-completed.\n",
      "[pca] >The PCA reduction is performed to capture [95.0%] explained variance using the [2400] columns of the input data.\n",
      "[pca] >Fit using PCA.\n",
      "[pca] >Compute loadings and PCs.\n",
      "[pca] >Compute explained variance.\n",
      "[pca] >Number of components is [9] that covers the [95.00%] explained variance.\n",
      "[pca] >The PCA reduction is performed on the [2400] columns of the input dataframe.\n",
      "[pca] >Fit using PCA.\n",
      "[pca] >Compute loadings and PCs.\n"
     ]
    },
    {
     "name": "stderr",
     "output_type": "stream",
     "text": [
      "[clustimage] >INFO> Saving data in memory.\n",
      "[clustimage] >INFO> Fit with method=[agglomerative], metric=[euclidean], linkage=[ward]\n",
      "[clustimage] >INFO> Evaluate using silhouette.\n",
      "[clusteval] >INFO: 100%|█████████████████████████████████████████████████████████████████| 1/1 [00:00<00:00, 859.49it/s]\n",
      "[clustimage] >DEBUG> [[2 2 2 3 1 3 3 1 2 3 2 1 1]]\n",
      "[clustimage] >DEBUG> Iloc: [ True]\n",
      "[clustimage] >DEBUG> silscores: [    0.24433]\n",
      "[clustimage] >DEBUG> sillclust: [          3]\n",
      "[clustimage] >DEBUG> clustlabx: [[2 2 2 3 1 3 3 1 2 3 2 1 1]]\n",
      "[clustimage] >INFO> Compute dendrogram threshold.\n",
      "[clustimage] >INFO> Optimal number clusters detected: [3].\n",
      "[clustimage] >INFO> Fin.\n"
     ]
    },
    {
     "name": "stdout",
     "output_type": "stream",
     "text": [
      "name: image_vimp_528.png, preds: [1, 1, 1, 0, 2, 0, 0, 2, 1, 0, 1, 2, 2], total boxes in : 13\n",
      "[pca] >Column labels are auto-completed.\n",
      "[pca] >The PCA reduction is performed to capture [95.0%] explained variance using the [2400] columns of the input data.\n",
      "[pca] >Fit using PCA.\n",
      "[pca] >Compute loadings and PCs.\n",
      "[pca] >Compute explained variance.\n",
      "[pca] >Number of components is [9] that covers the [95.00%] explained variance.\n",
      "[pca] >The PCA reduction is performed on the [2400] columns of the input dataframe.\n",
      "[pca] >Fit using PCA.\n",
      "[pca] >Compute loadings and PCs.\n"
     ]
    },
    {
     "name": "stderr",
     "output_type": "stream",
     "text": [
      "[clustimage] >INFO> Saving data in memory.\n",
      "[clustimage] >INFO> Fit with method=[agglomerative], metric=[euclidean], linkage=[ward]\n",
      "[clustimage] >INFO> Evaluate using silhouette.\n",
      "[clusteval] >INFO: 100%|█████████████████████████████████████████████████████████████████| 1/1 [00:00<00:00, 858.43it/s]\n",
      "[clustimage] >DEBUG> [[4 1 4 3 3 1 4 1 1 4 3 2]]\n",
      "[clustimage] >DEBUG> Iloc: [ True]\n",
      "[clustimage] >DEBUG> silscores: [    0.20919]\n",
      "[clustimage] >DEBUG> sillclust: [          4]\n",
      "[clustimage] >DEBUG> clustlabx: [[4 1 4 3 3 1 4 1 1 4 3 2]]\n",
      "[clustimage] >INFO> Compute dendrogram threshold.\n",
      "[clustimage] >INFO> Optimal number clusters detected: [4].\n",
      "[clustimage] >INFO> Fin.\n"
     ]
    },
    {
     "name": "stdout",
     "output_type": "stream",
     "text": [
      "name: image_vimp_538.png, preds: [0, 1, 0, 2, 2, 1, 0, 1, 1, 0, 2, 3], total boxes in : 12\n",
      "[pca] >Column labels are auto-completed.\n",
      "[pca] >The PCA reduction is performed to capture [95.0%] explained variance using the [2400] columns of the input data.\n",
      "[pca] >Fit using PCA.\n",
      "[pca] >Compute loadings and PCs.\n",
      "[pca] >Compute explained variance.\n",
      "[pca] >Number of components is [9] that covers the [95.00%] explained variance.\n",
      "[pca] >The PCA reduction is performed on the [2400] columns of the input dataframe.\n",
      "[pca] >Fit using PCA.\n",
      "[pca] >Compute loadings and PCs.\n"
     ]
    },
    {
     "name": "stderr",
     "output_type": "stream",
     "text": [
      "[clustimage] >INFO> Saving data in memory.\n",
      "[clustimage] >INFO> Fit with method=[agglomerative], metric=[euclidean], linkage=[ward]\n",
      "[clustimage] >INFO> Evaluate using silhouette.\n",
      "[clusteval] >INFO: 100%|█████████████████████████████████████████████████████████████████| 1/1 [00:00<00:00, 854.59it/s]\n",
      "[clustimage] >DEBUG> [[1 2 2 3 2 1 1 3 2 4 1 1 1 1 2]]\n",
      "[clustimage] >DEBUG> Iloc: [ True]\n",
      "[clustimage] >DEBUG> silscores: [    0.26806]\n",
      "[clustimage] >DEBUG> sillclust: [          4]\n",
      "[clustimage] >DEBUG> clustlabx: [[1 2 2 3 2 1 1 3 2 4 1 1 1 1 2]]\n",
      "[clustimage] >INFO> Compute dendrogram threshold.\n",
      "[clustimage] >INFO> Optimal number clusters detected: [4].\n",
      "[clustimage] >INFO> Fin.\n"
     ]
    },
    {
     "name": "stdout",
     "output_type": "stream",
     "text": [
      "name: image_vimp_546.png, preds: [1, 0, 0, 2, 0, 1, 1, 2, 0, 3, 1, 1, 1, 1, 0], total boxes in : 15\n",
      "[pca] >Column labels are auto-completed.\n",
      "[pca] >The PCA reduction is performed to capture [95.0%] explained variance using the [2400] columns of the input data.\n",
      "[pca] >Fit using PCA.\n",
      "[pca] >Compute loadings and PCs.\n",
      "[pca] >Compute explained variance.\n",
      "[pca] >Number of components is [9] that covers the [95.00%] explained variance.\n",
      "[pca] >The PCA reduction is performed on the [2400] columns of the input dataframe.\n",
      "[pca] >Fit using PCA.\n",
      "[pca] >Compute loadings and PCs.\n"
     ]
    },
    {
     "name": "stderr",
     "output_type": "stream",
     "text": [
      "[clustimage] >INFO> Saving data in memory.\n",
      "[clustimage] >INFO> Fit with method=[agglomerative], metric=[euclidean], linkage=[ward]\n",
      "[clustimage] >INFO> Evaluate using silhouette.\n",
      "[clusteval] >INFO: 100%|█████████████████████████████████████████████████████████████████| 1/1 [00:00<00:00, 780.92it/s]\n",
      "[clustimage] >DEBUG> [[3 1 1 2 2 1 2 1 1 1 2 1 2]]\n",
      "[clustimage] >DEBUG> Iloc: [ True]\n",
      "[clustimage] >DEBUG> silscores: [    0.37247]\n",
      "[clustimage] >DEBUG> sillclust: [          3]\n",
      "[clustimage] >DEBUG> clustlabx: [[3 1 1 2 2 1 2 1 1 1 2 1 2]]\n",
      "[clustimage] >INFO> Compute dendrogram threshold.\n",
      "[clustimage] >INFO> Optimal number clusters detected: [3].\n",
      "[clustimage] >INFO> Fin.\n"
     ]
    },
    {
     "name": "stdout",
     "output_type": "stream",
     "text": [
      "name: image_vimp_547.png, preds: [2, 1, 1, 0, 0, 1, 0, 1, 1, 1, 0, 1, 0], total boxes in : 13\n",
      "[pca] >Column labels are auto-completed.\n",
      "[pca] >The PCA reduction is performed to capture [95.0%] explained variance using the [2400] columns of the input data.\n",
      "[pca] >Fit using PCA.\n",
      "[pca] >Compute loadings and PCs.\n",
      "[pca] >Compute explained variance.\n",
      "[pca] >Number of components is [11] that covers the [95.00%] explained variance.\n",
      "[pca] >The PCA reduction is performed on the [2400] columns of the input dataframe.\n",
      "[pca] >Fit using PCA.\n",
      "[pca] >Compute loadings and PCs.\n"
     ]
    },
    {
     "name": "stderr",
     "output_type": "stream",
     "text": [
      "[clustimage] >INFO> Saving data in memory.\n",
      "[clustimage] >INFO> Fit with method=[agglomerative], metric=[euclidean], linkage=[ward]\n",
      "[clustimage] >INFO> Evaluate using silhouette.\n",
      "[clusteval] >INFO: 100%|█████████████████████████████████████████████████████████████████| 1/1 [00:00<00:00, 656.59it/s]\n",
      "[clustimage] >DEBUG> [[2 2 1 2 4 3 1 3 1 3 1 1 3 2 1 1 3 2]]\n",
      "[clustimage] >DEBUG> Iloc: [ True]\n",
      "[clustimage] >DEBUG> silscores: [    0.34066]\n",
      "[clustimage] >DEBUG> sillclust: [          4]\n",
      "[clustimage] >DEBUG> clustlabx: [[2 2 1 2 4 3 1 3 1 3 1 1 3 2 1 1 3 2]]\n",
      "[clustimage] >INFO> Compute dendrogram threshold.\n",
      "[clustimage] >INFO> Optimal number clusters detected: [4].\n",
      "[clustimage] >INFO> Fin.\n"
     ]
    },
    {
     "name": "stdout",
     "output_type": "stream",
     "text": [
      "name: image_vimp_556.png, preds: [2, 2, 1, 2, 3, 0, 1, 0, 1, 0, 1, 1, 0, 2, 1, 1, 0, 2], total boxes in : 18\n",
      "[pca] >Column labels are auto-completed.\n",
      "[pca] >The PCA reduction is performed to capture [95.0%] explained variance using the [2400] columns of the input data.\n",
      "[pca] >Fit using PCA.\n",
      "[pca] >Compute loadings and PCs.\n",
      "[pca] >Compute explained variance.\n",
      "[pca] >Number of components is [9] that covers the [95.00%] explained variance.\n",
      "[pca] >The PCA reduction is performed on the [2400] columns of the input dataframe.\n",
      "[pca] >Fit using PCA.\n",
      "[pca] >Compute loadings and PCs.\n"
     ]
    },
    {
     "name": "stderr",
     "output_type": "stream",
     "text": [
      "[clustimage] >INFO> Saving data in memory.\n",
      "[clustimage] >INFO> Fit with method=[agglomerative], metric=[euclidean], linkage=[ward]\n",
      "[clustimage] >INFO> Evaluate using silhouette.\n",
      "[clusteval] >INFO: 100%|█████████████████████████████████████████████████████████████████| 1/1 [00:00<00:00, 805.51it/s]\n",
      "[clustimage] >DEBUG> [[3 3 3 1 3 3 1 3 3 1 1 2 2 2]]\n",
      "[clustimage] >DEBUG> Iloc: [ True]\n",
      "[clustimage] >DEBUG> silscores: [     0.3755]\n",
      "[clustimage] >DEBUG> sillclust: [          3]\n",
      "[clustimage] >DEBUG> clustlabx: [[3 3 3 1 3 3 1 3 3 1 1 2 2 2]]\n",
      "[clustimage] >INFO> Compute dendrogram threshold.\n",
      "[clustimage] >INFO> Optimal number clusters detected: [3].\n",
      "[clustimage] >INFO> Fin.\n"
     ]
    },
    {
     "name": "stdout",
     "output_type": "stream",
     "text": [
      "name: image_vimp_566.png, preds: [0, 0, 0, 1, 0, 0, 1, 0, 0, 1, 1, 2, 2, 2], total boxes in : 14\n",
      "[pca] >Column labels are auto-completed.\n",
      "[pca] >The PCA reduction is performed to capture [95.0%] explained variance using the [2400] columns of the input data.\n",
      "[pca] >Fit using PCA.\n",
      "[pca] >Compute loadings and PCs.\n",
      "[pca] >Compute explained variance.\n",
      "[pca] >Number of components is [9] that covers the [95.00%] explained variance.\n",
      "[pca] >The PCA reduction is performed on the [2400] columns of the input dataframe.\n",
      "[pca] >Fit using PCA.\n",
      "[pca] >Compute loadings and PCs.\n"
     ]
    },
    {
     "name": "stderr",
     "output_type": "stream",
     "text": [
      "[clustimage] >INFO> Saving data in memory.\n",
      "[clustimage] >INFO> Fit with method=[agglomerative], metric=[euclidean], linkage=[ward]\n",
      "[clustimage] >INFO> Evaluate using silhouette.\n",
      "[clusteval] >INFO: 100%|█████████████████████████████████████████████████████████████████| 1/1 [00:00<00:00, 856.33it/s]\n",
      "[clustimage] >DEBUG> [[2 4 3 3 2 2 1 3 2 3 2 1]]\n",
      "[clustimage] >DEBUG> Iloc: [ True]\n",
      "[clustimage] >DEBUG> silscores: [    0.22629]\n",
      "[clustimage] >DEBUG> sillclust: [          4]\n",
      "[clustimage] >DEBUG> clustlabx: [[2 4 3 3 2 2 1 3 2 3 2 1]]\n",
      "[clustimage] >INFO> Compute dendrogram threshold.\n",
      "[clustimage] >INFO> Optimal number clusters detected: [4].\n",
      "[clustimage] >INFO> Fin.\n"
     ]
    },
    {
     "name": "stdout",
     "output_type": "stream",
     "text": [
      "name: image_vimp_571.png, preds: [0, 3, 1, 1, 0, 0, 2, 1, 0, 1, 0, 2], total boxes in : 12\n",
      "[pca] >Column labels are auto-completed.\n",
      "[pca] >The PCA reduction is performed to capture [95.0%] explained variance using the [2400] columns of the input data.\n",
      "[pca] >Fit using PCA.\n",
      "[pca] >Compute loadings and PCs.\n",
      "[pca] >Compute explained variance.\n",
      "[pca] >Number of components is [7] that covers the [95.00%] explained variance.\n",
      "[pca] >The PCA reduction is performed on the [2400] columns of the input dataframe.\n",
      "[pca] >Fit using PCA.\n",
      "[pca] >Compute loadings and PCs.\n"
     ]
    },
    {
     "name": "stderr",
     "output_type": "stream",
     "text": [
      "[clustimage] >INFO> Saving data in memory.\n",
      "[clustimage] >INFO> Fit with method=[agglomerative], metric=[euclidean], linkage=[ward]\n",
      "[clustimage] >INFO> Evaluate using silhouette.\n",
      "[clusteval] >INFO: 100%|█████████████████████████████████████████████████████████████████| 1/1 [00:00<00:00, 497.66it/s]\n",
      "[clustimage] >DEBUG> [[1 4 2 1 3 3 3 3 3 1]]\n",
      "[clustimage] >DEBUG> Iloc: [ True]\n",
      "[clustimage] >DEBUG> silscores: [     0.2682]\n",
      "[clustimage] >DEBUG> sillclust: [          4]\n",
      "[clustimage] >DEBUG> clustlabx: [[1 4 2 1 3 3 3 3 3 1]]\n",
      "[clustimage] >INFO> Compute dendrogram threshold.\n",
      "[clustimage] >INFO> Optimal number clusters detected: [4].\n",
      "[clustimage] >INFO> Fin.\n"
     ]
    },
    {
     "name": "stdout",
     "output_type": "stream",
     "text": [
      "name: image_vimp_572.png, preds: [1, 2, 3, 1, 0, 0, 0, 0, 0, 1], total boxes in : 10\n",
      "[pca] >Column labels are auto-completed.\n",
      "[pca] >The PCA reduction is performed to capture [95.0%] explained variance using the [2400] columns of the input data.\n",
      "[pca] >Fit using PCA.\n",
      "[pca] >Compute loadings and PCs.\n",
      "[pca] >Compute explained variance.\n",
      "[pca] >Number of components is [8] that covers the [95.00%] explained variance.\n",
      "[pca] >The PCA reduction is performed on the [2400] columns of the input dataframe.\n",
      "[pca] >Fit using PCA.\n",
      "[pca] >Compute loadings and PCs.\n"
     ]
    },
    {
     "name": "stderr",
     "output_type": "stream",
     "text": [
      "[clustimage] >INFO> Saving data in memory.\n",
      "[clustimage] >INFO> Fit with method=[agglomerative], metric=[euclidean], linkage=[ward]\n",
      "[clustimage] >INFO> Evaluate using silhouette.\n",
      "[clusteval] >INFO: 100%|█████████████████████████████████████████████████████████████████| 1/1 [00:00<00:00, 358.89it/s]\n",
      "[clustimage] >DEBUG> [[2 1 1 2 1 1 2 3 2 1 2 2]]\n",
      "[clustimage] >DEBUG> Iloc: [ True]\n",
      "[clustimage] >DEBUG> silscores: [    0.34128]\n",
      "[clustimage] >DEBUG> sillclust: [          3]\n",
      "[clustimage] >DEBUG> clustlabx: [[2 1 1 2 1 1 2 3 2 1 2 2]]\n",
      "[clustimage] >INFO> Compute dendrogram threshold.\n",
      "[clustimage] >INFO> Optimal number clusters detected: [3].\n",
      "[clustimage] >INFO> Fin.\n"
     ]
    },
    {
     "name": "stdout",
     "output_type": "stream",
     "text": [
      "name: image_vimp_573.png, preds: [0, 1, 1, 0, 1, 1, 0, 2, 0, 1, 0, 0], total boxes in : 12\n",
      "[pca] >Column labels are auto-completed.\n",
      "[pca] >The PCA reduction is performed to capture [95.0%] explained variance using the [2400] columns of the input data.\n",
      "[pca] >Fit using PCA.\n",
      "[pca] >Compute loadings and PCs.\n",
      "[pca] >Compute explained variance.\n",
      "[pca] >Number of components is [11] that covers the [95.00%] explained variance.\n",
      "[pca] >The PCA reduction is performed on the [2400] columns of the input dataframe.\n",
      "[pca] >Fit using PCA.\n",
      "[pca] >Compute loadings and PCs.\n"
     ]
    },
    {
     "name": "stderr",
     "output_type": "stream",
     "text": [
      "[clustimage] >INFO> Saving data in memory.\n",
      "[clustimage] >INFO> Fit with method=[agglomerative], metric=[euclidean], linkage=[ward]\n",
      "[clustimage] >INFO> Evaluate using silhouette.\n",
      "[clusteval] >INFO: 100%|█████████████████████████████████████████████████████████████████| 1/1 [00:00<00:00, 820.00it/s]\n",
      "[clustimage] >DEBUG> [[3 3 1 1 1 2 3 1 3 1 1 3 3 2 1 1]]\n",
      "[clustimage] >DEBUG> Iloc: [ True]\n",
      "[clustimage] >DEBUG> silscores: [    0.22954]\n",
      "[clustimage] >DEBUG> sillclust: [          3]\n",
      "[clustimage] >DEBUG> clustlabx: [[3 3 1 1 1 2 3 1 3 1 1 3 3 2 1 1]]\n",
      "[clustimage] >INFO> Compute dendrogram threshold.\n",
      "[clustimage] >INFO> Optimal number clusters detected: [3].\n",
      "[clustimage] >INFO> Fin.\n"
     ]
    },
    {
     "name": "stdout",
     "output_type": "stream",
     "text": [
      "name: image_vimp_575.png, preds: [0, 0, 1, 1, 1, 2, 0, 1, 0, 1, 1, 0, 0, 2, 1, 1], total boxes in : 16\n",
      "[pca] >Column labels are auto-completed.\n",
      "[pca] >The PCA reduction is performed to capture [95.0%] explained variance using the [2400] columns of the input data.\n",
      "[pca] >Fit using PCA.\n",
      "[pca] >Compute loadings and PCs.\n",
      "[pca] >Compute explained variance.\n",
      "[pca] >Number of components is [11] that covers the [95.00%] explained variance.\n",
      "[pca] >The PCA reduction is performed on the [2400] columns of the input dataframe.\n",
      "[pca] >Fit using PCA.\n",
      "[pca] >Compute loadings and PCs.\n"
     ]
    },
    {
     "name": "stderr",
     "output_type": "stream",
     "text": [
      "[clustimage] >INFO> Saving data in memory.\n",
      "[clustimage] >INFO> Fit with method=[agglomerative], metric=[euclidean], linkage=[ward]\n",
      "[clustimage] >INFO> Evaluate using silhouette.\n",
      "[clusteval] >INFO: 100%|█████████████████████████████████████████████████████████████████| 1/1 [00:00<00:00, 802.58it/s]\n",
      "[clustimage] >DEBUG> [[3 1 1 3 1 1 3 2 1 3 1 1 3 3 2]]\n",
      "[clustimage] >DEBUG> Iloc: [ True]\n",
      "[clustimage] >DEBUG> silscores: [    0.22288]\n",
      "[clustimage] >DEBUG> sillclust: [          3]\n",
      "[clustimage] >DEBUG> clustlabx: [[3 1 1 3 1 1 3 2 1 3 1 1 3 3 2]]\n",
      "[clustimage] >INFO> Compute dendrogram threshold.\n",
      "[clustimage] >INFO> Optimal number clusters detected: [3].\n",
      "[clustimage] >INFO> Fin.\n"
     ]
    },
    {
     "name": "stdout",
     "output_type": "stream",
     "text": [
      "name: image_vimp_580.png, preds: [0, 1, 1, 0, 1, 1, 0, 2, 1, 0, 1, 1, 0, 0, 2], total boxes in : 15\n",
      "[pca] >Column labels are auto-completed.\n",
      "[pca] >The PCA reduction is performed to capture [95.0%] explained variance using the [2400] columns of the input data.\n",
      "[pca] >Fit using PCA.\n",
      "[pca] >Compute loadings and PCs.\n",
      "[pca] >Compute explained variance.\n",
      "[pca] >Number of components is [11] that covers the [95.00%] explained variance.\n",
      "[pca] >The PCA reduction is performed on the [2400] columns of the input dataframe.\n",
      "[pca] >Fit using PCA.\n",
      "[pca] >Compute loadings and PCs.\n"
     ]
    },
    {
     "name": "stderr",
     "output_type": "stream",
     "text": [
      "[clustimage] >INFO> Saving data in memory.\n",
      "[clustimage] >INFO> Fit with method=[agglomerative], metric=[euclidean], linkage=[ward]\n",
      "[clustimage] >INFO> Evaluate using silhouette.\n",
      "[clusteval] >INFO: 100%|█████████████████████████████████████████████████████████████████| 1/1 [00:00<00:00, 880.79it/s]\n",
      "[clustimage] >DEBUG> [[1 2 2 1 3 1 3 1 2 2 1 1 1 1 1 2]]\n",
      "[clustimage] >DEBUG> Iloc: [ True]\n",
      "[clustimage] >DEBUG> silscores: [    0.29454]\n",
      "[clustimage] >DEBUG> sillclust: [          3]\n",
      "[clustimage] >DEBUG> clustlabx: [[1 2 2 1 3 1 3 1 2 2 1 1 1 1 1 2]]\n",
      "[clustimage] >INFO> Compute dendrogram threshold.\n",
      "[clustimage] >INFO> Optimal number clusters detected: [3].\n",
      "[clustimage] >INFO> Fin.\n"
     ]
    },
    {
     "name": "stdout",
     "output_type": "stream",
     "text": [
      "name: image_vimp_582.png, preds: [0, 1, 1, 0, 2, 0, 2, 0, 1, 1, 0, 0, 0, 0, 0, 1], total boxes in : 16\n",
      "[pca] >Column labels are auto-completed.\n",
      "[pca] >The PCA reduction is performed to capture [95.0%] explained variance using the [2400] columns of the input data.\n",
      "[pca] >Fit using PCA.\n",
      "[pca] >Compute loadings and PCs.\n",
      "[pca] >Compute explained variance.\n",
      "[pca] >Number of components is [12] that covers the [95.00%] explained variance.\n",
      "[pca] >The PCA reduction is performed on the [2400] columns of the input dataframe.\n",
      "[pca] >Fit using PCA.\n",
      "[pca] >Compute loadings and PCs.\n"
     ]
    },
    {
     "name": "stderr",
     "output_type": "stream",
     "text": [
      "[clustimage] >INFO> Saving data in memory.\n",
      "[clustimage] >INFO> Fit with method=[agglomerative], metric=[euclidean], linkage=[ward]\n",
      "[clustimage] >INFO> Evaluate using silhouette.\n",
      "[clusteval] >INFO: 100%|█████████████████████████████████████████████████████████████████| 1/1 [00:00<00:00, 848.53it/s]\n",
      "[clustimage] >DEBUG> [[2 2 1 1 2 2 1 2 3 1 1 1 1 3 1 3 2]]\n",
      "[clustimage] >DEBUG> Iloc: [ True]\n",
      "[clustimage] >DEBUG> silscores: [    0.27857]\n",
      "[clustimage] >DEBUG> sillclust: [          3]\n",
      "[clustimage] >DEBUG> clustlabx: [[2 2 1 1 2 2 1 2 3 1 1 1 1 3 1 3 2]]\n",
      "[clustimage] >INFO> Compute dendrogram threshold.\n",
      "[clustimage] >INFO> Optimal number clusters detected: [3].\n",
      "[clustimage] >INFO> Fin.\n"
     ]
    },
    {
     "name": "stdout",
     "output_type": "stream",
     "text": [
      "name: image_vimp_602.png, preds: [0, 0, 1, 1, 0, 0, 1, 0, 2, 1, 1, 1, 1, 2, 1, 2, 0], total boxes in : 17\n",
      "[pca] >Column labels are auto-completed.\n",
      "[pca] >The PCA reduction is performed to capture [95.0%] explained variance using the [2400] columns of the input data.\n",
      "[pca] >Fit using PCA.\n",
      "[pca] >Compute loadings and PCs.\n",
      "[pca] >Compute explained variance.\n",
      "[pca] >Number of components is [11] that covers the [95.00%] explained variance.\n",
      "[pca] >The PCA reduction is performed on the [2400] columns of the input dataframe.\n",
      "[pca] >Fit using PCA.\n",
      "[pca] >Compute loadings and PCs.\n"
     ]
    },
    {
     "name": "stderr",
     "output_type": "stream",
     "text": [
      "[clustimage] >INFO> Saving data in memory.\n",
      "[clustimage] >INFO> Fit with method=[agglomerative], metric=[euclidean], linkage=[ward]\n",
      "[clustimage] >INFO> Evaluate using silhouette.\n",
      "[clusteval] >INFO: 100%|█████████████████████████████████████████████████████████████████| 1/1 [00:00<00:00, 775.57it/s]\n",
      "[clustimage] >DEBUG> [[3 3 1 1 1 2 3 1 1 2 3 2 1 1 1 2 2]]\n",
      "[clustimage] >DEBUG> Iloc: [ True]\n",
      "[clustimage] >DEBUG> silscores: [    0.32367]\n",
      "[clustimage] >DEBUG> sillclust: [          3]\n",
      "[clustimage] >DEBUG> clustlabx: [[3 3 1 1 1 2 3 1 1 2 3 2 1 1 1 2 2]]\n",
      "[clustimage] >INFO> Compute dendrogram threshold.\n",
      "[clustimage] >INFO> Optimal number clusters detected: [3].\n",
      "[clustimage] >INFO> Fin.\n"
     ]
    },
    {
     "name": "stdout",
     "output_type": "stream",
     "text": [
      "name: image_vimp_603.png, preds: [2, 2, 1, 1, 1, 0, 2, 1, 1, 0, 2, 0, 1, 1, 1, 0, 0], total boxes in : 17\n",
      "[pca] >Column labels are auto-completed.\n",
      "[pca] >The PCA reduction is performed to capture [95.0%] explained variance using the [2400] columns of the input data.\n",
      "[pca] >Fit using PCA.\n",
      "[pca] >Compute loadings and PCs.\n",
      "[pca] >Compute explained variance.\n",
      "[pca] >Number of components is [12] that covers the [95.00%] explained variance.\n",
      "[pca] >The PCA reduction is performed on the [2400] columns of the input dataframe.\n",
      "[pca] >Fit using PCA.\n",
      "[pca] >Compute loadings and PCs.\n"
     ]
    },
    {
     "name": "stderr",
     "output_type": "stream",
     "text": [
      "[clustimage] >INFO> Saving data in memory.\n",
      "[clustimage] >INFO> Fit with method=[agglomerative], metric=[euclidean], linkage=[ward]\n",
      "[clustimage] >INFO> Evaluate using silhouette.\n",
      "[clusteval] >INFO: 100%|█████████████████████████████████████████████████████████████████| 1/1 [00:00<00:00, 733.01it/s]\n",
      "[clustimage] >DEBUG> [[1 2 2 3 2 1 3 3 3 3 4 1 1 2 1 1 2 3]]\n",
      "[clustimage] >DEBUG> Iloc: [ True]\n",
      "[clustimage] >DEBUG> silscores: [    0.20646]\n",
      "[clustimage] >DEBUG> sillclust: [          4]\n",
      "[clustimage] >DEBUG> clustlabx: [[1 2 2 3 2 1 3 3 3 3 4 1 1 2 1 1 2 3]]\n",
      "[clustimage] >INFO> Compute dendrogram threshold.\n",
      "[clustimage] >INFO> Optimal number clusters detected: [4].\n",
      "[clustimage] >INFO> Fin.\n"
     ]
    },
    {
     "name": "stdout",
     "output_type": "stream",
     "text": [
      "name: image_vimp_630.png, preds: [1, 2, 2, 0, 2, 1, 0, 0, 0, 0, 3, 1, 1, 2, 1, 1, 2, 0], total boxes in : 18\n",
      "[pca] >Column labels are auto-completed.\n",
      "[pca] >The PCA reduction is performed to capture [95.0%] explained variance using the [2400] columns of the input data.\n",
      "[pca] >Fit using PCA.\n",
      "[pca] >Compute loadings and PCs.\n",
      "[pca] >Compute explained variance.\n",
      "[pca] >Number of components is [7] that covers the [95.00%] explained variance.\n",
      "[pca] >The PCA reduction is performed on the [2400] columns of the input dataframe.\n",
      "[pca] >Fit using PCA.\n",
      "[pca] >Compute loadings and PCs.\n"
     ]
    },
    {
     "name": "stderr",
     "output_type": "stream",
     "text": [
      "[clustimage] >INFO> Saving data in memory.\n",
      "[clustimage] >INFO> Fit with method=[agglomerative], metric=[euclidean], linkage=[ward]\n",
      "[clustimage] >INFO> Evaluate using silhouette.\n",
      "[clusteval] >INFO: 100%|█████████████████████████████████████████████████████████████████| 1/1 [00:00<00:00, 943.18it/s]\n",
      "[clustimage] >DEBUG> [[1 2 2 2 2 1 2 1 3 1]]\n",
      "[clustimage] >DEBUG> Iloc: [ True]\n",
      "[clustimage] >DEBUG> silscores: [     0.1998]\n",
      "[clustimage] >DEBUG> sillclust: [          3]\n",
      "[clustimage] >DEBUG> clustlabx: [[1 2 2 2 2 1 2 1 3 1]]\n",
      "[clustimage] >INFO> Compute dendrogram threshold.\n",
      "[clustimage] >INFO> Optimal number clusters detected: [3].\n",
      "[clustimage] >INFO> Fin.\n"
     ]
    },
    {
     "name": "stdout",
     "output_type": "stream",
     "text": [
      "name: image_vimp_636.png, preds: [0, 1, 1, 1, 1, 0, 1, 0, 2, 0], total boxes in : 10\n",
      "[pca] >Column labels are auto-completed.\n",
      "[pca] >The PCA reduction is performed to capture [95.0%] explained variance using the [2400] columns of the input data.\n",
      "[pca] >Fit using PCA.\n",
      "[pca] >Compute loadings and PCs.\n",
      "[pca] >Compute explained variance.\n",
      "[pca] >Number of components is [12] that covers the [95.00%] explained variance.\n",
      "[pca] >The PCA reduction is performed on the [2400] columns of the input dataframe.\n",
      "[pca] >Fit using PCA.\n",
      "[pca] >Compute loadings and PCs.\n"
     ]
    },
    {
     "name": "stderr",
     "output_type": "stream",
     "text": [
      "[clustimage] >INFO> Saving data in memory.\n",
      "[clustimage] >INFO> Fit with method=[agglomerative], metric=[euclidean], linkage=[ward]\n",
      "[clustimage] >INFO> Evaluate using silhouette.\n",
      "[clusteval] >INFO: 100%|█████████████████████████████████████████████████████████████████| 1/1 [00:00<00:00, 828.75it/s]\n",
      "[clustimage] >DEBUG> [[3 2 3 3 1 1 1 1 3 3 1 2 1 2 2 1 3 2]]\n",
      "[clustimage] >DEBUG> Iloc: [ True]\n",
      "[clustimage] >DEBUG> silscores: [    0.20494]\n",
      "[clustimage] >DEBUG> sillclust: [          3]\n",
      "[clustimage] >DEBUG> clustlabx: [[3 2 3 3 1 1 1 1 3 3 1 2 1 2 2 1 3 2]]\n",
      "[clustimage] >INFO> Compute dendrogram threshold.\n",
      "[clustimage] >INFO> Optimal number clusters detected: [3].\n",
      "[clustimage] >INFO> Fin.\n"
     ]
    },
    {
     "name": "stdout",
     "output_type": "stream",
     "text": [
      "name: image_vimp_638.png, preds: [0, 2, 0, 0, 1, 1, 1, 1, 0, 0, 1, 2, 1, 2, 2, 1, 0, 2], total boxes in : 18\n",
      "[pca] >Column labels are auto-completed.\n",
      "[pca] >The PCA reduction is performed to capture [95.0%] explained variance using the [2400] columns of the input data.\n",
      "[pca] >Fit using PCA.\n",
      "[pca] >Compute loadings and PCs.\n",
      "[pca] >Compute explained variance.\n",
      "[pca] >Number of components is [10] that covers the [95.00%] explained variance.\n",
      "[pca] >The PCA reduction is performed on the [2400] columns of the input dataframe.\n",
      "[pca] >Fit using PCA.\n",
      "[pca] >Compute loadings and PCs.\n"
     ]
    },
    {
     "name": "stderr",
     "output_type": "stream",
     "text": [
      "[clustimage] >INFO> Saving data in memory.\n",
      "[clustimage] >INFO> Fit with method=[agglomerative], metric=[euclidean], linkage=[ward]\n",
      "[clustimage] >INFO> Evaluate using silhouette.\n",
      "[clusteval] >INFO: 100%|█████████████████████████████████████████████████████████████████| 1/1 [00:00<00:00, 591.00it/s]\n",
      "[clustimage] >DEBUG> [[1 2 1 2 2 2 2 2 2 2 1 2 1 3]]\n",
      "[clustimage] >DEBUG> Iloc: [ True]\n",
      "[clustimage] >DEBUG> silscores: [    0.29319]\n",
      "[clustimage] >DEBUG> sillclust: [          3]\n",
      "[clustimage] >DEBUG> clustlabx: [[1 2 1 2 2 2 2 2 2 2 1 2 1 3]]\n",
      "[clustimage] >INFO> Compute dendrogram threshold.\n",
      "[clustimage] >INFO> Optimal number clusters detected: [3].\n",
      "[clustimage] >INFO> Fin.\n"
     ]
    },
    {
     "name": "stdout",
     "output_type": "stream",
     "text": [
      "name: image_vimp_639.png, preds: [1, 0, 1, 0, 0, 0, 0, 0, 0, 0, 1, 0, 1, 2], total boxes in : 14\n",
      "[pca] >Column labels are auto-completed.\n",
      "[pca] >The PCA reduction is performed to capture [95.0%] explained variance using the [2400] columns of the input data.\n",
      "[pca] >Fit using PCA.\n",
      "[pca] >Compute loadings and PCs.\n",
      "[pca] >Compute explained variance.\n",
      "[pca] >Number of components is [12] that covers the [95.00%] explained variance.\n",
      "[pca] >The PCA reduction is performed on the [2400] columns of the input dataframe.\n",
      "[pca] >Fit using PCA.\n",
      "[pca] >Compute loadings and PCs.\n"
     ]
    },
    {
     "name": "stderr",
     "output_type": "stream",
     "text": [
      "[clustimage] >INFO> Saving data in memory.\n",
      "[clustimage] >INFO> Fit with method=[agglomerative], metric=[euclidean], linkage=[ward]\n",
      "[clustimage] >INFO> Evaluate using silhouette.\n",
      "[clusteval] >INFO: 100%|█████████████████████████████████████████████████████████████████| 1/1 [00:00<00:00, 799.37it/s]\n",
      "[clustimage] >DEBUG> [[4 4 2 4 1 3 2 4 1 1 1 3 3 4 4 1 1]]\n",
      "[clustimage] >DEBUG> Iloc: [ True]\n",
      "[clustimage] >DEBUG> silscores: [    0.20473]\n",
      "[clustimage] >DEBUG> sillclust: [          4]\n",
      "[clustimage] >DEBUG> clustlabx: [[4 4 2 4 1 3 2 4 1 1 1 3 3 4 4 1 1]]\n",
      "[clustimage] >INFO> Compute dendrogram threshold.\n",
      "[clustimage] >INFO> Optimal number clusters detected: [4].\n",
      "[clustimage] >INFO> Fin.\n"
     ]
    },
    {
     "name": "stdout",
     "output_type": "stream",
     "text": [
      "name: image_vimp_641.png, preds: [0, 0, 3, 0, 1, 2, 3, 0, 1, 1, 1, 2, 2, 0, 0, 1, 1], total boxes in : 17\n",
      "[pca] >Column labels are auto-completed.\n",
      "[pca] >The PCA reduction is performed to capture [95.0%] explained variance using the [2400] columns of the input data.\n",
      "[pca] >Fit using PCA.\n",
      "[pca] >Compute loadings and PCs.\n",
      "[pca] >Compute explained variance.\n",
      "[pca] >Number of components is [11] that covers the [95.00%] explained variance.\n",
      "[pca] >The PCA reduction is performed on the [2400] columns of the input dataframe.\n",
      "[pca] >Fit using PCA.\n",
      "[pca] >Compute loadings and PCs.\n"
     ]
    },
    {
     "name": "stderr",
     "output_type": "stream",
     "text": [
      "[clustimage] >INFO> Saving data in memory.\n",
      "[clustimage] >INFO> Fit with method=[agglomerative], metric=[euclidean], linkage=[ward]\n",
      "[clustimage] >INFO> Evaluate using silhouette.\n",
      "[clusteval] >INFO: 100%|█████████████████████████████████████████████████████████████████| 1/1 [00:00<00:00, 883.38it/s]\n",
      "[clustimage] >DEBUG> [[1 2 1 2 2 2 2 3 1 1 1 1 3 3 3 1]]\n",
      "[clustimage] >DEBUG> Iloc: [ True]\n",
      "[clustimage] >DEBUG> silscores: [    0.25742]\n",
      "[clustimage] >DEBUG> sillclust: [          3]\n",
      "[clustimage] >DEBUG> clustlabx: [[1 2 1 2 2 2 2 3 1 1 1 1 3 3 3 1]]\n",
      "[clustimage] >INFO> Compute dendrogram threshold.\n",
      "[clustimage] >INFO> Optimal number clusters detected: [3].\n",
      "[clustimage] >INFO> Fin.\n"
     ]
    },
    {
     "name": "stdout",
     "output_type": "stream",
     "text": [
      "name: image_vimp_643.png, preds: [0, 1, 0, 1, 1, 1, 1, 2, 0, 0, 0, 0, 2, 2, 2, 0], total boxes in : 16\n",
      "[pca] >Column labels are auto-completed.\n",
      "[pca] >The PCA reduction is performed to capture [95.0%] explained variance using the [2400] columns of the input data.\n",
      "[pca] >Fit using PCA.\n",
      "[pca] >Compute loadings and PCs.\n",
      "[pca] >Compute explained variance.\n",
      "[pca] >Number of components is [7] that covers the [95.00%] explained variance.\n",
      "[pca] >The PCA reduction is performed on the [2400] columns of the input dataframe.\n",
      "[pca] >Fit using PCA.\n",
      "[pca] >Compute loadings and PCs.\n"
     ]
    },
    {
     "name": "stderr",
     "output_type": "stream",
     "text": [
      "[clustimage] >INFO> Saving data in memory.\n",
      "[clustimage] >INFO> Fit with method=[agglomerative], metric=[euclidean], linkage=[ward]\n",
      "[clustimage] >INFO> Evaluate using silhouette.\n",
      "[clusteval] >INFO: 100%|████████████████████████████████████████████████████████████████| 1/1 [00:00<00:00, 1033.84it/s]\n",
      "[clustimage] >DEBUG> [[1 1 3 2 1 1 2 1 2]]\n",
      "[clustimage] >DEBUG> Iloc: [ True]\n",
      "[clustimage] >DEBUG> silscores: [    0.30174]\n",
      "[clustimage] >DEBUG> sillclust: [          3]\n",
      "[clustimage] >DEBUG> clustlabx: [[1 1 3 2 1 1 2 1 2]]\n",
      "[clustimage] >INFO> Compute dendrogram threshold.\n",
      "[clustimage] >INFO> Optimal number clusters detected: [3].\n",
      "[clustimage] >INFO> Fin.\n"
     ]
    },
    {
     "name": "stdout",
     "output_type": "stream",
     "text": [
      "name: image_vimp_657.png, preds: [0, 0, 2, 1, 0, 0, 1, 0, 1], total boxes in : 10\n",
      "[pca] >Column labels are auto-completed.\n",
      "[pca] >The PCA reduction is performed to capture [95.0%] explained variance using the [2400] columns of the input data.\n",
      "[pca] >Fit using PCA.\n",
      "[pca] >Compute loadings and PCs.\n",
      "[pca] >Compute explained variance.\n",
      "[pca] >Number of components is [10] that covers the [95.00%] explained variance.\n",
      "[pca] >The PCA reduction is performed on the [2400] columns of the input dataframe.\n",
      "[pca] >Fit using PCA.\n",
      "[pca] >Compute loadings and PCs.\n"
     ]
    },
    {
     "name": "stderr",
     "output_type": "stream",
     "text": [
      "[clustimage] >INFO> Saving data in memory.\n",
      "[clustimage] >INFO> Fit with method=[agglomerative], metric=[euclidean], linkage=[ward]\n",
      "[clustimage] >INFO> Evaluate using silhouette.\n",
      "[clusteval] >INFO: 100%|█████████████████████████████████████████████████████████████████| 1/1 [00:00<00:00, 815.54it/s]\n",
      "[clustimage] >DEBUG> [[3 3 3 3 3 1 1 1 1 1 2 2 3 1]]\n",
      "[clustimage] >DEBUG> Iloc: [ True]\n",
      "[clustimage] >DEBUG> silscores: [    0.35621]\n",
      "[clustimage] >DEBUG> sillclust: [          3]\n",
      "[clustimage] >DEBUG> clustlabx: [[3 3 3 3 3 1 1 1 1 1 2 2 3 1]]\n",
      "[clustimage] >INFO> Compute dendrogram threshold.\n",
      "[clustimage] >INFO> Optimal number clusters detected: [3].\n",
      "[clustimage] >INFO> Fin.\n"
     ]
    },
    {
     "name": "stdout",
     "output_type": "stream",
     "text": [
      "name: image_vimp_678.png, preds: [0, 0, 0, 0, 0, 1, 1, 1, 1, 1, 2, 2, 0, 1], total boxes in : 14\n",
      "total_boxes: 3104 ,  total_images: 207\n"
     ]
    }
   ],
   "source": [
    "label_df = cluster(label_df)"
   ]
  },
  {
   "cell_type": "code",
   "execution_count": 15,
   "metadata": {},
   "outputs": [
    {
     "data": {
      "text/html": [
       "<div>\n",
       "<style scoped>\n",
       "    .dataframe tbody tr th:only-of-type {\n",
       "        vertical-align: middle;\n",
       "    }\n",
       "\n",
       "    .dataframe tbody tr th {\n",
       "        vertical-align: top;\n",
       "    }\n",
       "\n",
       "    .dataframe thead th {\n",
       "        text-align: right;\n",
       "    }\n",
       "</style>\n",
       "<table border=\"1\" class=\"dataframe\">\n",
       "  <thead>\n",
       "    <tr style=\"text-align: right;\">\n",
       "      <th></th>\n",
       "      <th>class</th>\n",
       "      <th>Ball_Possesion</th>\n",
       "      <th>Ball_Reciever</th>\n",
       "      <th>team</th>\n",
       "      <th>x</th>\n",
       "      <th>y</th>\n",
       "      <th>w</th>\n",
       "      <th>h</th>\n",
       "      <th>image_name</th>\n",
       "      <th>OID</th>\n",
       "      <th>pred_class</th>\n",
       "      <th>pred_x</th>\n",
       "      <th>pred_y</th>\n",
       "      <th>pred_w</th>\n",
       "      <th>pred_h</th>\n",
       "      <th>pred_team</th>\n",
       "    </tr>\n",
       "  </thead>\n",
       "  <tbody>\n",
       "    <tr>\n",
       "      <th>0</th>\n",
       "      <td>0</td>\n",
       "      <td>0</td>\n",
       "      <td>0</td>\n",
       "      <td>0</td>\n",
       "      <td>0.015625</td>\n",
       "      <td>0.318056</td>\n",
       "      <td>0.031250</td>\n",
       "      <td>0.105556</td>\n",
       "      <td>image_vics_1344.png</td>\n",
       "      <td>1</td>\n",
       "      <td>0.0</td>\n",
       "      <td>0.015327</td>\n",
       "      <td>0.318150</td>\n",
       "      <td>0.030654</td>\n",
       "      <td>0.105568</td>\n",
       "      <td>2.0</td>\n",
       "    </tr>\n",
       "    <tr>\n",
       "      <th>1</th>\n",
       "      <td>0</td>\n",
       "      <td>1</td>\n",
       "      <td>0</td>\n",
       "      <td>1</td>\n",
       "      <td>0.361719</td>\n",
       "      <td>0.486111</td>\n",
       "      <td>0.034375</td>\n",
       "      <td>0.116667</td>\n",
       "      <td>image_vics_1344.png</td>\n",
       "      <td>2</td>\n",
       "      <td>0.0</td>\n",
       "      <td>0.366168</td>\n",
       "      <td>0.484811</td>\n",
       "      <td>0.047190</td>\n",
       "      <td>0.118679</td>\n",
       "      <td>1.0</td>\n",
       "    </tr>\n",
       "    <tr>\n",
       "      <th>2</th>\n",
       "      <td>0</td>\n",
       "      <td>0</td>\n",
       "      <td>0</td>\n",
       "      <td>0</td>\n",
       "      <td>0.331250</td>\n",
       "      <td>0.461111</td>\n",
       "      <td>0.034375</td>\n",
       "      <td>0.123611</td>\n",
       "      <td>image_vics_1344.png</td>\n",
       "      <td>3</td>\n",
       "      <td>0.0</td>\n",
       "      <td>0.331753</td>\n",
       "      <td>0.462112</td>\n",
       "      <td>0.035968</td>\n",
       "      <td>0.124128</td>\n",
       "      <td>0.0</td>\n",
       "    </tr>\n",
       "    <tr>\n",
       "      <th>3</th>\n",
       "      <td>1</td>\n",
       "      <td>NaN</td>\n",
       "      <td>NaN</td>\n",
       "      <td>NaN</td>\n",
       "      <td>0.407031</td>\n",
       "      <td>0.490278</td>\n",
       "      <td>0.010156</td>\n",
       "      <td>0.019444</td>\n",
       "      <td>image_vics_1344.png</td>\n",
       "      <td>4</td>\n",
       "      <td>1.0</td>\n",
       "      <td>0.407853</td>\n",
       "      <td>0.490848</td>\n",
       "      <td>0.010881</td>\n",
       "      <td>0.020293</td>\n",
       "      <td>NaN</td>\n",
       "    </tr>\n",
       "    <tr>\n",
       "      <th>4</th>\n",
       "      <td>0</td>\n",
       "      <td>0</td>\n",
       "      <td>0</td>\n",
       "      <td>0</td>\n",
       "      <td>0.514062</td>\n",
       "      <td>0.237500</td>\n",
       "      <td>0.014844</td>\n",
       "      <td>0.075000</td>\n",
       "      <td>image_vics_1344.png</td>\n",
       "      <td>5</td>\n",
       "      <td>0.0</td>\n",
       "      <td>0.514831</td>\n",
       "      <td>0.238202</td>\n",
       "      <td>0.015551</td>\n",
       "      <td>0.073689</td>\n",
       "      <td>0.0</td>\n",
       "    </tr>\n",
       "    <tr>\n",
       "      <th>...</th>\n",
       "      <td>...</td>\n",
       "      <td>...</td>\n",
       "      <td>...</td>\n",
       "      <td>...</td>\n",
       "      <td>...</td>\n",
       "      <td>...</td>\n",
       "      <td>...</td>\n",
       "      <td>...</td>\n",
       "      <td>...</td>\n",
       "      <td>...</td>\n",
       "      <td>...</td>\n",
       "      <td>...</td>\n",
       "      <td>...</td>\n",
       "      <td>...</td>\n",
       "      <td>...</td>\n",
       "      <td>...</td>\n",
       "    </tr>\n",
       "    <tr>\n",
       "      <th>3306</th>\n",
       "      <td>0</td>\n",
       "      <td>0</td>\n",
       "      <td>0</td>\n",
       "      <td>0</td>\n",
       "      <td>0.327344</td>\n",
       "      <td>0.430556</td>\n",
       "      <td>0.022656</td>\n",
       "      <td>0.090278</td>\n",
       "      <td>image_vimp_678.png</td>\n",
       "      <td>11</td>\n",
       "      <td>0.0</td>\n",
       "      <td>0.327721</td>\n",
       "      <td>0.433267</td>\n",
       "      <td>0.021583</td>\n",
       "      <td>0.097270</td>\n",
       "      <td>2.0</td>\n",
       "    </tr>\n",
       "    <tr>\n",
       "      <th>3307</th>\n",
       "      <td>0</td>\n",
       "      <td>0</td>\n",
       "      <td>0</td>\n",
       "      <td>2</td>\n",
       "      <td>0.800000</td>\n",
       "      <td>0.409722</td>\n",
       "      <td>0.021875</td>\n",
       "      <td>0.109722</td>\n",
       "      <td>image_vimp_678.png</td>\n",
       "      <td>12</td>\n",
       "      <td>0.0</td>\n",
       "      <td>0.799344</td>\n",
       "      <td>0.411012</td>\n",
       "      <td>0.022984</td>\n",
       "      <td>0.109050</td>\n",
       "      <td>2.0</td>\n",
       "    </tr>\n",
       "    <tr>\n",
       "      <th>3308</th>\n",
       "      <td>0</td>\n",
       "      <td>0</td>\n",
       "      <td>0</td>\n",
       "      <td>0</td>\n",
       "      <td>0.885156</td>\n",
       "      <td>0.309722</td>\n",
       "      <td>0.017188</td>\n",
       "      <td>0.084722</td>\n",
       "      <td>image_vimp_678.png</td>\n",
       "      <td>13</td>\n",
       "      <td>0.0</td>\n",
       "      <td>0.885345</td>\n",
       "      <td>0.309862</td>\n",
       "      <td>0.017325</td>\n",
       "      <td>0.086714</td>\n",
       "      <td>0.0</td>\n",
       "    </tr>\n",
       "    <tr>\n",
       "      <th>3309</th>\n",
       "      <td>0</td>\n",
       "      <td>0</td>\n",
       "      <td>0</td>\n",
       "      <td>1</td>\n",
       "      <td>0.792969</td>\n",
       "      <td>0.331944</td>\n",
       "      <td>0.017969</td>\n",
       "      <td>0.088889</td>\n",
       "      <td>image_vimp_678.png</td>\n",
       "      <td>14</td>\n",
       "      <td>0.0</td>\n",
       "      <td>0.792633</td>\n",
       "      <td>0.332272</td>\n",
       "      <td>0.017939</td>\n",
       "      <td>0.091417</td>\n",
       "      <td>1.0</td>\n",
       "    </tr>\n",
       "    <tr>\n",
       "      <th>3310</th>\n",
       "      <td>1</td>\n",
       "      <td>NaN</td>\n",
       "      <td>NaN</td>\n",
       "      <td>NaN</td>\n",
       "      <td>0.283047</td>\n",
       "      <td>0.615972</td>\n",
       "      <td>0.012344</td>\n",
       "      <td>0.020833</td>\n",
       "      <td>image_vimp_678.png</td>\n",
       "      <td>15</td>\n",
       "      <td>1.0</td>\n",
       "      <td>0.283931</td>\n",
       "      <td>0.616607</td>\n",
       "      <td>0.011117</td>\n",
       "      <td>0.019987</td>\n",
       "      <td>NaN</td>\n",
       "    </tr>\n",
       "  </tbody>\n",
       "</table>\n",
       "<p>3311 rows × 16 columns</p>\n",
       "</div>"
      ],
      "text/plain": [
       "      class Ball_Possesion Ball_Reciever team         x         y         w  \\\n",
       "0         0              0             0    0  0.015625  0.318056  0.031250   \n",
       "1         0              1             0    1  0.361719  0.486111  0.034375   \n",
       "2         0              0             0    0  0.331250  0.461111  0.034375   \n",
       "3         1            NaN           NaN  NaN  0.407031  0.490278  0.010156   \n",
       "4         0              0             0    0  0.514062  0.237500  0.014844   \n",
       "...     ...            ...           ...  ...       ...       ...       ...   \n",
       "3306      0              0             0    0  0.327344  0.430556  0.022656   \n",
       "3307      0              0             0    2  0.800000  0.409722  0.021875   \n",
       "3308      0              0             0    0  0.885156  0.309722  0.017188   \n",
       "3309      0              0             0    1  0.792969  0.331944  0.017969   \n",
       "3310      1            NaN           NaN  NaN  0.283047  0.615972  0.012344   \n",
       "\n",
       "             h           image_name  OID  pred_class    pred_x    pred_y  \\\n",
       "0     0.105556  image_vics_1344.png    1         0.0  0.015327  0.318150   \n",
       "1     0.116667  image_vics_1344.png    2         0.0  0.366168  0.484811   \n",
       "2     0.123611  image_vics_1344.png    3         0.0  0.331753  0.462112   \n",
       "3     0.019444  image_vics_1344.png    4         1.0  0.407853  0.490848   \n",
       "4     0.075000  image_vics_1344.png    5         0.0  0.514831  0.238202   \n",
       "...        ...                  ...  ...         ...       ...       ...   \n",
       "3306  0.090278   image_vimp_678.png   11         0.0  0.327721  0.433267   \n",
       "3307  0.109722   image_vimp_678.png   12         0.0  0.799344  0.411012   \n",
       "3308  0.084722   image_vimp_678.png   13         0.0  0.885345  0.309862   \n",
       "3309  0.088889   image_vimp_678.png   14         0.0  0.792633  0.332272   \n",
       "3310  0.020833   image_vimp_678.png   15         1.0  0.283931  0.616607   \n",
       "\n",
       "        pred_w    pred_h  pred_team  \n",
       "0     0.030654  0.105568        2.0  \n",
       "1     0.047190  0.118679        1.0  \n",
       "2     0.035968  0.124128        0.0  \n",
       "3     0.010881  0.020293        NaN  \n",
       "4     0.015551  0.073689        0.0  \n",
       "...        ...       ...        ...  \n",
       "3306  0.021583  0.097270        2.0  \n",
       "3307  0.022984  0.109050        2.0  \n",
       "3308  0.017325  0.086714        0.0  \n",
       "3309  0.017939  0.091417        1.0  \n",
       "3310  0.011117  0.019987        NaN  \n",
       "\n",
       "[3311 rows x 16 columns]"
      ]
     },
     "execution_count": 15,
     "metadata": {},
     "output_type": "execute_result"
    }
   ],
   "source": [
    "label_df# pred_team appended to dataframe"
   ]
  },
  {
   "cell_type": "markdown",
   "metadata": {},
   "source": [
    "## 3.Perspective Transformation\n",
    "\n",
    "To perform any sort of prediction based on player locations we need to adjust for the distortion caused by distance and camera angle. We use a Perspective Transform that generates a Homography matrix utilising 2 GANs and Siamese CNN for each image.\n",
    "\n",
    "We utilise the mid-point of the bottom of each player Bounding Box (assumed to be the location of their feet) and apply the Homography matrix on these values to get the True x,y values on the Ground.\n",
    "\n",
    "These gnd_x and  gnd_y values are appended to the dataframe"
   ]
  },
  {
   "cell_type": "code",
   "execution_count": 16,
   "metadata": {},
   "outputs": [],
   "source": [
    "sys.path.append('./PerspectiveTransform')"
   ]
  },
  {
   "cell_type": "code",
   "execution_count": 17,
   "metadata": {
    "id": "0dNzJh1kjz5W"
   },
   "outputs": [
    {
     "name": "stdout",
     "output_type": "stream",
     "text": [
      "Perspective Transform model loaded!\n"
     ]
    }
   ],
   "source": [
    "from elements.perspective_transform import Perspective_Transform\n",
    "from elements.assets import transform_matrix, detect_color\n",
    "from elements.args import Args\n",
    "\n",
    "import math\n",
    "import torch\n",
    "import os\n",
    "import cv2\n",
    "import numpy as np\n",
    "import sys\n",
    "\n",
    "#Load Arguments for perspective transform model\n",
    "opt = Args()\n",
    "\n",
    "# Load model\n",
    "pt_model = Perspective_Transform(opt)"
   ]
  },
  {
   "cell_type": "code",
   "execution_count": 70,
   "metadata": {},
   "outputs": [],
   "source": [
    "def generate_perspective_transform(model, image_path, yolo_df):\n",
    "\n",
    "    groups = yolo_df.groupby(\"image_name\")\n",
    "\n",
    "    # loop through each group and apply the code snippet to each image\n",
    "    for image_name, group in tqdm(groups):\n",
    "\n",
    "\n",
    "        image_path = None\n",
    "        for path in paths:\n",
    "            temp_path = os.path.join(path, image_name)\n",
    "            if os.path.exists(temp_path):\n",
    "                image_path = temp_path\n",
    "                break\n",
    "        \n",
    "        if image_path is None:\n",
    "            raise ValueError(f\"Image file not found: {image_name}\")\n",
    "    \n",
    "\n",
    "        cap = cv2.imread(image_path)\n",
    "\n",
    "        w = cap.shape[1] #1280\n",
    "        h = cap.shape[0] #720\n",
    "\n",
    "        main_frame = cap.copy()\n",
    "\n",
    "        M, warped_image = model.homography_matrix(main_frame)\n",
    "\n",
    "\n",
    "        for index, row in group.iterrows():\n",
    "            if(math.isnan(row['pred_class'])):\n",
    "                continue\n",
    "            else:\n",
    "                x_center = row['pred_x'] #if x is center\n",
    "                y_center = row['pred_y'] + (row['h']/2)\n",
    "\n",
    "                coords = transform_matrix(M, (x_center*w, y_center*h), (h, w), (68, 105))\n",
    "\n",
    "                yolo_df.loc[index, 'gnd_x'] = coords[0]\n",
    "                yolo_df.loc[index, 'gnd_y'] = coords[1]\n",
    "        \n",
    "    return yolo_df\n"
   ]
  },
  {
   "cell_type": "code",
   "execution_count": 71,
   "metadata": {},
   "outputs": [
    {
     "name": "stderr",
     "output_type": "stream",
     "text": [
      "100%|█████████████████████████████████████████████████████████████████████████████████| 207/207 [05:32<00:00,  1.61s/it]\n"
     ]
    }
   ],
   "source": [
    "with torch.no_grad():\n",
    "    transformed_df = generate_perspective_transform(pt_model, paths, label_df)\n",
    "# For image and all bbox+ID => return ID +x+y coordinates"
   ]
  },
  {
   "cell_type": "code",
   "execution_count": 72,
   "metadata": {},
   "outputs": [
    {
     "data": {
      "text/html": [
       "<div>\n",
       "<style scoped>\n",
       "    .dataframe tbody tr th:only-of-type {\n",
       "        vertical-align: middle;\n",
       "    }\n",
       "\n",
       "    .dataframe tbody tr th {\n",
       "        vertical-align: top;\n",
       "    }\n",
       "\n",
       "    .dataframe thead th {\n",
       "        text-align: right;\n",
       "    }\n",
       "</style>\n",
       "<table border=\"1\" class=\"dataframe\">\n",
       "  <thead>\n",
       "    <tr style=\"text-align: right;\">\n",
       "      <th></th>\n",
       "      <th>class</th>\n",
       "      <th>Ball_Possesion</th>\n",
       "      <th>Ball_Reciever</th>\n",
       "      <th>team</th>\n",
       "      <th>x</th>\n",
       "      <th>y</th>\n",
       "      <th>w</th>\n",
       "      <th>h</th>\n",
       "      <th>image_name</th>\n",
       "      <th>OID</th>\n",
       "      <th>pred_class</th>\n",
       "      <th>pred_x</th>\n",
       "      <th>pred_y</th>\n",
       "      <th>pred_w</th>\n",
       "      <th>pred_h</th>\n",
       "      <th>pred_team</th>\n",
       "      <th>gnd_x</th>\n",
       "      <th>gnd_y</th>\n",
       "    </tr>\n",
       "  </thead>\n",
       "  <tbody>\n",
       "    <tr>\n",
       "      <th>0</th>\n",
       "      <td>0</td>\n",
       "      <td>0</td>\n",
       "      <td>0</td>\n",
       "      <td>0</td>\n",
       "      <td>0.015625</td>\n",
       "      <td>0.318056</td>\n",
       "      <td>0.031250</td>\n",
       "      <td>0.105556</td>\n",
       "      <td>image_vics_1344.png</td>\n",
       "      <td>1</td>\n",
       "      <td>0.0</td>\n",
       "      <td>0.015327</td>\n",
       "      <td>0.318150</td>\n",
       "      <td>0.030654</td>\n",
       "      <td>0.105568</td>\n",
       "      <td>2.0</td>\n",
       "      <td>61.0</td>\n",
       "      <td>10.0</td>\n",
       "    </tr>\n",
       "    <tr>\n",
       "      <th>1</th>\n",
       "      <td>0</td>\n",
       "      <td>1</td>\n",
       "      <td>0</td>\n",
       "      <td>1</td>\n",
       "      <td>0.361719</td>\n",
       "      <td>0.486111</td>\n",
       "      <td>0.034375</td>\n",
       "      <td>0.116667</td>\n",
       "      <td>image_vics_1344.png</td>\n",
       "      <td>2</td>\n",
       "      <td>0.0</td>\n",
       "      <td>0.366168</td>\n",
       "      <td>0.484811</td>\n",
       "      <td>0.047190</td>\n",
       "      <td>0.118679</td>\n",
       "      <td>1.0</td>\n",
       "      <td>74.0</td>\n",
       "      <td>29.0</td>\n",
       "    </tr>\n",
       "    <tr>\n",
       "      <th>2</th>\n",
       "      <td>0</td>\n",
       "      <td>0</td>\n",
       "      <td>0</td>\n",
       "      <td>0</td>\n",
       "      <td>0.331250</td>\n",
       "      <td>0.461111</td>\n",
       "      <td>0.034375</td>\n",
       "      <td>0.123611</td>\n",
       "      <td>image_vics_1344.png</td>\n",
       "      <td>3</td>\n",
       "      <td>0.0</td>\n",
       "      <td>0.331753</td>\n",
       "      <td>0.462112</td>\n",
       "      <td>0.035968</td>\n",
       "      <td>0.124128</td>\n",
       "      <td>0.0</td>\n",
       "      <td>73.0</td>\n",
       "      <td>27.0</td>\n",
       "    </tr>\n",
       "    <tr>\n",
       "      <th>3</th>\n",
       "      <td>1</td>\n",
       "      <td>NaN</td>\n",
       "      <td>NaN</td>\n",
       "      <td>NaN</td>\n",
       "      <td>0.407031</td>\n",
       "      <td>0.490278</td>\n",
       "      <td>0.010156</td>\n",
       "      <td>0.019444</td>\n",
       "      <td>image_vics_1344.png</td>\n",
       "      <td>4</td>\n",
       "      <td>1.0</td>\n",
       "      <td>0.407853</td>\n",
       "      <td>0.490848</td>\n",
       "      <td>0.010881</td>\n",
       "      <td>0.020293</td>\n",
       "      <td>NaN</td>\n",
       "      <td>76.0</td>\n",
       "      <td>25.0</td>\n",
       "    </tr>\n",
       "    <tr>\n",
       "      <th>4</th>\n",
       "      <td>0</td>\n",
       "      <td>0</td>\n",
       "      <td>0</td>\n",
       "      <td>0</td>\n",
       "      <td>0.514062</td>\n",
       "      <td>0.237500</td>\n",
       "      <td>0.014844</td>\n",
       "      <td>0.075000</td>\n",
       "      <td>image_vics_1344.png</td>\n",
       "      <td>5</td>\n",
       "      <td>0.0</td>\n",
       "      <td>0.514831</td>\n",
       "      <td>0.238202</td>\n",
       "      <td>0.015551</td>\n",
       "      <td>0.073689</td>\n",
       "      <td>0.0</td>\n",
       "      <td>87.0</td>\n",
       "      <td>1.0</td>\n",
       "    </tr>\n",
       "    <tr>\n",
       "      <th>...</th>\n",
       "      <td>...</td>\n",
       "      <td>...</td>\n",
       "      <td>...</td>\n",
       "      <td>...</td>\n",
       "      <td>...</td>\n",
       "      <td>...</td>\n",
       "      <td>...</td>\n",
       "      <td>...</td>\n",
       "      <td>...</td>\n",
       "      <td>...</td>\n",
       "      <td>...</td>\n",
       "      <td>...</td>\n",
       "      <td>...</td>\n",
       "      <td>...</td>\n",
       "      <td>...</td>\n",
       "      <td>...</td>\n",
       "      <td>...</td>\n",
       "      <td>...</td>\n",
       "    </tr>\n",
       "    <tr>\n",
       "      <th>3306</th>\n",
       "      <td>0</td>\n",
       "      <td>0</td>\n",
       "      <td>0</td>\n",
       "      <td>0</td>\n",
       "      <td>0.327344</td>\n",
       "      <td>0.430556</td>\n",
       "      <td>0.022656</td>\n",
       "      <td>0.090278</td>\n",
       "      <td>image_vimp_678.png</td>\n",
       "      <td>11</td>\n",
       "      <td>0.0</td>\n",
       "      <td>0.327721</td>\n",
       "      <td>0.433267</td>\n",
       "      <td>0.021583</td>\n",
       "      <td>0.097270</td>\n",
       "      <td>2.0</td>\n",
       "      <td>67.0</td>\n",
       "      <td>14.0</td>\n",
       "    </tr>\n",
       "    <tr>\n",
       "      <th>3307</th>\n",
       "      <td>0</td>\n",
       "      <td>0</td>\n",
       "      <td>0</td>\n",
       "      <td>2</td>\n",
       "      <td>0.800000</td>\n",
       "      <td>0.409722</td>\n",
       "      <td>0.021875</td>\n",
       "      <td>0.109722</td>\n",
       "      <td>image_vimp_678.png</td>\n",
       "      <td>12</td>\n",
       "      <td>0.0</td>\n",
       "      <td>0.799344</td>\n",
       "      <td>0.411012</td>\n",
       "      <td>0.022984</td>\n",
       "      <td>0.109050</td>\n",
       "      <td>2.0</td>\n",
       "      <td>83.0</td>\n",
       "      <td>15.0</td>\n",
       "    </tr>\n",
       "    <tr>\n",
       "      <th>3308</th>\n",
       "      <td>0</td>\n",
       "      <td>0</td>\n",
       "      <td>0</td>\n",
       "      <td>0</td>\n",
       "      <td>0.885156</td>\n",
       "      <td>0.309722</td>\n",
       "      <td>0.017188</td>\n",
       "      <td>0.084722</td>\n",
       "      <td>image_vimp_678.png</td>\n",
       "      <td>13</td>\n",
       "      <td>0.0</td>\n",
       "      <td>0.885345</td>\n",
       "      <td>0.309862</td>\n",
       "      <td>0.017325</td>\n",
       "      <td>0.086714</td>\n",
       "      <td>0.0</td>\n",
       "      <td>88.0</td>\n",
       "      <td>3.0</td>\n",
       "    </tr>\n",
       "    <tr>\n",
       "      <th>3309</th>\n",
       "      <td>0</td>\n",
       "      <td>0</td>\n",
       "      <td>0</td>\n",
       "      <td>1</td>\n",
       "      <td>0.792969</td>\n",
       "      <td>0.331944</td>\n",
       "      <td>0.017969</td>\n",
       "      <td>0.088889</td>\n",
       "      <td>image_vimp_678.png</td>\n",
       "      <td>14</td>\n",
       "      <td>0.0</td>\n",
       "      <td>0.792633</td>\n",
       "      <td>0.332272</td>\n",
       "      <td>0.017939</td>\n",
       "      <td>0.091417</td>\n",
       "      <td>1.0</td>\n",
       "      <td>84.0</td>\n",
       "      <td>6.0</td>\n",
       "    </tr>\n",
       "    <tr>\n",
       "      <th>3310</th>\n",
       "      <td>1</td>\n",
       "      <td>NaN</td>\n",
       "      <td>NaN</td>\n",
       "      <td>NaN</td>\n",
       "      <td>0.283047</td>\n",
       "      <td>0.615972</td>\n",
       "      <td>0.012344</td>\n",
       "      <td>0.020833</td>\n",
       "      <td>image_vimp_678.png</td>\n",
       "      <td>15</td>\n",
       "      <td>1.0</td>\n",
       "      <td>0.283931</td>\n",
       "      <td>0.616607</td>\n",
       "      <td>0.011117</td>\n",
       "      <td>0.019987</td>\n",
       "      <td>NaN</td>\n",
       "      <td>65.0</td>\n",
       "      <td>27.0</td>\n",
       "    </tr>\n",
       "  </tbody>\n",
       "</table>\n",
       "<p>3311 rows × 18 columns</p>\n",
       "</div>"
      ],
      "text/plain": [
       "      class Ball_Possesion Ball_Reciever team         x         y         w  \\\n",
       "0         0              0             0    0  0.015625  0.318056  0.031250   \n",
       "1         0              1             0    1  0.361719  0.486111  0.034375   \n",
       "2         0              0             0    0  0.331250  0.461111  0.034375   \n",
       "3         1            NaN           NaN  NaN  0.407031  0.490278  0.010156   \n",
       "4         0              0             0    0  0.514062  0.237500  0.014844   \n",
       "...     ...            ...           ...  ...       ...       ...       ...   \n",
       "3306      0              0             0    0  0.327344  0.430556  0.022656   \n",
       "3307      0              0             0    2  0.800000  0.409722  0.021875   \n",
       "3308      0              0             0    0  0.885156  0.309722  0.017188   \n",
       "3309      0              0             0    1  0.792969  0.331944  0.017969   \n",
       "3310      1            NaN           NaN  NaN  0.283047  0.615972  0.012344   \n",
       "\n",
       "             h           image_name  OID  pred_class    pred_x    pred_y  \\\n",
       "0     0.105556  image_vics_1344.png    1         0.0  0.015327  0.318150   \n",
       "1     0.116667  image_vics_1344.png    2         0.0  0.366168  0.484811   \n",
       "2     0.123611  image_vics_1344.png    3         0.0  0.331753  0.462112   \n",
       "3     0.019444  image_vics_1344.png    4         1.0  0.407853  0.490848   \n",
       "4     0.075000  image_vics_1344.png    5         0.0  0.514831  0.238202   \n",
       "...        ...                  ...  ...         ...       ...       ...   \n",
       "3306  0.090278   image_vimp_678.png   11         0.0  0.327721  0.433267   \n",
       "3307  0.109722   image_vimp_678.png   12         0.0  0.799344  0.411012   \n",
       "3308  0.084722   image_vimp_678.png   13         0.0  0.885345  0.309862   \n",
       "3309  0.088889   image_vimp_678.png   14         0.0  0.792633  0.332272   \n",
       "3310  0.020833   image_vimp_678.png   15         1.0  0.283931  0.616607   \n",
       "\n",
       "        pred_w    pred_h  pred_team  gnd_x  gnd_y  \n",
       "0     0.030654  0.105568        2.0   61.0   10.0  \n",
       "1     0.047190  0.118679        1.0   74.0   29.0  \n",
       "2     0.035968  0.124128        0.0   73.0   27.0  \n",
       "3     0.010881  0.020293        NaN   76.0   25.0  \n",
       "4     0.015551  0.073689        0.0   87.0    1.0  \n",
       "...        ...       ...        ...    ...    ...  \n",
       "3306  0.021583  0.097270        2.0   67.0   14.0  \n",
       "3307  0.022984  0.109050        2.0   83.0   15.0  \n",
       "3308  0.017325  0.086714        0.0   88.0    3.0  \n",
       "3309  0.017939  0.091417        1.0   84.0    6.0  \n",
       "3310  0.011117  0.019987        NaN   65.0   27.0  \n",
       "\n",
       "[3311 rows x 18 columns]"
      ]
     },
     "execution_count": 72,
     "metadata": {},
     "output_type": "execute_result"
    }
   ],
   "source": [
    "transformed_df"
   ]
  },
  {
   "cell_type": "markdown",
   "metadata": {},
   "source": [
    "# 4.Ball Possession Identification\n",
    "\n",
    "We find the all the distances between the ball centroid and the feet of teh player from their respective TRUE on ground coordinates(gnd_x,gnd_y). For each image the player with the smallest distance is assigned as the Ball_Possessor and this id is appended to th dataframe as  \"bp\"."
   ]
  },
  {
   "cell_type": "code",
   "execution_count": 73,
   "metadata": {
    "id": "sXmSCwEll1e-"
   },
   "outputs": [],
   "source": [
    "#Ball Possession Identification\n",
    "def Ball_Possession(transformed_df):\n",
    "    def calc_distance(row, ballx, bally):\n",
    "        x2 = row['gnd_x']\n",
    "        y2 = row['gnd_y']\n",
    "        distance = np.sqrt((ballx - x2)**2 + (bally - y2)**2)\n",
    "        return distance\n",
    "\n",
    "    transformed_df['gnd_x'] = transformed_df['gnd_x'].apply(lambda x: max(x, 0))\n",
    "    transformed_df['gnd_y'] = transformed_df['gnd_y'].apply(lambda x: max(x, 0))\n",
    "    \n",
    "    transformed_df['bp']=0\n",
    "    transformed_df['distance']=0\n",
    "\n",
    "    grouped_df=transformed_df.groupby('image_name')\n",
    "\n",
    "\n",
    "    for name,group in grouped_df:\n",
    "\n",
    "        row = group.loc[group['class'] == 1, ['gnd_x', 'gnd_y']].iloc[0]\n",
    "        ballx=row['gnd_x']\n",
    "        bally=row['gnd_y']\n",
    "        group['distance'] = group.apply(calc_distance, args=(ballx, bally), axis=1)\n",
    "        \n",
    "        ball_idx= group.index[group['class'] == 1]\n",
    "        group.loc[ball_idx,'distance'] =  np.inf\n",
    "        \n",
    "        mask = group['pred_team'] > 1\n",
    "        ppl_idx = group[mask].index\n",
    "        group.loc[ppl_idx,'distance'] =  np.inf\n",
    "        \n",
    "        min_index = group['distance'].idxmin()\n",
    "        group.loc[min_index, 'bp'] = 1\n",
    "        group.loc[ball_idx,'distance'] = 0\n",
    "\n",
    "        transformed_df.update(group)\n",
    "        #transformed_df.loc[transformed_df[\"image_name\"]==name]= group\n",
    "\n",
    "        \n",
    "\n",
    "    return transformed_df\n",
    "\n",
    "bp_df = Ball_Possession(transformed_df.copy(deep=True))\n",
    "\n",
    "#min distance between ball and player"
   ]
  },
  {
   "cell_type": "markdown",
   "metadata": {},
   "source": [
    "\"Ball_Possesion\" is the true label while \"bp\" is the predicted value."
   ]
  },
  {
   "cell_type": "code",
   "execution_count": null,
   "metadata": {},
   "outputs": [],
   "source": [
    "bp_df=bp_df.dropna()\n",
    "bp_matching=len(bp_df[(bp_df['Ball_Possesion'].astype(int) == bp_df['bp']) & (bp_df['Ball_Possesion'].astype(int) == 1)])\n",
    "total_bp=len(bp_df[(bp_df['Ball_Possesion'].astype(int)==1)] )\n",
    "\n",
    "print(\"The distance metric identifies {} correctly out of {}\".format(bp_matching,total_bp))"
   ]
  },
  {
   "cell_type": "markdown",
   "metadata": {},
   "source": [
    "# 5.Receiver Identification\n",
    "\n"
   ]
  },
  {
   "cell_type": "markdown",
   "metadata": {},
   "source": [
    "## 5.1 Graph Construction\n",
    "\n",
    "The following columns from the dataframe are used to construct a graph: 'image_name','oid','pred_team','gnd_x','gnd_y','bp' and 'Ball_Reciever'=> \n",
    "\n",
    "- 'image_name', 'oid' are used for tracing an objectid and its image,\n",
    "- 'pred_team', 'gnd_x', 'gnd_y', 'bp' are used as the input to construct the graph\n",
    "- 'Ball_Reciever' contains the label\n",
    "\n",
    "Node Features:\n",
    "- normalised gnd_x\n",
    "- normalised gnd_y\n",
    "- one hot encoded team values\n",
    "- bp value\n",
    "\n",
    "Edge Features:\n",
    "\n",
    "The graph is constructed with directed edges such that only nodes of team members of the ball_possesor are updated via the Message Passing Function in GNNs.\n",
    "\n",
    "Edge weights:\n",
    "- the edges are initialised with weights inversely proportional to the distance, as more weightage would be given to nearer players. \n",
    "- only for GATs (as negative weights are allowed), the weights between opposite team memebers is made negative while same team members remains the same"
   ]
  },
  {
   "cell_type": "code",
   "execution_count": 130,
   "metadata": {
    "id": "z8SWLoSAj5rb"
   },
   "outputs": [
    {
     "name": "stdout",
     "output_type": "stream",
     "text": [
      "Processed 206 objects and 1 skipped\n"
     ]
    },
    {
     "name": "stderr",
     "output_type": "stream",
     "text": [
      "Processing...\n",
      "Done!\n"
     ]
    }
   ],
   "source": [
    "#Reciever Identification\n",
    "\n",
    "from gnn.gnn_models import *\n",
    "from  gnn.utils import *\n",
    "import gnn.gnn_datagen as ggen\n",
    "\n",
    "import importlib\n",
    "importlib.reload(ggen)\n",
    "\n",
    "\n",
    "file_path = \"./processed/data.pt\"\n",
    "if os.path.exists(file_path):\n",
    "    os.remove(file_path)\n",
    "\n",
    "\n",
    "graph_list=ggen.csv2data(inp_df=bp_df,label_smoothing=0.0,graphfunc=2,undirected=False,negEdge=True)\n",
    "dataset=MyDataset(\"./\",graph_list)\n",
    "\n",
    "val_loader = DataLoader(dataset, batch_size=1)\n"
   ]
  },
  {
   "cell_type": "markdown",
   "metadata": {},
   "source": [
    "## 5.2 Model Building/ Training\n",
    "\n",
    "#### General Model Architecture:\n",
    "1. Linear Layer embeds the 5 node features into N dimensions\n",
    "2. Followd by K Layers of GNN Message Passing Layers\n",
    "3. Softmax applied across all nodes\n",
    "4. BCE loss => as value ranges between 0 and 1 (reciever or not)\n",
    "5. Weighted BCE loss to counter class imbalance of Reciever nodes and non Reciever Nodes\n",
    "\n",
    "#### Training:\n",
    "\n",
    "After extensive hyper-paramter tuning we found that GAT2 with droupout=0, heads=5 and layers :[32,32,32] has the best performance over all.\n",
    "\n",
    "1. We hand generated ~400 examples (created using a graph tool found in this repo)\n",
    "2. We added noise to each example to increase the dataset to ~2000 samples\n",
    "3. This dataset was used to pretrain this architecture of GATV2 \n",
    "4. From our own training set ~1000 samples => we added noise to increase to ~3000 samples\n",
    "5. The pretrained model was fine tuned on our dataset and saved.\n",
    "6. The following are the loaded weights from pretraining + new training "
   ]
  },
  {
   "cell_type": "code",
   "execution_count": 131,
   "metadata": {},
   "outputs": [
    {
     "data": {
      "text/plain": [
       "<All keys matched successfully>"
      ]
     },
     "execution_count": 131,
     "metadata": {},
     "output_type": "execute_result"
    }
   ],
   "source": [
    "\n",
    "model = GAT2(hidden_channels= [32,32,32],heads=5,dropout=0)\n",
    "\n",
    "PATH = './gnn/model_weights/best_model_GATv2_pre_ntrain_5.pt'\n",
    "state = torch.load(PATH)\n",
    "model.load_state_dict(state['state_dict'])"
   ]
  },
  {
   "cell_type": "code",
   "execution_count": 132,
   "metadata": {},
   "outputs": [],
   "source": [
    "bp_df['br']=0\n",
    "for val_data in val_loader:\n",
    "    output = model(val_data)\n",
    "    pred_br= torch.argmax(output)\n",
    "    bp_df.loc[(bp_df['image_name'] == val_data.name[0]) & (bp_df['OID'] == val_data.oid[0][pred_br]), 'br'] = 1 \n",
    "\n",
    "bp_df=bp_df.dropna()"
   ]
  },
  {
   "cell_type": "markdown",
   "metadata": {},
   "source": [
    "# Accuracy\n",
    "\n",
    "The accuracy can be divided into two parts:\n",
    "- the valid accuracy =>considers only input wher the \"bp\" was correctly predicted by distance metric\n",
    "- the overall accuracy => considers all samples input to this end to end Pipeline."
   ]
  },
  {
   "cell_type": "code",
   "execution_count": 174,
   "metadata": {},
   "outputs": [],
   "source": [
    "def accuracy(model,val_loader,idx=-1,thr=0.2):\n",
    "    output_list=[]\n",
    "    val_list=[]\n",
    "    accv=0\n",
    "    for val_data in val_loader:\n",
    "        output = model(val_data)\n",
    "        label_val = val_data.y\n",
    "        val_lbl=torch.argmax(label_val.long())\n",
    "        max_idx=torch.argmax(output)\n",
    "        lbl_idx=torch.argmax(val_data.y)\n",
    "        accv+=(1.0 if max_idx==lbl_idx else 0.0)\n",
    "        output_list.append(output)\n",
    "        val_list.append(val_data)\n",
    "    i=len(val_loader.dataset)       \n",
    "    print(val_list[idx].name[0])\n",
    "    #print(\"Number of Correct Predictions= {:.0f}/{}, Accuracy={:.3f}\".format(accv,i,accv/i))\n",
    "    image=create_image_from_tensor(val_list[idx],output_list[idx],threshold=thr)\n",
    "    return val_list[idx].name[0],image\n",
    "\n",
    "# Write final predictions from dataframe to video for visualization\n",
    "import imutils\n",
    "\n",
    "def draw_boxes_on_frame(frame, boxes):\n",
    "    for box in boxes:\n",
    "        color = (0, 0, 255) if box['bp'] == 1 else (0, 255, 0)\n",
    "        x, y, w, h = box['pred_x'], box['pred_y'], box['pred_w'], box['pred_h']\n",
    "        x1, y1 = int((x - w / 2) * frame.shape[1]), int((y - h / 2) * frame.shape[0])\n",
    "        x2, y2 = int((x + w / 2) * frame.shape[1]), int((y + h / 2) * frame.shape[0])\n",
    "        cv2.rectangle(frame, (x1, y1), (x2, y2), color, 2)\n",
    "        \n",
    "        attributes = []\n",
    "        if box['bp'] == 1:\n",
    "            attributes.append('possession')\n",
    "        if box['br'] == 1:\n",
    "            attributes.append('receiver')\n",
    "        attributes_str = ', '.join(attributes)\n",
    "        cv2.putText(frame, attributes_str, (x1, y1-10), cv2.FONT_HERSHEY_SIMPLEX, 0.5, color, 2)\n",
    "        \n",
    "    bp_boxes = [box for box in boxes if box['bp'] == 1]\n",
    "    br_boxes = [box for box in boxes if box['br'] == 1]\n",
    "    if bp_boxes and br_boxes:\n",
    "        bp_box = bp_boxes[0]\n",
    "        br_box = br_boxes[0]\n",
    "        bp_x, bp_y, bp_w, bp_h = bp_box['pred_x'], bp_box['pred_y'], bp_box['pred_w'], bp_box['pred_h']\n",
    "        br_x, br_y, br_w, br_h = br_box['pred_x'], br_box['pred_y'], br_box['pred_w'], br_box['pred_h']\n",
    "        bp_center_x, bp_center_y = int(bp_x * frame.shape[1]), int(bp_y * frame.shape[0])\n",
    "        br_center_x, br_center_y = int(br_x * frame.shape[1]), int(br_y * frame.shape[0])\n",
    "        arrow_color = (255, 255, 255)\n",
    "        cv2.arrowedLine(frame, (bp_center_x, bp_center_y), (br_center_x, br_center_y), arrow_color, 3)\n",
    "        \n",
    "    return frame"
   ]
  },
  {
   "cell_type": "code",
   "execution_count": 188,
   "metadata": {},
   "outputs": [
    {
     "name": "stdout",
     "output_type": "stream",
     "text": [
      "Correctly identified = 123, Total Valid  = 180, Accuracy_valid =   68.33%, \n",
      "Correctly identified = 123, Total Number = 207, Accuracy_End2End = 59.42%\n"
     ]
    }
   ],
   "source": [
    "count = len(bp_df[(bp_df['Ball_Reciever'].astype(int) == bp_df['br']) & (bp_df['Ball_Reciever'].astype(int) == 1)])\n",
    "count_br=len(bp_df[bp_df['Ball_Reciever'].astype(int) == 1])\n",
    "count_valid =len(bp_df[(bp_df['Ball_Possesion'].astype(int) == bp_df['bp']) & (bp_df['Ball_Possesion'].astype(int) == 1)])\n",
    "\n",
    "\n",
    "print(\"Correctly identified = {}, Total Valid  = {}, Accuracy_valid =   {:.2f}%, \\nCorrectly identified = {}, Total Number = {}, Accuracy_End2End = {:.2f}%\"\n",
    "      .format(count,count_valid,count*100/count_valid,count,count_br,count*100/count_br))"
   ]
  },
  {
   "cell_type": "markdown",
   "metadata": {},
   "source": [
    "# Example Output\n",
    "- 2D Representation\n",
    "- original Image_Layover"
   ]
  },
  {
   "cell_type": "code",
   "execution_count": 177,
   "metadata": {},
   "outputs": [
    {
     "name": "stdout",
     "output_type": "stream",
     "text": [
      "image_vimp_678.png\n"
     ]
    },
    {
     "data": {
      "image/png": "[encoded data removed]",
      "text/plain": [
       "<PIL.Image.Image image mode=RGB size=525x340>"
      ]
     },
     "execution_count": 177,
     "metadata": {},
     "output_type": "execute_result"
    }
   ],
   "source": [
    "#2D Representation\n",
    "image_name,image=accuracy(model,val_loader,idx=-1)\n",
    "image"
   ]
  },
  {
   "cell_type": "code",
   "execution_count": 190,
   "metadata": {},
   "outputs": [
    {
     "name": "stdout",
     "output_type": "stream",
     "text": [
      "image_vimp_678.png\n"
     ]
    },
    {
     "data": {
      "image/png": "[encoded data removed]",
      "text/plain": [
       "<Figure size 640x480 with 1 Axes>"
      ]
     },
     "metadata": {},
     "output_type": "display_data"
    }
   ],
   "source": [
    "#Original Layover\n",
    "frame = cv2.imread('downloads/SoccerPass/SoccerPass-COCO/images/val/' + image_name)\n",
    "frame = cv2.cvtColor(frame, cv2.COLOR_BGR2RGB)\n",
    "frame_boxes = bp_df[bp_df['image_name'] == image_name]\n",
    "bp_boxes = frame_boxes[frame_boxes['bp'] == 1]\n",
    "br_boxes = frame_boxes[frame_boxes['br'] == 1]\n",
    "\n",
    "combined_boxes = pd.concat([bp_boxes, br_boxes], ignore_index=True, sort=False)\n",
    "\n",
    "if not combined_boxes.empty:\n",
    "    frame = draw_boxes_on_frame(frame, combined_boxes.to_dict('records'))\n",
    "\n",
    "print(image_name)\n",
    "_=plt.imshow(frame)\n"
   ]
  },
  {
   "cell_type": "code",
   "execution_count": null,
   "metadata": {},
   "outputs": [],
   "source": []
  }
 ],
 "metadata": {
  "colab": {
   "provenance": []
  },
  "kernelspec": {
   "display_name": "Python 3 (ipykernel)",
   "language": "python",
   "name": "python3"
  },
  "language_info": {
   "codemirror_mode": {
    "name": "ipython",
    "version": 3
   },
   "file_extension": ".py",
   "mimetype": "text/x-python",
   "name": "python",
   "nbconvert_exporter": "python",
   "pygments_lexer": "ipython3",
   "version": "3.7.12"
  }
 },
 "nbformat": 4,
 "nbformat_minor": 1
}
