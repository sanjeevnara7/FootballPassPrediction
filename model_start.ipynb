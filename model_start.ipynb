{
 "cells": [
  {
   "cell_type": "code",
   "execution_count": null,
   "metadata": {},
   "outputs": [],
   "source": [
    "import os\n",
    "\n",
    "os.chdir('/FootAndBall')"
   ]
  },
  {
   "cell_type": "code",
   "execution_count": 1,
   "metadata": {},
   "outputs": [
    {
     "ename": "ModuleNotFoundError",
     "evalue": "No module named 'network'",
     "output_type": "error",
     "traceback": [
      "\u001b[0;31m---------------------------------------------------------------------------\u001b[0m",
      "\u001b[0;31mModuleNotFoundError\u001b[0m                       Traceback (most recent call last)",
      "Cell \u001b[0;32mIn[1], line 1\u001b[0m\n\u001b[0;32m----> 1\u001b[0m \u001b[39mfrom\u001b[39;00m \u001b[39mFootAndBall\u001b[39;00m\u001b[39m.\u001b[39;00m\u001b[39mnetwork\u001b[39;00m \u001b[39mimport\u001b[39;00m footandball\n\u001b[1;32m      2\u001b[0m \u001b[39mfrom\u001b[39;00m \u001b[39mFootAndBall\u001b[39;00m\u001b[39m.\u001b[39;00m\u001b[39mmisc\u001b[39;00m\u001b[39m.\u001b[39;00m\u001b[39mconfig\u001b[39;00m \u001b[39mimport\u001b[39;00m Params\n\u001b[1;32m      3\u001b[0m \u001b[39mimport\u001b[39;00m \u001b[39margparse\u001b[39;00m\n",
      "File \u001b[0;32m~/Developer/FootballPassPrediction/FootAndBall/network/footandball.py:8\u001b[0m\n\u001b[1;32m      5\u001b[0m \u001b[39mimport\u001b[39;00m \u001b[39mtorch\u001b[39;00m\n\u001b[1;32m      6\u001b[0m \u001b[39mimport\u001b[39;00m \u001b[39mtorch\u001b[39;00m\u001b[39m.\u001b[39;00m\u001b[39mnn\u001b[39;00m \u001b[39mas\u001b[39;00m \u001b[39mnn\u001b[39;00m\n\u001b[0;32m----> 8\u001b[0m \u001b[39mimport\u001b[39;00m \u001b[39mnetwork\u001b[39;00m\u001b[39m.\u001b[39;00m\u001b[39mfpn\u001b[39;00m \u001b[39mas\u001b[39;00m \u001b[39mfpn\u001b[39;00m\n\u001b[1;32m      9\u001b[0m \u001b[39mimport\u001b[39;00m \u001b[39mnetwork\u001b[39;00m\u001b[39m.\u001b[39;00m\u001b[39mnms\u001b[39;00m \u001b[39mas\u001b[39;00m \u001b[39mnms\u001b[39;00m\n\u001b[1;32m     10\u001b[0m \u001b[39mfrom\u001b[39;00m \u001b[39mdata\u001b[39;00m\u001b[39m.\u001b[39;00m\u001b[39maugmentation\u001b[39;00m \u001b[39mimport\u001b[39;00m BALL_LABEL, PLAYER_LABEL, BALL_BBOX_SIZE\n",
      "\u001b[0;31mModuleNotFoundError\u001b[0m: No module named 'network'"
     ]
    }
   ],
   "source": [
    "from network import footandball\n",
    "from misc.config import Params\n",
    "import argparse\n",
    "\n",
    "\n",
    "MODEL_FOLDER = 'FootAndBall/models'\n",
    "\n",
    "parser = argparse.ArgumentParser()\n",
    "parser.add_argument('--config', help='Path to the configuration file', type=str, default='config.txt')\n",
    "parser.add_argument('--debug', dest='debug', help='debug mode', action='store_true')\n",
    "args = parser.parse_args()\n",
    "\n",
    "print('Config path: {}'.format(args.config))\n",
    "print('Debug mode: {}'.format(args.debug))\n",
    "\n",
    "params = Params(args.config)\n",
    "params.print()"
   ]
  },
  {
   "cell_type": "code",
   "execution_count": null,
   "metadata": {},
   "outputs": [],
   "source": []
  }
 ],
 "metadata": {
  "kernelspec": {
   "display_name": "torch2",
   "language": "python",
   "name": "python3"
  },
  "language_info": {
   "codemirror_mode": {
    "name": "ipython",
    "version": 3
   },
   "file_extension": ".py",
   "mimetype": "text/x-python",
   "name": "python",
   "nbconvert_exporter": "python",
   "pygments_lexer": "ipython3",
   "version": "3.11.0"
  },
  "orig_nbformat": 4
 },
 "nbformat": 4,
 "nbformat_minor": 2
}
